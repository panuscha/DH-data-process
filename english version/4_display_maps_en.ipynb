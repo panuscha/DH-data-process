{
 "cells": [
  {
   "cell_type": "markdown",
   "metadata": {},
   "source": [
    "# Vykreslení místa vydání exilových časopisů do mapy\n",
    "\n",
    "V tomto notebooku budeme pracovat s vybranými daty Bibliografie českého literárního exilu. Ta obsahuje záznamy o knihách a statích s literární tématikou, vydaných a publikovaných v českých exilových nakladatelstvích a časopisech. Nás budou zajímat pouze záznamy o statích, u kterých jsou uvedeny časopis a místo vydání. Ty najdeme v poli `773 $t`.  <br>\n",
    "Ukážeme si, jak z dat získat a upravit místo vydání záznamu, zjistit jeho souřadnice a následně místo zobrazit na mapě pomocí knihovny `geopandas` a `matplotlib`.   <br>\n",
    "\n",
    "Tento notebook je určený jak pro začátečníky, tak pro ty, kteří se chtějí seznámit se zpracováním bibliografických dat v Pythonu.\n",
    "\n",
    "## Požadavky\n",
    "\n",
    "K práci s notebookem je potřeba mít vytvořený CSV soubor z notebooku Explore Data.<br>\n",
    "\n",
    "## Předpoklady\n",
    "\n",
    "Tento notebook nepředpokládá hluboké znalosti Pythonu, ale základní znalost programování bude užitečná.<br> \n",
    "\n",
    "## Struktura notebooku\n",
    "\n",
    "Notebook je rozdělen do několika částí:\n",
    "\n",
    "0. **Příprava**: Přidáme potřebné knihovny, které budeme používat ke zpracování marcového souboru. \n",
    "\n",
    "1. **Načtení z CSV**: Ukážeme si, jak načíst naše data uložená v CSV.\n",
    "\n",
    "2. **Extrahování místa vydání**: Z dat najdeme místo zjistíme místo vydání.\n",
    "\n",
    "3. **Čistění dat**: Místa vydání, která obsahují překlepy atp. opravíme. \n",
    "\n",
    "4. **Zjištění souřadnic míst**: Naučíme se, jak pomocí API zjistit souřadnice místa vydání. Výsledek si uložíme do CSV souboru.\n",
    "\n",
    "5. **Načtení souřadnic**: Souřadnice načteme z CSV souboru.\n",
    "\n",
    "6. **Mapa**: Na závěr naše data zaneseme do mapy, kterou i vykreslíme.\n",
    "\n",
    "## Další zdroje\n",
    "\n",
    "- [LearnPython.org](https://www.learnpython.org/): Tento online kurz nabízí výuku jazyka Python pro začátečníky i pokročilé. Může být užitečným zdrojem pro ty, kteří chtějí rozšířit své znalosti Pythonu.\n",
    "- [W3Schools.com/Python](https://www.w3schools.com/python/): Obsáhlý tutoriál, který provází i některými oblíbenými knihovnamy Pythonu. \n"
   ]
  },
  {
   "attachments": {},
   "cell_type": "markdown",
   "metadata": {},
   "source": [
    "\n",
    "\n",
    "### 0. Příprava \n",
    "Jako první si musíme nainstalovat knihovny, se kterými budeme pracovat. Knihovny jsou balíčky funkcí, které nejsou součástí základu jazyka python. <br>\n",
    "Knihovny nainstalujeme pomocí příkazu `%pip install <jmeno_knihovny>` . Pak je do našeho notebooku přidáme pomocí příkazu `import <jmeno_knihovny> (as alias)`. K funkcím knihovny se pak přistupuje `jmeno_knihovny.jmeno_funkce` <br> \n",
    "Pokud z knihovny chceme využít pouze jednu funkci, přidáme ji pomocí `from <jmeno_knihovny> import <jmeno_funkce>`\n"
   ]
  },
  {
   "cell_type": "code",
   "execution_count": null,
   "metadata": {},
   "outputs": [],
   "source": [
    "%pip install geopandas\n",
    "%pip install matplotlib\n",
    "%pip install numpy \n",
    "%pip install pandas\n",
    "%pip install requests\n",
    "%pip install shapely\n",
    "\n",
    "from collections import Counter\n",
    "import geopandas as gpd\n",
    "import matplotlib.pyplot as plt\n",
    "from matplotlib.lines import Line2D\n",
    "import numpy as np\n",
    "import pandas as pd\n",
    "import re\n",
    "import requests\n",
    "from shapely.geometry import Point\n",
    "from statistics import median, mean"
   ]
  },
  {
   "cell_type": "markdown",
   "metadata": {},
   "source": [
    "### 1. Načtení dat\n",
    "\n",
    "Nejprve pomocí knihovny pandas načteme naše uložená CSV data do datové struktury DataFrame (která je podobná např. excelovské tabulce). Řádky v DataFramu reprezentují jednotlivé záznamy, sloupce pak jeden typ (např. jmeno autora).\n",
    "Některá pole a podpole mohou opakovat, ty jsou  v CSV spojené středníkem. V DataFramu pak funkcí `split()` hodnoty rozpojíme a převede do listu (seznamu). Pokud zrovna na daném místě žádná hodnota není, přidáme prázdný list."
   ]
  },
  {
   "cell_type": "code",
   "execution_count": null,
   "metadata": {},
   "outputs": [],
   "source": [
    "# Vybereme bazi\n",
    "base = 'cle'\n",
    "\n",
    "# Cesta k nasim datum\n",
    "csv_data = 'data/csv/out_{base}.csv'.format(base = base)\n",
    "\n",
    "# Nacteni dat\n",
    "df = pd.read_csv(csv_data, delimiter=',')\n",
    "\n",
    "print(\"Data načtena do DataFramu df.\")\n",
    "\n",
    "for column in df.columns:\n",
    "    if column != 'year':   \n",
    "        # Hodnoty spojene v jeden string zpatky rozdelime do listu, aby se nam s nim lepe pracovalo\n",
    "        df[column] = df[column].apply(lambda x: x.split(';') if isinstance(x, str)  else [])\n"
   ]
  },
  {
   "cell_type": "markdown",
   "metadata": {},
   "source": [
    "Podíváme, jak naše data v tabulce vypadají. Nejprve si vypíšeme, kolik záznamů obsahuje informaci o časopisu. To jsou záznamy o statích, které nás budou zajímat. Zbylé budeme považvat za záznamy o knihách. Pak si vypíšeme prvních 5 a posledních 5 položek v DataFramu. <br>\n",
    "\n",
    "Nejprve si pomocí lambda funkce najdeme řádky, které obsahují informaci o časopisu. K nim přiřadíme 1 a všechny sečteme. Tím získáme celkový počet záznamů o statích. <br>\n",
    "Od celkového počtu záznamů pak počet záznamů o statích odečteme, čímž získáme počet záznamů o knihách. Do našeho DataFramu `df` si nakonec uložíme jen záznamy o statích. \n",
    "\n",
    "###### Pokud bychom chtěli přesná data, v marcovém záznamu je kolonka LDR (leader), která nese informaci o typu záznamu. "
   ]
  },
  {
   "cell_type": "code",
   "execution_count": null,
   "metadata": {},
   "outputs": [],
   "source": [
    "# Spocteme radky, ktere v maji nejakou  hodnotu\n",
    "magazines_counts = df['magazine'].apply(lambda x: 1 if len(x) > 0 else 0)\n",
    "\n",
    "sum_magazines_counts = magazines_counts.sum()\n",
    "\n",
    "print(\"Počet záznamů o statích: \", sum_magazines_counts)\n",
    "\n",
    "sum_books_counts = len(df) - sum_magazines_counts\n",
    "\n",
    "print(\"Počet záznamů o knihách: \", sum_books_counts)"
   ]
  },
  {
   "cell_type": "markdown",
   "metadata": {},
   "source": [
    "Jak vidíme, statě tvoří většinu databáze.<br>"
   ]
  },
  {
   "cell_type": "code",
   "execution_count": null,
   "metadata": {},
   "outputs": [],
   "source": [
    "# Vypise prvnich 5 zaznamu v DataFramu\n",
    "df.head()"
   ]
  },
  {
   "cell_type": "code",
   "execution_count": null,
   "metadata": {},
   "outputs": [],
   "source": [
    "# Vypise poslednich 5 zaznamu v DataFramu\n",
    "df.tail()"
   ]
  },
  {
   "cell_type": "markdown",
   "metadata": {},
   "source": [
    "Vypsali jsme si i začátek a konec našeho DataFramu. Můžeme si všimnout, že u jména časopisu je v kulatých závorkách napsané místo vydání, a že není napsáno u všech. \n",
    "\n",
    "### 2. Extrahování místa vydání\n",
    "\n",
    "Vyextrahujeme si tedy místo vydání a zjisíme, kolik záznamů nemá místo vydání. K tomu využijeme regulární výraz, který nám najde řetězec (slovo) v kulatých závorkách. Záznamy, které mají časopis, ale ne místo vydání, budou vracet hodnotu None. Hodnoty None pak spočteme. <br>"
   ]
  },
  {
   "cell_type": "code",
   "execution_count": null,
   "metadata": {},
   "outputs": [],
   "source": [
    "# regex patern, ktery najde substring mezi zavorkami\n",
    "pattern_cities = r\"\\((.*?)\\)\"\n",
    "\n",
    "# Ulozime mesta do promenne jako list\n",
    "cities = df['magazine'].apply(lambda x: [re.search(pattern_cities, y).group(1) if re.search(pattern_cities, y) else None for y in x]).tolist().copy()\n",
    "\n",
    "# Spocteme vsechny hodnoty, ktere v sobe maji None hodnotu, a tedy nemaji misto vydani\n",
    "sum_None =  sum(list(map(lambda x : 1 if (len(x) == 1 and x[0] is None) else 0, cities )))\n",
    "\n",
    "print(\"Počet časopisů bez místa vydání: \", sum_None)"
   ]
  },
  {
   "cell_type": "markdown",
   "metadata": {},
   "source": [
    "Jak vidíme, není to příliš mnoho záznamů, a proto se jimi nemusíme trápit. <br>\n",
    "\n",
    "Teď už nám jen zbývá zjistit místa vydání a jejich četnost výskytů. <br> \n",
    "\n",
    "Abychom nemuseli psát stejný kód několikrát, napíšeme ho jednou do funkce, kterou pak jednoduše zavoláme. V tomto případě si napíšeme funkci, která nám z několika listů (seznamů) vnořených do sebe vytvoří jeden. To se nám bude hodit, až budeme chtít spočítat četnost výskytů míst vydání. "
   ]
  },
  {
   "cell_type": "code",
   "execution_count": null,
   "metadata": {},
   "outputs": [],
   "source": [
    "# Funkce na \"zplosteni\" listu -> ze sloupce DataFramu vytvori jeden list se vsemi elementy \n",
    "def flatten_list(strings):\n",
    "    flattened_list = []\n",
    "    if strings is not None: # Zkontrolujeme, jestli element neni None\n",
    "        for item in strings:\n",
    "            if isinstance(item, str):  # Pokud je element string, pridame ho do seznamu\n",
    "                flattened_list.append(item)\n",
    "            elif isinstance(item, list):  # Rekurzivne zavola sebe\n",
    "                flattened_list.extend(flatten_list(item))\n",
    "        return flattened_list\n",
    "\n",
    "print(\"Funkce uložena\")         "
   ]
  },
  {
   "cell_type": "markdown",
   "metadata": {},
   "source": [
    "Zjistíme, jaká místa vydání se v naší databázi objevují."
   ]
  },
  {
   "cell_type": "code",
   "execution_count": null,
   "metadata": {},
   "outputs": [],
   "source": [
    "# Vytvorime zplostely list, ktery i odstrani None hodnoty\n",
    "cities = flatten_list(cities)\n",
    "\n",
    "print(\"Unikátní hodnoty:\", np.unique(cities))"
   ]
  },
  {
   "attachments": {},
   "cell_type": "markdown",
   "metadata": {},
   "source": [
    "### 3. Čistění dat\n",
    "\n",
    "Z uniktních hodnot vidíme, že některá města jsou uložena jak pod svým původím jménem, tak pod svou českou alternativou (London - Londýn, Köln - Kolín nad Rýnem). U některých jsou překlepy (Wintertuhr-Obstladen -> Winterthur-Obstalden), které musíme opravit. U některých je zase měst více (Wintertuhr-Obstladen , Ženeva-Middlesex-Mnichov). V tomto případě si všechna města uložíme v listu.<br>\n",
    "Použijeme k tomu funkci `lambda` a `map()`, která funguje stejně jako funkce `apply()` v knihovně `pandas`.\n"
   ]
  },
  {
   "cell_type": "code",
   "execution_count": null,
   "metadata": {},
   "outputs": [],
   "source": [
    "# Odstranime Index on Censorship z elementu \"London, Index on Censorship\" a spojime \"London\" a \"Londýn\"\n",
    "cities = list(map(lambda x: 'Londýn' if 'London' in x else x, cities))\n",
    "\n",
    "# Odstranime 'Obstladen' z Winterthur\n",
    "cities = list(map(lambda x: ['Winterthur', 'Obstalden'] if 'Obstladen' in x else x, cities))\n",
    "\n",
    "# Vytvorime dva elementy z New York-Paříž\n",
    "cities = list(map(lambda x: ['New York','Paříž'] if 'New York-Paříž' in x else x, cities))\n",
    "\n",
    "# Vytvorime tri elementy z Ženeva-Middlesex-Mnichov\n",
    "cities = list(map(lambda x: ['Ženeva','Middlesex', 'Mnichov'] if 'Ženeva-Middlesex-Mnichov' in x else x, cities))\n",
    "\n",
    "# Prepiseme Köln-Ehrenfeld na Kolín nad Rýnem \n",
    "cities = list(map(lambda x: 'Kolín nad Rýnem' if 'Köln-Ehrenfeld' in x else x, cities))\n",
    "\n",
    "# Zplostime seznam\n",
    "cities = flatten_list(cities)\n",
    "\n",
    "print(\"Unikátní hodnoty po změně:\", np.unique(cities))"
   ]
  },
  {
   "cell_type": "markdown",
   "metadata": {},
   "source": [
    "Pomocí funkce `Counter()` spočteme četnost míst vydání. "
   ]
  },
  {
   "cell_type": "code",
   "execution_count": null,
   "metadata": {},
   "outputs": [],
   "source": [
    "# Spocteme vyskyty mest\n",
    "cities_number_of_records = Counter(cities)\n",
    "\n",
    "print(cities_number_of_records)"
   ]
  },
  {
   "cell_type": "markdown",
   "metadata": {},
   "source": [
    "Převedeme z dictionary do DataFramu `cities_df`. "
   ]
  },
  {
   "cell_type": "code",
   "execution_count": null,
   "metadata": {},
   "outputs": [],
   "source": [
    "# Vytvorime DataFrame \n",
    "cities_df = pd.DataFrame.from_dict(cities_number_of_records, orient='index').reset_index()\n",
    "\n",
    "# Popiseme sloupce\n",
    "cities_df.columns = ['city', 'number of records']\n",
    "\n",
    "# Vypiseme \n",
    "cities_df"
   ]
  },
  {
   "cell_type": "markdown",
   "metadata": {},
   "source": [
    "### 4. Zjištění souřadnic míst\n",
    "\n",
    "Tento kód je ukázka toho, jak pomocí API získat souřadnice měst. Je k němu potřeba osobní API klíč, který lze zíkat z této stránky - https://opencagedata.com/api. Ten se jen přidá do proměnné `api_key`. Kód pak vyšle request přes url stránku s naším API klíčem a jménem města. Pokud request proběhne v pořádku, funkce vrátí zeměpisnou šířku (latitude) a výšku (longitude)<br>\n",
    "\n",
    "<i> Tato buňka se nespustí. Pro spuštění je potřeba vymazat první řádek `%%script echo skip` </i>\n"
   ]
  },
  {
   "cell_type": "code",
   "execution_count": null,
   "metadata": {},
   "outputs": [],
   "source": [
    "%%script echo skip\n",
    "\n",
    "# funkce, ktera podle jmena mesta najde jeho souradnice\n",
    "def get_city_coordinates(city):\n",
    "    api_key = \"MY KEY\"\n",
    "    url = f\"https://api.opencagedata.com/geocode/v1/json?q={city}&key={api_key}\"\n",
    "    \n",
    "    # Volani funkce requests\n",
    "    response = requests.get(url)\n",
    "\n",
    "    data = response.json()\n",
    "    \n",
    "    if response.status_code == 200:\n",
    "        # pokud se mesto podarilo najit, ulozime souradnice\n",
    "        if data[\"total_results\"] > 0:\n",
    "            lat = data[\"results\"][0][\"geometry\"][\"lat\"]\n",
    "            lon = data[\"results\"][0][\"geometry\"][\"lng\"]\n",
    "            return lat, lon\n",
    "        else:\n",
    "            print(\"No results found for the city.\")\n",
    "    else:\n",
    "        print(\"Error occurred while fetching data.\")"
   ]
  },
  {
   "cell_type": "markdown",
   "metadata": {},
   "source": [
    "Pomocí funkce get_city_coordinates, kterou jsme si napsali v předchozí buňce, zjistíme souřadnice měst, která si zapíšeme do DataFramu. Na konci se DataFrame uloží do CSV souboru. \n",
    "\n",
    "<i> Tato buňka se nespustí. Pro spuštění je potřeba vymazat první řádek `%%script echo skip` </i>\n"
   ]
  },
  {
   "cell_type": "code",
   "execution_count": null,
   "metadata": {},
   "outputs": [],
   "source": [
    "%%script echo skip\n",
    "\n",
    "cities_df['latitude'] = None\n",
    "cities_df['longitude'] = None\n",
    "df.reindex(columns=['city', 'number of records', 'lat', 'lon'], fill_value=0)\n",
    "\n",
    "# Unikatni mesta \n",
    "unique_cities = np.unique(cities)\n",
    "coordinates = {}\n",
    "\n",
    "# Iterace pres vsechny unikatni mesta\n",
    "for city in unique_cities:\n",
    "    # Pouzijeme funkci try-except, ktera nam odchyti pripadne chyby\n",
    "    try:\n",
    "        (latitude, longitude) = get_city_coordinates(city)\n",
    "        print(f\"Coordinates of {city}: Latitude={latitude}, Longitude={longitude}\")\n",
    "        coordinates[city] = (latitude, longitude)\n",
    "        cities_df.loc[cities_df['city'] == city, 'latitude'] = latitude\n",
    "        cities_df.loc[cities_df['city'] == city, 'longitude'] = longitude\n",
    "    except:\n",
    "        print(f\"City {city} not found.\")\n",
    "          \n",
    "# Data ze slovniku dame do DataFramu\n",
    "df_coordinates = pd.DataFrame.from_dict(coordinates)\n",
    "\n",
    "# Tabulku transponujeme \n",
    "df_coordinates = df_coordinates.T\n",
    "\n",
    "df_coordinates.to_csv('data/coordinates/coordinates.csv')"
   ]
  },
  {
   "cell_type": "markdown",
   "metadata": {},
   "source": [
    "### 5. Načtení souřadnic\n",
    "\n",
    "Výsledek přechozícho kódu jsme si uložili do souboru coordinates.csv, ze kterého si data teď načteme.   \n",
    "CSV soubor obsahuje seznam míst, u kterých se připsaná zeměpisná šířka (latitude) a výška (longitude)."
   ]
  },
  {
   "cell_type": "code",
   "execution_count": null,
   "metadata": {},
   "outputs": [],
   "source": [
    "# Nacteme souradnice ze souboru\n",
    "df_coordinates = pd.read_csv('data/coordinates/coordinates.csv')\n",
    "\n",
    "# Prejmenujeme sloupce\n",
    "df_coordinates.columns = ['city','latitude', 'longitude']\n",
    "\n",
    "# Spojime tabulky dohromady\n",
    "points_df = pd.merge(cities_df, df_coordinates)\n",
    "\n",
    "points_df"
   ]
  },
  {
   "cell_type": "markdown",
   "metadata": {},
   "source": [
    "### 6. Mapa\n",
    "\n",
    "V poslední části si data vykreslíme do mapy, kterou máme připravenou ve složce data/geojson. Nejprve si určíme, jakou část světa budeme chtít vykreslit. Pak postupně města-body zaneseme do mapy. Velikost bodu se bude odvíjet od počtu vydaných článků. Přidáme i legendu, případně i popisky k jednotlivým městům.  \n",
    "\n",
    "#### 6.1 Ohraničení mapy\n",
    "\n",
    "Jelikož se všechna města nachází buď v Evropě nebo v severní Americe, můžeme mapu světa, kterou budeme vykrelovat, ohraničit. Ohraničení definujeme pomocí minimální a maximální zeměpisné výšky a šířky. Následně pak vyřadíme všechna města, která jsou mimo ohraničení. <br>\n"
   ]
  },
  {
   "cell_type": "code",
   "execution_count": null,
   "metadata": {},
   "outputs": [],
   "source": [
    "# Hranice, kterou chceme ohranicit \n",
    "bbox = [-130, 15, 50, 80]  # [minx, miny, maxx, maxy] - minimalni longitude, minimalni latitude, maximalni longitude, maximalni latitude \n",
    "\n",
    "# Seznam mest, ktera chceme vyradit \n",
    "remove = []\n",
    "\n",
    "# Iterace skrz DataFrame\n",
    "for _, row in points_df.iterrows():\n",
    "    lat = row['latitude']\n",
    "    lon = row['longitude']\n",
    "    minx = bbox[0]\n",
    "    miny = bbox[1]\n",
    "    maxx = bbox[2]\n",
    "    maxy = bbox[3]\n",
    "    \n",
    "    # Vsechny mesta, jejich zem. sirka nebo vyska lezi mimo box \n",
    "    # si pridame do seznamu remove\n",
    "    if lon < minx or lat < miny or lon > maxx or lat > maxy:\n",
    "        remove.append(row['city'])\n",
    "\n",
    "# Vyradime mesta ktera jsou v seznamu remove\n",
    "points_df = points_df[~points_df['city'].isin(remove)]\n",
    "\n",
    "points_df"
   ]
  },
  {
   "cell_type": "markdown",
   "metadata": {},
   "source": [
    "<div class='alert alert-block alert-info'>\n",
    "    <b>Try It!</b>  Můžeme si vyskoušet nastavení různé zeměpisné šířky a výšky. <br>\n",
    "Např.  [-130, 15, 50, 80] je hranice severní Ameriky a Evropy. [-5, 35, 30, 55] je přibližné ohraničení Evropy. [6, 45, 11, 48] je přibližně Švýcarská hranice. <br> \n",
    "</div>"
   ]
  },
  {
   "cell_type": "markdown",
   "metadata": {},
   "source": [
    "#### 6.2 Vykreslení do mapy\n",
    "\n",
    "Pro vykreslení použijeme knihovnu `geopandas` a `matplotlib`.<br> \n",
    "Nejprve ze zeměpisné šířky a výšky vytvoříme `Point` z knihovny `shapely` a převedeme do formátu `GeoDataFrame`, který lze jednoduše vykreslit do mapy.<br>\n",
    "Načteme mapu a vykreslíme. Naše mapa se zobrazí podle ohraničení, které jsme si definovali v předchozí buňce. <br>\n",
    "Na mapu pak přidáme body - naše místa vydání, podle jejich zeměpisné šírky a výšky. Velikost bodu se bude odvíjet podle počtu vydaných článků na daném místě. <br>"
   ]
  },
  {
   "cell_type": "code",
   "execution_count": null,
   "metadata": {},
   "outputs": [],
   "source": [
    "# Ze zemepisne sirky a vysky vytvorime body \n",
    "geometry = [Point(lon, lat) for lon, lat in zip(points_df['longitude'], points_df['latitude'])]\n",
    "\n",
    "# Prevedeme DataFrame na GeoDataFrame\n",
    "points_gdf = gpd.GeoDataFrame(points_df, geometry=geometry, crs=\"EPSG:4326\") \n",
    "\n",
    "# Nacteni mapy \n",
    "base_map_data = gpd.read_file(\"data/geojson/world_1960.geojson\")\n",
    "\n",
    "# Nastaveni velikosti vykresleni\n",
    "figsize = (15,12)\n",
    "\n",
    "plt.figure(figsize=figsize)\n",
    "\n",
    "# Ohraniceni mapy podle europe_and_north_america_bbox\n",
    "ax = base_map_data.clip(bbox).plot(figsize=figsize)\n",
    "\n",
    "# Parametr pro upravovani velikosti bodu\n",
    "div = 10\n",
    "\n",
    "# Parametr pro vypsani jmen mest do mapy\n",
    "ann = False\n",
    "\n",
    "# Vykresleni mist vydani\n",
    "points_gdf.plot(figsize=figsize,\n",
    "                ax=ax, \n",
    "                color = \"red\",\n",
    "                marker = 'o',\n",
    "                markersize=points_gdf['number of records'].apply(lambda x: x/div),  # Upraveni velikosti bodu \n",
    "                )\n",
    "\n",
    "# Pokud nase promenna ann je nastavena na True, do mapy vypiseme i jmena mest \n",
    "if ann:\n",
    "     # Pridame vypsani jmen mest do mapy\n",
    "     for x, y, label in zip(points_df.longitude, points_df.latitude, points_df.city):\n",
    "          ax.annotate(label, xy=(x, y), xytext=(3, 3), textcoords=\"offset points\", fontsize = 8)\n",
    "\n",
    "# Tri moznosti legendy\n",
    "point_sizes = [min(points_gdf['number of records'].apply(lambda x: int(round(x, -1)))), mean(points_gdf['number of records'].apply(lambda x: int(round(x, -1)))), max(points_gdf['number of records'].apply(lambda x: int(round(x, -1))))]\n",
    "\n",
    "# Vytvoreni bodu pro legendu\n",
    "legend_handles = [Line2D([], [], marker = 'o', lw=0, color='red', markersize=np.sqrt(size/div), label=str(int(round(size, -1)))) for size in point_sizes]\n",
    "\n",
    "# Vykresleni legendy\n",
    "ax.legend(handles=legend_handles, title='Počet záznamů', loc='upper right')\n",
    "\n",
    "plt.title(\"Vydávání exilových časopisů\")\n",
    "plt.grid(False)\n",
    "ax.set_axis_off()  \n",
    "plt.savefig(\"plots/exil_cropped_map.svg\")\n",
    "plt.show()"
   ]
  },
  {
   "cell_type": "markdown",
   "metadata": {},
   "source": [
    "<div class='alert alert-block alert-info'>\n",
    "    <b>Try It!</b> Do kódu jsou přidané dva parametry - div a ann.<br> \n",
    "Pomocí parametru div můžeme změnit velikost bodu. Čím vyšší číslo, tím menší se bod vykreslí. Vyšší čísla jsou tedy vhodnější pro mapy, které ohraničují větší území, a body se tak nepřekrývají.      \n",
    "Parametr ann nám umožňuje přidat popisy měst. Hodnota True jméno města přidá k jeho bodu.  \n",
    "</div>\n",
    "\n",
    "  "
   ]
  }
 ],
 "metadata": {
  "kernelspec": {
   "display_name": "Python 3",
   "language": "python",
   "name": "python3"
  },
  "language_info": {
   "codemirror_mode": {
    "name": "ipython",
    "version": 3
   },
   "file_extension": ".py",
   "mimetype": "text/x-python",
   "name": "python",
   "nbconvert_exporter": "python",
   "pygments_lexer": "ipython3",
   "version": "3.11.4"
  },
  "orig_nbformat": 4
 },
 "nbformat": 4,
 "nbformat_minor": 2
}
