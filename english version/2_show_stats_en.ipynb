{
 "cells": [
  {
   "cell_type": "markdown",
   "metadata": {},
   "source": [
    "# Show Summary Statistics\n",
    "\n",
    "In this notebook, we will demonstrate how to process data that we saved in CSV format in the previous notebook. You will learn how to calculate the frequency of individual columns in a CSV table and determine which author appears most frequently in the database for a given year.\n",
    "\n",
    "This notebook is suitable for both beginners and those who want to familiarize themselves with data processing in Python.\n",
    "\n",
    "## Requirements\n",
    "\n",
    "To work with this notebook, you need to have a CSV file created from the \"Extract Data\" notebook.\n",
    "\n",
    "## Prerequisites\n",
    "\n",
    "This notebook does not require deep knowledge of Python, but a basic understanding of programming will be helpful.\n",
    "\n",
    "## Notebook Structure\n",
    "\n",
    "The notebook is divided into several sections:\n",
    "\n",
    "0. **Preparation**: We will import the necessary libraries for processing the CSV file.\n",
    "\n",
    "1. **Loading from CSV**: We will show you how to load our data stored in CSV format.\n",
    "\n",
    "2. **Summary Statistics**: You will learn how to extract information from the data, such as the most frequent authors.\n",
    "\n",
    "## Additional Resources\n",
    "\n",
    "- [LearnPython.org](https://www.learnpython.org/): This online course offers Python tutorials for both beginners and advanced learners. It can be a useful resource for those looking to expand their Python knowledge.\n",
    "\n",
    "- [W3Schools.com/Python](https://www.w3schools.com/python/): An extensive tutorial that covers Python along with some popular Python libraries.\n"
   ]
  },
  {
   "cell_type": "markdown",
   "metadata": {},
   "source": [
    "### 0. Preparation\n",
    "First, we need to install the libraries we will be working with. Libraries are packages of functions that are not part of the Python language's core. <br>\n",
    "To install libraries, use the command `%pip install <library_name>`. Then, we add them to our notebook using the command `import <library_name> (as alias)`. To access functions from the library, use `library_name.function_name` <br>\n",
    "If we only want to use a single function from a library, we add it using `from <library_name> import <function_name>`."
   ]
  },
  {
   "cell_type": "code",
   "execution_count": null,
   "metadata": {},
   "outputs": [],
   "source": [
    "# Install libraries\n",
    "%pip install pandas \n",
    "%pip install numpy \n",
    "%pip install matplotlib\n",
    "\n",
    "# Add libraries \n",
    "from collections import Counter\n",
    "import pandas as pd\n",
    "import numpy as np"
   ]
  },
  {
   "cell_type": "markdown",
   "metadata": {},
   "source": [
    "### 1. Loading from CSV\n",
    "\n",
    "First, we use the `pandas` library to load our saved CSV data into a DataFrame data structure (similar to an Excel table). Rows in the DataFrame represent individual records, columns represent different types of data (e.g., author names).\n",
    "Some fields and subfields may repeat. In the CSV they are concatenated with semicolons."
   ]
  },
  {
   "cell_type": "code",
   "execution_count": null,
   "metadata": {},
   "outputs": [],
   "source": [
    "# Select base\n",
    "base = 'cle'\n",
    "\n",
    "# Path to MARC file\n",
    "csv_data = 'data/csv/out_{base}.csv'.format(base = base)\n",
    "\n",
    "# Load CSV file\n",
    "df = pd.read_csv(csv_data, delimiter=',')\n",
    "\n",
    "print(\"Data loaded to DataFrame df.\")"
   ]
  },
  {
   "cell_type": "code",
   "execution_count": null,
   "metadata": {},
   "outputs": [],
   "source": [
    "# Print the last 5 records in the DataFrame 'df'\n",
    "df.tail()"
   ]
  },
  {
   "cell_type": "markdown",
   "metadata": {},
   "source": [
    "Some values are joined by semicolons, for example, 'figures,' 'description,' and 'genre' in row 9611. Using the `split()` function, we split these values and convert them into a list. If there's no value (i.e., it's NaN), we add an empty list."
   ]
  },
  {
   "cell_type": "code",
   "execution_count": null,
   "metadata": {},
   "outputs": [],
   "source": [
    "# Iterate through column in the DataFrame\n",
    "for column in df.columns:\n",
    "    # There is only one publication date, so we don't need to split this column\n",
    "    if column != 'year': \n",
    "\n",
    "        # Split joined values into a list \n",
    "        df[column] = df[column].apply(lambda x: x.split(';') if isinstance(x, str)  else [])\n",
    "\n",
    "# Print the last 5 records in the DataFrame 'df'\n",
    "df.tail() "
   ]
  },
  {
   "cell_type": "markdown",
   "metadata": {},
   "source": [
    "### 2. Summary Statistics\n",
    "\n",
    "Let's explore how to calculate simple statistics from the data.\n",
    "\n",
    "#### 2.1 Counting Occurrences\n",
    "\n",
    "If we want to know how many times a particular value appears in the database, we can use the `value_counts()` function. In the following example, we count how many records there are from each year in the database.<br>\n",
    "By using the `records_to_print` parameter, we limit the number of displayed records to the top x values. The values are shown in descending order.\n"
   ]
  },
  {
   "cell_type": "code",
   "execution_count": null,
   "metadata": {},
   "outputs": [],
   "source": [
    "records_to_print = 20\n",
    "\n",
    "# Get the value counts of the 'year' column and print the first x records\n",
    "df['year'].value_counts()[:records_to_print] "
   ]
  },
  {
   "cell_type": "markdown",
   "metadata": {},
   "source": [
    "We can see that the majority of records are from the 1980s, followed by the 1970s."
   ]
  },
  {
   "cell_type": "markdown",
   "metadata": {},
   "source": [
    "<div class='alert alert-block alert-info'>\n",
    "    <b>Try It!</b> Instead of the 'year' column, we can display, for example, the 'author' column to find out how many times each author appears in the database.<br>\n",
    "</div>\n"
   ]
  },
  {
   "cell_type": "markdown",
   "metadata": {},
   "source": [
    "#### 2.2 Histogram\n",
    "\n",
    "We can also visualize the frequency using a histogram. To do this, we use the `plot()` function to plot the values.\n",
    "\n",
    "First, we need to check if all the values in the 'year' column are numbers. Some databases (like samizdat) contain records where the exact publication year is unknown, and missing digits are replaced with the letter 'u'. We cannot plot these values, so we need to filter them out.<br>\n",
    "If the 'year' column contains non-numeric values, we will filter them out. We do this using the `isnumeric()` function, which tells us whether a value is a number. Then, we convert the entire column to the integer data type.<br>\n",
    "If all the values are already numeric, we simply plot them using the `plot()` function. \n",
    "\n",
    "We can specify the type of display (histogram) with the `kind` parameter. Additionally, we choose the data to be displayed with the `column` parameter. We can also set the number of bins with the `bins` parameter.\n",
    "\n",
    "The `plot()` function has other parameters as well, which you can find listed on [this page](https://pandas.pydata.org/docs/reference/api/pandas.DataFrame.plot.html).\n"
   ]
  },
  {
   "cell_type": "code",
   "execution_count": null,
   "metadata": {},
   "outputs": [],
   "source": [
    "# If publication date column is not numeric\n",
    "if df['year'].dtype != 'int64':\n",
    "\n",
    "    # Filter non numeric values\n",
    "    df_years = df[df['year'].str.isnumeric()]\n",
    "\n",
    "    # Convert string to integer\n",
    "    df_years['year'] = df_years['year'].astype(int)\n",
    "\n",
    "else:\n",
    "    \n",
    "    df_years = df\n",
    "\n",
    "# Call plot function and add parameters\n",
    "df_years.plot(kind = 'hist',column='year',  bins=len(df_years['year'].unique()), grid=False, figsize=(12,8), color='#86bf91', rwidth=0.9, title = \"Number of records per year\")"
   ]
  },
  {
   "cell_type": "markdown",
   "metadata": {},
   "source": [
    "#### 2.3 Most Common Author in a Given Year\n",
    "\n",
    "Now, let's find out which author appeared most frequently as the record's author in a specific year. There are several approaches to this. We will explore three of them."
   ]
  },
  {
   "cell_type": "markdown",
   "metadata": {},
   "source": [
    "##### 2.2.1 First Option - value_counts\n",
    "\n",
    "In our first option, we use the `value_counts()` function that we have already learned. <br>\n",
    "We use string formatting for nicer output. We specify the format in which we want to display the values and the spacing between them in advance.\n",
    "\n",
    "For some records, the most common value is an empty list (meaning there is no author in the records). Therefore, for this example, we filter out empty rows.\n",
    "\n",
    "Then, we iterate through the years of publication in the records. We select rows with a single publication year from our table. We call the `value_counts()` function on them. This function returns frequency counts in descending order, so we only need to take the first value.\n",
    "\n",
    "<b>The following code only works for columns where values do not repeat within a single row. These columns represent MARC fields that do not repeat.</b>\n"
   ]
  },
  {
   "cell_type": "code",
   "execution_count": null,
   "metadata": {},
   "outputs": [],
   "source": [
    "# Select column we want to print\n",
    "picked_column = 'author'\n",
    "\n",
    "# Format our string\n",
    "string = \"{year: >25} {name: >25} {records: >25}\"\n",
    "\n",
    "# Print the most common values\n",
    "print(string.format(year = \"Year\", name = \"Most common author\", records = \"Number of records\"))\n",
    "print(\"----------------------------------------------------------------------------------------------------\")\n",
    "\n",
    "# Filter out empty values\n",
    "data_filtered = df[df[picked_column].apply(lambda x: len(x) > 0)]\n",
    "\n",
    "# Iterate unique years\n",
    "for year in  np.unique(df['year']):\n",
    "\n",
    "    # Select only one year 'year'\n",
    "    if any(data_filtered[data_filtered['year'] == year]['author']):\n",
    "\n",
    "        # Call function value_counts() and find out the most common author\n",
    "        value_counts = data_filtered[data_filtered['year'] == year]['author'].value_counts() \n",
    "\n",
    "        # Print only first value - the most common author\n",
    "        s = string.format(year = year, name = ' '.join(value_counts.index[0]), records = str(value_counts.values[0])) \n",
    "        print(s)"
   ]
  },
  {
   "cell_type": "markdown",
   "metadata": {},
   "source": [
    "We can observe the significant variation in the number of articles written for each year in the table."
   ]
  },
  {
   "cell_type": "markdown",
   "metadata": {},
   "source": [
    "#### 2.2.2 Second Option - Groupby and Counter\n",
    "\n",
    "In the second option, we show how to manipulate data using the `groupby()` and `Counter()` functions.\n",
    "\n",
    "Having our data stored in a DataFrame allows us to use the pandas library functions. In our case, we use the `groupby()` function, which groups data by a selected column.\n",
    "We also use the `Counter()` function to count the occurrences of each element. Lastly, we use a `lambda` function.\n"
   ]
  },
  {
   "cell_type": "code",
   "execution_count": null,
   "metadata": {},
   "outputs": [],
   "source": [
    "# Select column \n",
    "picked_column = 'author'\n",
    "\n",
    "# Filter empty values\n",
    "data_filtered = df[df[picked_column].apply(lambda x: len(x) > 0)]\n",
    "\n",
    "# Group data by year, save only the most common element in that year \n",
    "most_common = data_filtered.groupby('year')[picked_column].apply(lambda x: Counter(element for elements in x for element in elements).most_common()[0] if len(x) > 0 else None) \n",
    "\n",
    "# Format our string\n",
    "string = \"{year: >25} {name: >25} {records: >25}\"\n",
    "# Print the most common authors\n",
    "print(string.format(year = \"Year\", name = \"Most common author\", records = \"Number of records\"))\n",
    "print(\"----------------------------------------------------------------------------------------------------\")\n",
    "\n",
    "for key, value in most_common.items():\n",
    "    print(string.format(year = key, name = value[0], records = value[1]))        "
   ]
  },
  {
   "cell_type": "markdown",
   "metadata": {},
   "source": [
    "<div class='alert alert-block alert-info'>\n",
    "    <b>Try It!</b> Try changing the 'picked_column' variable to 'figures'. It finds out what was written about the most in each year.\n",
    "</div>"
   ]
  },
  {
   "cell_type": "markdown",
   "metadata": {},
   "source": [
    "##### 2.2.1 Third Option - Custom Functions\n",
    "\n",
    "As the final option, we write the algorithms ourselves. We implement two functions that we then call. \n",
    "\n",
    "The first function, `count_years(df, column)`, calculates the number of articles for each author in each year. It takes a DataFrame `df` and the selected column `column` as inputs. It returns the results as a dictionary where the key is a tuple (year, author's name) and the value is the number of articles.\n",
    "\n",
    "The second function, `find_most_common(count)`, then determines, for each year, which author wrote the most articles. The input is the dictionary `count` returned by the `count_years(df, column)` function. The function iterates through all the keys in the `count` dictionary and for each year, it keeps track of the author with the highest number of records. Finally, the function returns a sorted dictionary where the key is the year and the value is a tuple (author's name, number of records).\n"
   ]
  },
  {
   "cell_type": "code",
   "execution_count": null,
   "metadata": {},
   "outputs": [],
   "source": [
    "# Function that counts the number of records in each year for each author\n",
    "def count_years(df, column):\n",
    "    \n",
    "    # Dictionary where keys are tuples (year, author)\n",
    "    # and values are the number of records for the author in that year\n",
    "    count = {}\n",
    "    \n",
    "    # Iterate rows in the DataFrame\n",
    "    for _,row in df.iterrows():\n",
    "        year = row['year']\n",
    "        for element in row[column]:\n",
    "            key = (year, element) \n",
    "            # If the key exists, add one to the count\n",
    "            if key in count.keys():\n",
    "                count[key] += 1\n",
    "            else:# Key does not exist yet for this year\n",
    "                # Create the key and set the count to one\n",
    "                count[key] = 1  \n",
    "    return count              \n",
    "\n",
    "# Function that finds the most common author in each year\n",
    "def find_most_common(count):\n",
    "       \n",
    "    # Dictionary, where keys are years\n",
    "    # and values are (author, number of records) \n",
    "    most_common = {}\n",
    "\n",
    "    # Iterate through keys and values in the dictionary\n",
    "    for key,value in count.items():\n",
    "        year = key[0]\n",
    "\n",
    "        # If the key (year) exists, \n",
    "        # check if the value (number of records) is higher than the saved one   \n",
    "        if year in most_common:\n",
    "            if most_common[year][1] < value:\n",
    "                # Remember only the highest value\n",
    "                most_common[year] = (key[1], value)    \n",
    "        else:\n",
    "            # Remember the first value\n",
    "            most_common[year] = (key[1], value) \n",
    "    \n",
    "    # Sort keys in ascending order         \n",
    "    years = list(most_common.keys())\n",
    "    years.sort()\n",
    "    sorted_most_common = {i: most_common[i] for i in years}        \n",
    "    return sorted_most_common            \n",
    "\n",
    "print(\"Functions saved.\")\n",
    "  "
   ]
  },
  {
   "cell_type": "markdown",
   "metadata": {},
   "source": [
    "Now we just need to call the functions and print the results. <br>\n",
    "We use the same formatting that we have already used."
   ]
  },
  {
   "cell_type": "code",
   "execution_count": null,
   "metadata": {},
   "outputs": [],
   "source": [
    "# Select column\n",
    "picked_column = 'author'\n",
    "\n",
    "# Call our functions\n",
    "count = count_years(df, picked_column)\n",
    "\n",
    "most_common = find_most_common(count)\n",
    "\n",
    "# Format string\n",
    "string = \"{year: >25} {name: >25} {records: >25}\"\n",
    "\n",
    "# Print the most common authors\n",
    "print(string.format(year = \"Year\", name = \"Most common author\", records = \"Number of records\"))\n",
    "print(\"----------------------------------------------------------------------------------------------------\")\n",
    "for key, value in most_common.items():\n",
    "    print(string.format(year = key, name = value[0], records = value[1]))        \n"
   ]
  },
  {
   "cell_type": "markdown",
   "metadata": {},
   "source": [
    "It's possible that the tables may slightly differ from each other in cases where the database for a given year contains multiple authors with the same number of records."
   ]
  },
  {
   "cell_type": "markdown",
   "metadata": {},
   "source": [
    "#### 2.3 Most Common Author in a Given Year - Repeated Values\n",
    "\n",
    "As we've seen, it's possible that the frequency of some authors for a given year is the same - meaning that the year contains multiple authors with the same number of records. We write code that handles this situation, and in case of repetition displays all authors. <br>\n",
    "We demonstrate two options."
   ]
  },
  {
   "cell_type": "markdown",
   "metadata": {},
   "source": [
    "#####  2.3.1 First Option - Counter\n",
    "We create a function `max_counter(lst)` that takes a list `lst` as input. First, we use `Counter` to count the occurrences of individual elements in the list. Then, we find the maximum occurrence count and create a list of elements that have this maximum count. The function returns this list of elements along with their occurrence count."
   ]
  },
  {
   "cell_type": "code",
   "execution_count": null,
   "metadata": {},
   "outputs": [],
   "source": [
    "def max_counter(lst):\n",
    "\n",
    "    # Count occurrences of elements in all nested lists \n",
    "    counted_elements = Counter(element for elements in lst for element in elements)\n",
    "\n",
    "    # Find the max value \n",
    "    max_val = max(counted_elements.values())\n",
    "\n",
    "    # Save list of tuples where key is an author and value is number of records\n",
    "    # Save only the most occurring authors\n",
    "    ret = [(key, value) for key, value in counted_elements.items() if value == max_val]\n",
    "    return ret"
   ]
  },
  {
   "cell_type": "markdown",
   "metadata": {},
   "source": [
    "We iterate through unique years in our data and select the rows where the year matches. Then, we call our prepared function on the selected rows."
   ]
  },
  {
   "cell_type": "code",
   "execution_count": null,
   "metadata": {},
   "outputs": [],
   "source": [
    "\n",
    "# Select column\n",
    "picked_column = 'author'\n",
    "\n",
    "# Filter empty values\n",
    "data_filtered = df[df[picked_column].apply(lambda x: len(x) > 0)]\n",
    "\n",
    "# Format string\n",
    "string = \"{year: >25} {name: >25} {records: >25}\"\n",
    "\n",
    "# Print the most common authors\n",
    "print(string.format(year = \"Year\", name = \"Most common authors\", records = \"Number of records\"))\n",
    "print(\"----------------------------------------------------------------------------------------------------\")\n",
    "\n",
    "# Iterate through unique years\n",
    "for year in np.unique(data_filtered['year']):\n",
    "\n",
    "    # Call function 'max_counter' on data from one year\n",
    "    ret = max_counter(data_filtered[data_filtered['year'] == year][picked_column])\n",
    "\n",
    "    # Iterate through list of most common authors  \n",
    "    for name, number_of_records in ret:    \n",
    "        print(string.format(year = year, name = name, records = number_of_records))"
   ]
  },
  {
   "cell_type": "markdown",
   "metadata": {},
   "source": [
    "##### 2.3.1 Second Option - Adjusting Our Functions\n",
    "\n",
    "We already have the functions `count_years(df, column)` and `find_most_common(count)` written. In this example, we slightly modify the `find_most_common(count)` function to remember both author names in case we encounter authors with the same number of articles as those already saved."
   ]
  },
  {
   "cell_type": "code",
   "execution_count": null,
   "metadata": {},
   "outputs": [],
   "source": [
    "# Function that finds the most common author in each year\n",
    "def count_years(df, column):\n",
    "    \n",
    "    # Dictionary where keys are tuples (year, author)\n",
    "    # and values is number of record for the author in that year\n",
    "    count = {}\n",
    "    \n",
    "    # Iterate rows in DataFrame\n",
    "    for _, row in df.iterrows():\n",
    "        year = row['year']\n",
    "        for element in row[column]:\n",
    "            key = (year, element) \n",
    "            # If key exists, add one\n",
    "            if key in count.keys():\n",
    "                count[key] += 1\n",
    "            else:\n",
    "                # Key does not exist, create key and add one\n",
    "                count[key] = 1  \n",
    "    return count              \n",
    "\n",
    "# Function that counts the number of records in each year for each author\n",
    "def find_most_common_multiple(count):\n",
    "    \n",
    "    # Dictionary, where keys are years\n",
    "    # and values are lists of (author, number of records)\n",
    "    most_common = {}\n",
    "\n",
    "    # Iterate through keys and values in dictionary\n",
    "    for key, value in count.items():\n",
    "        year = key[0]\n",
    "\n",
    "        # If key (year) exists\n",
    "        if year in most_common:\n",
    "\n",
    "            # Check if value (number of records) is higher than our saved one\n",
    "            if most_common[year][0][1] < value:\n",
    "                \n",
    "                # Create a list with one value\n",
    "                most_common[year] = [(key[1], value)]    \n",
    "            \n",
    "            # If the value equals the one we saved\n",
    "            elif most_common[year][0][1] == value:\n",
    "                # Append value to an existing list\n",
    "                most_common[year].append((key[1], value))  \n",
    "        else:\n",
    "            # Remember the first value\n",
    "            most_common[year] = [(key[1], value)] \n",
    "    \n",
    "    # Sort keys in ascending order         \n",
    "    years = list(most_common.keys())\n",
    "    years.sort()\n",
    "    sorted_most_common = {i: most_common[i] for i in years}        \n",
    "    return sorted_most_common            \n",
    "\n",
    "print(\"Functions saved.\")\n"
   ]
  },
  {
   "cell_type": "code",
   "execution_count": null,
   "metadata": {},
   "outputs": [],
   "source": [
    "# Select column \n",
    "picked_column = 'author'\n",
    "\n",
    "# Call our functions\n",
    "count = count_years(df, picked_column)\n",
    "\n",
    "most_common = find_most_common_multiple(count)\n",
    "\n",
    "# Format string\n",
    "string = \"{year: >25} {name: >25} {records: >25}\"\n",
    "\n",
    "# Print the most common authors\n",
    "print(string.format(year = \"Year\", name = \"Most common authors\", records = \"Number of records\"))\n",
    "print(\"----------------------------------------------------------------------------------------------------\")\n",
    "for key, value in most_common.items():\n",
    "    for v in value:\n",
    "        print(string.format(year = key, name = v[0], records = v[1]))  "
   ]
  },
  {
   "cell_type": "markdown",
   "metadata": {},
   "source": [
    "<div class='alert alert-block alert-info'>\n",
    "    <b>Try It!</b> Try other bibliographies as well. Just create a CSV table in the previous Jupyter notebook.\n",
    "</div>\n"
   ]
  }
 ],
 "metadata": {
  "kernelspec": {
   "display_name": "Python 3",
   "language": "python",
   "name": "python3"
  },
  "language_info": {
   "codemirror_mode": {
    "name": "ipython",
    "version": 3
   },
   "file_extension": ".py",
   "mimetype": "text/x-python",
   "name": "python",
   "nbconvert_exporter": "python",
   "pygments_lexer": "ipython3",
   "version": "3.11.4"
  },
  "orig_nbformat": 4
 },
 "nbformat": 4,
 "nbformat_minor": 2
}
