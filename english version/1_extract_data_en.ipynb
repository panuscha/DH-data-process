{
 "cells": [
  {
   "cell_type": "markdown",
   "metadata": {},
   "source": [
    "# Processing MARC Files Using the Pymarc Library\n",
    "\n",
    "This notebook will guide you through the process of processing MARC files using the Pymarc library. MARC (Machine-Readable Cataloging) is a standard format for library catalog records and metadata. We will load MARC files, iterate through records, extract necessary data, and save it to CSV and Excel files.\n",
    "\n",
    "This notebook is suitable for both beginners and those who want to familiarize themselves with the Pymarc library and MARC data processing in Python.\n",
    "\n",
    "## Prerequisites\n",
    "\n",
    "This notebook does not require deep knowledge of Python, but a basic understanding of programming will be helpful.\n",
    "\n",
    "## Notebook Structure\n",
    "\n",
    "This notebook is divided into several sections:\n",
    "\n",
    "0. **Preparation**: We will import the necessary libraries for processing the MARC file.\n",
    "\n",
    "1. **Load the MARC file**: We will demonstrate how to load a MARC file and print individual records.\n",
    "\n",
    "2. **Data Extraction**: We will learn how to extract specific data from MARC records, such as titles, authors, and genres.\n",
    "\n",
    "4. **Export to CSV and Excel**: In the final part, we will show you how to save the extracted data to CSV and Excel files for further analysis.\n",
    "\n",
    "## Additional Resources\n",
    "\n",
    "- [LearnPython.org](https://www.learnpython.org/): This online course offers Python tutorials for both beginners and advanced learners. It can be a useful resource for those looking to expand their Python knowledge.\n",
    "\n",
    "- [W3Schools.com/Python](https://www.w3schools.com/python/): An extensive tutorial that covers Python along with some popular Python libraries.\n"
   ]
  },
  {
   "cell_type": "markdown",
   "metadata": {},
   "source": [
    "### 0. Preparation\n",
    "First, we need to install the libraries we will be working with. Libraries are packages of functions that are not part of the Python language's core. <br>\n",
    "To install libraries, use the command `%pip install <library_name>`. Then, we add them to our notebook using the command `import <library_name> (as alias)`. To access functions from the library, use `library_name.function_name` <br>\n",
    "If we only want to use a single function from a library, we add it using `from <library_name> import <function_name>`."
   ]
  },
  {
   "cell_type": "code",
   "execution_count": null,
   "metadata": {},
   "outputs": [],
   "source": [
    "# Install libraries\n",
    "%pip install pandas \n",
    "%pip install pymarc \n",
    "%pip install openpyxl\n",
    "\n",
    "# Add libraries \n",
    "import pandas as pd\n",
    "from pymarc import MARCReader\n"
   ]
  },
  {
   "cell_type": "markdown",
   "metadata": {},
   "source": [
    "### 1. Load the MARC File\n",
    "\n",
    "Our data are stored in the MARC library format with the .mrc extension. For our work, we use the `MARCReader` function from the `pymarc` library, which reads data from the file and divides them into records so that we can access them individually.\n",
    "\n",
    "The MARC files are located in the directory <b>data/marc</b>. Each database is stored by the name <b>ucla_\\<database_code\\>.mrc</b>.\n",
    "The complete path, including the file, is <b>data/marc/ucla_\\<database_code\\>.mrc</b>.\n",
    "\n",
    "The following databases are available:\n",
    "\n",
    "* <b>ret</b> - Retrospective Bibliography of Czech Literature 1770–1945\n",
    "\n",
    "* <b>smz</b> - Czech Literary Samizdat Bibliography\n",
    "\n",
    "* <b>int</b> - Czech Literary Web Bibliography\n",
    "\n",
    "* <b>cle</b> - Czech Literary Exile Bibliography (1948–1989)\n"
   ]
  },
  {
   "cell_type": "markdown",
   "metadata": {},
   "source": [
    "#### 1.1 Display Record\n",
    "\n",
    "Let's see how a MARC record looks like. <br>\n",
    "First, we choose a base and determine its path. The `format()` function adds the code of our selected base from the `base` variable to the path.<br>\n",
    "Then, we specify which record we want to display by using the `ith` variable.<br> \n",
    "Next, we open the MARC file and iterate through it. The `enumerate()` function assigns numbers to the records, starting from 0. This allows us to display the i-th record.<br>\n",
    "To avoid processing the entire file, we use the `break` keyword, which terminates the file processing.\n"
   ]
  },
  {
   "cell_type": "code",
   "execution_count": null,
   "metadata": {},
   "outputs": [],
   "source": [
    "# Select base\n",
    "base = 'cle' \n",
    "\n",
    "# Path to marc file\n",
    "database = 'data/marc/ucla_{base}.mrc'.format(base = base)\n",
    "\n",
    "# ith record to print\n",
    "ith = 5\n",
    "\n",
    "# Open file\n",
    "with open(database, 'rb') as data:\n",
    "    # Read file\n",
    "    reader = MARCReader(data)\n",
    "\n",
    "    # Iterate through records in marc file \n",
    "    for i,record in enumerate(reader):        \n",
    "        \n",
    "        # If i is our record \n",
    "        if i == ith:\n",
    "            # Print record\n",
    "            print(record)\n",
    "\n",
    "            # Terminate the loop\n",
    "            break\n"
   ]
  },
  {
   "cell_type": "markdown",
   "metadata": {},
   "source": [
    "We can see that the MARC file has a clear structure. It contains multiple fields typically labeled with three digits or three letters. Each code has its internal logic; for example, fields for subject access always start with the number ``6XX``.<br>\n",
    "Following the field number (tag), there are usually two indicators. If an indicator is not defined, a backslash (\\\\) is used in its place.<br>\n",
    "Most fields are further divided into subfields, indicated by a dollar sign ($) followed by either a single letter or a number.\n"
   ]
  },
  {
   "cell_type": "markdown",
   "metadata": {},
   "source": [
    "<div class='alert alert-block alert-info'>\n",
    "    <b>Try It!</b>  By using the 'ith' parameter, we can specify which record we want to print (don't forget that indexing starts at 0). If we want to print all records up to the 'ith' record, we change `if i == ith:` to `if i <= ith:` and remove the `break` statement.\n",
    "</div>"
   ]
  },
  {
   "cell_type": "markdown",
   "metadata": {},
   "source": [
    "#### 1.2 Displaying Individual Fields\n",
    "\n",
    "In order to work with the database, we'll likely only need specific fields from the MARC records. In this section, we demonstrate how to access individual fields within a record.\n",
    "We display the record number, title, author, and genre. Some fields can be accessed using dot notation (e.g., `record._`), while others require us to use the `get_fields(<field_number>)` function, which retrieves all fields.\n"
   ]
  },
  {
   "cell_type": "code",
   "execution_count": null,
   "metadata": {},
   "outputs": [],
   "source": [
    "ith = 5\n",
    "\n",
    "# Open file\n",
    "with open(database, 'rb') as data:\n",
    "    \n",
    "    # Read marc file\n",
    "    reader = MARCReader(data)\n",
    "\n",
    "    # Iterate through records in marc file \n",
    "    for i, record in enumerate(reader):\n",
    "\n",
    "        # If i is our record \n",
    "        if i == ith:\n",
    "            # Print marc file\n",
    "            # Some fields are accessible via dot notation, e.g. record.leader or record.title\n",
    "            print(\"Record: \" + record.leader)\n",
    "        \n",
    "            # It is better to check if a a field exists (= is not None)\n",
    "            # Printing a None value triggers an error\n",
    "            if record.title is not None:\n",
    "                print(\"Title: \" + record.title)\n",
    "            if record.author is not None:\n",
    "                print(\"Author: \" + record.author)\n",
    "            \n",
    "            # We call a function .get_fields() if a field is not accessible via dot notation   \n",
    "            if record.get_fields('655') is not None:     \n",
    "                # Almost all field are accessible via square brackets  \n",
    "                print(\"Genre: \" + record['655']['a'])\n",
    "            break        "
   ]
  },
  {
   "cell_type": "markdown",
   "metadata": {},
   "source": [
    "#### 1.3 Number of Records\n",
    "\n",
    "We might also want to know how many records are in a given database. To find out, we create a separate function, `number_of_records(database)`. User-defined functions are defined using the keyword `def`. <br>\n",
    "The function takes the path to the MARC database as its input. Inside the function, it opens the database, iterates through it, and increments a counter, `counter`, for each record encountered."
   ]
  },
  {
   "cell_type": "code",
   "execution_count": null,
   "metadata": {},
   "outputs": [],
   "source": [
    "# To define out own functions we use 'def'\n",
    "def number_of_records(database):\n",
    "    \n",
    "    with open(database, 'rb') as data:\n",
    "        # Read marc file\n",
    "        reader = MARCReader(data)\n",
    "        # Create a counter \n",
    "        counter = 0\n",
    "        # Underscore is used to ignore values that we don't need\n",
    "        for _ in reader:\n",
    "            counter += 1\n",
    "    \n",
    "    # Function returns value         \n",
    "    return counter \n",
    "\n",
    "print(\"There are \" + str(number_of_records(database)) + \" records in the database.\")        "
   ]
  },
  {
   "cell_type": "markdown",
   "metadata": {},
   "source": [
    "### 2. Data Extraction\n",
    "\n",
    "Working directly with MARC documents can be challenging, so it's often better to extract data and store it in a simpler format like a CSV table. <br>\n",
    "Now, we need to clarify which data we want to extract. In our example, we want to store the title, author, author's code, publication year, and the fields '``600 $a``', '``650 $a``', '``655 $a``', and '``773 $t``'.<br>\n",
    "\n",
    "#### 2.1 MARC Fields\n",
    "\n",
    "All records starting with the number 6XX contain subject information about the record. These fields may repeat.<br> \n",
    "Under field '600,' we find information about subjects associated with the record or to whom the record is dedicated. <br>\n",
    "Field '650' contains subject terms or topics that describe what the record is about. <br>\n",
    "Field '655' contains the genre or form of the record. Unlike fields '600' and '650,' field '655' should be present in every record. <br>\n",
    "Records starting with numbers 76X - 78X are linking fields used for referencing the source (773) or reviewed (787) documents.\n"
   ]
  },
  {
   "cell_type": "code",
   "execution_count": null,
   "metadata": {},
   "outputs": [],
   "source": [
    "# ith record to print\n",
    "ith = 10\n",
    "\n",
    "# Open the file \n",
    "with open(database, 'rb') as data:\n",
    "    # Read the MARC file\n",
    "    reader = MARCReader(data)\n",
    "\n",
    "    # Iterate through records in the MARC file\n",
    "    for i,record in enumerate(reader):        \n",
    "        \n",
    "        # If 'i' is our desired record\n",
    "        if i == ith:\n",
    "            \n",
    "            print(\"Record: \" + record.leader)\n",
    "            \n",
    "            # If field exists, print it\n",
    "            if record.get_fields('600') is not None:   \n",
    "                # There may be more fields under the tag, so we iterate through all of them   \n",
    "                for field in record.get_fields('600'): \n",
    "                    print(\"Personal name: \" + field['a'])\n",
    "                \n",
    "                \n",
    "            # If field exists, print it   \n",
    "            if record.get_fields('650') is not None:    \n",
    "                # There may be more fields under the tag, so we iterate through all of them  \n",
    "                for field in record.get_fields('650'): \n",
    "                    print(\"Topical term: \" + field['a'])\n",
    "            \n",
    "            # If field exists, print it\n",
    "            if record.get_fields('655') is not None: \n",
    "                # There may be more fields under the tag, so we iterate through all of them     \n",
    "                for field in record.get_fields('655'): \n",
    "                    print(\"Genre/Form: \" + field['a'])\n",
    "\n",
    "            # Terminate the loop\n",
    "            break\n"
   ]
  },
  {
   "cell_type": "markdown",
   "metadata": {},
   "source": [
    "#### 2.2 Field Selection\n",
    "\n",
    "For data storage, we prepared a function called `save_to_dict(record, dictionary, field_list)` that stores one record (`record`) into a Python dictionary (`marc_dictionary`).<br>\n",
    "A dictionary in Python is a data structure consisting of key-value pairs. We access the value through the key in square brackets: `dict[<key>] = <value>`.<br>\n",
    "\n",
    "Generally we don't need to save all fields, subfields, and indicators, therefore the function `save_to_dict` contains parameter `field_list` that specifies which fields we want to save. <br>\n",
    "Because some fields (e.g., '700') may repeat, it's a good practice to store values for each field in a list (a collection in Python). A list is a collection of values, such as strings, integers, or floats, etc. For generality, we save all values into a list. It's easier to work with a single type (e.g., list or a string) than to have some values stored in a list and some as strings.\n",
    "However we can store values individually outside a list if we are sure that fields in the original records do not repeat. \n",
    " "
   ]
  },
  {
   "cell_type": "code",
   "execution_count": null,
   "metadata": {},
   "outputs": [],
   "source": [
    "def save_to_dict(record, marc_dictionary, field_list):\n",
    "    if not record is None:\n",
    "        try:\n",
    "            # Iterate through 'field_list'\n",
    "            for field_tags in field_list:\n",
    "\n",
    "                # Key name in the dictionary\n",
    "                dict_key_name =  field_tags[0]\n",
    "\n",
    "                # Field tag\n",
    "                tag =  field_tags[1]\n",
    "\n",
    "                # Subfield tag\n",
    "                subfield_tag =  field_tags[2]\n",
    "                \n",
    "                # List for adding values to the dictionary \n",
    "                dict_add_list = []\n",
    "                \n",
    "                # Iterate through all fields with the tag 'tag'\n",
    "                for field in record.get_fields(tag):\n",
    "                    \n",
    "                    # If field doesn't have any subfields, add the whole field to 'dict_add_list'\n",
    "                    if subfield_tag is None:\n",
    "                        dict_add_list.append(field.data)  \n",
    "                    \n",
    "                    # If the subfield tag is slice instance (we only want a part of a field that does not have a subfield)\n",
    "                    # add the slice to 'dict_add_list'\n",
    "                    elif isinstance(subfield_tag, slice):\n",
    "                        dict_add_list.append(field.data[subfield_tag])     \n",
    "\n",
    "                    # If the field contains our subfield tag, add the subfield to 'dict_add_list'\n",
    "                    elif '$'+subfield_tag in str(field):  \n",
    "                        dict_add_list.append(str(field[subfield_tag]))\n",
    "\n",
    "                # We need to use dot notation for accessing the leader\n",
    "                if tag == 'LDR':\n",
    "                    dict_add_list.append(record.leader)        \n",
    "\n",
    "                # Add 'dict_add_list' to 'dict_key_name'         \n",
    "                marc_dictionary[dict_key_name].append(dict_add_list)\n",
    "        except Exception as error:\n",
    "            print(\"Exception: \" + type(error).__name__)  \n",
    "            print(\"LDR: \" + str(record.leader))   \n",
    "    return marc_dictionary \n",
    "\n",
    "print(\"Function saved.\")"
   ]
  },
  {
   "cell_type": "markdown",
   "metadata": {},
   "source": [
    "Now, we use our function to extract data from the MARC file. First, we specify the values we want to extract in the `field_list`.<br>\n",
    "\n",
    "`field_list` consists of tuples, where each tuple follows this format: \n",
    "1. The first position is the key name under which we save the field.\n",
    "2. The second position is the field tag.\n",
    "3. The third position is the subfield tag, e.g., ('author', '100', 'a') or ('author', '100', None).\n",
    "\n",
    "Next, we create a variable `marc_dictionary` where we add values one by one using our `save_to_dict` function. The keys in `marc_dictionary` are the first values in the tuples in `field_list`, and the values are the data from the MARC records stored in a single list.\n",
    "\n",
    "Finally, we convert the data to a DataFrame structure, which is similar to an Excel table, making it easier to work with. Each row in the DataFrame represents a single record, and columns represent different data types (e.g., author's name).\n"
   ]
  },
  {
   "cell_type": "code",
   "execution_count": null,
   "metadata": {},
   "outputs": [],
   "source": [
    "with open(database, 'rb') as data:\n",
    "    reader = MARCReader(data)\n",
    "    # List of values we want to save\n",
    "    field_list = [('title', '245', 'a'),\n",
    "                ('author', '100', 'a'),\n",
    "                ('author code', '100', '7'),\n",
    "                # Date of publication is in the 8th to 11th place, so we use slice function \n",
    "                ('year', '008', slice(7,11, None)), # Indexing starts at 0. \n",
    "                ('figures', '600', 'a'),\n",
    "                ('description', '650', 'a'),\n",
    "                ('genre', '655', 'a'),\n",
    "                ('magazine', '773', 't')]\n",
    "    \n",
    "    # Dictionary for saving our data\n",
    "    marc_dictionary = {}\n",
    "    \n",
    "    # Iterate through tuples in 'field_list'\n",
    "    for t in field_list:\n",
    "        \n",
    "        # Key name is first in the tuple     \n",
    "        dict_key_name = t[0]\n",
    "        \n",
    "        # We add the key to the dictionary and an empty list (that we will later fill) as a value\n",
    "        marc_dictionary[dict_key_name] = []\n",
    "    \n",
    "    # Iterate through all records in the database  \n",
    "    for record in reader:\n",
    "        \n",
    "        # Call our function save_to_dict\n",
    "        marc_dictionary = save_to_dict(record, marc_dictionary, field_list)\n",
    "\n",
    "# Create a DataFrame from 'marc_dictionary'       \n",
    "df = pd.DataFrame.from_dict(marc_dictionary)\n",
    "\n",
    "print(\"MARC file saved to DataFrame df.\")"
   ]
  },
  {
   "cell_type": "markdown",
   "metadata": {},
   "source": [
    "<div class='alert alert-block alert-info'>\n",
    "    <b>Try It!</b> We can easily retrieve additional values from the records by adding more tuples to the list, right after the last entry. In our case after ('magazine', '773', 't'). <br>\n",
    "    We can also add fields that do not have subfields. For example, if we want to add field '005,' which contains information about the last transaction, we can use ('latest transaction','005', None). <br>\n",
    "    To add the leader information, use this tuple: ('leader', 'LDR', None).\n",
    "</div>\n"
   ]
  },
  {
   "cell_type": "code",
   "execution_count": null,
   "metadata": {},
   "outputs": [],
   "source": [
    "# Print last 5 records in the DataFrame 'df'\n",
    "df.tail()"
   ]
  },
  {
   "cell_type": "markdown",
   "metadata": {},
   "source": [
    "#### 2.3 Data Processing\n",
    "\n",
    "We can see that names have an extra comma at the end, which we can easily remove. Similarly, titles have an unnecessary slash. Using the `apply()` function and `lambda`, we can modify all values in a column with a single line of code. In the `lambda` function, we define how we want to adjust the data. We apply the `lambda` function to all values using `apply()`.\n",
    "\n",
    "All data are stored in lists, so we need to process each list separately. The function takes individual lists within the column and checks if the list is not empty (i.e., it checks if the list's length is greater than 0 `len(y) > 0`). If it's not empty, the function processes the values in the list and removes extra commas using the `strip(' ,')` function, which eliminates extra commas or spaces in names. For titles, we use the `strip(' /')` function to remove the extra slashes. If the list is empty, the function leaves it unchanged.\n"
   ]
  },
  {
   "cell_type": "code",
   "execution_count": null,
   "metadata": {},
   "outputs": [],
   "source": [
    "# Save name and surname without the extra comma at the end of the string\n",
    "df['figures'] = df['figures'].apply(lambda x: [y.strip(' ,') if len(y) > 0  else y for y in x])  \n",
    "df['author'] = df['author'].apply(lambda x: [y.strip(' ,') if len(y) > 0 else y for y in x]) \n",
    "\n",
    "# Save title without the extra slash at the end of the string  \n",
    "df['title'] = df['title'].apply(lambda x: [y.strip(' /') if len(y) > 0 else y for y in x])  \n",
    "\n",
    "# Print last 5 records in the DataFrame 'df'\n",
    "df.tail()"
   ]
  },
  {
   "cell_type": "markdown",
   "metadata": {},
   "source": [
    "### 3. Export to CSV and Excel\n",
    "\n",
    "In the following step, we export the data into CSV format. Since CSV tables do not work well with lists, we join the values in the lists into a single string using the `join()` function. Once again, we utilize a lambda function for this purpose.\n",
    "\n",
    "###### The `join()` function can concatenate individual characters within a string. To prevent having a semicolon between every character, we use the `isinstance()` function within the lambda function to test whether the data are indeed in a list.\n"
   ]
  },
  {
   "cell_type": "code",
   "execution_count": null,
   "metadata": {},
   "outputs": [],
   "source": [
    "# Iterate through columns in the DataFrame 'df'\n",
    "for column in df.columns:\n",
    "    \n",
    "    # Join all values in the list with a semicolon ';' \n",
    "    df[column] = df[column].apply(lambda x: ';'.join(x) if isinstance(x, list) else x )\n",
    "\n",
    "# Print the last 5 records in the DataFrame 'df'\n",
    "df.tail()"
   ]
  },
  {
   "cell_type": "markdown",
   "metadata": {},
   "source": [
    "Finally, we save the DataFrame to both CSV and Excel formats in the 'data/csv' and 'data/excel' directories, respectively."
   ]
  },
  {
   "cell_type": "code",
   "execution_count": null,
   "metadata": {},
   "outputs": [],
   "source": [
    "out_csv = 'data/csv/out_{base}.csv'.format(base = base)\n",
    "\n",
    "# Save DataFrame to CSV format\n",
    "df.to_csv(out_csv, encoding = 'utf8', sep = \",\", index=False)   \n",
    "\n",
    "print(\"Data saved to csv.\")\n",
    "\n",
    "out_excel = 'data/excel/out_{base}.xlsx'.format(base = base)\n",
    "\n",
    "# Save DataFrame to Excel format\n",
    "df.to_excel(out_excel,  index=False) \n",
    "\n",
    "print(\"Data saved to xlsx.\")"
   ]
  }
 ],
 "metadata": {
  "kernelspec": {
   "display_name": "Python 3",
   "language": "python",
   "name": "python3"
  },
  "language_info": {
   "codemirror_mode": {
    "name": "ipython",
    "version": 3
   },
   "file_extension": ".py",
   "mimetype": "text/x-python",
   "name": "python",
   "nbconvert_exporter": "python",
   "pygments_lexer": "ipython3",
   "version": "3.11.4"
  },
  "orig_nbformat": 4
 },
 "nbformat": 4,
 "nbformat_minor": 2
}
