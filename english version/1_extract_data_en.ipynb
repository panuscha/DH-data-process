{
 "cells": [
  {
   "cell_type": "markdown",
   "metadata": {},
   "source": [
    "# Zpracování MARC souborů pomocí knihovny Pymarc\n",
    "\n",
    "Tento notebook vás provede procesem zpracování MARC souborů za použití knihovny Pymarc. MARC (Machine-Readable Cataloging) je standardní formát pro záznamy knihovních katalogů a metadat. Ukážeme si, jak načíst marcové soubory, jak procházet jejich záznamy, jak extrahovat potřebná data a jak je uložit do CSV a Excel souborů. <br>\n",
    "\n",
    "Tento notebook je určený jak pro začátečníky, tak pro ty, kteří se chtějí seznámit s knihovnou Pymarc a zpracováním MARC dat v Pythonu.\n",
    "\n",
    "## Předpoklady\n",
    "\n",
    "Notebook nepředpokládá hluboké znalosti Pythonu, ale základní znalost programování bude užitečná.<br> \n",
    "\n",
    "## Struktura notebooku\n",
    "\n",
    "Tento notebook je rozdělen do několika částí:\n",
    "\n",
    "0. **Příprava**: Přidáme potřebné knihovny, které budeme používat ke zpracování marcového souboru. \n",
    "\n",
    "1. **Načtení MARC souboru**: Ukážeme si, jak načíst marcový soubor a vypsat jednotlivé záznamy.\n",
    "\n",
    "2. **Získání dat**: Naučíme se, jak získat specifická data z marcového záznamu, jako jsou názvy, autoři a žánry.\n",
    "\n",
    "4. **Export do CSV a Excelu**: V závěrečné části si ukážeme, jak uložit získaná data do CSV a Excel souborů pro další analýzu.\n",
    "\n",
    "\n",
    "## Další zdroje\n",
    "\n",
    "- [LearnPython.org](https://www.learnpython.org/): Tento online kurz nabízí výuku jazyka Python pro začátečníky i pokročilé. Může být užitečným zdrojem pro ty, kteří chtějí rozšířit své znalosti Pythonu.\n",
    "\n",
    "- [W3Schools.com/Python](https://www.w3schools.com/python/): Obsáhlý tutoriál, který provází i některými oblíbenými knihovnamy Pythonu. \n"
   ]
  },
  {
   "attachments": {},
   "cell_type": "markdown",
   "metadata": {},
   "source": [
    "\n",
    "### 0. Příprava \n",
    "Jako první si musíme nainstalovat knihovny, se kterými budeme pracovat. Knihovny jsou balíčky funkcí, které nejsou součástí základu jazyka Python. <br>\n",
    "Knihovny nainstalujeme pomocí příkazu `%pip install <jmeno_knihovny>` . Pak je do našeho notebooku přidáme pomocí příkazu `import <jmeno_knihovny> (as alias)`. K funkcím knihovny se pak přistupuje `jmeno_knihovny.jmeno_funkce` <br> \n",
    "Pokud z knihovny chceme využít pouze jednu funkci, přidáme ji pomocí `from <jmeno_knihovny> import <jmeno_funkce>`"
   ]
  },
  {
   "cell_type": "code",
   "execution_count": null,
   "metadata": {},
   "outputs": [],
   "source": [
    "# Install libraries\n",
    "%pip install pandas \n",
    "%pip install pymarc \n",
    "%pip install openpyxl\n",
    "\n",
    "# Add libraries \n",
    "import pandas as pd\n",
    "from pymarc import MARCReader\n"
   ]
  },
  {
   "cell_type": "markdown",
   "metadata": {},
   "source": [
    "### 1. Načtení MARC souboru\n",
    "\n",
    "Naše data jsou uložena v knihovním formátu MARC s koncovnkou .mrc. Pro práci budeme používat funkci `MARCReader` z knihovnu `pymarc`, která data ze souboru načte a záznamy rozdělí, takže k nim pak můžeme přistoupit jednotlivě. <br>  \n",
    "\n",
    "Marcové soubory jsou v adresáři <b>data/marc</b>. Jednotlivé báze jsou pak uloženy pod názvem <b>ucla_\\<kod_baze\\>.mrc</b>.<br>\n",
    "Výsledná cesta i se souborem je  <b>data/marc/ucla_\\<kod_baze\\>.mrc</b> <br>\n",
    "\n",
    "K dispozici jsou následující báze:\n",
    "\n",
    "* <b>ret</b> - Retrospektivní bibliografie české literatury 1770–1945\n",
    "\n",
    "* <b>smz</b> - Bibliografie českého literárního samizdatu\n",
    "\n",
    "* <b>int</b> - Bibliografie českého literárního internetu\n",
    "\n",
    "* <b>cle</b> - Bibliografie českého literárního exilu (1948–1989)"
   ]
  },
  {
   "cell_type": "markdown",
   "metadata": {},
   "source": [
    "#### 1.1 Výpis záznamu\n",
    "\n",
    "Vypíšeme si, jak takový MARC záznam vypadá. <br>\n",
    "Nejprve si vybereme bázi a určíme k ní cestu. Příkaz `format()` nám do cesty přidá kód naší vybrané báze z proměnné `base`<br>\n",
    "Pak si určíme, kolikátý záznam chceme vypsat. To definujeme pomocí proměnné `ith`.<br> \n",
    "Pak otevřeme marcový soubor a postupně ho projdeme. Funkce `enumerate()` nám záznamy navíc očísluje od 0. Díky tomu budeme moct vypsat i-tý záznam.<br>\n",
    "Abychom nemuseli procházet celý soubor, napíšeme slovo `break`, které ukončí procházení souboru."
   ]
  },
  {
   "cell_type": "code",
   "execution_count": null,
   "metadata": {},
   "outputs": [],
   "source": [
    "# Select base\n",
    "base = 'cle' \n",
    "\n",
    "# Path to marc file\n",
    "database = 'data/marc/ucla_{base}.mrc'.format(base = base)\n",
    "\n",
    "# ith record to print\n",
    "ith = 5\n",
    "\n",
    "# Open file\n",
    "with open(database, 'rb') as data:\n",
    "    # Read file\n",
    "    reader = MARCReader(data)\n",
    "\n",
    "    # Iterate through records in marc file \n",
    "    for i,record in enumerate(reader):        \n",
    "        \n",
    "        # If i is our record \n",
    "        if i == ith:\n",
    "            # Print record\n",
    "            print(record)\n",
    "\n",
    "            # Terminate the loop\n",
    "            break\n"
   ]
  },
  {
   "attachments": {},
   "cell_type": "markdown",
   "metadata": {},
   "source": [
    "Vidíme, že marcový soubor má jasnou strukuru. Má několik polí, která jsou označena zpravidla třemi číslicem, případně třemi písmeny. Každý kód má svou vnitřní logiku, např. pole pro věcné popisy vždy začínají číslicí ``6XX``. <br>\n",
    "Za číslem - tagem pole se obvyke nachází dva indikátory. Pokud indikátor není definovaný, píše se místo něj zpětné lomítko (\\\\). <br>\n",
    "Většina polí se dělí na podpole. Nachází se za dolarem (``$``) a označují se buď jedním písmenem, nebo číslicí.  \n",
    "\n"
   ]
  },
  {
   "cell_type": "markdown",
   "metadata": {},
   "source": [
    "<div class='alert alert-block alert-info'>\n",
    "    <b>Try It!</b>  Pomocí parametru ith nastavíme kolikátý záznam chceme vypsat (indexování začíná od 0). Pokud bychom chtěli vypsat všechny záznamy do i-tého záznamu, změníme `if i == ith:` na `if i <= ith:` a smažeme příkaz `break`.\n",
    "</div>\n",
    "\n"
   ]
  },
  {
   "cell_type": "markdown",
   "metadata": {},
   "source": [
    "#### 1.2 Výpis jednotlivých polí\n",
    "\n",
    "Pro práci s databází pravděpodobně nebudeme potřebovat všechna pole, proto si teď ukážeme, přistupovat k jednotlivým polím v záznamu. <br>\n",
    "Vypíšeme si jen číslo záznamu, název, autora a žánr. K některým polím se můžeme dostat přes tečkovou notaci (`record._`), k ostatním musíme přistupovat přes funkci `get_fields(<cislo pole>)`, která vrátí všechna pole s číslem v závorce.  "
   ]
  },
  {
   "cell_type": "code",
   "execution_count": null,
   "metadata": {},
   "outputs": [],
   "source": [
    "ith = 5\n",
    "\n",
    "# Open file\n",
    "with open(database, 'rb') as data:\n",
    "    \n",
    "    # Read marc file\n",
    "    reader = MARCReader(data)\n",
    "\n",
    "    # Iterate through records in marc file \n",
    "    for i, record in enumerate(reader):\n",
    "\n",
    "        # If i is our record \n",
    "        if i == ith:\n",
    "            # Print marc file\n",
    "            # Some fields are accessible via dot notation, e.g. record.leader or record.title\n",
    "            print(\"Record: \" + record.leader)\n",
    "        \n",
    "            # It is better to check if a a field exists (= is not None)\n",
    "            # Printing a None value triggers an error\n",
    "            if record.title is not None:\n",
    "                print(\"Title: \" + record.title)\n",
    "            if record.author is not None:\n",
    "                print(\"Author: \" + record.author)\n",
    "            \n",
    "            # We call a function .get_fields() if a field is not accessible via dot notation   \n",
    "            if record.get_fields('655') is not None:     \n",
    "                # Almost all field are accessible via square brackets  \n",
    "                print(\"Genre: \" + record['655']['a'])\n",
    "            break        "
   ]
  },
  {
   "attachments": {},
   "cell_type": "markdown",
   "metadata": {},
   "source": [
    "#### 1.3 Počet záznamů\n",
    "\n",
    "Také by nás mohlo zajímat, kolik záznamů je v dané databázi. K tomu si vytvoříme samostatnou funkci `number_of_records(database)`, kterou pak jen zavoláme. Vlastní funkce definujeme pomocí slova `def`<br> \n",
    "Funkce jako vstup bere cestu k marcové databázi. Uvnitř funkce si otevře, projde a při každém záznamu si připočítá jedničku k počítadlu `counter`.  "
   ]
  },
  {
   "cell_type": "code",
   "execution_count": null,
   "metadata": {},
   "outputs": [],
   "source": [
    "# To define out own functions we use 'def'\n",
    "def number_of_records(database):\n",
    "    \n",
    "    with open(database, 'rb') as data:\n",
    "        # Reac marc file\n",
    "        reader = MARCReader(data)\n",
    "        # Create a counter \n",
    "        counter = 0\n",
    "        # Underscore ignores value that we don't need\n",
    "        for _ in reader:\n",
    "            counter += 1\n",
    "    \n",
    "    # Function returns value         \n",
    "    return counter \n",
    "\n",
    "print(\"There are \" + str(number_of_records(database)) + \" records in the database.\")        "
   ]
  },
  {
   "attachments": {},
   "cell_type": "markdown",
   "metadata": {},
   "source": [
    "### 2. Získání dat \n",
    "\n",
    "S marcovým dokumentem se nepracuje příliš dobře, proto je lepší si data uložit do jednodušší tabulky. V této fázi si musíme ujasnit, jaká data budeme chtít. V našem příkladu budeme chtít uložit název, autora, autorův kód, rok vydání a pak pole '``600 $a``','``650 $a``', '``655 $a``' a '``773 $t``'. <br>\n",
    "\n",
    "#### 2.1 Marcová pole\n",
    "\n",
    "Veškeré záznamy začínající číslem 6XX jsou věcné údaje o záznamu. Tato pole se mohou opakovat. <br>     \n",
    "Pod polem '600' se skrývají osoby, o kterých záznam je nebo případně osoby, kterým je záznam dedikován. <br> \n",
    "Pod polem '650' se nacházejí věcné termíny/téma, tzn. o čem záznam je. <br>\n",
    "Pod polem '655' pak najdeme žánr daného záznamu. Na rozdíl od polí '600' a '650' by pole '655' mělo být přítomné u každého záznamu. <br>\n",
    "Záznamy začínající čísly 76X - 78X se nazývají propojovací pole a slouží pro zápis zdrojového (773) nebo recenzovaného (787) dokumentu. <br>\n",
    "\n"
   ]
  },
  {
   "cell_type": "code",
   "execution_count": null,
   "metadata": {},
   "outputs": [],
   "source": [
    "# ith record to print\n",
    "ith = 10\n",
    "\n",
    "# Open file \n",
    "with open(database, 'rb') as data:\n",
    "    # Read marc file\n",
    "    reader = MARCReader(data)\n",
    "\n",
    "    # Iterate through records in marc file \n",
    "    for i,record in enumerate(reader):        \n",
    "        \n",
    "        # If i is our record \n",
    "        if i == ith:\n",
    "            \n",
    "            print(\"Record: \" + record.leader)\n",
    "            \n",
    "            # If field exists we print it\n",
    "            if record.get_fields('600') is not None:   \n",
    "                # There may be more fields under the tag, so we iterate through all of them   \n",
    "                for field in record.get_fields('600'): \n",
    "                    print(\"Personal name: \" + field['a'])\n",
    "                \n",
    "                \n",
    "            # If field exists we print it   \n",
    "            if record.get_fields('650') is not None:    \n",
    "                # There may be more fields under the tag, so we iterate through all of them  \n",
    "                for field in record.get_fields('650'): \n",
    "                    print(\"Topical term: \" + field['a'])\n",
    "            \n",
    "            # If field exists we print it\n",
    "            if record.get_fields('655') is not None: \n",
    "                # There may be more fields under the tag, so we iterate through all of them     \n",
    "                for field in record.get_fields('655'): \n",
    "                    print(\"Genre/Form: \" + field['a'])\n",
    "\n",
    "            # Terminate the loop\n",
    "            break\n"
   ]
  },
  {
   "cell_type": "markdown",
   "metadata": {},
   "source": [
    "#### 2.2 Selekce polí\n",
    "\n",
    "Pro ukládání máme připravenou funkci `save_to_dict(record, dictionary, field_list)`, která nám jeden záznam (`record`) uloží do dictionary (struktury v Pythonu) `marc_dictionary`. <br>\n",
    "Struktura dictionary je tvořena dvojicí klíč - hodnota. K hodnotě se dostaneme skrz klíč v hranatých závorkách. `dict[<klic>] = <hodnota>`<br> \n",
    "Protože není strategické si do tabulky ukládat všechna pole, podpole a indikátory, funkci `save_to_dict` kromě záznamu předáme také list polí `field_list`, která chceme uložit. <br>\n",
    "\n",
    "Jelikož se některá pole (např. 700) mohou opakovat, je dobré si hodnoty za každé pole uložit do listu (kolekce v jazyce Python). List je seznam hodnot, např. textu - stringů, čísel - integerů nebo float atd. <br>\n",
    "Kvůli obecnosti si do listu uložíme veškeré hodnoty. Je jednodušší, když pracujeme pouze s jedním typem (např. list nebo string), než když jsou některé hodnoty v listu a některé jsou pouze string. Pokud jsme si jisti, že v původních záznamech se pole nemůže opakovat, můžeme hodnoty uložit samostatně mimo list. <br>    "
   ]
  },
  {
   "cell_type": "code",
   "execution_count": null,
   "metadata": {},
   "outputs": [],
   "source": [
    "def save_to_dict(record, marc_dictionary, field_list):\n",
    "    if not record is None:\n",
    "        try:\n",
    "            # Iterate through list 'field_list'\n",
    "            for field_tags in field_list:\n",
    "                # Key name in dictionary\n",
    "                dict_key_name =  field_tags[0]\n",
    "\n",
    "                # Field tag\n",
    "                tag =  field_tags[1]\n",
    "\n",
    "                # Subfield tag\n",
    "                subfield_tag =  field_tags[2]\n",
    "                \n",
    "                # List for adding values to dictionary \n",
    "                dict_add_list = []\n",
    "                \n",
    "                # Iterate through all fields with tag 'tag'\n",
    "                for field in record.get_fields(tag):\n",
    "                    \n",
    "                    # If field doesn't have any subfields, add whole field to 'dict_add_list'\n",
    "                    if subfield_tag is None:\n",
    "                        dict_add_list.append(field.data)  \n",
    "                    \n",
    "                    # If  subfield tag is slice instance (we only want a part of a field that does not have a subfield)\n",
    "                    # add the slice to 'dict_add_list'\n",
    "                    elif isinstance(subfield_tag, slice):\n",
    "                        dict_add_list.append(field.data[subfield_tag])     \n",
    "\n",
    "                    # If the field contains our subfield tag, add the subfield to 'dict_add_list'\n",
    "                    elif '$'+subfield_tag in str(field):  \n",
    "                        dict_add_list.append(str(field[subfield_tag]))\n",
    "\n",
    "                # We need to use dot notation for accessing leader\n",
    "                if tag == 'LDR':\n",
    "                    dict_add_list.append(record.leader)        \n",
    "\n",
    "                # Add 'dict_add_list' to 'dict_key_name'         \n",
    "                marc_dictionary[dict_key_name].append(dict_add_list)\n",
    "        except Exception as error:\n",
    "            print(\"Exception: \" + type(error).__name__)  \n",
    "            print(\"LDR: \" + str(record.leader))   \n",
    "    return marc_dictionary \n",
    "\n",
    "print(\"Function saved.\")"
   ]
  },
  {
   "cell_type": "markdown",
   "metadata": {},
   "source": [
    "Naši funkci teď využijeme k tomu, abychom si data z marcového souboru vytáhli. Nejprve si do listu `field_list` napíšeme, jaké hodnoty chceme. <br>\n",
    "`field_list` sestává z tuplů (kolekce v jazyce Python, do češtiny přeložené jako n-tice), kde každý tuple vypadá následovně. Na první pozici je název klíče, pod kterým se rozhodneme pole uložit, na druhé pozici tag pole a na třetí tag podpole, např. ('author', '100', 'a') nebo ('author', '100', None). <br>\n",
    "Pak si vytvoříme proměnnou  `marc_dictionary`, do kterého budeme postupně hodnoty přidávat pomocí naší funkce `save_to_dict`. Klíče `marc_dictionary` jsou první hodnoty z tuplů ve `field_list`, hodnoty pak data z marcového záznamu v jednom listu.<br>\n",
    "Nakonec data převedeme do datové struktury DataFrame (která je podobná např. excelovské tabulce), se kterou je mnohem jednodušší pracovat. <br>\n",
    "Řádky v DataFramu reprezentují jednotlivé záznamy, sloupce pak jeden typ (např. jméno autora).<br>"
   ]
  },
  {
   "cell_type": "code",
   "execution_count": null,
   "metadata": {},
   "outputs": [],
   "source": [
    "with open(database, 'rb') as data:\n",
    "    reader = MARCReader(data)\n",
    "    # List of values we want to save\n",
    "    field_list = [('title', '245', 'a'),\n",
    "                ('author', '100', 'a'),\n",
    "                ('author code', '100', '7'),\n",
    "                # Date of publication is in the 8th to 11th place, so we use slice function \n",
    "                ('year', '008', slice(7,11, None)), # Indexing starts at 0. \n",
    "                ('figures', '600', 'a'),\n",
    "                ('description', '650', 'a'),\n",
    "                ('genre', '655', 'a'),\n",
    "                ('magazine', '773', 't')]\n",
    "    \n",
    "    # Dictionary for saving our data\n",
    "    marc_dictionary = {}\n",
    "    \n",
    "    # Iterate through tuples in 'field_list'\n",
    "    for t in field_list:\n",
    "        \n",
    "        # Key name is first in the tuple     \n",
    "        dict_key_name = t[0]\n",
    "        \n",
    "        # We add the key to the dictionary and an empty list (that we will later fill) as a value\n",
    "        marc_dictionary[dict_key_name] = []\n",
    "    \n",
    "    # Iterate through all records in the database  \n",
    "    for record in reader:\n",
    "        \n",
    "        # Call our function save_to_dict\n",
    "        marc_dictionary = save_to_dict(record, marc_dictionary, field_list)\n",
    "\n",
    "# Create a DataFramu from 'marc_dictionary'       \n",
    "df = pd.DataFrame.from_dict(marc_dictionary)\n",
    "\n",
    "print(\"Marc file saved to DataFrame df.\")"
   ]
  },
  {
   "cell_type": "markdown",
   "metadata": {},
   "source": [
    "<div class='alert alert-block alert-info'>\n",
    "    <b>Try It!</b>  Další hodnoty ze záznamů získáme jednoduše. Jen přidáme další tuple do seznamu za poslední hodnotu, v našem případě za ('magazine', '773', 't'). <br>\n",
    "    Můžeme přidat i pole, která nemají podpole. Např. pokud bychom chtěli přidat pole 005, které obsahuje informace o poslední změně záznamu, přidáme ('latest transaction','005', None). <br>\n",
    "    Záznam o leaderu přidáme takto - ('leader', 'LDR', None).  \n",
    "</div>\n"
   ]
  },
  {
   "cell_type": "code",
   "execution_count": null,
   "metadata": {},
   "outputs": [],
   "source": [
    "# Print last 5 records in the DataFrame 'df'\n",
    "df.tail()"
   ]
  },
  {
   "cell_type": "markdown",
   "metadata": {},
   "source": [
    "#### 2.3 Úprava dat \n",
    "\n",
    "Vidíme, že jména za sebou mají přebytečnou čárku, kterou jednoduše odstraníme. Stejně tak názvy přebytečné lomítko. Díky funkcím `apply()` a `lambda` můžeme změnit všechny hodnoty ve sloupci pomocí jednoho řádku kódu. Ve funkci `lambda` si definujeme, jak data chceme upravit. Funkcí `apply()` použijeme funkci `lambda` na všechny hodnoty. <br> \n",
    "Všechna data jsou uložena v listu, proto musíme projít všechny hodnoty v list zvlášť. <br>  \n",
    "Funkce vezme jednotlivé listy ve sloupci a zjistí, zda list není prázdný ( tedy se zeptá, zda je velikost listu větší než 0 `len(y) > 0`). Pokud není, funkce projde hodnoty v listu a uloží si je bez koncové čárky. To udělá pomocí funkce `strip(' ,')`, která případně odstraní koncové čárky nebo mezery u jmen. U názvů použijeme funkci `strip(' /')`, která nás zbaví přebytečného lomítka. Pokud je prázdný, funkce list nijak nezmění.   "
   ]
  },
  {
   "cell_type": "code",
   "execution_count": null,
   "metadata": {},
   "outputs": [],
   "source": [
    "# Save name and surname without comma at the end of the string\n",
    "df['figures'] = df['figures'].apply(lambda x: [y.strip(' ,') if len(y) > 0  else y for y in x])  \n",
    "df['author'] = df['author'].apply(lambda x: [y.strip(' ,') if len(y) > 0 else y for y in x]) \n",
    "\n",
    "# Save title without slash at the end of the string  \n",
    "df['title'] = df['title'].apply(lambda x: [y.strip(' /') if len(y) > 0 else y for y in x])  \n",
    "\n",
    "# Print last 5 records in the DataFrame 'df'\n",
    "df.tail()"
   ]
  },
  {
   "cell_type": "markdown",
   "metadata": {},
   "source": [
    "### 3. Export do CSV a excelu\n",
    "\n",
    "V následujícím kroku si budeme chtít data exportovat do formátu CSV. Jelikož CSV tabulka nepracuje dobře s listy, hodnoty v listu spojíme středníkem do jednoho stringu pomocí funkce `join()`. K tomu opět využijeme lambda funkci. <br>\n",
    "\n",
    "###### Funkce `join()` může spojit i jednotlivá písmena ve stringu. Abychom předešli tomu, že mezi každým písmenkem budeme mít středník, v lambda funkci pomocí `isinstance()` otestujeme, zda jsou data opravdu v listu. \n"
   ]
  },
  {
   "cell_type": "code",
   "execution_count": null,
   "metadata": {},
   "outputs": [],
   "source": [
    "# Iterate through column in DataFrame 'df'\n",
    "for column in df.columns:\n",
    "    \n",
    "    # Join all values in the list with a semicolon ';' \n",
    "    df[column] = df[column].apply(lambda x: ';'.join(x) if isinstance(x, list) else x )\n",
    "\n",
    "df.tail()"
   ]
  },
  {
   "cell_type": "markdown",
   "metadata": {},
   "source": [
    "Nakonec DataFrame uložíme do CSV a Excelu do adresáře 'data/csv', resp. 'data/excel'.  "
   ]
  },
  {
   "cell_type": "code",
   "execution_count": null,
   "metadata": {},
   "outputs": [],
   "source": [
    "out_csv = 'data/csv/out_{base}.csv'.format(base = base)\n",
    "\n",
    "# Save DataFrame to CSV format\n",
    "df.to_csv(out_csv, encoding = 'utf8', sep = \",\", index=False)   \n",
    "\n",
    "print(\"Data saved to csv.\")\n",
    "\n",
    "out_excel = 'data/excel/out_{base}.xlsx'.format(base = base)\n",
    "\n",
    "# Save DataFrame to Excel format\n",
    "df.to_excel(out_excel,  index=False) \n",
    "\n",
    "print(\"Data saved to xlsx.\")"
   ]
  }
 ],
 "metadata": {
  "kernelspec": {
   "display_name": "Python 3",
   "language": "python",
   "name": "python3"
  },
  "language_info": {
   "codemirror_mode": {
    "name": "ipython",
    "version": 3
   },
   "file_extension": ".py",
   "mimetype": "text/x-python",
   "name": "python",
   "nbconvert_exporter": "python",
   "pygments_lexer": "ipython3",
   "version": "3.11.4"
  },
  "orig_nbformat": 4
 },
 "nbformat": 4,
 "nbformat_minor": 2
}
