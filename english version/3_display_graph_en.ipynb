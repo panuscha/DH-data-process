{
 "cells": [
  {
   "cell_type": "markdown",
   "metadata": {},
   "source": [
    "# Zanesení bibliografických dat do bipartitního grafu\n",
    "\n",
    "V tomto notebooku budeme pracovat s Bibliografií českého literárního exilu, která obsahuje záznamy o knihách a statích s literární tématikou, vydaných a publikovaných v českých exilových nakladatelstvích a časopisech. Nás budou zajímat pouze záznamy o statích, u kterých jsou uvedeni autor a časopis, ve kterém stať vyšla. Ty najdeme v polích `100 $a` (respektive `100 $7`) a `773 $t`. Notebook lze použít na všechny bibliografie. <br>\n",
    "Ukážeme si, jak z dat získat jméno časopisu, jak data o autorech a časopisech následně zpracovat. Nakonec z nich vytvoříme strukturu bipartitního grafu, kterou vykreslíme pomocí knihovny `matplotlib`.   <br>\n",
    "Tento notebook je určený jak pro začátečníky, tak pro ty, kteří se chtějí seznámit se zpracováním dat v Pythonu.\n",
    "\n",
    "## Požadavky\n",
    "\n",
    "K práci s notebookem je potřeba mít vytvořený CSV soubor z notebooku Explore Data.<br>\n",
    "\n",
    "## Předpoklady\n",
    "\n",
    "Tento notebook nepředpokládá hluboké znalosti Pythonu, ale základní znalost programování bude užitečná.<br> \n",
    "\n",
    "## Struktura notebooku\n",
    "\n",
    "Notebook je rozdělen do několika částí:\n",
    "\n",
    "0. **Příprava**: Přidáme potřebné knihovny, které budeme používat ke zpracování marcového souboru. \n",
    "\n",
    "1. **Načtení z CSV**: Ukážeme si, jak načíst naše data uložená v CSV.\n",
    "\n",
    "2. **Extrahování a čištění dat**: Data z jednotlivých sloupců vyextrahujeme a očistíme.\n",
    "\n",
    "3. **Zpracování**: Z našich očištěných dat získáme nejčastější autory a časopisy, do kterých přispívali. \n",
    "\n",
    "4. **Vytvoření struktury grafu**: Ukážeme si, jak pomocí knihovny networkx vytvoříme strukturu grafu, jak so ní přidáme uzle a hrany. Nakonec ji vykreslíme.\n",
    "\n",
    "## Další zdroje\n",
    "\n",
    "- [LearnPython.org](https://www.learnpython.org/): Tento online kurz nabízí výuku jazyka Python pro začátečníky i pokročilé. Může být užitečným zdrojem pro ty, kteří chtějí rozšířit své znalosti Pythonu.\n",
    "- [W3Schools.com/Python](https://www.w3schools.com/python/): Obsáhlý tutoriál, který provází i některými oblíbenými knihovnamy Pythonu. \n"
   ]
  },
  {
   "cell_type": "markdown",
   "metadata": {},
   "source": [
    "# Plotting Bibliographic Data into a Bipartite Graph\n",
    "\n",
    "In this notebook, we will work with the Czech Literary Exile Bibliography, which contains records of books and articles with literary themes published in the Czech exile publishers and magazines. We will only use records of articles that include information about article's author and the magazine in which the article was published. This information can be found in the fields `100 $a` (or `100 $7`) and `773 $t`. This notebook can be used with other bibliographies as well.\n",
    "\n",
    "We will show you how to extract the magazine names from the data, how to process data about authors and magazines, and finally, how to create the structure of a bipartite graph, which we will visualize using the `matplotlib` library.\n",
    "\n",
    "This notebook is suitable for both beginners and those who want to familiarize themselves with data processing in Python.\n",
    "\n",
    "## Requirements\n",
    "\n",
    "To work with this notebook, you need to have a CSV file created from the \"Extract Data\" notebook.\n",
    "\n",
    "## Prerequisites\n",
    "\n",
    "This notebook does not require deep knowledge of Python, but a basic understanding of programming will be helpful.\n",
    "\n",
    "## Notebook Structure\n",
    "\n",
    "The notebook is divided into several sections:\n",
    "\n",
    "0. **Preparation**: We will add the necessary libraries to process the MARC file.\n",
    "\n",
    "1. **Loading from CSV**: We will show how to load our data stored in CSV format.\n",
    "\n",
    "2. **Data Extraction and Cleaning**: We will extract and clean data from individual columns.\n",
    "\n",
    "3. **Processing**: From our cleaned data, we will obtain the most frequent authors and the magazines they contributed to.\n",
    "\n",
    "4. **Creating the Graph Structure**: We will show how to create the structure of a graph using the `networkx` library, add nodes and edges to it, and finally visualize it.\n",
    "\n",
    "## Additional Resources\n",
    "\n",
    "- [LearnPython.org](https://www.learnpython.org/): This online course offers Python language lessons for both beginners and advanced learners. It can be a valuable resource for those looking to expand their Python knowledge.\n",
    "\n",
    "- [W3Schools.com/Python](https://www.w3schools.com/python/): An extensive tutorial that covers Python, including some popular Python libraries.\n"
   ]
  },
  {
   "cell_type": "markdown",
   "metadata": {},
   "source": [
    "### 0. Preparation\n",
    "First, we need to install the libraries we will be working with. Libraries are packages of functions that are not part of the Python language's core. <br>\n",
    "To install libraries, use the command `%pip install <library_name>`. Then, we add them to our notebook using the command `import <library_name> (as alias)`. To access functions from the library, use `library_name.function_name` <br>\n",
    "If we only want to use a single function from a library, we add it using `from <library_name> import <function_name>`."
   ]
  },
  {
   "cell_type": "code",
   "execution_count": null,
   "metadata": {},
   "outputs": [],
   "source": [
    "# Install libraries\n",
    "%pip install matplotlib\n",
    "%pip install networkx\n",
    "%pip install numpy\n",
    "%pip install pandas\n",
    "\n",
    "# Add libraries\n",
    "from collections import Counter\n",
    "import matplotlib.pyplot as plt\n",
    "import networkx as nx\n",
    "import numpy as np\n",
    "import pandas as pd\n",
    "import re"
   ]
  },
  {
   "cell_type": "markdown",
   "metadata": {},
   "source": [
    "### 1. Load from CSV\n",
    "\n",
    "First, we use the `pandas` library to load our saved CSV data into a DataFrame data structure (similar to an Excel table). Rows in the DataFrame represent individual records, columns represent different types of data (e.g., author names).\n",
    "Some fields and subfields may repeat. In the CSV they are concatenated with semicolons."
   ]
  },
  {
   "cell_type": "code",
   "execution_count": null,
   "metadata": {},
   "outputs": [],
   "source": [
    "# Select base\n",
    "base = 'cle'\n",
    "\n",
    "# Path to our data\n",
    "csv_data = 'data/csv/out_{base}.csv'.format(base = base)\n",
    "\n",
    "# Load data\n",
    "df = pd.read_csv(csv_data, delimiter=',')\n",
    "\n",
    "print(\"Data loaded to DataFrame df.\")\n",
    "\n",
    "# Iterate through column in the DataFrame\n",
    "for column in df.columns:\n",
    "    # There is only one publication date, so we don't need to split this column\n",
    "    if column != 'year': \n",
    "\n",
    "        # Split joined values into a list \n",
    "        df[column] = df[column].apply(lambda x: x.split(';') if isinstance(x, str)  else [])\n"
   ]
  },
  {
   "cell_type": "markdown",
   "metadata": {},
   "source": [
    "Podíváme, jak naše data v tabulce vypadají. Nejprve si vypíšeme, kolik záznamů obsahuje informaci o časopisu. To jsou záznamy o statích, které nás budou zajímat. Zbylé budeme považvat za záznamy o knihách. Pak si vypíšeme prvních 5 a posledních 5 položek v DataFramu. <br>\n",
    "\n",
    "Nejprve si pomocí lambda funkce najdeme řádky, které obsahují informaci o časopisu. K nim přiřadíme 1 a všechny sečteme. Tím získáme celkový počet záznamů o statích. <br>\n",
    "Od celkového počtu záznamů pak počet záznamů o statích odečteme, čímž získáme počet záznamů o knihách. Do našeho DataFramu `df` si nakonec uložíme jen záznamy o statích. \n",
    "\n",
    "###### Pokud bychom chtěli přesná data, v marcovém záznamu je kolonka LDR (leader), která nese informaci o typu záznamu. "
   ]
  },
  {
   "cell_type": "markdown",
   "metadata": {},
   "source": [
    "Let's look at our data. First, we determine how many records contain information about magazines. These are the records about articles that interest us. We considered the remaining records as book records. Then, we'll display the first 5 and the last 5 items in the DataFrame.\n",
    "\n",
    "First, using a lambda function, we find rows that contain information about magazines. We assign 1 to them and sum them all up. This will give us the total number of article records.<br>\n",
    "To obtain the number of book records, we subtract the total number of article records from the overall record count. Finally, we keep only the records about articles in our DataFrame df.\n",
    "\n",
    "###### Note: The MARC record contains a field called LDR (leader) that carries information about the record type, if precise information is needed. "
   ]
  },
  {
   "cell_type": "code",
   "execution_count": null,
   "metadata": {},
   "outputs": [],
   "source": [
    "# Count nonempty rows \n",
    "magazines_counts = df['magazine'].apply(lambda x: 1 if len(x) > 0 else 0)\n",
    "\n",
    "sum_magazines_counts = magazines_counts.sum()\n",
    "\n",
    "print(\"Number of article records: \", sum_magazines_counts)\n",
    "\n",
    "sum_books_counts = len(df) - sum_magazines_counts\n",
    "\n",
    "print(\"Number of books records: \", sum_books_counts)\n",
    "\n",
    "# Filter book record \n",
    "df = df[df['magazine'].apply(lambda x: len(x) > 0)]"
   ]
  },
  {
   "cell_type": "code",
   "execution_count": null,
   "metadata": {},
   "outputs": [],
   "source": [
    "# Print first 5 records in the DataFrame 'df'\n",
    "df.head()"
   ]
  },
  {
   "cell_type": "code",
   "execution_count": null,
   "metadata": {},
   "outputs": [],
   "source": [
    "# Print last 5 records in the DataFrame 'df'\n",
    "df.tail()"
   ]
  },
  {
   "cell_type": "markdown",
   "metadata": {},
   "source": [
    "\n",
    "As we can see, most author's have a code assigned with them; however, for example, in record 9608 there is an author without a code. We are interested only in authors with an assigned code."
   ]
  },
  {
   "cell_type": "markdown",
   "metadata": {},
   "source": [
    "To avoid writing the same code multiple times, we write it once as a function that we can later easily call. In this case, we write a function that creates one list from several nested lists. This will be useful when we want to calculate frequencies."
   ]
  },
  {
   "cell_type": "code",
   "execution_count": null,
   "metadata": {},
   "outputs": [],
   "source": [
    "# Function that flattens nested lists \n",
    "def flatten_list(strings):\n",
    "    flattened_list = []\n",
    "    if strings is not None: # Check if element is not None\n",
    "        for item in strings:\n",
    "            if isinstance(item, str):  # If element is a string, add it to the list\n",
    "                flattened_list.append(item)\n",
    "            elif isinstance(item, list):  # Recursion\n",
    "                flattened_list.extend(flatten_list(item))\n",
    "        return flattened_list\n",
    "\n",
    "print(\"Function saved\")        "
   ]
  },
  {
   "cell_type": "markdown",
   "metadata": {},
   "source": [
    "### 2. Extrahování a čištění dat\n",
    "\n",
    "K časopisu je zpravidla připsáno i místo vydání. Pro naše účely nám stačí ale jen název časopisu. Proto pomocí regulárního výrazu  odstraníme místo vydání, které je napsané v kulatých (v bibliografii českého literárního exilu cle), nebo hranatých závorkách (v bibliografii samizdatu).<br>\n",
    "\n",
    "Nejprve si určíme regulární výraz, který nám najde string před závorkou. Pak ho pomocí lambda funkce najdeme u hodnot ve sloupci `magazine`. Některé hodnoty mají přebytečné mezery před a po stringu. Ty odstraníme pomocí funkce `strip()`. Nakonec všechny vnořené listy odstraníme pomocí napí funkce `flatten_list()`."
   ]
  },
  {
   "cell_type": "markdown",
   "metadata": {},
   "source": [
    "###  2. Data Extraction and Cleaning\n",
    "\n",
    "Name of a magazine usually comes with a place of publication. However, for our purposes, we only need the magazine's name. Therefore, we use a regular expression to remove the place of publication, which is enclosed in either round or square brackets, depending on the bibliography (round brackets in the Czech Literary Exile Bibliography, square brackets in the Samizdat Bibliography).\n",
    "\n",
    "First, we define a regular expression pattern that captures the string before the brackets. Then, using a lambda function, we apply this pattern to the values in the `magazine` column. Some values may have unnecessary whitespace before and after the string, which we remove using the `strip()` function. Finally, we flatten all nested lists using the `flatten_list()` function.\n",
    "This process ensures that we retain only the clean magazine names for analysis."
   ]
  },
  {
   "cell_type": "code",
   "execution_count": null,
   "metadata": {},
   "outputs": [],
   "source": [
    "# regex pattern, that finds string before column\n",
    "# r\"(.*?)\\(\" <- round brackets\n",
    "pattern_magazine = r\"(.*?)\\(\"   #r\"(.*?)\\[\" # <- square brackets  \n",
    "\n",
    "# Save only string before brackets (if they are there)\n",
    "df['magazine'] = df['magazine'].apply(lambda x: [re.search(pattern_magazine, y).group(1) if re.search(pattern_magazine, y) else y for y in x])\n",
    "\n",
    "# Remove redundant whitespaces \n",
    "df['magazine'] = df['magazine'].apply(lambda x: [y.strip() for y in x])\n",
    "\n",
    "# Unique magazines\n",
    "unique_magazine = np.unique(flatten_list(df.magazine))\n",
    "print(\"There are \" + str(len(unique_magazine)) + \" magazines in the database.\")\n",
    "print(\"All magazines in the database: \\n\",unique_magazine)\n",
    "\n"
   ]
  },
  {
   "cell_type": "markdown",
   "metadata": {},
   "source": [
    "### 3. Zpracování\n",
    "\n",
    "Abychom mohli vytvořit graf, musíme data v tabulce zpracovat. V grafu chceme zobrazit deset nejčetnějších autorů a k nim přiřadit časopisy, do kterých autoři přispívali. Příkladu vyselektujeme pouze autory, kteří mají přiřazený kód. Je to kvůli tomu, abychom odstranili nežádoucí záznamy, jako jsou například články, které psala celá redakce časopisu. Ty žádné kódy přiřazené nemají. V našem příkladu se zajímáme jen o konkrétní osoby. <br>    \n",
    "\n",
    "#### 3.1 Nalezení 10 nejčastějších autorů\n",
    "\n",
    "Nejprve musíme zjistit všechny autory, kteří se v bibliografii objevují. Pomocí funkce `Counter()` spočteme jejich četnosti a vybereme jen 10 nejčastějších."
   ]
  },
  {
   "cell_type": "markdown",
   "metadata": {},
   "source": [
    "### 3. Data Processing\n",
    "\n",
    "To create a graph, we need to process the data in the table. In the graph, we want to display the ten most common authors and associate them with the magazines they contributed to. For this example, we select only authors with assigned codes. We do this in order to filter out unwanted records, such as articles written by the entire editorial board of a magazine, which do not have assigned codes. In our example, we are interested only in individual authors.\n",
    "\n",
    "#### 3.1 Finding 10 Most Common Authors\n",
    "\n",
    "First, we need to identify all authors appearing in the bibliography. Using the `Counter()` function, we count their frequencies and select the ten most common authors.\n"
   ]
  },
  {
   "cell_type": "code",
   "execution_count": null,
   "metadata": {},
   "outputs": [],
   "source": [
    "author_column = 'author'\n",
    "\n",
    "# All authors in the column that have a code\n",
    "all_authors = flatten_list(df[df['author code'] != None][author_column])\n",
    "\n",
    "# Count number of authors records\n",
    "counted_authors = Counter(all_authors)\n",
    "\n",
    "# Number of nodes we want to print\n",
    "n = 10\n",
    "\n",
    "# Find the most common authors\n",
    "most_common_authors = [item[0] for item in counted_authors.most_common(n)]\n",
    "\n",
    "print(\"Ten most common authors: \\n\", most_common_authors)\n"
   ]
  },
  {
   "cell_type": "markdown",
   "metadata": {},
   "source": [
    "#### 3.2 Získání indexů nejčastějších autorů\n",
    "\n",
    "U 10 nejčastějších autorů najdeme indexy řádků, ve kterých se autoři vyskytovali.  K tomu si napíšeme funkci `find_indices(df, column, most_common)`, která v DataFramu `df` najde indexy všech řádků, které mají alespoň jedno jméno z listu `most_common` ve sloupci `column`. <br> "
   ]
  },
  {
   "cell_type": "markdown",
   "metadata": {},
   "source": [
    "#### 3.2 Obtaining Indices of the Most Common Authors\n",
    "\n",
    "For the 10 most common authors, we find the row indices where these authors appeared. For this, we create a function called `find_indices(df, column, most_common)`. This function finds the indices of all rows in DataFrame `df` that have at least one name from the `most_common` list in the `column` column.\n"
   ]
  },
  {
   "cell_type": "code",
   "execution_count": null,
   "metadata": {},
   "outputs": [],
   "source": [
    "def find_indices(df, column, most_common):\n",
    "    # List of indices\n",
    "    ind = []\n",
    "    \n",
    "    # Iterate through DataFrame df\n",
    "    for _, row in df.iterrows():\n",
    " \n",
    "        # If value list is not empty, check, if list contains element from list 'most_common'\n",
    "        if len(row[column]) > 0 :\n",
    "            \n",
    "            # If list contains element from list 'most_common', add True. \n",
    "            if any(author in row[column] for author in most_common):\n",
    "                ind.append(True)\n",
    "            else:\n",
    "                # Otherwise add False\n",
    "                ind.append(False)                        \n",
    "        else:    \n",
    "            # Value list is empty, add False           \n",
    "            ind.append(False)               \n",
    "    return ind            \n",
    "\n",
    "print(\"Function saved.\")    "
   ]
  },
  {
   "cell_type": "markdown",
   "metadata": {},
   "source": [
    "Zavoláme naši funkci `find_indices(df, column, most_common)` a zjistíme indexy všech řádků, kde se objevuje nějaký autor z `most_common_authors`. Pak si je vypíšeme.<br>\n",
    "List indexů je list true/false hodnot, kde true hodnota znamená, že řádek autora obsahujea a false že neobsahuje.<br>\n",
    "Abychom neměli výpis tak dlouhý, true hodnoty vypíšeme jako čísla řádků, kde se autor objevuje.  "
   ]
  },
  {
   "cell_type": "markdown",
   "metadata": {},
   "source": [
    "We call our `find_indices(df, column, most_common)` function to find the indices of all rows where an author from `most_common_authors` appears. Then, we print these indices.<br>\n",
    "The list of indices is a list of true/false values, where true indicates that the row contains an author, and false indicates that it does not.<br>\n",
    "To make the output more concise, we print the row numbers where authors appear, corresponding to the true values.\n"
   ]
  },
  {
   "cell_type": "code",
   "execution_count": null,
   "metadata": {},
   "outputs": [],
   "source": [
    "# Find all indices of rows that contains authors from 'most_common_authors'  \n",
    "ind = find_indices(df, author_column, most_common_authors)\n",
    "\n",
    "# Alternative \n",
    "# [True if any([True if author in most_common_authors else False for author in author_list]) else False for author_list in df[author_code_column]]\n",
    "\n",
    "print([i for i, x in enumerate(ind) if x])"
   ]
  },
  {
   "cell_type": "markdown",
   "metadata": {},
   "source": [
    "#### 3.3 Nalezení časopisů\n",
    "\n",
    "Určíme si sloupec, který chceme přiřadit. V našem případě je to sloupec `magazine`. Pak už jen pomocí indexů zjistíme, do jakých časopisů nejčastější autoři publikovali.   "
   ]
  },
  {
   "cell_type": "markdown",
   "metadata": {},
   "source": [
    "#### 3.3 Finding Magazines\n",
    "\n",
    "We select the column we want to print, which in our case is the `magazine` column. Then, using the indices, we determine to which magazines the most common authors contributed."
   ]
  },
  {
   "cell_type": "code",
   "execution_count": null,
   "metadata": {},
   "outputs": [],
   "source": [
    "# Select column that we want to print \n",
    "column =  'magazine'\n",
    "\n",
    "# All magazines to which authors from 'most_common_authors' contributed\n",
    "author_elements = df[ind][column]\n",
    "\n",
    "# Unique magazines\n",
    "unique_author_elements = np.unique(flatten_list(author_elements)) \n",
    "\n",
    "print(\"All magazines to which 10 most common authors contributed: \\n\", unique_author_elements)"
   ]
  },
  {
   "cell_type": "markdown",
   "metadata": {},
   "source": [
    "<div class='alert alert-block alert-info'>\n",
    "    <b>Try It!</b> Pomocí toho kódu lze zobrazit i jiné vztahy dvou sloupců, např. kteří autoři psali o jakých osobnostech (figures). K tomu jen změníme údaj proměnné `column`\n",
    "</div>"
   ]
  },
  {
   "cell_type": "markdown",
   "metadata": {},
   "source": [
    "<div class='alert alert-block alert-info'>\n",
    "    <b>Try It!</b> With this code, you can display relationships between other pairs of columns, such as which authors wrote about specific figures. To do this, simply change the variable 'column' accordingly.\n",
    "</div>\n"
   ]
  },
  {
   "cell_type": "markdown",
   "metadata": {},
   "source": [
    "#### 3.4 Spočtení vah/četnosti\n",
    "\n",
    "Ke každé dvojici ('autor', 'časopis') zjistíme četnost. To uděláme tak. že si vytvoříme dictionary `edge_weights`, kde klíče budou tuples ('autor', 'časopis') a hodnoty počet napsaných článků daným autorem do časopisu. "
   ]
  },
  {
   "cell_type": "markdown",
   "metadata": {},
   "source": [
    "#### 3.4 Calculating Weights/Frequencies\n",
    "\n",
    "For each pair ('author', 'magazine'), we determine the frequency. <br>\n",
    "We create a dictionary called `edge_weights`, where the keys are be tuples ('author', 'magazine'), and the values represent the number of articles written by the author in the magazine.\n"
   ]
  },
  {
   "cell_type": "code",
   "execution_count": null,
   "metadata": {},
   "outputs": [],
   "source": [
    "# Edge weights. The more articles in the magazine, the higher weight\n",
    "# Higher weight will be represented by thicker line \n",
    "edge_weights = {}\n",
    "\n",
    "# Iterate through rows in the DataFrame\n",
    "for _,row in df.iterrows():\n",
    "    for element in row[column]:\n",
    "        for author in row[author_column]:\n",
    "            # Select 10 most common elements\n",
    "            if element in unique_author_elements and author in most_common_authors:\n",
    "                if  (author, element) in edge_weights:\n",
    "                    # Add edges as keys to dictionary \n",
    "                    edge_weights[(author, element)] += 1\n",
    "                else:\n",
    "                    edge_weights[(author, element)] = 1\n",
    "                    \n",
    "edge_weights                   "
   ]
  },
  {
   "cell_type": "markdown",
   "metadata": {},
   "source": [
    "### 4. Vytvoření struktury grafu\n",
    "\n",
    "V následujícím kroku vytvoříme graf, který nakonec vykreslíme. Využijeme k tomu knihovnu `networkx`, kam jen přidáme dvě sady uzlů - autory a časopisy, a k nim vážené hrany. Graf nakonec vykreslíme.     "
   ]
  },
  {
   "cell_type": "markdown",
   "metadata": {},
   "source": [
    "#### 4.1 Vložení jedné sady uzlů\n",
    "\n",
    "Nejprve vytvoříme objekt grafu `G` a vložíme do něj jména nejčastějších autorů jako uzle. "
   ]
  },
  {
   "cell_type": "markdown",
   "metadata": {},
   "source": [
    "### 4. Creating Graph Structure\n",
    "\n",
    "In the following step, we create a graph that we later visualize. We use the `networkx` library for this purpose, where we add two sets of nodes - authors and magazines - along with weighted edges. Finally, we visualize the graph.\n",
    "\n",
    "#### 4.1 Inserting One Set of Nodes\n",
    "\n",
    "First, we create a graph object `G` and insert the names of the most common authors as nodes."
   ]
  },
  {
   "cell_type": "code",
   "execution_count": null,
   "metadata": {},
   "outputs": [],
   "source": [
    "# Create graph\n",
    "G = nx.Graph()\n",
    "\n",
    "# Add elements as graph's nodes\n",
    "G.add_nodes_from(most_common_authors, bipartite=1)\n",
    "\n",
    "G.nodes"
   ]
  },
  {
   "cell_type": "markdown",
   "metadata": {},
   "source": [
    "#### 4.2 Vložení druhé sady uzlů a hran\n",
    "\n",
    "Jak jsme mohli vidět výše, hran je opravdu mnoho. Abychom graf neměli přehlcený, omezíme počet vykreslených hran na ty nejčetnější. Parametrem `threshold` nastavíme, jaký je potřeba minimální počet článků od jednoho autora pro to, aby se časopis zobrazil. Do našeho grafu `G` pak přidáme uzle a hrany, se vejdou do omezení parametru `threshold`. "
   ]
  },
  {
   "cell_type": "markdown",
   "metadata": {},
   "source": [
    "#### 4.2 Inserting the Second Set of Nodes and Edges\n",
    "\n",
    "As we've seen above, there are many edges in our dataset. To prevent the graph from becoming cluttered, we limit the number of displayed edges to the most frequent ones. We set the `threshold` parameter to determine the minimum number of articles by one author required for a magazine to be displayed. We then add nodes and edges to our graph `G` based on this threshold to keep the visualization manageable.\n"
   ]
  },
  {
   "cell_type": "code",
   "execution_count": null,
   "metadata": {},
   "outputs": [],
   "source": [
    "# Display only magazines that occur multiple times  \n",
    "threshold = 15\n",
    "\n",
    "# Magazines to which at least one author contributed <threshold> articles \n",
    "left = []\n",
    "\n",
    "# Iterate through edges and add them to graph\n",
    "for edge, weight in edge_weights.items():\n",
    "    if weight>threshold:\n",
    "        if ~G.has_node(edge[1]):\n",
    "            left.append(edge[1])\n",
    "            G.add_node(edge[1], bipartite=0) \n",
    "        G.add_edge(edge[0], edge[1], weight=weight)    \n",
    "\n",
    "print(\"Graph structure created.\")  \n",
    "G.edges                  "
   ]
  },
  {
   "cell_type": "markdown",
   "metadata": {},
   "source": [
    "#### 4.3 Vykreslení grafu\n",
    "\n",
    "Teď už jen pomocí knihovny `matplotlib` graf vykreslíme. Nejprve si připravíme prázdné plátno, kam graf nakreslíme. Pak si určíme šířku hran. Nakonec graf pomocí funkce `draw_networkx()` vykreslíme. "
   ]
  },
  {
   "cell_type": "markdown",
   "metadata": {},
   "source": [
    "#### 4.3 Graph Visualization\n",
    "\n",
    "Now, we visualize the graph using the `matplotlib` library. First, we prepare an empty canvas to draw the graph. Then, we determine the width of the edges. Finally, we use the `draw_networkx()` function to render the graph.\n"
   ]
  },
  {
   "cell_type": "code",
   "execution_count": null,
   "metadata": {},
   "outputs": [],
   "source": [
    "pos = nx.bipartite_layout(G, nodes = left)\n",
    "\n",
    "# Create plain canvas\n",
    "plt.figure(figsize=(15, 10))\n",
    "\n",
    "# Edge width\n",
    "width = 0.1\n",
    "edge_widths = [width * G[u][v]['weight'] for u, v in G.edges()]\n",
    "\n",
    "# Draw graph\n",
    "nx.draw_networkx(G, pos=pos, with_labels=True, node_color='lightblue', node_size=400,\n",
    "                 width=edge_widths, edge_color='gray', alpha=0.7)\n",
    "plt.title(\"Contribution to exile magazines\")\n",
    "plt.axis(\"off\")\n",
    "plt.savefig(\"plots/bipartite_graph.svg\")\n",
    "plt.show()"
   ]
  },
  {
   "cell_type": "markdown",
   "metadata": {},
   "source": [
    "Na grafu vidíme, do kterých časopisů 10 nejčetnějších autorů psalo své příspěvky.<br> \n",
    "Zdaleka nejvíce článků napsal Jaroslav Dresler do časopisu Národní politika, pak do časopisu <i>České slovo</i>. Někteří autoři, jako např. Antonín Kratochvil neb Antonín Měšťan, nebyli spjati pouze s jedním časopisem a publikovali své články do vícero časopisů. Naopak Jiří Kovtun publikoval výhradně do časopisu <i>Svědectví</i>, Pavel Řehoř zase do periodika <i>Zpravodaj</i>.<br> \n",
    "Musíme mít na paměti, že časopisy jsou omezeny parametrem `threshold` pro čitelnější vykreslení. Pokud bychom chtěli vykreslit všechny časopisy, `threshold` nastavíme na 1. <br>\n",
    "\n",
    "Například Josef Škvorecký, jak vidíme v následující buňce, napsal příspěvky do 14 časopisů, nicméně se nám v grafu zobrazují jen dva nejčastější –⁠ <i>Západ</i> a <i>Listy</i>. <br>"
   ]
  },
  {
   "cell_type": "markdown",
   "metadata": {},
   "source": [
    "You can see the magazines to which the top 10 authors contributed their articles. \n",
    "\n",
    "By far, the most articles were written by Jaroslav Dresler for the magazine <i>Národní politika</i>, followed by <i>České slovo</i>. Some authors, like Antonín Kratochvil and Antonín Měšťan, were associated with multiple magazines and published their articles in several of them. On the other hand, Jiří Kovtun exclusively contributed to the magazine <i>Svědectví</i> while Pavel Řehoř published in the periodical <i>Zpravodaj</i>.\n",
    "\n",
    "Please note that the magazines are limited by the `threshold` parameter for readability in the visualization. If you want to display all magazines, set the `threshold` to 1.\n",
    "\n",
    "For example, as seen in the following cell, Josef Škvorecký contributed articles to 14 magazines, but in the graph, only the two most common ones, <i>Západ</i> and <i>Listy</i> are displayed.\n"
   ]
  },
  {
   "cell_type": "code",
   "execution_count": null,
   "metadata": {},
   "outputs": [],
   "source": [
    "# All magazines to which Skvorecky contributed\n",
    "j_skvorecky_magazines = df[df['author'].apply(lambda x: any(author == 'Škvorecký, Josef' for author in x ))]['magazine']\n",
    "\n",
    "# Unique magazines\n",
    "unique_j_skvorecky_magazine = np.unique(flatten_list(j_skvorecky_magazines))\n",
    "\n",
    "print(\"Josef Škvorecký contributed to \",len(unique_j_skvorecky_magazine), \" magazines.\" )\n",
    "print(unique_j_skvorecky_magazine)\n"
   ]
  },
  {
   "cell_type": "markdown",
   "metadata": {},
   "source": [
    "<div class='alert alert-block alert-info'>\n",
    "    <b>Try It!</b>  You can experiment with adding or removing edges using the `threshold` parameter. <br>\n",
    "</div>\n"
   ]
  },
  {
   "cell_type": "markdown",
   "metadata": {},
   "source": [
    "Bipartitní graf je dobrý nástroj pro zobrazovní vztahů mezi dvěma entitami. V tomto případě jsme zobrazili vztah mezi autory literárních statí a exilových časopisů, do kterých autoři publikovali. <br>"
   ]
  },
  {
   "cell_type": "markdown",
   "metadata": {},
   "source": [
    "A bipartite graph is a useful tool for visualizing relationships between two entities. In this case, we have depicted the relationship between authors of literary articles and exile magazines where these authors published."
   ]
  },
  {
   "cell_type": "markdown",
   "metadata": {},
   "source": [
    "<div class='alert alert-block alert-info'>\n",
    "    <b>Try It!</b>  Místo časopisů si můžeme zobrazit sloupec 'figures'. Graf nám pak ukáže, kteří autoři psali o kterých osobnostech. Nebo si můžeme zobrazit žánry, které autoři nejčastěji psali. Bibliografii také můžeme na začátku notebooku časově ohraničit.<br>\n",
    "    Také se nemusíme omezovat na bibliografii českého literárního exilu. \n",
    "</div>"
   ]
  },
  {
   "cell_type": "markdown",
   "metadata": {},
   "source": [
    "<div class='alert alert-block alert-info'>\n",
    "    <b>Try It!</b> Instead of magazines, we can display the 'figures' column. The graph will then show which authors wrote about which figures. Alternatively, we can display the genres that authors most frequently wrote. You can also time-constrain the bibliography at the beginning of the notebook.<br>\n",
    "    Furthermore, we don't have to limit ourselves to the Czech Literary Exile Bibliography.\n",
    "</div>\n"
   ]
  }
 ],
 "metadata": {
  "kernelspec": {
   "display_name": "Python 3",
   "language": "python",
   "name": "python3"
  },
  "language_info": {
   "codemirror_mode": {
    "name": "ipython",
    "version": 3
   },
   "file_extension": ".py",
   "mimetype": "text/x-python",
   "name": "python",
   "nbconvert_exporter": "python",
   "pygments_lexer": "ipython3",
   "version": "3.11.4"
  },
  "orig_nbformat": 4
 },
 "nbformat": 4,
 "nbformat_minor": 2
}
