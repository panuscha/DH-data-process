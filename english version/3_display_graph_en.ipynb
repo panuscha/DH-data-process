{
 "cells": [
  {
   "cell_type": "markdown",
   "metadata": {},
   "source": [
    "# Zanesení bibliografických dat do bipartitního grafu\n",
    "\n",
    "V tomto notebooku budeme pracovat s Bibliografií českého literárního exilu, která obsahuje záznamy o knihách a statích s literární tématikou, vydaných a publikovaných v českých exilových nakladatelstvích a časopisech. Nás budou zajímat pouze záznamy o statích, u kterých jsou uvedeni autor a časopis, ve kterém stať vyšla. Ty najdeme v polích `100 $a` (respektive `100 $7`) a `773 $t`. Notebook lze použít na všechny bibliografie. <br>\n",
    "Ukážeme si, jak z dat získat jméno časopisu, jak data o autorech a časopisech následně zpracovat. Nakonec z nich vytvoříme strukturu bipartitního grafu, kterou vykreslíme pomocí knihovny `matplotlib`.   <br>\n",
    "Tento notebook je určený jak pro začátečníky, tak pro ty, kteří se chtějí seznámit se zpracováním dat v Pythonu.\n",
    "\n",
    "## Požadavky\n",
    "\n",
    "K práci s notebookem je potřeba mít vytvořený CSV soubor z notebooku Explore Data.<br>\n",
    "\n",
    "## Předpoklady\n",
    "\n",
    "Tento notebook nepředpokládá hluboké znalosti Pythonu, ale základní znalost programování bude užitečná.<br> \n",
    "\n",
    "## Struktura notebooku\n",
    "\n",
    "Notebook je rozdělen do několika částí:\n",
    "\n",
    "0. **Příprava**: Přidáme potřebné knihovny, které budeme používat ke zpracování marcového souboru. \n",
    "\n",
    "1. **Načtení z CSV**: Ukážeme si, jak načíst naše data uložená v CSV.\n",
    "\n",
    "2. **Extrahování a čištění dat**: Data z jednotlivých sloupců vyextrahujeme a očistíme.\n",
    "\n",
    "3. **Zpracování**: Z našich očištěných dat získáme nejčastější autory a časopisy, do kterých přispívali. \n",
    "\n",
    "4. **Vytvoření struktury grafu**: Ukážeme si, jak pomocí knihovny networkx vytvoříme strukturu grafu, jak so ní přidáme uzle a hrany. Nakonec ji vykreslíme.\n",
    "\n",
    "## Další zdroje\n",
    "\n",
    "- [LearnPython.org](https://www.learnpython.org/): Tento online kurz nabízí výuku jazyka Python pro začátečníky i pokročilé. Může být užitečným zdrojem pro ty, kteří chtějí rozšířit své znalosti Pythonu.\n",
    "- [W3Schools.com/Python](https://www.w3schools.com/python/): Obsáhlý tutoriál, který provází i některými oblíbenými knihovnamy Pythonu. \n"
   ]
  },
  {
   "cell_type": "markdown",
   "metadata": {},
   "source": [
    "### 0. Příprava \n",
    "Jako první si musíme nainstalovat knihovny, se kterými budeme pracovat. Knihovny jsou balíčky funkcí, které nejsou součástí základu jazyka python. <br>\n",
    "Knihovny nainstalujeme pomocí příkazu `%pip install <jmeno_knihovny>` . Pak je do našeho notebooku přidáme pomocí příkazu `import <jmeno_knihovny> (as alias)`. K funkcím knihovny se pak přistupuje `jmeno_knihovny.jmeno_funkce` <br> \n",
    "Pokud z knihovny chceme využít pouze jednu funkci, přidáme ji pomocí `from <jmeno_knihovny> import <jmeno_funkce>`"
   ]
  },
  {
   "cell_type": "code",
   "execution_count": null,
   "metadata": {},
   "outputs": [],
   "source": [
    "# Install libraries\n",
    "%pip install matplotlib\n",
    "%pip install networkx\n",
    "%pip install numpy\n",
    "%pip install pandas\n",
    "\n",
    "# Add libraries\n",
    "from collections import Counter\n",
    "import matplotlib.pyplot as plt\n",
    "import networkx as nx\n",
    "import numpy as np\n",
    "import pandas as pd\n",
    "import re"
   ]
  },
  {
   "cell_type": "markdown",
   "metadata": {},
   "source": [
    "### 1. Načtení z CSV\n",
    "\n",
    "Nejprve pomocí knihovny pandas načteme naše uložená CSV data do datové struktury DataFrame (která je podobná např. excelovské tabulce). Řádky v DataFramu reprezentují jednotlivé záznamy, sloupce pak jeden typ (např. jmeno autora).\n",
    "Některá pole a podpole mohou opakovat, ty jsou  v CSV spojené středníkem. V DataFramu pak funkcí `split()` hodnoty rozpojíme a převede do listu (seznamu). Pokud zrovna na daném místě žádná hodnota není, přidáme prázdný list."
   ]
  },
  {
   "cell_type": "code",
   "execution_count": null,
   "metadata": {},
   "outputs": [],
   "source": [
    "# Select base\n",
    "base = 'cle'\n",
    "\n",
    "# Path to our data\n",
    "csv_data = 'data/csv/out_{base}.csv'.format(base = base)\n",
    "\n",
    "# Load data\n",
    "df = pd.read_csv(csv_data, delimiter=',')\n",
    "\n",
    "print(\"Data loaded to DataFrame df.\")\n",
    "\n",
    "# Iterate through column in the DataFrame\n",
    "for column in df.columns:\n",
    "    # There is only one publication date, so we don't need to split this column\n",
    "    if column != 'year': \n",
    "\n",
    "        # Split joined values into a list \n",
    "        df[column] = df[column].apply(lambda x: x.split(';') if isinstance(x, str)  else [])\n"
   ]
  },
  {
   "cell_type": "markdown",
   "metadata": {},
   "source": [
    "Podíváme, jak naše data v tabulce vypadají. Nejprve si vypíšeme, kolik záznamů obsahuje informaci o časopisu. To jsou záznamy o statích, které nás budou zajímat. Zbylé budeme považvat za záznamy o knihách. Pak si vypíšeme prvních 5 a posledních 5 položek v DataFramu. <br>\n",
    "\n",
    "Nejprve si pomocí lambda funkce najdeme řádky, které obsahují informaci o časopisu. K nim přiřadíme 1 a všechny sečteme. Tím získáme celkový počet záznamů o statích. <br>\n",
    "Od celkového počtu záznamů pak počet záznamů o statích odečteme, čímž získáme počet záznamů o knihách. Do našeho DataFramu `df` si nakonec uložíme jen záznamy o statích. \n",
    "\n",
    "###### Pokud bychom chtěli přesná data, v marcovém záznamu je kolonka LDR (leader), která nese informaci o typu záznamu. "
   ]
  },
  {
   "cell_type": "code",
   "execution_count": null,
   "metadata": {},
   "outputs": [],
   "source": [
    "# Count nonempty rows \n",
    "magazines_counts = df['magazine'].apply(lambda x: 1 if len(x) > 0 else 0)\n",
    "\n",
    "sum_magazines_counts = magazines_counts.sum()\n",
    "\n",
    "print(\"Number of article records: \", sum_magazines_counts)\n",
    "\n",
    "sum_books_counts = len(df) - sum_magazines_counts\n",
    "\n",
    "print(\"Number of books records: \", sum_books_counts)\n",
    "\n",
    "# Filter book record \n",
    "df = df[df['magazine'].apply(lambda x: len(x) > 0)]"
   ]
  },
  {
   "cell_type": "code",
   "execution_count": null,
   "metadata": {},
   "outputs": [],
   "source": [
    "# Print first 5 records in the DataFrame 'df'\n",
    "df.head()"
   ]
  },
  {
   "cell_type": "code",
   "execution_count": null,
   "metadata": {},
   "outputs": [],
   "source": [
    "# Print last 5 records in the DataFrame 'df'\n",
    "df.tail()"
   ]
  },
  {
   "cell_type": "markdown",
   "metadata": {},
   "source": [
    "Jak můžeme vidět, většina záznamů má autora s přiřazeným kódem, nicméně např. záznam 9608 má autora bez kódu. Nás budou zajímat jen autoři s přiřazeným kódem.  "
   ]
  },
  {
   "cell_type": "markdown",
   "metadata": {},
   "source": [
    "Abychom nemuseli psát stejný kód několikrát, napíšeme ho jednou do funkce, kterou pak jednoduše zavoláme. V tomto případě si napíšeme funkci, která nám z několika listů vnořených do sebe vytvoří jeden. To se nám bude hodit, až budeme chtít spočítat četnost. "
   ]
  },
  {
   "cell_type": "code",
   "execution_count": null,
   "metadata": {},
   "outputs": [],
   "source": [
    "# Function that flattens nested lists \n",
    "def flatten_list(strings):\n",
    "    flattened_list = []\n",
    "    if strings is not None: # Check if element is not None\n",
    "        for item in strings:\n",
    "            if isinstance(item, str):  # If element is a string, add it to the list\n",
    "                flattened_list.append(item)\n",
    "            elif isinstance(item, list):  # Recursion\n",
    "                flattened_list.extend(flatten_list(item))\n",
    "        return flattened_list\n",
    "\n",
    "print(\"Function saved\")        "
   ]
  },
  {
   "cell_type": "markdown",
   "metadata": {},
   "source": [
    "### 2. Extrahování a čištění dat\n",
    "\n",
    "K časopisu je zpravidla připsáno i místo vydání. Pro naše účely nám stačí ale jen název časopisu. Proto pomocí regulárního výrazu  odstraníme místo vydání, které je napsané v kulatých (v bibliografii českého literárního exilu cle), nebo hranatých závorkách (v bibliografii samizdatu).<br>\n",
    "\n",
    "Nejprve si určíme regulární výraz, který nám najde string před závorkou. Pak ho pomocí lambda funkce najdeme u hodnot ve sloupci `magazine`. Některé hodnoty mají přebytečné mezery před a po stringu. Ty odstraníme pomocí funkce `strip()`. Nakonec všechny vnořené listy odstraníme pomocí napí funkce `flatten_list()`."
   ]
  },
  {
   "cell_type": "code",
   "execution_count": null,
   "metadata": {},
   "outputs": [],
   "source": [
    "# regex patern, that finds string before column\n",
    "# r\"(.*?)\\(\" <- round brackets\n",
    "pattern_magazine = r\"(.*?)\\(\"   #r\"(.*?)\\[\" # <- square brackets  \n",
    "\n",
    "# Save only string before brackets (if they are there)\n",
    "df['magazine'] = df['magazine'].apply(lambda x: [re.search(pattern_magazine, y).group(1) if re.search(pattern_magazine, y) else y for y in x])\n",
    "\n",
    "# Remove redundant whitespaces \n",
    "df['magazine'] = df['magazine'].apply(lambda x: [y.strip() for y in x])\n",
    "\n",
    "# Unique magazines\n",
    "unique_magazine = np.unique(flatten_list(df.magazine))\n",
    "print(\"There are \" + str(len(unique_magazine)) + \" magazines in the database.\")\n",
    "print(\"All magazines in the database: \\n\",unique_magazine)\n",
    "\n"
   ]
  },
  {
   "cell_type": "markdown",
   "metadata": {},
   "source": [
    "### 3. Zpracování\n",
    "\n",
    "Abychom mohli vytvořit graf, musíme data v tabulce zpracovat. V grafu chceme zobrazit deset nejčetnějších autorů a k nim přiřadit časopisy, do kterých autoři přispívali. Příkladu vyselektujeme pouze autory, kteří mají přiřazený kód. Je to kvůli tomu, abychom odstranili nežádoucí záznamy, jako jsou například články, které psala celá redakce časopisu. Ty žádné kódy přiřazené nemají. V našem příkladu se zajímáme jen o konkrétní osoby. <br>    \n",
    "\n",
    "#### 3.1 Nalezení 10 nejčastějších autorů\n",
    "\n",
    "Nejprve musíme zjistit všechny autory, kteří se v bibliografii objevují. Pomocí funkce `Counter()` spočteme jejich četnosti a vybereme jen 10 nejčastějších."
   ]
  },
  {
   "cell_type": "code",
   "execution_count": null,
   "metadata": {},
   "outputs": [],
   "source": [
    "author_column = 'author'\n",
    "\n",
    "# All authors in the column that have a code\n",
    "all_authors = flatten_list(df[df['author code'] != None][author_column])\n",
    "\n",
    "# Count number of authors records\n",
    "counted_authors = Counter(all_authors)\n",
    "\n",
    "# Number of nodes we want to print\n",
    "n = 10\n",
    "\n",
    "# Find the most common authors\n",
    "most_common_authors = [item[0] for item in counted_authors.most_common(n)]\n",
    "\n",
    "print(\"Ten most common authors: \\n\", most_common_authors)\n"
   ]
  },
  {
   "cell_type": "markdown",
   "metadata": {},
   "source": [
    "#### 3.2 Získání indexů nejčastějších autorů\n",
    "\n",
    "U 10 nejčastějších autorů najdeme indexy řádků, ve kterých se autoři vyskytovali.  K tomu si napíšeme funkci `find_indices(df, column, most_common)`, která v DataFramu `df` najde indexy všech řádků, které mají alespoň jedno jméno z listu `most_common` ve sloupci `column`. <br> "
   ]
  },
  {
   "cell_type": "code",
   "execution_count": null,
   "metadata": {},
   "outputs": [],
   "source": [
    "def find_indices(df, column, most_common):\n",
    "    # List of indices\n",
    "    ind = []\n",
    "    \n",
    "    # Iterate through DataFrame df\n",
    "    for _, row in df.iterrows():\n",
    " \n",
    "        # If value list is not empty, check, if list contains element from list 'most_common'\n",
    "        if len(row[column]) > 0 :\n",
    "            \n",
    "            # If list contains element from list 'most_common', add True. \n",
    "            if any(author in row[column] for author in most_common):\n",
    "                ind.append(True)\n",
    "            else:\n",
    "                # Otherwise add False\n",
    "                ind.append(False)                        \n",
    "        else:    \n",
    "            # Value list is empty, add False           \n",
    "            ind.append(False)               \n",
    "    return ind            \n",
    "\n",
    "print(\"Function saved.\")    "
   ]
  },
  {
   "cell_type": "markdown",
   "metadata": {},
   "source": [
    "Zavoláme naši funkci `find_indices(df, column, most_common)` a zjistíme indexy všech řádků, kde se objevuje nějaký autor z `most_common_authors`. Pak si je vypíšeme.<br>\n",
    "List indexů je list true/false hodnot, kde true hodnota znamená, že řádek autora obsahujea a false že neobsahuje.<br>\n",
    "Abychom neměli výpis tak dlouhý, true hodnoty vypíšeme jako čísla řádků, kde se autor objevuje.  "
   ]
  },
  {
   "cell_type": "code",
   "execution_count": null,
   "metadata": {},
   "outputs": [],
   "source": [
    "# Find all indices of rows that contains authors from 'most_common_authors'  \n",
    "ind = find_indices(df, author_column, most_common_authors)\n",
    "\n",
    "# Alternative \n",
    "# [True if any([True if author in most_common_authors else False for author in author_list]) else False for author_list in df[author_code_column]]\n",
    "\n",
    "print([i for i, x in enumerate(ind) if x])"
   ]
  },
  {
   "cell_type": "markdown",
   "metadata": {},
   "source": [
    "#### 3.3 Nalezení časopisů\n",
    "\n",
    "Určíme si sloupec, který chceme přiřadit. V našem případě je to sloupec `magazine`. Pak už jen pomocí indexů zjistíme, do jakých časopisů nejčastější autoři publikovali.   "
   ]
  },
  {
   "cell_type": "code",
   "execution_count": null,
   "metadata": {},
   "outputs": [],
   "source": [
    "# Select column that we want to print \n",
    "column =  'magazine'\n",
    "\n",
    "# All magazines to which authors from 'most_common_authors' contributed\n",
    "author_elements = df[ind][column]\n",
    "\n",
    "# Unique magazines\n",
    "unique_author_elements = np.unique(flatten_list(author_elements)) \n",
    "\n",
    "print(\"All magazines to which 10 most common authors contributed: \\n\", unique_author_elements)"
   ]
  },
  {
   "cell_type": "markdown",
   "metadata": {},
   "source": [
    "<div class='alert alert-block alert-info'>\n",
    "    <b>Try It!</b> Pomocí toho kódu lze zobrazit i jiné vztahy dvou sloupců, např. kteří autoři psali o jakých osobnostech (figures). K tomu jen změníme údaj proměnné `column`\n",
    "</div>"
   ]
  },
  {
   "cell_type": "markdown",
   "metadata": {},
   "source": [
    "#### 3.4 Spočtení vah/četnosti\n",
    "\n",
    "Ke každé dvojici ('autor', 'časopis') zjistíme četnost. To uděláme tak. že si vytvoříme dictionary `edge_weights`, kde klíče budou tuples ('autor', 'časopis') a hodnoty počet napsaných článků daným autorem do časopisu. "
   ]
  },
  {
   "cell_type": "code",
   "execution_count": null,
   "metadata": {},
   "outputs": [],
   "source": [
    "# Edge weights. The more articles in the magazine, the heigher weight\n",
    "# Higher weight will be represented by thicker line \n",
    "edge_weights = {}\n",
    "\n",
    "# Iterate through rows in the DataFrame\n",
    "for _,row in df.iterrows():\n",
    "    for element in row[column]:\n",
    "        for author in row[author_column]:\n",
    "            # Select 10 most common elements\n",
    "            if element in unique_author_elements and author in most_common_authors:\n",
    "                if  (author, element) in edge_weights:\n",
    "                    # Add edges as keys to dictionary \n",
    "                    edge_weights[(author, element)] += 1\n",
    "                else:\n",
    "                    edge_weights[(author, element)] = 1\n",
    "                    \n",
    "edge_weights                   "
   ]
  },
  {
   "cell_type": "markdown",
   "metadata": {},
   "source": [
    "### 4. Vytvoření struktury grafu\n",
    "\n",
    "V následujícím kroku vytvoříme graf, který nakonec vykreslíme. Využijeme k tomu knihovnu `networkx`, kam jen přidáme dvě sady uzlů - autory a časopisy, a k nim vážené hrany. Graf nakonec vykreslíme.     "
   ]
  },
  {
   "cell_type": "markdown",
   "metadata": {},
   "source": [
    "#### 4.1 Vložení jedné sady uzlů\n",
    "\n",
    "Nejprve vytvoříme objekt grafu `G` a vložíme do něj jména nejčastějších autorů jako uzle. "
   ]
  },
  {
   "cell_type": "code",
   "execution_count": null,
   "metadata": {},
   "outputs": [],
   "source": [
    "# Create graph\n",
    "G = nx.Graph()\n",
    "\n",
    "# Add elements as graph's nodes\n",
    "G.add_nodes_from(most_common_authors, bipartite=1)\n",
    "\n",
    "G.nodes"
   ]
  },
  {
   "cell_type": "markdown",
   "metadata": {},
   "source": [
    "#### 4.2 Vložení druhé sady uzlů a hran\n",
    "\n",
    "Jak jsme mohli vidět výše, hran je opravdu mnoho. Abychom graf neměli přehlcený, omezíme počet vykreslených hran na ty nejčetnější. Parametrem `threshold` nastavíme, jaký je potřeba minimální počet článků od jednoho autora pro to, aby se časopis zobrazil. Do našeho grafu `G` pak přidáme uzle a hrany, se vejdou do omezení parametru `threshold`. "
   ]
  },
  {
   "cell_type": "code",
   "execution_count": null,
   "metadata": {},
   "outputs": [],
   "source": [
    "# Display only magazines that occur multiple times  \n",
    "threshold = 15\n",
    "\n",
    "# Magazines to which at least one author contributed <threshold> articles \n",
    "left = []\n",
    "\n",
    "# Iterate through edges and add them to graph\n",
    "for edge, weight in edge_weights.items():\n",
    "    if weight>threshold:\n",
    "        if ~G.has_node(edge[1]):\n",
    "            left.append(edge[1])\n",
    "            G.add_node(edge[1], bipartite=0) \n",
    "        G.add_edge(edge[0], edge[1], weight=weight)    \n",
    "\n",
    "print(\"Graph structure created.\")  \n",
    "G.edges                  "
   ]
  },
  {
   "cell_type": "markdown",
   "metadata": {},
   "source": [
    "#### 4.3 Vykreslení grafu\n",
    "\n",
    "Teď už jen pomocí knihovny `matplotlib` graf vykreslíme. Nejprve si připravíme prázdné plátno, kam graf nakreslíme. Pak si určíme šířku hran. Nakonec graf pomocí funkce `draw_networkx()` vykreslíme. "
   ]
  },
  {
   "cell_type": "code",
   "execution_count": null,
   "metadata": {},
   "outputs": [],
   "source": [
    "pos = nx.bipartite_layout(G, nodes = left)\n",
    "\n",
    "# Create plain canvas\n",
    "plt.figure(figsize=(15, 10))\n",
    "\n",
    "# Edge width\n",
    "width = 0.1\n",
    "edge_widths = [width * G[u][v]['weight'] for u, v in G.edges()]\n",
    "\n",
    "# Draw graph\n",
    "nx.draw_networkx(G, pos=pos, with_labels=True, node_color='lightblue', node_size=400,\n",
    "                 width=edge_widths, edge_color='gray', alpha=0.7)\n",
    "plt.title(\"Contribution to exile magazines\")\n",
    "plt.axis(\"off\")\n",
    "plt.savefig(\"plots/bipartite_graph.svg\")\n",
    "plt.show()"
   ]
  },
  {
   "cell_type": "markdown",
   "metadata": {},
   "source": [
    "Na grafu vidíme, do kterých časopisů 10 nejčetnějších autorů psalo své příspěvky.<br> \n",
    "Zdaleka nejvíce článků napsal Jaroslav Dresler do časopisu Národní politika, pak do časopisu <i>České slovo</i>. Někteří autoři, jako např. Antonín Kratochvil neb Antonín Měšťan, nebyli spjati pouze s jedním časopisem a publikovali své články do vícero časopisů. Naopak Jiří Kovtun publikoval výhradně do časopisu <i>Svědectví</i>, Pavel Řehoř zase do periodika <i>Zpravodaj</i>.<br> \n",
    "Musíme mít na paměti, že časopisy jsou omezeny parametrem `threshold` pro čitelnější vykreslení. Pokud bychom chtěli vykreslit všechny časopisy, `threshold` nastavíme na 1. <br>\n",
    "\n",
    "Například Josef Škvorecký, jak vidíme v následující buňce, napsal příspěvky do 14 časopisů, nicméně se nám v grafu zobrazují jen dva nejčastější –⁠ <i>Západ</i> a <i>Listy</i>. <br>"
   ]
  },
  {
   "cell_type": "code",
   "execution_count": null,
   "metadata": {},
   "outputs": [],
   "source": [
    "# All magazines to which Skvorecky contributed\n",
    "j_skvorecky_magazines = df[df['author'].apply(lambda x: any(author == 'Škvorecký, Josef' for author in x ))]['magazine']\n",
    "\n",
    "# Unique magazines\n",
    "unique_j_skvorecky_magazine = np.unique(flatten_list(j_skvorecky_magazines))\n",
    "\n",
    "print(\"Josef Škvorecký contributed to \",len(unique_j_skvorecky_magazine), \" magazines.\" )\n",
    "print(unique_j_skvorecky_magazine)\n"
   ]
  },
  {
   "cell_type": "markdown",
   "metadata": {},
   "source": [
    "<div class='alert alert-block alert-info'>\n",
    "    <b>Try It!</b>  Pomocí parametru threshold zkuste přidat nebo ubrat některé hrany. <br>\n",
    "</div>"
   ]
  },
  {
   "cell_type": "markdown",
   "metadata": {},
   "source": [
    "Bipartitní graf je dobrý nástroj pro zobrazovní vztahů mezi dvěma entitami. V tomto případě jsme zobrazili vztah mezi autory literárních statí a exilových časopisů, do kterých autoři publikovali. <br>"
   ]
  },
  {
   "cell_type": "markdown",
   "metadata": {},
   "source": [
    "<div class='alert alert-block alert-info'>\n",
    "    <b>Try It!</b>  Místo časopisů si můžeme zobrazit sloupec 'figures'. Graf nám pak ukáže, kteří autoři psali o kterých osobnostech. Nebo si můžeme zobrazit žánry, které autoři nejčastěji psali. Bibliografii také můžeme na začátku notebooku časově ohraničit.<br>\n",
    "    Také se nemusíme omezovat na bibliografii českého literárního exilu. \n",
    "</div>"
   ]
  }
 ],
 "metadata": {
  "kernelspec": {
   "display_name": "Python 3",
   "language": "python",
   "name": "python3"
  },
  "language_info": {
   "codemirror_mode": {
    "name": "ipython",
    "version": 3
   },
   "file_extension": ".py",
   "mimetype": "text/x-python",
   "name": "python",
   "nbconvert_exporter": "python",
   "pygments_lexer": "ipython3",
   "version": "3.11.4"
  },
  "orig_nbformat": 4
 },
 "nbformat": 4,
 "nbformat_minor": 2
}
