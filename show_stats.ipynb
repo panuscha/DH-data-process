{
 "cells": [
  {
   "cell_type": "markdown",
   "metadata": {},
   "source": [
    "V tomto notebooku načteme naše data uložená v csv souboru.  \n",
    "\n",
    "\n",
    "### 0. Příprava \n",
    "Jako první si musíme nainstalovat knihovny, se kterými budeme pracovat. Knihovny jsou balíčky funkcí, které nejsou součástí základu jazyka python. <br>\n",
    "Knihovny nainstalujeme pomocí příkazu `%pip install <jmeno_knihovny>` . Pak je do našeho notebooku přidáme pomocí příkazu `import <jmeno_knihovny> (as alias)`. K funkcím knihovny se pak přistupuje `jmeno_knihovny.jmeno_funkce` <br> \n",
    "Pokud z knihovny chceme využít pouze jednu funkci, přidáme ji pomocí `from <jmeno_knihovny> import <jmeno_funkce>`"
   ]
  },
  {
   "cell_type": "code",
   "execution_count": 1,
   "metadata": {},
   "outputs": [
    {
     "name": "stdout",
     "output_type": "stream",
     "text": [
      "Requirement already satisfied: pandas in c:\\users\\panuskova\\appdata\\local\\programs\\python\\python311\\lib\\site-packages (2.0.2)Note: you may need to restart the kernel to use updated packages.\n"
     ]
    },
    {
     "name": "stderr",
     "output_type": "stream",
     "text": [
      "\n",
      "[notice] A new release of pip is available: 23.1.2 -> 23.2.1\n",
      "[notice] To update, run: python.exe -m pip install --upgrade pip\n"
     ]
    },
    {
     "name": "stdout",
     "output_type": "stream",
     "text": [
      "\n",
      "Requirement already satisfied: python-dateutil>=2.8.2 in c:\\users\\panuskova\\appdata\\local\\programs\\python\\python311\\lib\\site-packages (from pandas) (2.8.2)\n",
      "Requirement already satisfied: pytz>=2020.1 in c:\\users\\panuskova\\appdata\\local\\programs\\python\\python311\\lib\\site-packages (from pandas) (2023.3)\n",
      "Requirement already satisfied: tzdata>=2022.1 in c:\\users\\panuskova\\appdata\\local\\programs\\python\\python311\\lib\\site-packages (from pandas) (2023.3)\n",
      "Requirement already satisfied: numpy>=1.21.0 in c:\\users\\panuskova\\appdata\\local\\programs\\python\\python311\\lib\\site-packages (from pandas) (1.24.4)\n",
      "Requirement already satisfied: six>=1.5 in c:\\users\\panuskova\\appdata\\local\\programs\\python\\python311\\lib\\site-packages (from python-dateutil>=2.8.2->pandas) (1.16.0)\n",
      "Requirement already satisfied: pymarc in c:\\users\\panuskova\\appdata\\local\\programs\\python\\python311\\lib\\site-packages (5.1.0)Note: you may need to restart the kernel to use updated packages.\n"
     ]
    },
    {
     "name": "stderr",
     "output_type": "stream",
     "text": [
      "\n",
      "[notice] A new release of pip is available: 23.1.2 -> 23.2.1\n",
      "[notice] To update, run: python.exe -m pip install --upgrade pip\n"
     ]
    },
    {
     "name": "stdout",
     "output_type": "stream",
     "text": [
      "\n"
     ]
    },
    {
     "name": "stderr",
     "output_type": "stream",
     "text": [
      "\n",
      "[notice] A new release of pip is available: 23.1.2 -> 23.2.1\n",
      "[notice] To update, run: python.exe -m pip install --upgrade pip\n"
     ]
    },
    {
     "name": "stdout",
     "output_type": "stream",
     "text": [
      "Requirement already satisfied: openpyxl in c:\\users\\panuskova\\appdata\\local\\programs\\python\\python311\\lib\\site-packages (3.1.2)\n",
      "Requirement already satisfied: et-xmlfile in c:\\users\\panuskova\\appdata\\local\\programs\\python\\python311\\lib\\site-packages (from openpyxl) (1.1.0)\n",
      "Note: you may need to restart the kernel to use updated packages.\n"
     ]
    }
   ],
   "source": [
    "# Prikaz ktery naistaluje knihovny\n",
    "%pip install pandas \n",
    "%pip install pymarc \n",
    "\n",
    "# Prikaz ktery knihovny prida \n",
    "from collections import Counter\n",
    "import pandas as pd"
   ]
  },
  {
   "cell_type": "markdown",
   "metadata": {},
   "source": [
    "### 1. Načtení z csv\n",
    "\n",
    "Nejprve pomocí knihovny pandas načteme naše uložená csv data do datové struktury DataFrame (která je podobná např. excelovské tabulce). Řádky v DataFramu reprezentují jednotlivé záznamy, sloupce pak jeden typ (např. jmeno autora).\n",
    "Některá pole a podpole mohou opakovat, ty jsou  v csv spojené středníkem. V DataFramu pak funkcí `split()` hodnoty rozpojíme a převede do listu (seznamu). Pokud zrovna na daném místě žádná hodnota není, přidáme prázdný list.\n"
   ]
  },
  {
   "cell_type": "code",
   "execution_count": 12,
   "metadata": {},
   "outputs": [
    {
     "name": "stdout",
     "output_type": "stream",
     "text": [
      "Data načtena do DataFramu df.\n"
     ]
    }
   ],
   "source": [
    "# Cesta k nasim datum\n",
    "csv_data = 'data/csv/out_smz.csv'\n",
    "\n",
    "# Nacteni dat\n",
    "df = pd.read_csv(csv_data, delimiter=',')\n",
    "\n",
    "print(\"Data načtena do DataFramu df.\")\n",
    "\n",
    "for column in df.columns:\n",
    "    # Rok vydani bude vzdy jen jedenkrat\n",
    "    if column != 'year': \n",
    "        # Hodnoty spojene v jeden string zpatky rozdelime do listu, aby se nam s nim lepe pracovalo\n",
    "        df[column] = df[column].apply(lambda x: x.split(';') if isinstance(x, str)  else [])\n",
    "              "
   ]
  },
  {
   "cell_type": "markdown",
   "metadata": {},
   "source": [
    "### 2. Souhrnné statistiky\n",
    "\n",
    "Nyní se podíváme, jak z dat zjistit jednoduché statistiky. \n",
    "\n",
    "#### 2.1 Počet výskytů \n",
    "\n",
    "Pokud chceme vědet, kolikrát se v databázi objevuje nějaká hodnota, použijeme funkci `value_counts()`. V následujícím příkladu si ukážeme, kolik je v databázi z jakého roku záznamů.<br>\n",
    "Pomocí parametru `records_to_print` omezíme počet vypsaných záznamů na prvních x. Hodnoty se vypíší sestupně. "
   ]
  },
  {
   "cell_type": "code",
   "execution_count": 13,
   "metadata": {},
   "outputs": [
    {
     "data": {
      "text/plain": [
       "year\n",
       "1989    2428\n",
       "1988    2299\n",
       "1987    2105\n",
       "1986    1519\n",
       "1984    1352\n",
       "1983    1348\n",
       "1985    1252\n",
       "1979    1232\n",
       "1980    1169\n",
       "1981    1109\n",
       "1982     943\n",
       "1977     832\n",
       "1978     786\n",
       "1976     477\n",
       "198u     375\n",
       "1990     284\n",
       "1972     264\n",
       "1975     256\n",
       "1974     173\n",
       "1991     166\n",
       "Name: count, dtype: int64"
      ]
     },
     "execution_count": 13,
     "metadata": {},
     "output_type": "execute_result"
    }
   ],
   "source": [
    "records_to_print = 20\n",
    "\n",
    "df['year'].value_counts()[:records_to_print] # vypise prvnich x zaznamu"
   ]
  },
  {
   "cell_type": "markdown",
   "metadata": {},
   "source": [
    "Vidíme, že zdaleka nejvíce záznamů je z 80. let, následně pak z let 70. "
   ]
  },
  {
   "cell_type": "markdown",
   "metadata": {},
   "source": [
    "<div class='alert alert-block alert-info'>\n",
    "    <b>Try It!</b> Místo sloupce 'year' můžeme vypsat např. 'author', čímž zjistíme, kolikrát se jaký autor v databázi objevuje.<br>\n",
    "</div>"
   ]
  },
  {
   "cell_type": "markdown",
   "metadata": {},
   "source": [
    "#### 2.2 Nejčastější autor v daném roce\n",
    "\n",
    "Teď si ukážeme, jak z dat zjistit, který autor v jakém roce se v záznamech v daném roce nejčastěji objevuje jako autor. Existuje několik způsobů, jak na to přijít. My si představíme dva.<br>\n",
    "\n",
    "##### 2.2.1 První varianta - vlastní funkce\n",
    "\n",
    "Nejprve si napíšeme dvě vlastní funkce.<br> \n",
    "První funkce `count_years(df, column)` nám spočte počet článků každého autora v každém roce. Jako vstupy přijímá DataFrame `df` a vybraný sloupec `column`. Výsledky pak vrátí jako dictionary, kde klíčem je tuple (rok, jméno autora) a hodnota je počet článků.<br>\n",
    "Druhá funkce `find_most_common(count)` pak pro každý rok zjistí, který autor v každém roce napsal nejvíce článků. Vstupem je dictionary `count`, který nám vrátí funkce `count_years(df, column)`. Funkce pak postupně projde všechny klíče dictionary `count` a pro každý rok si pamatuje autora s nejvyšším počtem záznamů. Funkce nakonec vrátí setřízený dictionary, kde klíč je rok a hodnota je tuple (jmeno autora, počet záznamů).   \n"
   ]
  },
  {
   "cell_type": "code",
   "execution_count": 10,
   "metadata": {},
   "outputs": [
    {
     "name": "stdout",
     "output_type": "stream",
     "text": [
      "Funkce uloženy.\n"
     ]
    }
   ],
   "source": [
    "# Funkce ktera nam spocte pocet zaznamu v danem roce pro kazdeho autora\n",
    "def count_years(df, column):\n",
    "    \n",
    "    # Dictionary, ve kterem jako klic ulozime (rok, jmeno autora)\n",
    "    # a jako hodnotu budeme pripocitavat pocet clanku\n",
    "    count = {}\n",
    "    \n",
    "    # Projdeme radky DataFramu\n",
    "    for _,row in df.iterrows():\n",
    "        year = row['year']\n",
    "        for element in row[column]:\n",
    "            key = (year, element) \n",
    "            # Pokud klic jiz existuje, pripocteme jednicku\n",
    "            if key in count.keys():\n",
    "                count[key] += 1\n",
    "            else:\n",
    "                # Pokud klic zatim neexistuje, vytvorime ho a pridame jedna\n",
    "                count[key] = 1  \n",
    "    return count              \n",
    "\n",
    "# Funkce, ktera nam najde nejcastejsiho autora v danem roce\n",
    "def find_most_common(count):\n",
    "    # Dictionary, ve kterem jako klic ulozime rok\n",
    "    # a jako hodnotu (jmeno autora, pocet clanku)\n",
    "    most_common = {}\n",
    "\n",
    "    # Projdeme klice a hodnoty dictionary\n",
    "    for key,value in count.items():\n",
    "        year = key[0]\n",
    "        # Pokud klic (rok) jiz existuje, podivame se, \n",
    "        # zda je pocet clanku u aktualniho autora vyssi  \n",
    "        if year in most_common:\n",
    "            if most_common[year][1] < value:\n",
    "                # Pamatujeme si jen tu nejvyssi hodnotu\n",
    "                most_common[year] = (key[1], value)    \n",
    "        else:\n",
    "            most_common[year] = (key[1], value) \n",
    "    \n",
    "    #Klice slovniku seradime od nejmensiho cisla po nejvetsi         \n",
    "    years = list(most_common.keys())\n",
    "    years.sort()\n",
    "    sorted_most_common = {i: most_common[i] for i in years}        \n",
    "    return sorted_most_common            \n",
    "\n",
    "print(\"Funkce uloženy.\")\n",
    "  "
   ]
  },
  {
   "cell_type": "markdown",
   "metadata": {},
   "source": [
    "Teď už jen funkce zavoláme a výsledek vypíšeme. <br> \n",
    "Abychom měli hezčí výpis, použijeme formátování. Předem si řekneme, v jakém formátu budeme chtít hodnoty vypsat a jak velké mezi nimi budou mezery. "
   ]
  },
  {
   "cell_type": "code",
   "execution_count": 12,
   "metadata": {},
   "outputs": [
    {
     "name": "stdout",
     "output_type": "stream",
     "text": [
      "                      Rok         Nejčastější autor              Počet článků\n",
      "----------------------------------------------------------------------------------------------------\n",
      "                     1951    Effenberger, Vratislav                        11\n",
      "                     1953             Havel, Václav                         6\n",
      "                     1954                   Kopecký                         2\n",
      "                     1958    Effenberger, Vratislav                         6\n",
      "                     1960    Effenberger, Vratislav                        13\n",
      "                     1962    Effenberger, Vratislav                         2\n",
      "                     1966             Budík, Arnošt                         6\n",
      "                     1967             Budík, Arnošt                         7\n",
      "                     1968             Budík, Arnošt                         3\n",
      "                     1969             Budík, Arnošt                         2\n",
      "                     196u              Teige, Karel                         5\n",
      "                     1970           Novotný, Michal                         5\n",
      "                     1971           Holan, Vladimír                         2\n",
      "                     1972            Fibich, Ondřej                        96\n",
      "                     1973            Fibich, Ondřej                        14\n",
      "                     1974           Řezníček, Pavel                        10\n",
      "                     1975              Daumal, René                        13\n",
      "                     1976           Pavlovský, Petr                        22\n",
      "                     1977           Pavlovský, Petr                        34\n",
      "                     1978           Pavlovský, Petr                        26\n",
      "                     1979             Vrabec, Milan                        52\n",
      "                     197u         Nezval, Vítězslav                        18\n",
      "                     1980              Štogr, Josef                        23\n",
      "                     1981              Štogr, Josef                        22\n",
      "                     1982                    Koubek                        25\n",
      "                     1983                    Koubek                        21\n",
      "                     1984              Štogr, Josef                        30\n",
      "                     1985         Schelinger, Milan                        46\n",
      "                     1986              Štogr, Josef                        31\n",
      "                     1987            Hořec, Jaromír                        38\n",
      "                     1988              Štogr, Josef                        64\n",
      "                     1989                Horák, Oto                        39\n",
      "                     198u          Durych, Jaroslav                        14\n",
      "                     1990                      Hors                        10\n",
      "                     1991                      Motá                        17\n",
      "                     1992                        JM                        10\n",
      "                     1993                        JM                         8\n",
      "                     1994 Tarkovskij, Arsenij Aleksandrovič                         1\n",
      "                     1995           Řezníček, Pavel                        23\n",
      "                     1996           Řezníček, Pavel                        22\n",
      "                     1997           Řezníček, Pavel                         8\n",
      "                     1998         Stankovič, Andrej                         1\n",
      "                     199u              Kafka, Franz                         6\n",
      "                     19uu    Bocheński, Józef Maria                         7\n",
      "                     2003              Šebek, Karel                        18\n"
     ]
    }
   ],
   "source": [
    "# Vybereme sloupec, ktery chceme vypsat\n",
    "picked_column = 'author'\n",
    "\n",
    "# Zavolame nase funkce\n",
    "count = count_years(df, picked_column)\n",
    "\n",
    "most_common = find_most_common(count)\n",
    "\n",
    "# Formatovani pro hezci vypis\n",
    "string = \"{year: >25} {name: >25} {articles: >25}\"\n",
    "# Nejcastejsi hodnoty vypiseme\n",
    "print(string.format(year = \"Rok\", name = \"Nejčastější autor\", articles = \"Počet záznamů\"))\n",
    "print(\"----------------------------------------------------------------------------------------------------\")\n",
    "for key, value in most_common.items():\n",
    "    print(string.format(year = key, name = value[0], articles = value[1]))        \n"
   ]
  },
  {
   "cell_type": "markdown",
   "metadata": {},
   "source": [
    "V tabulce vidíme, že počet napsaných článků za jednotlivé roky se výrazně liší. "
   ]
  },
  {
   "cell_type": "markdown",
   "metadata": {},
   "source": [
    "<div class='alert alert-block alert-info'>\n",
    "    <b>Try It!</b> Kód je napsán tak, aby se parametry daly jednoduše upravit. Můžeme si tak zkusit změnit proměnnou picked_colum na 'figures', čímž zjistíme, o kom nejvíce se za daný rok psalo.\n",
    "</div>"
   ]
  },
  {
   "cell_type": "markdown",
   "metadata": {},
   "source": [
    "#### 2.2.2 Druhá varianta - lambda a Counter\n",
    "\n",
    "Tím, že máme data uložena do DataFramu, umožňuje nám to využít funkce knihovny pandas. V našem případě využijeme funkci `groupby()`, která data seskupí podle vybraného sloupce. <br>\n",
    "Použijeme také funkci `Counter()`, která nám spočte výskyt každého elementu. V neposlední řadě využijeme funkci `lambda`.<br>"
   ]
  },
  {
   "cell_type": "code",
   "execution_count": 14,
   "metadata": {},
   "outputs": [
    {
     "name": "stdout",
     "output_type": "stream",
     "text": [
      "year\n",
      "1951               Effenberger, Vratislav\n",
      "1953                        Havel, Václav\n",
      "1954                              Kopecký\n",
      "1958               Effenberger, Vratislav\n",
      "1960               Effenberger, Vratislav\n",
      "1962               Effenberger, Vratislav\n",
      "1966                        Budík, Arnošt\n",
      "1967                        Budík, Arnošt\n",
      "1968                        Budík, Arnošt\n",
      "1969                        Budík, Arnošt\n",
      "196u                         Teige, Karel\n",
      "1970                      Novotný, Michal\n",
      "1971                      Holan, Vladimír\n",
      "1972                       Fibich, Ondřej\n",
      "1973                       Fibich, Ondřej\n",
      "1974                      Řezníček, Pavel\n",
      "1975                         Daumal, René\n",
      "1976                      Pavlovský, Petr\n",
      "1977                      Pavlovský, Petr\n",
      "1978                      Pavlovský, Petr\n",
      "1979                        Vrabec, Milan\n",
      "197u                    Nezval, Vítězslav\n",
      "1980                         Štogr, Josef\n",
      "1981                         Štogr, Josef\n",
      "1982                               Koubek\n",
      "1983                               Koubek\n",
      "1984                         Štogr, Josef\n",
      "1985                    Schelinger, Milan\n",
      "1986                         Štogr, Josef\n",
      "1987                       Hořec, Jaromír\n",
      "1988                         Štogr, Josef\n",
      "1989                           Horák, Oto\n",
      "198u                     Durych, Jaroslav\n",
      "1990                                 Hors\n",
      "1991                                 Motá\n",
      "1992                                   JM\n",
      "1993                                   JM\n",
      "1994    Tarkovskij, Arsenij Aleksandrovič\n",
      "1995                      Řezníček, Pavel\n",
      "1996                      Řezníček, Pavel\n",
      "1997                      Řezníček, Pavel\n",
      "1998                    Stankovič, Andrej\n",
      "199u                         Kafka, Franz\n",
      "19uu               Bocheński, Józef Maria\n",
      "2003                         Šebek, Karel\n",
      "Name: author, dtype: object\n"
     ]
    }
   ],
   "source": [
    "# Data ocistime o prazdne hodnoty\n",
    "data_filtered = df[df[picked_column].apply(lambda x: len(x) > 0)]\n",
    "\n",
    "# Data seskupime podle nejcastejsiho elementu v kazde hodnote groupby\n",
    "most_common = data_filtered.groupby('year')[picked_column].apply(lambda x: Counter(element for elements in x for element in elements).most_common(1)[0][0] if len(x) > 0 else None) \n",
    "\n",
    "print(most_common)"
   ]
  },
  {
   "cell_type": "markdown",
   "metadata": {},
   "source": [
    "V tabulce můžeme vidět, který autor za daný rok publikoval nejvíce článků napříč všemi časopisy. Je třeba si uvědomit, že i když je v tabulce nějaký autor v daný rok nejčastější, nemusí v celkovém počtu napsat hodně článků/knih. Ostatně se o tom můžeme přesvěsvědčit v předchozí buňce.<br>\n",
    "Je možné, že se od sebe dvě tabulky budou mírně odlišovat a to v případě, že databáze za daný rok obsahuje více autorů se stejným počtem záznamů. "
   ]
  },
  {
   "cell_type": "markdown",
   "metadata": {},
   "source": [
    "<div class='alert alert-block alert-info'>\n",
    "    <b>Try It!</b> Kromě bibliografie literárního exilu můžeme vyzkoušet i jiné bibliografie. Stačí si v předchozím Jupyter notebooku vytvořit csv tabulku. \n",
    "</div>\n"
   ]
  }
 ],
 "metadata": {
  "kernelspec": {
   "display_name": "Python 3",
   "language": "python",
   "name": "python3"
  },
  "language_info": {
   "codemirror_mode": {
    "name": "ipython",
    "version": 3
   },
   "file_extension": ".py",
   "mimetype": "text/x-python",
   "name": "python",
   "nbconvert_exporter": "python",
   "pygments_lexer": "ipython3",
   "version": "3.11.4"
  },
  "orig_nbformat": 4
 },
 "nbformat": 4,
 "nbformat_minor": 2
}
