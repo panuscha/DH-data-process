{
 "cells": [
  {
   "cell_type": "markdown",
   "metadata": {},
   "source": [
    "# Zobrazení souhrnných statistik\n",
    "\n",
    "V tomto notebooku si ukážeme, jak zpracovat data, která jsme si uložili do formátu CSV v předchozím notebooku. Naučíme se, jak spočítat četnost jednotlivých sloupců v CSV tabulce a jak zjistit, který autor za daný rok se v databázi objevuje nejčastěji. <br>\n",
    "Tento notebook je určený jak pro začátečníky, tak pro ty, kteří se chtějí seznámit se zpracováním dat v Pythonu.\n",
    "\n",
    "## Předpoklady\n",
    "\n",
    "Tento notebook nepředpokládá hluboké znalosti Pythonu, ale základní znalost programování bude užitečná.<br> \n",
    "Ukážeme si, jak načíst marcové soubory, jak procházet jejich záznamy, jak extrahovat potřebná data a jak je uložit do CSV a Excel souborů.\n",
    "\n",
    "## Struktura notebooku\n",
    "\n",
    "Notebook je rozdělen do několika částí:\n",
    "\n",
    "0. **Příprava**: Přidáme potřebné knihovny, které budeme používat ke zpracování marcového souboru. \n",
    "\n",
    "1. **Načtení z CSV**: Ukážeme si, jak načíst naše data uložená v CSV\n",
    "\n",
    "2. **Souhrnné statistiky**: Naučíme se, jak z dat získat informace o nejčastějších autorech.\n",
    "\n",
    "## Další zdroje\n",
    "\n",
    "- [LearnPython.org](https://www.learnpython.org/): Tento online kurz nabízí výuku jazyka Python pro začátečníky i pokročilé. Může být užitečným zdrojem pro ty, kteří chtějí rozšířit své znalosti Pythonu.\n"
   ]
  },
  {
   "cell_type": "markdown",
   "metadata": {},
   "source": [
    "### 0. Příprava \n",
    "Jako první si musíme nainstalovat knihovny, se kterými budeme pracovat. Knihovny jsou balíčky funkcí, které nejsou součástí základu jazyka python. <br>\n",
    "Knihovny nainstalujeme pomocí příkazu `%pip install <jmeno_knihovny>` . Pak je do našeho notebooku přidáme pomocí příkazu `import <jmeno_knihovny> (as alias)`. K funkcím knihovny se pak přistupuje `jmeno_knihovny.jmeno_funkce` <br> \n",
    "Pokud z knihovny chceme využít pouze jednu funkci, přidáme ji pomocí `from <jmeno_knihovny> import <jmeno_funkce>`"
   ]
  },
  {
   "cell_type": "code",
   "execution_count": 37,
   "metadata": {},
   "outputs": [
    {
     "name": "stdout",
     "output_type": "stream",
     "text": [
      "Requirement already satisfied: pandas in c:\\users\\panuskova\\appdata\\local\\programs\\python\\python311\\lib\\site-packages (2.0.2)\n",
      "Requirement already satisfied: python-dateutil>=2.8.2 in c:\\users\\panuskova\\appdata\\local\\programs\\python\\python311\\lib\\site-packages (from pandas) (2.8.2)\n",
      "Requirement already satisfied: pytz>=2020.1 in c:\\users\\panuskova\\appdata\\local\\programs\\python\\python311\\lib\\site-packages (from pandas) (2023.3)\n",
      "Requirement already satisfied: tzdata>=2022.1 in c:\\users\\panuskova\\appdata\\local\\programs\\python\\python311\\lib\\site-packages (from pandas) (2023.3)\n",
      "Requirement already satisfied: numpy>=1.21.0 in c:\\users\\panuskova\\appdata\\local\\programs\\python\\python311\\lib\\site-packages (from pandas) (1.24.4)\n",
      "Requirement already satisfied: six>=1.5 in c:\\users\\panuskova\\appdata\\local\\programs\\python\\python311\\lib\\site-packages (from python-dateutil>=2.8.2->pandas) (1.16.0)\n",
      "Note: you may need to restart the kernel to use updated packages.\n"
     ]
    },
    {
     "name": "stderr",
     "output_type": "stream",
     "text": [
      "\n",
      "[notice] A new release of pip is available: 23.1.2 -> 23.2.1\n",
      "[notice] To update, run: python.exe -m pip install --upgrade pip\n"
     ]
    },
    {
     "name": "stdout",
     "output_type": "stream",
     "text": [
      "Requirement already satisfied: numpy in c:\\users\\panuskova\\appdata\\local\\programs\\python\\python311\\lib\\site-packages (1.24.4)\n",
      "Note: you may need to restart the kernel to use updated packages.\n"
     ]
    },
    {
     "name": "stderr",
     "output_type": "stream",
     "text": [
      "\n",
      "[notice] A new release of pip is available: 23.1.2 -> 23.2.1\n",
      "[notice] To update, run: python.exe -m pip install --upgrade pip\n"
     ]
    }
   ],
   "source": [
    "# Prikaz ktery naistaluje knihovny\n",
    "%pip install pandas \n",
    "%pip install numpy \n",
    "\n",
    "# Prikaz ktery knihovny prida \n",
    "from collections import Counter\n",
    "import pandas as pd\n",
    "import numpy as np"
   ]
  },
  {
   "cell_type": "markdown",
   "metadata": {},
   "source": [
    "### 1. Načtení z CSV\n",
    "\n",
    "Nejprve pomocí knihovny pandas načteme naše uložená csv data do datové struktury DataFrame (která je podobná např. excelovské tabulce). Řádky v DataFramu reprezentují jednotlivé záznamy, sloupce pak jeden typ (např. jmeno autora).\n",
    "Některá pole a podpole mohou opakovat, ty jsou  v csv spojené středníkem. V DataFramu pak funkcí `split()` hodnoty rozpojíme a převede do listu (seznamu). Pokud zrovna na daném místě žádná hodnota není, přidáme prázdný list.\n"
   ]
  },
  {
   "cell_type": "code",
   "execution_count": 38,
   "metadata": {},
   "outputs": [
    {
     "name": "stdout",
     "output_type": "stream",
     "text": [
      "Data načtena do DataFramu df.\n"
     ]
    }
   ],
   "source": [
    "# Cesta k nasim datum\n",
    "csv_data = 'data/csv/out_smz.csv'\n",
    "\n",
    "# Nacteni dat\n",
    "df = pd.read_csv(csv_data, delimiter=',')\n",
    "\n",
    "print(\"Data načtena do DataFramu df.\")\n",
    "\n",
    "for column in df.columns:\n",
    "    # Rok vydani bude vzdy jen jedenkrat\n",
    "    if column != 'year': \n",
    "        # Hodnoty spojene v jeden string zpatky rozdelime do listu, aby se nam s nim lepe pracovalo\n",
    "        df[column] = df[column].apply(lambda x: x.split(';') if isinstance(x, str)  else [])\n",
    "              "
   ]
  },
  {
   "cell_type": "markdown",
   "metadata": {},
   "source": [
    "### 2. Souhrnné statistiky\n",
    "\n",
    "Nyní se podíváme, jak z dat zjistit jednoduché statistiky. \n",
    "\n",
    "#### 2.1 Počet výskytů \n",
    "\n",
    "Pokud chceme vědet, kolikrát se v databázi objevuje nějaká hodnota, použijeme funkci `value_counts()`. V následujícím příkladu si ukážeme, kolik je v databázi z jakého roku záznamů.<br>\n",
    "Pomocí parametru `records_to_print` omezíme počet vypsaných záznamů na prvních x. Hodnoty se vypíší sestupně. "
   ]
  },
  {
   "cell_type": "code",
   "execution_count": 39,
   "metadata": {},
   "outputs": [
    {
     "data": {
      "text/plain": [
       "year\n",
       "1989    2428\n",
       "1988    2299\n",
       "1987    2105\n",
       "1986    1519\n",
       "1984    1352\n",
       "1983    1348\n",
       "1985    1252\n",
       "1979    1232\n",
       "1980    1169\n",
       "1981    1109\n",
       "1982     943\n",
       "1977     832\n",
       "1978     786\n",
       "1976     477\n",
       "198u     375\n",
       "1990     284\n",
       "1972     264\n",
       "1975     256\n",
       "1974     173\n",
       "1991     166\n",
       "Name: count, dtype: int64"
      ]
     },
     "execution_count": 39,
     "metadata": {},
     "output_type": "execute_result"
    }
   ],
   "source": [
    "records_to_print = 20\n",
    "\n",
    "df['year'].value_counts()[:records_to_print] # vypise prvnich x zaznamu"
   ]
  },
  {
   "cell_type": "markdown",
   "metadata": {},
   "source": [
    "Vidíme, že zdaleka nejvíce záznamů je z 80. let, následně pak z let 70. "
   ]
  },
  {
   "cell_type": "markdown",
   "metadata": {},
   "source": [
    "<div class='alert alert-block alert-info'>\n",
    "    <b>Try It!</b> Místo sloupce 'year' můžeme vypsat např. 'author', čímž zjistíme, kolikrát se jaký autor v databázi objevuje.<br>\n",
    "</div>"
   ]
  },
  {
   "cell_type": "markdown",
   "metadata": {},
   "source": [
    "#### 2.2 Nejčastější autor v daném roce\n",
    "\n",
    "Teď si ukážeme, jak z dat zjistit, který autor v jakém roce se v záznamech v daném roce nejčastěji objevuje jako autor. Existuje několik způsobů, jak na to přijít. My si představíme tři.<br>\n"
   ]
  },
  {
   "cell_type": "markdown",
   "metadata": {},
   "source": [
    "##### 2.2.1 První varianta - value_counts\n",
    "\n",
    "V naší první variantě využijeme funkci `value_counts()`, kterou jsme se už naučili. <br>\n",
    "\n",
    "Abychom měli hezčí výpis, použijeme formátování. Předem si řekneme, v jakém formátu budeme chtít hodnoty vypsat a jak velké mezi nimi budou mezery.<br>\n",
    "U některých záznamů je nejčetnější hodnota prázdný list (tedy autor v záznamech chybí).  Proto prázdné řádky pro tento příklad vyfiltrujeme. <br>\n",
    "Pak budeme postupně procházet roky vydání záznamů. Z naší tabulky si vyselektujeme řádky s jedním rokem vydání. Na ně zavoláme funkci `value_counts()`. Funkce nám vrátí spočítané četnosti v sestupném pořadí, proto nám stačí vzít jen první hodnotu.<br>\n",
    "\n",
    "<b>Následující kód funguje pouze pro sloupce, kde se hodnoty v jednom řádku neopakují. Reprezentují marcová pole, která se nemohou opakovat</b>\n"
   ]
  },
  {
   "cell_type": "code",
   "execution_count": 40,
   "metadata": {},
   "outputs": [
    {
     "name": "stdout",
     "output_type": "stream",
     "text": [
      "                      Rok         Nejčastější autor             Počet záznamů\n",
      "----------------------------------------------------------------------------------------------------\n",
      "                     1951    Effenberger, Vratislav                        11\n",
      "                     1953                         P                         8\n",
      "                     1954                         P                         2\n",
      "                     1958    Effenberger, Vratislav                         6\n",
      "                     1960    Effenberger, Vratislav                        13\n",
      "                     1962    Effenberger, Vratislav                         2\n",
      "                     1966             Budík, Arnošt                         6\n",
      "                     1967             Budík, Arnošt                         7\n",
      "                     1968             Budík, Arnošt                         3\n",
      "                     1969             Budík, Arnošt                         2\n",
      "                     196u              Teige, Karel                         5\n",
      "                     1970           Novotný, Michal                         5\n",
      "                     1971           Holan, Vladimír                         2\n",
      "                     1972            Fibich, Ondřej                        96\n",
      "                     1973            Fibich, Ondřej                        14\n",
      "                     1974           Řezníček, Pavel                        10\n",
      "                     1975              Daumal, René                        13\n",
      "                     1976           Pavlovský, Petr                        22\n",
      "                     1977           Pavlovský, Petr                        34\n",
      "                     1978           Pavlovský, Petr                        26\n",
      "                     1979             Vrabec, Milan                        52\n",
      "                     197u         Nezval, Vítězslav                        18\n",
      "                     1980              Štogr, Josef                        23\n",
      "                     1981              Štogr, Josef                        22\n",
      "                     1982               Koubek, Jan                        25\n",
      "                     1983               Koubek, Jan                        21\n",
      "                     1984              Štogr, Josef                        30\n",
      "                     1985         Schelinger, Milan                        46\n",
      "                     1986              Štogr, Josef                        31\n",
      "                     1987            Hořec, Jaromír                        38\n",
      "                     1988              Štogr, Josef                        64\n",
      "                     1989                Horák, Oto                        39\n",
      "                     198u          Durych, Jaroslav                        14\n",
      "                     1990           Fanta, Ladislav                        10\n",
      "                     1991                     Moták                        17\n",
      "                     1992                       JMC                        10\n",
      "                     1993                       JMC                         8\n",
      "                     1994 Tarkovskij, Arsenij Aleksandrovič                         1\n",
      "                     1995           Řezníček, Pavel                        23\n",
      "                     1996           Řezníček, Pavel                        22\n",
      "                     1997           Řezníček, Pavel                         8\n",
      "                     1998         Stankovič, Andrej                         1\n",
      "                     199u              Kafka, Franz                         6\n",
      "                     19uu    Bocheński, Józef Maria                         7\n",
      "                     2003              Šebek, Karel                        18\n"
     ]
    }
   ],
   "source": [
    "# Vybereme sloupec, ktery chceme vypsat\n",
    "picked_column = 'author'\n",
    "\n",
    "# Formatovani pro hezci vypis\n",
    "string = \"{year: >25} {name: >25} {records: >25}\"\n",
    "# Nejcastejsi hodnoty vypiseme\n",
    "print(string.format(year = \"Rok\", name = \"Nejčastější autor\", records = \"Počet záznamů\"))\n",
    "print(\"----------------------------------------------------------------------------------------------------\")\n",
    "\n",
    "# Data ocistime o prazdne hodnoty\n",
    "data_filtered = df[df[picked_column].apply(lambda x: len(x) > 0)]\n",
    "\n",
    "for year in  np.unique(df['year']):\n",
    "    if any(data_filtered[data_filtered['year'] == year]['author']):\n",
    "        ret = data_filtered[data_filtered['year'] == year]['author'].value_counts() \n",
    "        s = string.format(year = year, name = ' '.join(ret.index[0]), records = str(ret.values[0])) \n",
    "        print(s)"
   ]
  },
  {
   "cell_type": "markdown",
   "metadata": {},
   "source": [
    "V tabulce vidíme, že počet napsaných článků za jednotlivé roky se výrazně liší. "
   ]
  },
  {
   "cell_type": "markdown",
   "metadata": {},
   "source": [
    "#### 2.2.2 Druhá varianta - groupby a Counter\n",
    "\n",
    "V druhé variantě si ukážeme, jak data upravit pomocí funkcí `groupby()` a `Counter()` \n",
    "\n",
    "Tím, že máme data uložena do DataFramu, umožňuje nám to využít funkce knihovny pandas. V našem případě využijeme funkci `groupby()`, která data seskupí podle vybraného sloupce. <br>\n",
    "Použijeme také funkci `Counter()`, která nám spočte výskyt každého elementu. V neposlední řadě využijeme funkci `lambda`.<br>"
   ]
  },
  {
   "cell_type": "code",
   "execution_count": 41,
   "metadata": {},
   "outputs": [
    {
     "name": "stdout",
     "output_type": "stream",
     "text": [
      "                      Rok         Nejčastější autor             Počet záznamů\n",
      "----------------------------------------------------------------------------------------------------\n",
      "                     1951    Effenberger, Vratislav                        11\n",
      "                     1953                         P                         8\n",
      "                     1954                         P                         2\n",
      "                     1958    Effenberger, Vratislav                         6\n",
      "                     1960    Effenberger, Vratislav                        13\n",
      "                     1962    Effenberger, Vratislav                         2\n",
      "                     1966             Budík, Arnošt                         6\n",
      "                     1967             Budík, Arnošt                         7\n",
      "                     1968             Budík, Arnošt                         3\n",
      "                     1969             Budík, Arnošt                         2\n",
      "                     196u              Teige, Karel                         5\n",
      "                     1970           Novotný, Michal                         5\n",
      "                     1971           Holan, Vladimír                         2\n",
      "                     1972            Fibich, Ondřej                        96\n",
      "                     1973            Fibich, Ondřej                        14\n",
      "                     1974           Řezníček, Pavel                        10\n",
      "                     1975              Daumal, René                        13\n",
      "                     1976           Pavlovský, Petr                        22\n",
      "                     1977           Pavlovský, Petr                        34\n",
      "                     1978           Pavlovský, Petr                        26\n",
      "                     1979             Vrabec, Milan                        52\n",
      "                     197u         Nezval, Vítězslav                        18\n",
      "                     1980              Štogr, Josef                        23\n",
      "                     1981              Štogr, Josef                        22\n",
      "                     1982               Koubek, Jan                        25\n",
      "                     1983               Koubek, Jan                        21\n",
      "                     1984              Štogr, Josef                        30\n",
      "                     1985         Schelinger, Milan                        46\n",
      "                     1986              Štogr, Josef                        31\n",
      "                     1987            Hořec, Jaromír                        38\n",
      "                     1988              Štogr, Josef                        64\n",
      "                     1989                Horák, Oto                        39\n",
      "                     198u          Durych, Jaroslav                        14\n",
      "                     1990                     Horst                        10\n",
      "                     1991                     Moták                        17\n",
      "                     1992                       JMC                        10\n",
      "                     1993                       JMC                         8\n",
      "                     1994 Tarkovskij, Arsenij Aleksandrovič                         1\n",
      "                     1995           Řezníček, Pavel                        23\n",
      "                     1996           Řezníček, Pavel                        22\n",
      "                     1997           Řezníček, Pavel                         8\n",
      "                     1998         Stankovič, Andrej                         1\n",
      "                     199u              Kafka, Franz                         6\n",
      "                     19uu    Bocheński, Józef Maria                         7\n",
      "                     2003              Šebek, Karel                        18\n"
     ]
    }
   ],
   "source": [
    "# Vybereme sloupec, ktery chceme vypsat\n",
    "picked_column = 'author'\n",
    "\n",
    "# Data ocistime o prazdne hodnoty\n",
    "data_filtered = df[df[picked_column].apply(lambda x: len(x) > 0)]\n",
    "\n",
    "# Data seskupime podle nejcastejsiho elementu v kazde hodnote groupby\n",
    "most_common = data_filtered.groupby('year')[picked_column].apply(lambda x: Counter(element for elements in x for element in elements).most_common()[0] if len(x) > 0 else None) \n",
    "\n",
    "# Formatovani pro hezci vypis\n",
    "string = \"{year: >25} {name: >25} {records: >25}\"\n",
    "# Nejcastejsi hodnoty vypiseme\n",
    "print(string.format(year = \"Rok\", name = \"Nejčastější autor\", records = \"Počet záznamů\"))\n",
    "print(\"----------------------------------------------------------------------------------------------------\")\n",
    "\n",
    "for key, value in most_common.items():\n",
    "    print(string.format(year = key, name = value[0], records = value[1]))        "
   ]
  },
  {
   "cell_type": "markdown",
   "metadata": {},
   "source": [
    "<div class='alert alert-block alert-info'>\n",
    "    <b>Try It!</b> Kód je napsán tak, aby se parametry daly jednoduše upravit. Můžeme si tak zkusit změnit proměnnou picked_colum na 'figures', čímž zjistíme, o kom nejvíce se za daný rok psalo.\n",
    "</div>"
   ]
  },
  {
   "cell_type": "markdown",
   "metadata": {},
   "source": [
    "##### 2.2.1 Třetí varianta - vlastní funkce\n",
    "\n",
    "Jako poslední variantu si algoritmy napíšeme sami. Implementujeme dvě funkce, které pak zavoláme. <br>\n",
    "\n",
    "První funkce `count_years(df, column)` nám spočte počet článků každého autora v každém roce. Jako vstupy přijímá DataFrame `df` a vybraný sloupec `column`. Výsledky pak vrátí jako dictionary, kde klíčem je tuple (rok, jméno autora) a hodnota je počet článků.<br>\n",
    "Druhá funkce `find_most_common(count)` pak pro každý rok zjistí, který autor v každém roce napsal nejvíce článků. Vstupem je dictionary `count`, který nám vrátí funkce `count_years(df, column)`. Funkce pak postupně projde všechny klíče dictionary `count` a pro každý rok si pamatuje autora s nejvyšším počtem záznamů. Funkce nakonec vrátí setřízený dictionary, kde klíč je rok a hodnota je tuple (jmeno autora, počet záznamů).   \n"
   ]
  },
  {
   "cell_type": "code",
   "execution_count": 42,
   "metadata": {},
   "outputs": [
    {
     "name": "stdout",
     "output_type": "stream",
     "text": [
      "Funkce uloženy.\n"
     ]
    }
   ],
   "source": [
    "# Funkce ktera nam spocte pocet zaznamu v danem roce pro kazdeho autora\n",
    "def count_years(df, column):\n",
    "    \n",
    "    # Dictionary, ve kterem jako klic ulozime (rok, jmeno autora)\n",
    "    # a jako hodnotu budeme pripocitavat pocet clanku\n",
    "    count = {}\n",
    "    \n",
    "    # Projdeme radky DataFramu\n",
    "    for _,row in df.iterrows():\n",
    "        year = row['year']\n",
    "        for element in row[column]:\n",
    "            key = (year, element) \n",
    "            # Pokud klic jiz existuje, pripocteme jednicku\n",
    "            if key in count.keys():\n",
    "                count[key] += 1\n",
    "            else:\n",
    "                # Pokud klic zatim neexistuje, vytvorime ho a pridame jedna\n",
    "                count[key] = 1  \n",
    "    return count              \n",
    "\n",
    "# Funkce, ktera nam najde nejcastejsiho autora v danem roce\n",
    "def find_most_common(count):\n",
    "    # Dictionary, ve kterem jako klic ulozime rok\n",
    "    # a jako hodnotu (jmeno autora, pocet clanku)\n",
    "    most_common = {}\n",
    "\n",
    "    # Projdeme klice a hodnoty dictionary\n",
    "    for key,value in count.items():\n",
    "        year = key[0]\n",
    "        # Pokud klic (rok) jiz existuje, podivame se, \n",
    "        # zda je pocet clanku u aktualniho autora vyssi  \n",
    "        if year in most_common:\n",
    "            if most_common[year][1] < value:\n",
    "                # Pamatujeme si jen tu nejvyssi hodnotu\n",
    "                most_common[year] = (key[1], value)    \n",
    "        else:\n",
    "            most_common[year] = (key[1], value) \n",
    "    \n",
    "    #Klice slovniku seradime od nejmensiho cisla po nejvetsi         \n",
    "    years = list(most_common.keys())\n",
    "    years.sort()\n",
    "    sorted_most_common = {i: most_common[i] for i in years}        \n",
    "    return sorted_most_common            \n",
    "\n",
    "print(\"Funkce uloženy.\")\n",
    "  "
   ]
  },
  {
   "cell_type": "markdown",
   "metadata": {},
   "source": [
    "Teď už jen funkce zavoláme a výsledek vypíšeme. <br> \n",
    "Použijeme stejné formátování, které jsme si už napsali.  "
   ]
  },
  {
   "cell_type": "code",
   "execution_count": 43,
   "metadata": {},
   "outputs": [
    {
     "name": "stdout",
     "output_type": "stream",
     "text": [
      "                      Rok         Nejčastější autor             Počet záznamů\n",
      "----------------------------------------------------------------------------------------------------\n",
      "                     1951    Effenberger, Vratislav                        11\n",
      "                     1953                         P                         8\n",
      "                     1954                         P                         2\n",
      "                     1958    Effenberger, Vratislav                         6\n",
      "                     1960    Effenberger, Vratislav                        13\n",
      "                     1962    Effenberger, Vratislav                         2\n",
      "                     1966             Budík, Arnošt                         6\n",
      "                     1967             Budík, Arnošt                         7\n",
      "                     1968             Budík, Arnošt                         3\n",
      "                     1969             Budík, Arnošt                         2\n",
      "                     196u              Teige, Karel                         5\n",
      "                     1970           Novotný, Michal                         5\n",
      "                     1971           Holan, Vladimír                         2\n",
      "                     1972            Fibich, Ondřej                        96\n",
      "                     1973            Fibich, Ondřej                        14\n",
      "                     1974           Řezníček, Pavel                        10\n",
      "                     1975              Daumal, René                        13\n",
      "                     1976           Pavlovský, Petr                        22\n",
      "                     1977           Pavlovský, Petr                        34\n",
      "                     1978           Pavlovský, Petr                        26\n",
      "                     1979             Vrabec, Milan                        52\n",
      "                     197u         Nezval, Vítězslav                        18\n",
      "                     1980              Štogr, Josef                        23\n",
      "                     1981              Štogr, Josef                        22\n",
      "                     1982               Koubek, Jan                        25\n",
      "                     1983               Koubek, Jan                        21\n",
      "                     1984              Štogr, Josef                        30\n",
      "                     1985         Schelinger, Milan                        46\n",
      "                     1986              Štogr, Josef                        31\n",
      "                     1987            Hořec, Jaromír                        38\n",
      "                     1988              Štogr, Josef                        64\n",
      "                     1989                Horák, Oto                        39\n",
      "                     198u          Durych, Jaroslav                        14\n",
      "                     1990                     Horst                        10\n",
      "                     1991                     Moták                        17\n",
      "                     1992                       JMC                        10\n",
      "                     1993                       JMC                         8\n",
      "                     1994 Tarkovskij, Arsenij Aleksandrovič                         1\n",
      "                     1995           Řezníček, Pavel                        23\n",
      "                     1996           Řezníček, Pavel                        22\n",
      "                     1997           Řezníček, Pavel                         8\n",
      "                     1998         Stankovič, Andrej                         1\n",
      "                     199u              Kafka, Franz                         6\n",
      "                     19uu    Bocheński, Józef Maria                         7\n",
      "                     2003              Šebek, Karel                        18\n"
     ]
    }
   ],
   "source": [
    "# Vybereme sloupec, ktery chceme vypsat\n",
    "picked_column = 'author'\n",
    "\n",
    "# Zavolame nase funkce\n",
    "count = count_years(df, picked_column)\n",
    "\n",
    "most_common = find_most_common(count)\n",
    "\n",
    "# Formatovani pro hezci vypis\n",
    "string = \"{year: >25} {name: >25} {records: >25}\"\n",
    "\n",
    "# Nejcastejsi hodnoty vypiseme\n",
    "print(string.format(year = \"Rok\", name = \"Nejčastější autor\", records = \"Počet záznamů\"))\n",
    "print(\"----------------------------------------------------------------------------------------------------\")\n",
    "for key, value in most_common.items():\n",
    "    print(string.format(year = key, name = value[0], records = value[1]))        \n"
   ]
  },
  {
   "cell_type": "markdown",
   "metadata": {},
   "source": [
    "Je možné, že se od sebe budou tabulky mírně odlišovat a to v případě, že databáze za daný rok obsahuje více autorů se stejným počtem záznamů. "
   ]
  },
  {
   "cell_type": "markdown",
   "metadata": {},
   "source": [
    "<div class='alert alert-block alert-info'>\n",
    "    <b>Try It!</b> Napadá vás ještě nějaký jiný způsob, jak zjistit nejčastějšího autora?\n",
    "</div>\n"
   ]
  },
  {
   "cell_type": "markdown",
   "metadata": {},
   "source": [
    "#### 2.3 Nejčastější autor v daném roce - opakované hodnoty\n",
    "\n",
    "Jelikož se může stát, že četnost některých autorů za daný rok je stejná - tedy že rok obsahuje více autorů se stejným počtem záznamů, napíšeme si kód, v případě opakování vypíše všechny autory. <br>\n",
    "Ukážeme si dvě varianty."
   ]
  },
  {
   "cell_type": "markdown",
   "metadata": {},
   "source": [
    "##### 2.3.1 První varianta - Counter\n",
    "\n",
    "Napíšeme si funkci `max_counter(lst)`, která jako vstup bere list `lst`. Nejprve použijeme Counter, abychom spočítali počet výskytů jednotlivých prvků v listu. Poté najde maximální hodnotu počtu výskytů a vytvoří list těch prvků, které mají tento maximální počet výskytů. Funkce vrátí tento list prvků spolu s jejich počtem výskytů. <br>\n"
   ]
  },
  {
   "cell_type": "code",
   "execution_count": null,
   "metadata": {},
   "outputs": [],
   "source": [
    "def max_counter(lst):\n",
    "\n",
    "    # Pomocí Counteru spočteme počty výskytů prvků ve všech vnořených listech\n",
    "    counted_elements = Counter(element for elements in lst for element in elements)\n",
    "\n",
    "    # Najdeme maximální hodnoty počtu výskytů\n",
    "    max_val = max(counted_elements.values())\n",
    "\n",
    "    # Vytvoříme list prvků s maximálním počtem výskytů a jejich počty výskytů\n",
    "    ret = [(key, value) for key, value in counted_elements.items() if value == max_val]\n",
    "    return ret"
   ]
  },
  {
   "cell_type": "markdown",
   "metadata": {},
   "source": [
    "Projdeme unikátní roky v našich datech. Vyselektujeme ty řádky, kde se rok rovná. Naši připravenou funkci pak zavoláme na vyselektované řády. "
   ]
  },
  {
   "cell_type": "code",
   "execution_count": 44,
   "metadata": {},
   "outputs": [
    {
     "name": "stdout",
     "output_type": "stream",
     "text": [
      "                      Rok         Nejčastější autor             Počet záznamů\n",
      "----------------------------------------------------------------------------------------------------\n",
      "                     1951    Effenberger, Vratislav                        11\n",
      "                     1953                         P                         8\n",
      "                     1954                         P                         2\n",
      "                     1954            Kopecký, Radim                         2\n",
      "                     1954              Kuběna, Jiří                         2\n",
      "                     1954             Havel, Václav                         2\n",
      "                     1958    Effenberger, Vratislav                         6\n",
      "                     1960    Effenberger, Vratislav                        13\n",
      "                     1962    Effenberger, Vratislav                         2\n",
      "                     1966             Budík, Arnošt                         6\n",
      "                     1967             Budík, Arnošt                         7\n",
      "                     1967           Glivický, Josef                         7\n",
      "                     1968             Budík, Arnošt                         3\n",
      "                     1968            Roller, Pierre                         3\n",
      "                     1968         Staročeský anonym                         3\n",
      "                     1969             Budík, Arnošt                         2\n",
      "                     1969            Havlíček, Jiří                         2\n",
      "                     196u              Teige, Karel                         5\n",
      "                     196u         Nezval, Vítězslav                         5\n",
      "                     1970           Novotný, Michal                         5\n",
      "                     1970           Drozd, Miroslav                         5\n",
      "                     1971           Holan, Vladimír                         2\n",
      "                     1972            Fibich, Ondřej                        96\n",
      "                     1973            Fibich, Ondřej                        14\n",
      "                     1974           Řezníček, Pavel                        10\n",
      "                     1975              Daumal, René                        13\n",
      "                     1976           Pavlovský, Petr                        22\n",
      "                     1977           Pavlovský, Petr                        34\n",
      "                     1978           Pavlovský, Petr                        26\n",
      "                     1979             Vrabec, Milan                        52\n",
      "                     197u         Nezval, Vítězslav                        18\n",
      "                     1980              Štogr, Josef                        23\n",
      "                     1981              Štogr, Josef                        22\n",
      "                     1982               Koubek, Jan                        25\n",
      "                     1983               Koubek, Jan                        21\n",
      "                     1984              Štogr, Josef                        30\n",
      "                     1985         Schelinger, Milan                        46\n",
      "                     1986              Štogr, Josef                        31\n",
      "                     1987            Hořec, Jaromír                        38\n",
      "                     1988              Štogr, Josef                        64\n",
      "                     1989                Horák, Oto                        39\n",
      "                     198u          Durych, Jaroslav                        14\n",
      "                     1990                     Horst                        10\n",
      "                     1990           Fanta, Ladislav                        10\n",
      "                     1991                     Moták                        17\n",
      "                     1992                       JMC                        10\n",
      "                     1993                       JMC                         8\n",
      "                     1994 Tarkovskij, Arsenij Aleksandrovič                         1\n",
      "                     1994              Soukup, Petr                         1\n",
      "                     1995           Řezníček, Pavel                        23\n",
      "                     1996           Řezníček, Pavel                        22\n",
      "                     1997           Řezníček, Pavel                         8\n",
      "                     1998         Stankovič, Andrej                         1\n",
      "                     1998              Marek, Karel                         1\n",
      "                     1998  Foerster, Josef Bohuslav                         1\n",
      "                     1998           Holan, Vladimír                         1\n",
      "                     1998       Janoušek, Stanislav                         1\n",
      "                     1998          Durych, Jaroslav                         1\n",
      "                     1998          Zahradníček, Jan                         1\n",
      "                     1998            Fučík, Bedřich                         1\n",
      "                     1998            Florian, Josef                         1\n",
      "                     1998             Dvořák, Miloš                         1\n",
      "                     1998             Černý, Rudolf                         1\n",
      "                     1998         Damborský, Ondřej                         1\n",
      "                     1998          Kuncíř, Ladislav                         1\n",
      "                     1998           Voříšek, Rudolf                         1\n",
      "                     1998              Renč, Václav                         1\n",
      "                     1998         Hrubín, František                         1\n",
      "                     1998        Lazecký, František                         1\n",
      "                     1998          Dvořák, Ladislav                         1\n",
      "                     1998              Slavík, Ivan                         1\n",
      "                     1998              Dokulil, Jan                         1\n",
      "                     1998           Frynta, Emanuel                         1\n",
      "                     1998             Vašica, Josef                         1\n",
      "                     1998           Škarka, Antonín                         1\n",
      "                     1998          Benáček, Leopold                         1\n",
      "                     1998         Venhoda, Miroslav                         1\n",
      "                     1998                Sokol, Jan                         1\n",
      "                     1998           Pavlok, Bohumil                         1\n",
      "                     1998        Jehlička, Ladislav                         1\n",
      "                     1998               Beran, Jiří                         1\n",
      "                     1998           Myslivec, Josef                         1\n",
      "                     1998           Králík, Oldřich                         1\n",
      "                     1998    Braito, Silvestr Maria                         1\n",
      "                     1998          Vyskočilová, Eva                         1\n",
      "                     1998         Šindler, Vladimír                         1\n",
      "                     1998        Vodička, Timotheus                         1\n",
      "                     199u              Kafka, Franz                         6\n",
      "                     19uu    Bocheński, Józef Maria                         7\n",
      "                     2003              Šebek, Karel                        18\n"
     ]
    }
   ],
   "source": [
    "\n",
    "# Vybereme sloupec, ktery chceme vypsat\n",
    "picked_column = 'author'\n",
    "\n",
    "# Data ocistime o prazdne hodnoty\n",
    "data_filtered = df[df[picked_column].apply(lambda x: len(x) > 0)]\n",
    "\n",
    "# Formatovani pro hezci vypis\n",
    "string = \"{year: >25} {name: >25} {records: >25}\"\n",
    "\n",
    "# Nejcastejsi hodnoty vypiseme\n",
    "print(string.format(year = \"Rok\", name = \"Nejčastější autor\", records = \"Počet záznamů\"))\n",
    "print(\"----------------------------------------------------------------------------------------------------\")\n",
    "\n",
    "# Projdeme unikátní roky \n",
    "for year in np.unique(data_filtered['year']):\n",
    "\n",
    "    # Zavoláme funkci  max_counter na vybraném sloupci dat pro konkrétní rok a získáme seznam nejčetnějších prvků\n",
    "    ret = max_counter(data_filtered[data_filtered['year'] == year][picked_column])\n",
    "\n",
    "    # Projdeme list nejčetnějších prvků pro daný rok\n",
    "    for name, number_of_records in ret:    \n",
    "        print(string.format(year = year, name = name, records = number_of_records))"
   ]
  },
  {
   "cell_type": "markdown",
   "metadata": {},
   "source": [
    "##### 2.3.1 Druhá varianta - úprava našich funkcí\n",
    "\n",
    "Funkce `count_years(df, column)` a `find_most_common(count)` už máme napsané. V tomto příkladu jen trochu poupravíme funkci `find_most_common(count)` tak, abychom si v případě, že narazíme na autora se stejným počtem článků jaký už máme uložený, zapamatujeme obě jména.  "
   ]
  },
  {
   "cell_type": "code",
   "execution_count": 45,
   "metadata": {},
   "outputs": [
    {
     "name": "stdout",
     "output_type": "stream",
     "text": [
      "Funkce uloženy.\n"
     ]
    }
   ],
   "source": [
    "# Funkce ktera nam spocte pocet zaznamu v danem roce pro kazdeho autora\n",
    "def count_years(df, column):\n",
    "    \n",
    "    # Dictionary, ve kterem jako klic ulozime (rok, jmeno autora)\n",
    "    # a jako hodnotu budeme pripocitavat pocet clanku\n",
    "    count = {}\n",
    "    \n",
    "    # Projdeme radky DataFramu\n",
    "    for _,row in df.iterrows():\n",
    "        year = row['year']\n",
    "        for element in row[column]:\n",
    "            key = (year, element) \n",
    "            # Pokud klic jiz existuje, pripocteme jednicku\n",
    "            if key in count.keys():\n",
    "                count[key] += 1\n",
    "            else:\n",
    "                # Pokud klic zatim neexistuje, vytvorime ho a pridame jedna\n",
    "                count[key] = 1  \n",
    "    return count              \n",
    "\n",
    "# Funkce, ktera nam najde nejcastejsiho autora v danem roce\n",
    "def find_most_common(count):\n",
    "    # Dictionary, ve kterem jako klic ulozime rok\n",
    "    # a jako hodnotu (jmeno autora, pocet clanku)\n",
    "    most_common = {}\n",
    "\n",
    "    # Projdeme klice a hodnoty dictionary\n",
    "    for key,value in count.items():\n",
    "        year = key[0]\n",
    "\n",
    "        # Pokud klic (rok) jiz existuje\n",
    "        if year in most_common:\n",
    "\n",
    "            # Zkontrolujeme, zda je pocet clanku u aktualniho autora vyssi\n",
    "            if most_common[year][0][1] < value:\n",
    "                most_common[year] = [(key[1], value)]    \n",
    "            \n",
    "             # Pokud mají stejný počet článků, přidáme aktuálního autora do listu\n",
    "            elif most_common[year][0][1] == value:\n",
    "                most_common[year].append((key[1], value))  \n",
    "        else:\n",
    "            most_common[year] = [(key[1], value)] \n",
    "    \n",
    "    #Klice slovniku seradime od nejmensiho cisla po nejvetsi         \n",
    "    years = list(most_common.keys())\n",
    "    years.sort()\n",
    "    sorted_most_common = {i: most_common[i] for i in years}        \n",
    "    return sorted_most_common            \n",
    "\n",
    "print(\"Funkce uloženy.\")"
   ]
  },
  {
   "cell_type": "code",
   "execution_count": 47,
   "metadata": {},
   "outputs": [
    {
     "name": "stdout",
     "output_type": "stream",
     "text": [
      "                      Rok         Nejčastější autor             Počet záznamů\n",
      "----------------------------------------------------------------------------------------------------\n",
      "                     1951    Effenberger, Vratislav                        11\n",
      "                     1953                         P                         8\n",
      "                     1954                         P                         2\n",
      "                     1954            Kopecký, Radim                         2\n",
      "                     1954              Kuběna, Jiří                         2\n",
      "                     1954             Havel, Václav                         2\n",
      "                     1958    Effenberger, Vratislav                         6\n",
      "                     1960    Effenberger, Vratislav                        13\n",
      "                     1962    Effenberger, Vratislav                         2\n",
      "                     1966             Budík, Arnošt                         6\n",
      "                     1967             Budík, Arnošt                         7\n",
      "                     1967           Glivický, Josef                         7\n",
      "                     1968             Budík, Arnošt                         3\n",
      "                     1968            Roller, Pierre                         3\n",
      "                     1968         Staročeský anonym                         3\n",
      "                     1969             Budík, Arnošt                         2\n",
      "                     1969            Havlíček, Jiří                         2\n",
      "                     196u              Teige, Karel                         5\n",
      "                     196u         Nezval, Vítězslav                         5\n",
      "                     1970           Novotný, Michal                         5\n",
      "                     1970           Drozd, Miroslav                         5\n",
      "                     1971           Holan, Vladimír                         2\n",
      "                     1972            Fibich, Ondřej                        96\n",
      "                     1973            Fibich, Ondřej                        14\n",
      "                     1974           Řezníček, Pavel                        10\n",
      "                     1975              Daumal, René                        13\n",
      "                     1976           Pavlovský, Petr                        22\n",
      "                     1977           Pavlovský, Petr                        34\n",
      "                     1978           Pavlovský, Petr                        26\n",
      "                     1979             Vrabec, Milan                        52\n",
      "                     197u         Nezval, Vítězslav                        18\n",
      "                     1980              Štogr, Josef                        23\n",
      "                     1981              Štogr, Josef                        22\n",
      "                     1982               Koubek, Jan                        25\n",
      "                     1983               Koubek, Jan                        21\n",
      "                     1984              Štogr, Josef                        30\n",
      "                     1985         Schelinger, Milan                        46\n",
      "                     1986              Štogr, Josef                        31\n",
      "                     1987            Hořec, Jaromír                        38\n",
      "                     1988              Štogr, Josef                        64\n",
      "                     1989                Horák, Oto                        39\n",
      "                     198u          Durych, Jaroslav                        14\n",
      "                     1990                     Horst                        10\n",
      "                     1990           Fanta, Ladislav                        10\n",
      "                     1991                     Moták                        17\n",
      "                     1992                       JMC                        10\n",
      "                     1993                       JMC                         8\n",
      "                     1994 Tarkovskij, Arsenij Aleksandrovič                         1\n",
      "                     1994              Soukup, Petr                         1\n",
      "                     1995           Řezníček, Pavel                        23\n",
      "                     1996           Řezníček, Pavel                        22\n",
      "                     1997           Řezníček, Pavel                         8\n",
      "                     1998         Stankovič, Andrej                         1\n",
      "                     1998              Marek, Karel                         1\n",
      "                     1998  Foerster, Josef Bohuslav                         1\n",
      "                     1998           Holan, Vladimír                         1\n",
      "                     1998       Janoušek, Stanislav                         1\n",
      "                     1998          Durych, Jaroslav                         1\n",
      "                     1998          Zahradníček, Jan                         1\n",
      "                     1998            Fučík, Bedřich                         1\n",
      "                     1998            Florian, Josef                         1\n",
      "                     1998             Dvořák, Miloš                         1\n",
      "                     1998             Černý, Rudolf                         1\n",
      "                     1998         Damborský, Ondřej                         1\n",
      "                     1998          Kuncíř, Ladislav                         1\n",
      "                     1998           Voříšek, Rudolf                         1\n",
      "                     1998              Renč, Václav                         1\n",
      "                     1998         Hrubín, František                         1\n",
      "                     1998        Lazecký, František                         1\n",
      "                     1998          Dvořák, Ladislav                         1\n",
      "                     1998              Slavík, Ivan                         1\n",
      "                     1998              Dokulil, Jan                         1\n",
      "                     1998           Frynta, Emanuel                         1\n",
      "                     1998             Vašica, Josef                         1\n",
      "                     1998           Škarka, Antonín                         1\n",
      "                     1998          Benáček, Leopold                         1\n",
      "                     1998         Venhoda, Miroslav                         1\n",
      "                     1998                Sokol, Jan                         1\n",
      "                     1998           Pavlok, Bohumil                         1\n",
      "                     1998        Jehlička, Ladislav                         1\n",
      "                     1998               Beran, Jiří                         1\n",
      "                     1998           Myslivec, Josef                         1\n",
      "                     1998           Králík, Oldřich                         1\n",
      "                     1998    Braito, Silvestr Maria                         1\n",
      "                     1998          Vyskočilová, Eva                         1\n",
      "                     1998         Šindler, Vladimír                         1\n",
      "                     1998        Vodička, Timotheus                         1\n",
      "                     199u              Kafka, Franz                         6\n",
      "                     19uu    Bocheński, Józef Maria                         7\n",
      "                     2003              Šebek, Karel                        18\n"
     ]
    }
   ],
   "source": [
    "# Vybereme sloupec, ktery chceme vypsat\n",
    "picked_column = 'author'\n",
    "\n",
    "# Zavolame nase funkce\n",
    "count = count_years(df, picked_column)\n",
    "\n",
    "most_common = find_most_common(count)\n",
    "\n",
    "# Formatovani pro hezci vypis\n",
    "string = \"{year: >25} {name: >25} {records: >25}\"\n",
    "# Nejcastejsi hodnoty vypiseme\n",
    "print(string.format(year = \"Rok\", name = \"Nejčastější autor\", records = \"Počet záznamů\"))\n",
    "print(\"----------------------------------------------------------------------------------------------------\")\n",
    "for key, value in most_common.items():\n",
    "    for v in value:\n",
    "        print(string.format(year = key, name = v[0], records = v[1]))  "
   ]
  },
  {
   "cell_type": "markdown",
   "metadata": {},
   "source": [
    "<div class='alert alert-block alert-info'>\n",
    "    <b>Try It!</b> Kromě bibliografie literárního exilu můžeme vyzkoušet i jiné bibliografie. Stačí si v předchozím Jupyter notebooku vytvořit CSV tabulku. \n",
    "</div>\n"
   ]
  }
 ],
 "metadata": {
  "kernelspec": {
   "display_name": "Python 3",
   "language": "python",
   "name": "python3"
  },
  "language_info": {
   "codemirror_mode": {
    "name": "ipython",
    "version": 3
   },
   "file_extension": ".py",
   "mimetype": "text/x-python",
   "name": "python",
   "nbconvert_exporter": "python",
   "pygments_lexer": "ipython3",
   "version": "3.11.4"
  },
  "orig_nbformat": 4
 },
 "nbformat": 4,
 "nbformat_minor": 2
}
