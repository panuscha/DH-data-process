{
 "cells": [
  {
   "cell_type": "markdown",
   "metadata": {},
   "source": [
    "V tomto notebooku si ukážeme, jak jednoduše načíst marcový dokument pomocí knihovny pymarc, jak marcový záznam vypadá, jak data z marcového dokumentu vytáhnout a uložit do csv tabulky. Nakonec z dat zjistíme nejčetnějšího autora za každý rok.   \n",
    "\n",
    "\n",
    "### 0. Příprava \n",
    "Jako první si musíme nainstalovat knihovny, se kterými budeme pracovat. Knihovny jsou balíčky funkcí, které nejsou součástí základu jazyka python. <br>\n",
    "Knihovny nainstalujeme pomocí příkazu `%pip install <jmeno_knihovny>` . Pak je do našeho notebooku přidáme pomocí příkazu `import <jmeno_knihovny> (as alias)`. K funkcím knihovny se pak přistupuje `jmeno_knihovny.jmeno_funkce` <br> \n",
    "Pokud z knihovny chceme využít pouze jednu funkci, přidáme ji pomocí `from <jmeno_knihovny> import <jmeno_funkce>`"
   ]
  },
  {
   "cell_type": "code",
   "execution_count": null,
   "metadata": {},
   "outputs": [],
   "source": [
    "# Prikaz ktery naistaluje knihovny\n",
    "%pip install pandas \n",
    "%pip install pymarc \n",
    "%pip install openpyxl\n",
    "\n",
    "# Prikaz ktery knihovny prida \n",
    "from collections import Counter\n",
    "import pandas as pd\n",
    "from pymarc import MARCReader"
   ]
  },
  {
   "cell_type": "markdown",
   "metadata": {},
   "source": [
    "# ROZDELIT\n",
    "\n",
    "### 3. Načtení z csv\n",
    "\n",
    "Teď, když máme hodnoty uložené v csv, bude mnohem jednodušší s nimi pracovat. Uložená data načteme pomocí knihovny pandas do datové struktury DataFrame (která je podobná např. excelovské tabulce). Řádky v DataFramu reprezentují jednotlivé záznamy, sloupce pak jeden typ (např. jmeno autora).\n",
    "Některá pole a podpole mohou opakovat, ty jsou  v csv spojené středníkem. V DataFramu je pak podpole rozpojíme a převede do listu (seznamu). \n"
   ]
  },
  {
   "cell_type": "code",
   "execution_count": null,
   "metadata": {},
   "outputs": [],
   "source": [
    "# Cesta k nasim datum\n",
    "csv_data = 'data/csv/out_smz.csv'\n",
    "\n",
    "# Nacteni dat\n",
    "df = pd.read_csv(csv_data, delimiter=',')\n",
    "\n",
    "print(\"Data načtena do DataFramu df.\")\n",
    "\n",
    "for column in df.columns:\n",
    "    # Hodnoty spojene v jeden string zpatky rozdelime do listu, aby se nam s nim lepe pracovalo\n",
    "    df[column] = df[column].apply(lambda x: x.split(';') if isinstance(x, str)  else [])\n",
    "        \n",
    "df['year'] = df['year'].apply(lambda x: x[0] if len(x)>0 else None)        "
   ]
  },
  {
   "cell_type": "markdown",
   "metadata": {},
   "source": [
    "### 4. Souhrnné statistiky\n",
    "\n",
    "Nyní se podíváme, jak z dat zjistit jednoduché statistiky. \n",
    "\n",
    "#### 4.1 Počet výskytů \n",
    "\n",
    "Pokud chceme vědet, kolikrát se v databázi objevuje nějaká hodnota, použijeme funkci `value_counts()`. V následujícím příkladu si ukážeme, kolik je v databázi z jakého roku záznamů."
   ]
  },
  {
   "cell_type": "code",
   "execution_count": null,
   "metadata": {},
   "outputs": [],
   "source": [
    "records_to_print = 20\n",
    "\n",
    "df['year'].value_counts()[:records_to_print] # vypise prvnich x zaznamu"
   ]
  },
  {
   "cell_type": "markdown",
   "metadata": {},
   "source": [
    "Vidíme, že zdaleka nejvíce záznamů je z 80. let, následně pak z let 70. "
   ]
  },
  {
   "cell_type": "markdown",
   "metadata": {},
   "source": [
    "<div class='alert alert-block alert-info'>\n",
    "    <b>Try It!</b> Místo sloupce 'year' můžeme vypsat např. 'author', čímž zjistíme, kolikrát se jaký autor v databázi objevuje.\n",
    "</div>"
   ]
  },
  {
   "cell_type": "markdown",
   "metadata": {},
   "source": [
    "#### 4.2 Nejčastější autor v daném roce\n",
    "\n",
    "Teď si ukážeme, jak z dat zjistit, který autor v jakém roce publikoval nejvíce článků (tedy se v záznamech v daném roce nejčastěji objevuje jako autor). Existuje několik způsobů, jak na to přijít. My si představíme dva.<br>\n",
    "\n",
    "##### 4.2.1 První varianta\n",
    "\n",
    "Nejprve si napíšeme dvě vlastní funkce. První nám spočte počet článků každého autora v každém roce. Druhá pak pro každý rok zjistí, který autor v každém roce napsal nejvíce článků.  \n"
   ]
  },
  {
   "cell_type": "code",
   "execution_count": null,
   "metadata": {},
   "outputs": [],
   "source": [
    "# Funkce ktera nam spocte pocet clanku v danem roce pro kazdeho autora\n",
    "def count_years(df, column):\n",
    "    \n",
    "    # Dictionary, ve kterem jako klic ulozime (rok, jmeno autora)\n",
    "    # a jako hodnotu budeme pripocitavat pocet clanku\n",
    "    count = {}\n",
    "    \n",
    "    # Iterace pres radky DataFramu\n",
    "    for _,row in df.iterrows():\n",
    "        year = row['year']\n",
    "        for element in row[column]:\n",
    "            key = (year, element) \n",
    "            # Pokud klic jiz existuje, pripocteme jednicku\n",
    "            if key in count.keys():\n",
    "                count[key] += 1\n",
    "            else:\n",
    "                # Pokud klic zatim neexistuje, vytvorime ho a pridame jedna\n",
    "                count[key] = 1  \n",
    "    return count              \n",
    "\n",
    "# Funkce, ktera nam najde nejcastejsiho autora v danem roce\n",
    "def find_most_common(count):\n",
    "    # Dictionary, ve kterem jako klic ulozime rok\n",
    "    # a jako hodnotu (jmeno autora, pocet clanku)\n",
    "    most_common = {}\n",
    "\n",
    "    # Iterace skrz dictionary\n",
    "    for key,value in count.items():\n",
    "        year = key[0]\n",
    "        # Pokud klic (rok) jiz existuje, podivame se, \n",
    "        # zda je pocet clanku u aktualniho autora vyssi  \n",
    "        if year in most_common:\n",
    "            if most_common[year][1] < value:\n",
    "                # Pamatujeme si jen tu nejvyssi hodnotu\n",
    "                most_common[year] = (key[1], value)    \n",
    "        else:\n",
    "            most_common[year] = (key[1], value) \n",
    "    \n",
    "    #Klice slovniku seradime od nejmensiho cisla po nejvetsi         \n",
    "    years = list(most_common.keys())\n",
    "    years.sort()\n",
    "    sorted_most_common = {i: most_common[i] for i in years}        \n",
    "    return sorted_most_common            \n",
    "\n",
    "print(\"Funkce uloženy.\")\n",
    "  "
   ]
  },
  {
   "cell_type": "markdown",
   "metadata": {},
   "source": [
    "Teď už jen funkce zavoláme a výsledek vypíšeme. <br> "
   ]
  },
  {
   "cell_type": "code",
   "execution_count": null,
   "metadata": {},
   "outputs": [],
   "source": [
    "# Vybereme sloupec, ktery chceme vypsat\n",
    "picked_column = 'author'\n",
    "\n",
    "count = count_years(df, picked_column)\n",
    "\n",
    "most_common = find_most_common(count)\n",
    "\n",
    "# Formatovani pro hezci vypis\n",
    "string = \"{year: >30} {name: >30} {articles: >30}\"\n",
    "# Nejcastejsi hodnoty vypiseme\n",
    "print(string.format(year = \"Rok\", name = \"Nejčastější autor\", articles = \"Počet článků\"))\n",
    "print(\"----------------------------------------------------------------------------------------------------\")\n",
    "for key, value in most_common.items():\n",
    "    print(string.format(year = key, name = value[0], articles = value[1]))        \n"
   ]
  },
  {
   "cell_type": "markdown",
   "metadata": {},
   "source": [
    "V tabulce vidíme, že počet napsaných článků za jednotlivé roky se výrazně liší. "
   ]
  },
  {
   "cell_type": "markdown",
   "metadata": {},
   "source": [
    "<div class='alert alert-block alert-info'>\n",
    "    <b>Try It!</b> Kód je napsán tak, aby se parametry daly jednoduše upravit. Můžeme si tak zkusit změnit proměnnou picked_colum na 'figures', čímž zjistíme, o kom se nejvíce daný rok psalo.\n",
    "</div>"
   ]
  },
  {
   "cell_type": "markdown",
   "metadata": {},
   "source": [
    "#### 4.2.2 Druhá varianta\n",
    "\n",
    "Tím, že máme data uložena do DataFramu, umožňuje nám to využít funkce knihovny pandas. V našem případě využijeme funkci , která data seskupí podle vybraného sloupce. <br>\n",
    "Použijeme také funkci `Counter`, která nám spočte výskyt každého elementu. <br>\n",
    "V neposlední řadě využijeme anonymní funkci lambda.<br>"
   ]
  },
  {
   "cell_type": "code",
   "execution_count": null,
   "metadata": {},
   "outputs": [],
   "source": [
    "# Data ocistime o prazdne hodnoty\n",
    "data_filtered = df[df[picked_column].apply(lambda x: len(x) > 0)]\n",
    "\n",
    "# Data seskupime podle nejcastejsiho elementu v kazde hodnote groupby\n",
    "most_common = data_filtered.groupby('year')[picked_column].apply(lambda x: Counter(element for elements in x for element in elements).most_common(1)[0][0] if len(x) > 0 else None) \n",
    "\n",
    "print(most_common)"
   ]
  },
  {
   "cell_type": "markdown",
   "metadata": {},
   "source": [
    "V tabulce můžeme vidět, který autor za daný rok publikoval nejvíce článků napříč všemi časopisy. Je třeba si uvědomit, že i když je v tabulce nějaký autor v daný rok nejčastější, nemusí v celkovém počtu napsat hodně článků. Ostatně se o tom můžeme přesvěsvědčit v předchozí buňce.<br>\n",
    "Je možné, že se od sebe dvě tabulky budou mírně odlišovat a to v případě, že za daný rok napsalo více autorů stejný počet článků. "
   ]
  },
  {
   "cell_type": "markdown",
   "metadata": {},
   "source": [
    "<div class='alert alert-block alert-info'>\n",
    "    <b>Try It!</b> Kromě bibliografie literárního exilu můžeme vyzkoušet i jiné bibliografie.\n",
    "</div>\n"
   ]
  }
 ],
 "metadata": {
  "kernelspec": {
   "display_name": "Python 3",
   "language": "python",
   "name": "python3"
  },
  "language_info": {
   "name": "python",
   "version": "3.11.4"
  },
  "orig_nbformat": 4
 },
 "nbformat": 4,
 "nbformat_minor": 2
}
