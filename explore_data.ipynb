{
 "cells": [
  {
   "attachments": {},
   "cell_type": "markdown",
   "metadata": {},
   "source": [
    "## Příprava \n",
    "Neprve si data stáhneme a podíváme se, co je uvnitř. Data jsou uložena v knihovním formátu MARC s koncovnkou .mrc. \n",
    "Pro práci budeme používat knihovnu pymarc, která dokáže marcový formát jednodušše načíst.   \n",
    "Nejprve si vypíšeme, jak takový záznam vypadá.  "
   ]
  },
  {
   "cell_type": "code",
   "execution_count": 1,
   "metadata": {},
   "outputs": [
    {
     "name": "stdout",
     "output_type": "stream",
     "text": [
      "=LDR  00875nab a22003134a 4500\n",
      "=001  001457852\n",
      "=003  CZ\\PrUCL\n",
      "=005  20220321104606.0\n",
      "=008  090923e197808\\\\xr\\\\\\\\\\\\\\\\\\\\\\\\|||\\||cze\\d\n",
      "=035  \\\\$a(ISIS-B70-MFN)78971\n",
      "=035  \\\\$a(ISIS-B70-ID)785001\n",
      "=040  \\\\$aABB060$bcze\n",
      "=080  \\\\$a7.01$2MRF\n",
      "=080  \\\\$a(0:82-4)$2MRF\n",
      "=100  1\\$aKliment, Alexandr,$d1929-2017$7jk01060558$4aut\n",
      "=245  10$aKultura je když... /$cAlexandr Kliment.\n",
      "=500  \\\\$aPodnázev zdrojového dokumentu: (London, Index on Censorship).\n",
      "=520  2\\$aÚvaha.\n",
      "=599  \\\\$aCLB-CPK\n",
      "=650  07$aestetika$7ph117189$2czenas\n",
      "=655  \\7$aúvahy$7fd134000$2czenas\n",
      "=773  0\\$tSpektrum$gR. 1978, č. 1, srpen, s. 77-79$q1978:1<77$9197808\n",
      "=964  \\\\$aB70\n",
      "=964  \\\\$aSMZ\n",
      "=964  \\\\$aCLE\n",
      "=OWN  \\\\$aUCLA\n",
      "=SIF  \\\\$afk\n",
      "=910  \\\\$aABB060\n",
      "=ZAZ  \\\\$d197808$s1978$z1$l77\n",
      "\n"
     ]
    }
   ],
   "source": [
    "from pymarc import MARCReader\n",
    "\n",
    "# Cesta k marcovemu dokumentu\n",
    "database = 'data/ucla/ucla_cle.mrc'\n",
    "\n",
    "# Otevreni souboru\n",
    "with open(database, 'rb') as data:\n",
    "    # Nacteni marcu\n",
    "    reader = MARCReader(data)\n",
    "\n",
    "    # Iterace skrz nacteny soubor\n",
    "    for record in reader:\n",
    "        # Vypsani marcovych zaznamu\n",
    "        print(record)\n",
    "\n",
    "        # Chceme vypsat pouze jeden zaznma, tak po prvnim vypsani zavolame funkci break\n",
    "        break\n"
   ]
  },
  {
   "attachments": {},
   "cell_type": "markdown",
   "metadata": {},
   "source": [
    "Vidíme, že marcový soubor má jasnou strukuru. Má několik polí, která jsou označena zpravidla třemi číslicem, případně třemi písmeny. Každý kód má svou vnitřní logiku, např. pole pro věcné popisy vždy začínají číslicí 6XX.\n",
    "\n"
   ]
  },
  {
   "cell_type": "code",
   "execution_count": 7,
   "metadata": {},
   "outputs": [
    {
     "name": "stdout",
     "output_type": "stream",
     "text": [
      "Záznam: 01202nab a22003374a 4500\n",
      "Nazev: Dělám si, co chci /\n",
      "Autor: Radůza, 1973- jo2003184056 ive\n",
      "Žánr: rozhovory\n"
     ]
    }
   ],
   "source": [
    "# Otevreni souboru\n",
    "with open(database, 'rb') as data:\n",
    "    # Nacteni marcu\n",
    "    reader = MARCReader(data)\n",
    "\n",
    "    # Iterace skrz nacteny soubor\n",
    "    for record in reader:\n",
    "        # Vypsani marcovych zaznamu\n",
    "        # K nekterym zaznamum muzeme pristupovat pres teckovou notaci, tedy record.leader nebo record.title \n",
    "        print(\"Záznam: \" + record.leader)\n",
    "        \n",
    "        # Pred vypsanim je standardem se nejprve podivat, zda zaznam existuje (tedy ze neni None). \n",
    "        # Pokud bychom se totiz snazili vypsat None zaznam, kod by vyhodil error. \n",
    "        if record.title is not None:\n",
    "            print(\"Nazev: \" + record.title)\n",
    "        if record.author is not None:\n",
    "            print(\"Autor: \" + record.author)\n",
    "        # Pokud chceme zjistit, zda pole ktere nema teckovou notaci neni None, je potreba zavolat funci .get_field(), pripadne .get_field()     \n",
    "        if record.get_fields('655') is not None:    \n",
    "            # K polim, ktere nemaji teckovou notaci, se pristupuje pres zavorky \n",
    "            print(\"Žánr: \" + record['655']['a'])\n",
    "        break        "
   ]
  },
  {
   "attachments": {},
   "cell_type": "markdown",
   "metadata": {},
   "source": [
    "Také by nás mohlo zajímat, kolik záznamů je v dané databázi. K tomu si muzeme vytvorit samostatnou funkci, kterou pak jen zavolame"
   ]
  },
  {
   "cell_type": "code",
   "execution_count": 9,
   "metadata": {},
   "outputs": [
    {
     "name": "stdout",
     "output_type": "stream",
     "text": [
      "V databazi je 58934 zaznamu.\n"
     ]
    }
   ],
   "source": [
    "# Vlastni funkce definujeme pomoci slova def\n",
    "def number_of_records(database):\n",
    "    with open(database, 'rb') as data:\n",
    "    # Nacteni marcu\n",
    "        reader = MARCReader(data)\n",
    "        # Vytvorime counter, ke kteremu pri kazdem zaznamu pricteme jednicku\n",
    "        counter = 0\n",
    "        for record in reader:\n",
    "            counter += 1\n",
    "    return counter \n",
    "\n",
    "print(\"V databazi je \" + str(number_of_records(database)) + \" zaznamu.\")        "
   ]
  },
  {
   "attachments": {},
   "cell_type": "markdown",
   "metadata": {},
   "source": [
    "Teď je potřeba si marcová data uložit do jednodušší tabulky, se kterou později budeme pracovat. V této fázi si musíme ujasnit, jaká data budeme chtít zpracovat. V našem příkladu si budeme chtít uložit název, autora, autorův kód, rok vydání a pak pole '600','650' a '655'. \n",
    "Veškeré záznamy začínající číslem 6XX jsou věcné údaje o záznamu. Všechna pole se mohou opakovat.\n",
    "Pod polem '600' se skrývají osoby, o kterých záznam je nebo případně osoby, kterým je záznam dedikován. \n",
    "Pod polem '650' se nacházejí věcné termíny/téma, tzn. o čem záznam je.\n",
    "Pod polem '655' pak najdeme žánr daného záznamu. Na rozdíl od polí '600' a '650' by pole '655' mělo být přítomné u každého záznamu. \n",
    "\n",
    "K tomu jsme si napsali funkci save_to_dict(record, dict, field_list), která nám jeden záznam(record) uloží do slovníku dict. Protože si nebudeme chtít uložit všechny pole v záznamu, předáme funkci save_to_dict také seznam polí field_list, která budeme chtít uložit. Seznam field_list sestává z tuplů (kolekce v jazyce Python), kde každý tuple vypadá následovně. Na první pozici je název klíče, pod kterým bude pole uloženo, na druhé pozici tag pole a na třetí tag podpole, např. ('author', '100', 'a'). "
   ]
  },
  {
   "cell_type": "code",
   "execution_count": null,
   "metadata": {},
   "outputs": [],
   "source": [
    "import pandas as pd\n",
    "\n",
    "\n",
    "def save_to_dict(record, dict, field_list):\n",
    "    if not record is None:\n",
    "        try:\n",
    "            # Iterace skrz tuples v seznamu field_list\n",
    "            for field_tags in field_list:\n",
    "                # Nazev klice ve slovniku\n",
    "                dict_key_name =  field_tags[0]\n",
    "\n",
    "                # Tag pole\n",
    "                tag =  field_tags[1]\n",
    "\n",
    "                # Tag podpole\n",
    "                subfield_tag =  field_tags[2]\n",
    "                \n",
    "                # Seznam do ktereho pridame hodnoty a nasledne pridame do slovniku\n",
    "                dict_add_list = []\n",
    "                \n",
    "                # Iterace pres vsechna pole s tagem 'tag'\n",
    "                for field in record.get_fields(tag):\n",
    "                    \n",
    "                    # Pokud pole nema zadna podpole, pridame cele pole do listu dict_add_list\n",
    "                    if subfield_tag is None:\n",
    "                        dict_add_list.append(str(field))\n",
    "                    \n",
    "                    # Pokud subtag je instance slice, tedy to znamena, ze chceme jen nejakou cast pole, ktera neni definovana subpolem,\n",
    "                    # pridame cast pole do slovniku dict_add_list    \n",
    "                    elif isinstance(subfield_tag, slice):\n",
    "                        dict_add_list.append(str(field) [subfield_tag])     \n",
    "                    \n",
    "                    # Pokud pole obsahuje podpole, pridame do slovniku dict_add_list jen podpole\n",
    "                    elif '$'+subfield_tag in str(field):  \n",
    "                        dict_add_list.append(str(field[subfield_tag]))\n",
    "\n",
    "                # Do klice z tuplu pridame cely seznam dict_add_list         \n",
    "                dict[dict_key_name].append(dict_add_list)\n",
    "        except Exception as error:\n",
    "            print(\"Exception: \" + type(error).__name__)  \n",
    "            print(\"964 Field: \" + str(record.get_fields('964')))  \n",
    "            print(\"LDR: \" + str(record.leader))   \n",
    "    return dict \n",
    "out = 'data/out.csv'\n",
    "\n",
    "with open(database, 'rb') as data:\n",
    "    reader = MARCReader(data)\n",
    "    field_list = [('title', '245', 'a'),\n",
    "                ('author', '100', 'a'),\n",
    "                ('author code', '100', '7'),\n",
    "                ('year', '008', slice(13,17, None)),\n",
    "                ('figures', '600', 'a'),\n",
    "                ('description', '650', 'a'),\n",
    "                ('genre', '655', 'a')]\n",
    "    dict = {}\n",
    "    for t in field_list:\n",
    "        dict_key_name = t[0]\n",
    "        dict[dict_key_name] = []\n",
    "    for record in reader:\n",
    "        dict = save_to_dict(record, dict, field_list)\n",
    "    df = pd.DataFrame.from_dict(dict)\n",
    "    df['figures'] = df['figures'].apply(lambda x: [y[:-1] if isinstance(y, str) and len(y) > 0 else y for y in x]) \n",
    "    df['author'] = df['author'].apply(lambda x: [y[:-1] if isinstance(y, str) and len(y) > 0 else y for y in x])  \n",
    "    for column in df.columns:\n",
    "        df[column] = df[column].apply(lambda x: ';'.join(x))\n",
    "    df.to_csv(out, encoding = 'utf8', sep = \",\")     "
   ]
  },
  {
   "attachments": {},
   "cell_type": "markdown",
   "metadata": {},
   "source": []
  },
  {
   "cell_type": "code",
   "execution_count": null,
   "metadata": {},
   "outputs": [],
   "source": []
  }
 ],
 "metadata": {
  "kernelspec": {
   "display_name": "Python 3",
   "language": "python",
   "name": "python3"
  },
  "language_info": {
   "codemirror_mode": {
    "name": "ipython",
    "version": 3
   },
   "file_extension": ".py",
   "mimetype": "text/x-python",
   "name": "python",
   "nbconvert_exporter": "python",
   "pygments_lexer": "ipython3",
   "version": "3.11.4"
  },
  "orig_nbformat": 4
 },
 "nbformat": 4,
 "nbformat_minor": 2
}
