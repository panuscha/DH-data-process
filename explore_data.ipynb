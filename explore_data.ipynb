{
 "cells": [
  {
   "attachments": {},
   "cell_type": "markdown",
   "metadata": {},
   "source": [
    "V tomto notebooku si ukážeme, jak jednoduše načíst marcový dokument pomocí knihovny pymarc, jak marcový záznam vypadá, jak data z marcového dokumentu vytáhnout a uložit do csv tabulky. Nakonec z dat zjistíme nejčetnějšího autora za každý rok.   \n",
    "\n",
    "\n",
    "#### Příprava \n",
    "Jako první si musíme nainstalovat knihovny, se kterými budeme pracovat. Knihovny jsou balíčky funkcí, které nejsou součástí základu jazyka python. <br>\n",
    "Knihovny nainstalujeme pomocí příkazu %pip install jmeno_knihovny. Pak je do našeho notebooku přidáme pomocí příkazu import jmeno_knihovny (as alias). K funkcím knihovny se pak přistupuje jmeno_knihovny.jmeno_funkce <br> \n",
    "Pokud z knihovny chceme využít pouze jednu funkci, přidáme ji pomocí from jmeno_knihovny import jmeno_funkce"
   ]
  },
  {
   "cell_type": "code",
   "execution_count": 59,
   "metadata": {},
   "outputs": [
    {
     "name": "stdout",
     "output_type": "stream",
     "text": [
      "Requirement already satisfied: pandas in c:\\users\\panuskova\\appdata\\local\\programs\\python\\python311\\lib\\site-packages (2.0.2)Note: you may need to restart the kernel to use updated packages.\n"
     ]
    },
    {
     "name": "stderr",
     "output_type": "stream",
     "text": [
      "\n",
      "[notice] A new release of pip is available: 23.1.2 -> 23.2.1\n",
      "[notice] To update, run: python.exe -m pip install --upgrade pip\n"
     ]
    },
    {
     "name": "stdout",
     "output_type": "stream",
     "text": [
      "\n",
      "Requirement already satisfied: python-dateutil>=2.8.2 in c:\\users\\panuskova\\appdata\\local\\programs\\python\\python311\\lib\\site-packages (from pandas) (2.8.2)\n",
      "Requirement already satisfied: pytz>=2020.1 in c:\\users\\panuskova\\appdata\\local\\programs\\python\\python311\\lib\\site-packages (from pandas) (2023.3)\n",
      "Requirement already satisfied: tzdata>=2022.1 in c:\\users\\panuskova\\appdata\\local\\programs\\python\\python311\\lib\\site-packages (from pandas) (2023.3)\n",
      "Requirement already satisfied: numpy>=1.21.0 in c:\\users\\panuskova\\appdata\\local\\programs\\python\\python311\\lib\\site-packages (from pandas) (1.24.4)\n",
      "Requirement already satisfied: six>=1.5 in c:\\users\\panuskova\\appdata\\local\\programs\\python\\python311\\lib\\site-packages (from python-dateutil>=2.8.2->pandas) (1.16.0)\n",
      "Requirement already satisfied: pymarc in c:\\users\\panuskova\\appdata\\local\\programs\\python\\python311\\lib\\site-packages (5.1.0)Note: you may need to restart the kernel to use updated packages.\n"
     ]
    },
    {
     "name": "stderr",
     "output_type": "stream",
     "text": [
      "\n",
      "[notice] A new release of pip is available: 23.1.2 -> 23.2.1\n",
      "[notice] To update, run: python.exe -m pip install --upgrade pip\n"
     ]
    },
    {
     "name": "stdout",
     "output_type": "stream",
     "text": [
      "\n",
      "Requirement already satisfied: openpyxl in c:\\users\\panuskova\\appdata\\local\\programs\\python\\python311\\lib\\site-packages (3.1.2)\n",
      "Requirement already satisfied: et-xmlfile in c:\\users\\panuskova\\appdata\\local\\programs\\python\\python311\\lib\\site-packages (from openpyxl) (1.1.0)\n",
      "Requirement already satisfied: openpyxl in c:\\users\\panuskova\\appdata\\local\\programs\\python\\python311\\lib\\site-packages (3.1.2)\n",
      "Requirement already satisfied: et-xmlfile in c:\\users\\panuskova\\appdata\\local\\programs\\python\\python311\\lib\\site-packages (from openpyxl) (1.1.0)\n",
      "Note: you may need to restart the kernel to use updated packages.\n"
     ]
    },
    {
     "name": "stderr",
     "output_type": "stream",
     "text": [
      "\n",
      "[notice] A new release of pip is available: 23.1.2 -> 23.2.1\n",
      "[notice] To update, run: python.exe -m pip install --upgrade pip\n"
     ]
    }
   ],
   "source": [
    "# Prikaz ktery naistaluje knihovny\n",
    "%pip install pandas \n",
    "%pip install pymarc openpyxl\n",
    "%pip install openpyxl\n",
    "\n",
    "# Prikaz ktery knihovny prida \n",
    "from collections import Counter\n",
    "import numpy as np\n",
    "import pandas as pd\n",
    "from pymarc import MARCReader\n"
   ]
  },
  {
   "cell_type": "markdown",
   "metadata": {},
   "source": [
    "Data si stáhneme a podíváme se, co je uvnitř. Jsou uložena v knihovním formátu MARC s koncovnkou .mrc. Pro práci budeme používat knihovnu pymarc, která dokáže marcový formát jednodušše načíst. <br>   \n",
    "Nejprve si vypíšeme, jak takový záznam vypadá. Můžeme pomocí parametru ith nastavit, kolikátý záznam chceme vypsat (indexování začíná od 0). Pokud bychom chtěli vypsat všechny záznamy do i-tého záznamu, změníme `if i == ith:` na `if i <= ith:` a smažeme příkaz `break`. "
   ]
  },
  {
   "cell_type": "code",
   "execution_count": 60,
   "metadata": {},
   "outputs": [
    {
     "name": "stdout",
     "output_type": "stream",
     "text": [
      "=LDR  00875nab a22003134a 4500\n",
      "=001  001457852\n",
      "=003  CZ\\PrUCL\n",
      "=005  20220321104606.0\n",
      "=008  090923e197808\\\\xr\\\\\\\\\\\\\\\\\\\\\\\\|||\\||cze\\d\n",
      "=035  \\\\$a(ISIS-B70-MFN)78971\n",
      "=035  \\\\$a(ISIS-B70-ID)785001\n",
      "=040  \\\\$aABB060$bcze\n",
      "=080  \\\\$a7.01$2MRF\n",
      "=080  \\\\$a(0:82-4)$2MRF\n",
      "=100  1\\$aKliment, Alexandr,$d1929-2017$7jk01060558$4aut\n",
      "=245  10$aKultura je když... /$cAlexandr Kliment.\n",
      "=500  \\\\$aPodnázev zdrojového dokumentu: (London, Index on Censorship).\n",
      "=520  2\\$aÚvaha.\n",
      "=599  \\\\$aCLB-CPK\n",
      "=650  07$aestetika$7ph117189$2czenas\n",
      "=655  \\7$aúvahy$7fd134000$2czenas\n",
      "=773  0\\$tSpektrum$gR. 1978, č. 1, srpen, s. 77-79$q1978:1<77$9197808\n",
      "=964  \\\\$aB70\n",
      "=964  \\\\$aSMZ\n",
      "=964  \\\\$aCLE\n",
      "=OWN  \\\\$aUCLA\n",
      "=SIF  \\\\$afk\n",
      "=910  \\\\$aABB060\n",
      "=ZAZ  \\\\$d197808$s1978$z1$l77\n",
      "\n"
     ]
    }
   ],
   "source": [
    "# Cesta k marcovemu dokumentu\n",
    "database = 'data/ucla/ucla_cle.mrc'\n",
    "\n",
    "# i-ty zaznam, ktery chceme vypsat\n",
    "ith = 5\n",
    "\n",
    "# Otevreni souboru\n",
    "with open(database, 'rb') as data:\n",
    "    # Nacteni marcu\n",
    "    reader = MARCReader(data)\n",
    "\n",
    "    # Iterace skrz nacteny soubor\n",
    "    for i,record in enumerate(reader):        \n",
    "        \n",
    "        # Pokud je i nas zaznam, vypiseme ho \n",
    "        if i <= ith:\n",
    "            # Vypsani marcovych zaznamu\n",
    "            print(record)\n",
    "\n",
    "            # Chceme vypsat pouze jeden zaznam, tak po prvnim vypsani zavolame funkci break\n",
    "            break\n"
   ]
  },
  {
   "attachments": {},
   "cell_type": "markdown",
   "metadata": {},
   "source": [
    "Vidíme, že marcový soubor má jasnou strukuru. Má několik polí, která jsou označena zpravidla třemi číslicem, případně třemi písmeny. Každý kód má svou vnitřní logiku, např. pole pro věcné popisy vždy začínají číslicí 6XX. \n",
    "Za číslem - tagem pole se obvyke nachází dva indikátory. Pokud indikátor není definovaný, píše se místo něj zpětné lomítko (\\\\). \n",
    "Většina polí se dělí na podpole. Nachází se za dolarem (\\$) a označují se buď jedním písmenem, nebo číslicí.  \n",
    "\n"
   ]
  },
  {
   "cell_type": "markdown",
   "metadata": {},
   "source": [
    "Pro práci s databází pravděpodobně nebudeme potřebovat všechna pole, proto si vypíšeme jen číslo záznamu, název, autora a žánr. K většině polím se dostaneme přes tečkovou notaci (record._)"
   ]
  },
  {
   "cell_type": "code",
   "execution_count": 61,
   "metadata": {},
   "outputs": [
    {
     "name": "stdout",
     "output_type": "stream",
     "text": [
      "Záznam: 00878nab a22003134a 4500\n",
      "Nazev: Archeologie času /\n",
      "Autor: Vašíček, Zdeněk, 1933-2011 jk01141688 aut\n",
      "Žánr: eseje\n"
     ]
    }
   ],
   "source": [
    "ith = 5\n",
    "\n",
    "# Otevreni souboru\n",
    "with open(database, 'rb') as data:\n",
    "    # Nacteni marcu\n",
    "    reader = MARCReader(data)\n",
    "\n",
    "    # Iterace skrz nacteny soubor\n",
    "    for i, record in enumerate(reader):\n",
    "\n",
    "        if i == ith:\n",
    "            # Vypsani marcovych zaznamu\n",
    "            # K nekterym zaznamum muzeme pristupovat pres teckovou notaci, tedy record.leader nebo record.title \n",
    "            print(\"Záznam: \" + record.leader)\n",
    "        \n",
    "            # Pred vypsanim je standardem se nejprve podivat, zda zaznam existuje (tedy ze neni None). \n",
    "            # Pokud bychom se totiz snazili vypsat None zaznam, kod by vyhodil error. \n",
    "            if record.title is not None:\n",
    "                print(\"Nazev: \" + record.title)\n",
    "            if record.author is not None:\n",
    "                print(\"Autor: \" + record.author)\n",
    "            # Pokud chceme zjistit, zda pole ktere nema teckovou notaci neni None, je potreba zavolat funci .get_field(), pripadne .get_field()     \n",
    "            if record.get_fields('655') is not None:    \n",
    "                # K polim, ktere nemaji teckovou notaci, se pristupuje pres zavorky \n",
    "                print(\"Žánr: \" + record['655']['a'])\n",
    "            break        "
   ]
  },
  {
   "attachments": {},
   "cell_type": "markdown",
   "metadata": {},
   "source": [
    "Také by nás mohlo zajímat, kolik záznamů je v dané databázi. K tomu si vytvoříme samostatnou funkci, kterou pak jen zavoláme. Funkce projde celý soubor a při každém záznamu si připočítá jedničku k počítadlu.  "
   ]
  },
  {
   "cell_type": "code",
   "execution_count": 62,
   "metadata": {},
   "outputs": [
    {
     "name": "stdout",
     "output_type": "stream",
     "text": [
      "V databázi je 9612 záznamu.\n"
     ]
    }
   ],
   "source": [
    "# Vlastni funkce definujeme pomoci slova def\n",
    "def number_of_records(database):\n",
    "    with open(database, 'rb') as data:\n",
    "    # Nacteni marcu\n",
    "        reader = MARCReader(data)\n",
    "        # Vytvorime counter, ke kteremu pri kazdem zaznamu pricteme jednicku\n",
    "        counter = 0\n",
    "        # Vzhledem k tomu, ze record nepotrebujeme, tak muzeme pouzit podtrzitko (_), ktere hodnotu bude ignorovat \n",
    "        for _ in reader:\n",
    "            counter += 1\n",
    "    return counter \n",
    "\n",
    "print(\"V databázi je \" + str(number_of_records(database)) + \" záznamu.\")        "
   ]
  },
  {
   "attachments": {},
   "cell_type": "markdown",
   "metadata": {},
   "source": [
    "S marcovým dokumentem se nepracuje příliš dobře, proto je lepší si data uložit do jednodušší tabulky. V této fázi si musíme ujasnit, jaká data budeme chtít. V našem příkladu si budeme chtít uložit název, autora, autorův kód, rok vydání a pak pole '600 \\$a','650 \\$a', '655 \\$a' a '773 \\$t'. <br>\n",
    "Veškeré záznamy začínající číslem 6XX jsou věcné údaje o záznamu. Tato pole se mohou opakovat. <br>     \n",
    "Pod polem '600' se skrývají osoby, o kterých záznam je nebo případně osoby, kterým je záznam dedikován. <br> \n",
    "Pod polem '650' se nacházejí věcné termíny/téma, tzn. o čem záznam je. <br>\n",
    "Pod polem '655' pak najdeme žánr daného záznamu. Na rozdíl od polí '600' a '650' by pole '655' mělo být přítomné u každého záznamu. <br>\n",
    "Záznamy začínající čísly 76X - 78X se nazývají propojovací pole a slouží pro zápis zdrojového (773) nebo recenzovaného (787) dokumentu. <br>\n",
    "\n",
    "\n",
    "###### Pro ukládání máme připravenou funkci save_to_dict(record, dict, field_list), která nám jeden záznam(record) uloží do slovníku (struktury v pythonu) dict. Není strategické si do tabulky ukládat všechna pole, podpole a indikátory, proto funkci save_to_dict kromě záznamu předáme také seznam polí field_list, která chceme uložit.  "
   ]
  },
  {
   "cell_type": "code",
   "execution_count": 63,
   "metadata": {},
   "outputs": [],
   "source": [
    "def save_to_dict(record, dict, field_list):\n",
    "    if not record is None:\n",
    "        try:\n",
    "            # Iterace skrz tuples v seznamu field_list\n",
    "            for field_tags in field_list:\n",
    "                # Nazev klice ve slovniku\n",
    "                dict_key_name =  field_tags[0]\n",
    "\n",
    "                # Tag pole\n",
    "                tag =  field_tags[1]\n",
    "\n",
    "                # Tag podpole\n",
    "                subfield_tag =  field_tags[2]\n",
    "                \n",
    "                # Seznam do ktereho pridame hodnoty a nasledne pridame do slovniku\n",
    "                dict_add_list = []\n",
    "                \n",
    "                # Iterace pres vsechna pole s tagem 'tag'\n",
    "                for field in record.get_fields(tag):\n",
    "                    \n",
    "                    # Pokud pole nema zadna podpole, pridame cele pole do listu dict_add_list\n",
    "                    if subfield_tag is None:\n",
    "                        dict_add_list.append(str(field))\n",
    "                    \n",
    "                    # Pokud subtag je instance slice, tedy to znamena, ze chceme jen nejakou cast pole, ktera neni definovana subpolem,\n",
    "                    # pridame cast pole do slovniku dict_add_list    \n",
    "                    elif isinstance(subfield_tag, slice):\n",
    "                        dict_add_list.append(str(field) [subfield_tag])     \n",
    "                    \n",
    "                    # Pokud pole obsahuje podpole, pridame do slovniku dict_add_list jen podpole\n",
    "                    elif '$'+subfield_tag in str(field):  \n",
    "                        dict_add_list.append(str(field[subfield_tag]))\n",
    "\n",
    "                # Do klice z tuplu pridame cely seznam dict_add_list         \n",
    "                dict[dict_key_name].append(dict_add_list)\n",
    "        except Exception as error:\n",
    "            print(\"Exception: \" + type(error).__name__)  \n",
    "            print(\"964 Field: \" + str(record.get_fields('964')))  \n",
    "            print(\"LDR: \" + str(record.leader))   \n",
    "    return dict "
   ]
  },
  {
   "cell_type": "markdown",
   "metadata": {},
   "source": [
    "Seznam field_list sestává z tuplů (kolekce v jazyce Python), kde každý tuple vypadá následovně. Na první pozici je název klíče, pod kterým bude pole uloženo, na druhé pozici tag pole a na třetí tag podpole, např. ('author', '100', 'a')."
   ]
  },
  {
   "cell_type": "code",
   "execution_count": 64,
   "metadata": {},
   "outputs": [
    {
     "name": "stdout",
     "output_type": "stream",
     "text": [
      "                                  title               author      author code  \\\n",
      "0                [Kultura je když... /]  [Kliment, Alexandr]     [jk01060558]   \n",
      "1                       [Hra o život /]   [Dobrovský, Luboš]  [jn20000400479]   \n",
      "2          [Památce Bohuslava Reynka /]    [Jirousová, Věra]  [jn19990218035]   \n",
      "3           [Joyceův zkušební návrat /]    [Urbánek, Zdeněk]     [jk01140872]   \n",
      "4  [Čas jako trvání a jako prázdnota /]      [Černý, Václav]     [jk01021636]   \n",
      "\n",
      "     year             figures             description     genre    magazine  \n",
      "0  [1978]                  []              [estetika]   [úvahy]  [Spektrum]  \n",
      "1  [1978]    [Kundera, Milan]           [česká próza]  [studie]  [Spektrum]  \n",
      "2  [1978]  [Reynek, Bohuslav]     [čeští spisovatelé]  [studie]  [Spektrum]  \n",
      "3  [1978]      [Joyce, James]  [anglicky psané drama]  [studie]  [Spektrum]  \n",
      "4  [1979]                  []              [estetika]   [eseje]  [Spektrum]  \n"
     ]
    }
   ],
   "source": [
    "out = 'data/csv/out_cle.csv'\n",
    "\n",
    "with open(database, 'rb') as data:\n",
    "    reader = MARCReader(data)\n",
    "    # Seznam poli, ktere si chceme ulozit\n",
    "    field_list = [('title', '245', 'a'),\n",
    "                ('author', '100', 'a'),\n",
    "                ('author code', '100', '7'),\n",
    "                # Rok je schovany v poli 008 na 13. az 16. miste, proto vyuzijeme funkci slice\n",
    "                ('year', '008', slice(13,17, None)),\n",
    "                ('figures', '600', 'a'),\n",
    "                ('description', '650', 'a'),\n",
    "                ('genre', '655', 'a'),\n",
    "                ('magazine', '773', 't')]\n",
    "    dict = {}\n",
    "    for t in field_list:\n",
    "        dict_key_name = t[0]\n",
    "        dict[dict_key_name] = []\n",
    "    for record in reader:\n",
    "        dict = save_to_dict(record, dict, field_list)\n",
    "df = pd.DataFrame.from_dict(dict)\n",
    "\n",
    "# U jmen si chceme ulozit jmeno a prijmeni bez koncove carky ',', ktera je na konci stringu\n",
    "df['figures'] = df['figures'].apply(lambda x: [y[:y.rfind(',')] if isinstance(y, str) and len(y) > 0 else y for y in x]) \n",
    "df['author'] = df['author'].apply(lambda x: [y[:y.rfind(',')] if isinstance(y, str) and len(y) > 0 else y for y in x])  \n",
    "\n",
    "\n",
    "print(df.head())\n",
    "\n",
    "# Aby se nam list hodnot lepe ukladal, vytvorime z listu jeden string a jednotlive elementy spojime strednikem ';' \n",
    "for column in df.columns:\n",
    "    df[column] = df[column].apply(lambda x: ';'.join(x))\n"
   ]
  },
  {
   "cell_type": "markdown",
   "metadata": {},
   "source": [
    "##### Uložení"
   ]
  },
  {
   "cell_type": "code",
   "execution_count": 65,
   "metadata": {},
   "outputs": [],
   "source": [
    "# DataFrame ulozime do formatu csv\n",
    "df.to_csv(out, encoding = 'utf8', sep = \",\", index=False)   \n",
    "\n",
    "# Soubor muzeme ulozit i jako excelovy soubor, se kterym dal muzeme pracovat v excelu\n",
    "with pd.ExcelWriter('cle.xlsx') as writer:\n",
    "    df.to_excel(writer, index=False)"
   ]
  },
  {
   "attachments": {},
   "cell_type": "markdown",
   "metadata": {},
   "source": [
    "Teď, když máme hodnoty uložené v csv, bude mnohem jednodušší s nimi pracovat. Uložená data načteme pomocí knihovny pandas do datové struktury DataFrame (která je podobná např. excelovské tabulce). Řádky v DataFramu reprezentují jednotlivé záznamy, sloupce pak jeden typ (např. jmeno autora).\n",
    "Některá pole a podpole mohou opakovat, ty jsou  v csv spojené středníkem. V DataFramu je pak podpole rozpojíme a převede do listu (seznamu). \n",
    "\n",
    "\n",
    "###### Kvůli obecnosti jsou v listu uloženy veškeré hodnoty. Je jednodušší, když ve sloupci je pouze jeden datový typ (např. list nebo string), než když jsou některé hodnoty v listu a některé jsou pouze string. Pokud jsme si jisti, že v původních záznamech se pole nikde neopakovalo, můžeme celý sloupec převést do jiného formátu.  "
   ]
  },
  {
   "cell_type": "code",
   "execution_count": 66,
   "metadata": {},
   "outputs": [],
   "source": [
    "# Cesta k nasim datum\n",
    "csv_data = 'data/csv/out_cle.csv'\n",
    "\n",
    "# Nacteni dat\n",
    "df = pd.read_csv(csv_data, delimiter=',')\n",
    "\n",
    "for column in df.columns:\n",
    "    if df[column].dtype != 'int64':   \n",
    "        # Hodnoty spojene v jeden string zpatky rozdelime do listu, aby se nam s nim lepe pracovalo\n",
    "        df[column] = df[column].apply(lambda x: x.split(';') if isinstance(x, str)  else [])\n"
   ]
  },
  {
   "cell_type": "markdown",
   "metadata": {},
   "source": [
    "Nakonec si ukážeme, jak z dat zjistit, který autor v jakém roce publikoval nejvíce článků (tedy se v záznamech v daném roce nejčastěji objevuje jako autor). Ukážeme si dva způsoby, jak na to přijít.<br>\n",
    "\n",
    "#### První varianta\n",
    "\n",
    "Nejprve si napíšeme dvě vlastní funkce. První nám spočte počet článků každého autora v každém roce. Druhá pak pro každý rok zjistí, který autor v každém roce napsal nejvíce článků.  \n"
   ]
  },
  {
   "cell_type": "code",
   "execution_count": 67,
   "metadata": {},
   "outputs": [],
   "source": [
    "# Funkce ktera nam spocte pocet clanku v danem roce pro kazdeho autora\n",
    "def count_years(df, column):\n",
    "    \n",
    "    # Dictionary, ve kterem jako klic ulozime (rok, jmeno autora)\n",
    "    # a jako hodnotu budeme pripocitavat pocet clanku\n",
    "    count = {}\n",
    "    \n",
    "    # Iterace pres radky DataFramu\n",
    "    for _,row in df.iterrows():\n",
    "        year = row['year']\n",
    "        for element in row[column]:\n",
    "            key = (year, element) \n",
    "            # Pokud klic jiz existuje, pripocteme jednicku\n",
    "            if key in count.keys():\n",
    "                count[key] += 1\n",
    "            else:\n",
    "                # Pokud klic zatim neexistuje, vytvorime ho a pridame jedna\n",
    "                count[key] = 1  \n",
    "    return count              \n",
    "\n",
    "# Funkce, ktera nam najde nejcastejsiho autora v danem roce\n",
    "def find_most_common(count):\n",
    "    # Dictionary, ve kterem jako klic ulozime rok\n",
    "    # a jako hodnotu (jmeno autora, pocet clanku)\n",
    "    most_common = {}\n",
    "\n",
    "    # Iterace skrz dictionary\n",
    "    for key,value in count.items():\n",
    "        year = key[0]\n",
    "        # Pokud klic (rok) jiz existuje, podivame se, \n",
    "        # zda je pocet clanku u aktualniho autora vyssi  \n",
    "        if year in most_common:\n",
    "            if most_common[year][1] < value:\n",
    "                # Pamatujeme si jen tu nejvyssi hodnotu\n",
    "                most_common[year] = (key[1], value)    \n",
    "        else:\n",
    "            most_common[year] = (key[1], value) \n",
    "    \n",
    "    #Klice slovniku seradime od nejmensiho cisla po nejvetsi         \n",
    "    years = list(most_common.keys())\n",
    "    years.sort()\n",
    "    sorted_most_common = {i: most_common[i] for i in years}        \n",
    "    return sorted_most_common            \n",
    "\n",
    "  "
   ]
  },
  {
   "cell_type": "markdown",
   "metadata": {},
   "source": [
    "Teď už jen funkce zavoláme a výsledek vypíšeme. <br>\n",
    "Kód je napsán tak, aby se parametry daly jednoduše upravit. Můžeme si tak zkusit změnit proměnnou `picked_colum` na 'figures', čímž zjistíme, o kom se nejvíce daný rok psalo."
   ]
  },
  {
   "cell_type": "code",
   "execution_count": 68,
   "metadata": {},
   "outputs": [
    {
     "name": "stdout",
     "output_type": "stream",
     "text": [
      "1948: Jandáček, Antonín - 1\n",
      "1949: Dresler, Jaroslav - 1\n",
      "1950: Demetz, Peter - 3\n",
      "1951: Demetz, Peter - 2\n",
      "1952: Peška, Vladimír - 3\n",
      "1953: Vlach, Robert - 17\n",
      "1954: Hostovský, Egon - 8\n",
      "1955: Vlach, Robert - 13\n",
      "1956: Želivan, Pavel - 11\n",
      "1957: Vlach, Robert - 9\n",
      "1958: Den, Petr - 16\n",
      "1959: Den, Petr - 16\n",
      "1960: Dresler, Jaroslav - 18\n",
      "1961: Den, Petr - 12\n",
      "1962: Den, Petr - 16\n",
      "1963: Den, Petr - 12\n",
      "1964: Den, Petr - 28\n",
      "1965: Den, Petr - 25\n",
      "1966: Den, Petr - 16\n",
      "1967: Den, Petr - 28\n",
      "1968: Den, Petr - 19\n",
      "1969: Den, Petr - 27\n",
      "1970: Den, Petr - 14\n",
      "1971: Kratochvil, Antonín - 10\n",
      "1972: Kratochvil, Antonín - 10\n",
      "1973: Kratochvil, Antonín - 12\n",
      "1974: Dresler, Jaroslav - 14\n",
      "1975: Kratochvil, Antonín - 10\n",
      "1976: Dresler, Jaroslav - 15\n",
      "1977: Dresler, Jaroslav - 22\n",
      "1978: Dresler, Jaroslav - 26\n",
      "1979: Dresler, Jaroslav - 25\n",
      "1980: Kovtun, Jiří - 15\n",
      "1981: Kratochvil, Antonín - 23\n",
      "1982: Kratochvil, Antonín - 24\n",
      "1983: Dresler, Jaroslav - 27\n",
      "1984: Dresler, Jaroslav - 23\n",
      "1985: Dresler, Jaroslav - 30\n",
      "1986: Dresler, Jaroslav - 21\n",
      "1987: Dresler, Jaroslav - 31\n",
      "1988: Měšťan, Antonín - 15\n",
      "1989: Dresler, Jaroslav - 22\n",
      "1990: Krejčík, Rudolf - 1\n"
     ]
    }
   ],
   "source": [
    "# Vybereme sloupec, ktery chceme vypsat\n",
    "picked_column = 'author'\n",
    "\n",
    "count = count_years(df, picked_column)\n",
    "\n",
    "most_common = find_most_common(count)\n",
    "\n",
    "# Formatovani pro hezci vypis\n",
    "string = \"{year}: {name} - {articles}\"\n",
    "\n",
    "# Nejcastejsi hodnoty vypiseme\n",
    "for key, value in most_common.items():\n",
    "    print(string.format(year = key, name = value[0], articles = value[1]))        \n"
   ]
  },
  {
   "cell_type": "markdown",
   "metadata": {},
   "source": [
    "V tabulce vidíme, že počet napsaných článků za jednotlivé roky se výrazně liší. \n",
    "\n",
    "\n",
    "#### Druhá varianta\n",
    "\n",
    "Tím, že máme data uložena do DataFramu, umožňuje nám to využít funkce knihovny pandas. V našem případě využijeme funkci groupby, která data seskupí podle vybraného sloupce. <br>\n",
    "Použijeme také funkci Counter, která nám spočte výskyt každého elementu. <br>\n",
    "V neposlední řadě využijeme anonymní funkci lambda.<br>\n"
   ]
  },
  {
   "cell_type": "code",
   "execution_count": 69,
   "metadata": {},
   "outputs": [
    {
     "name": "stdout",
     "output_type": "stream",
     "text": [
      "year\n",
      "1948      Jandáček, Antonín\n",
      "1949      Dresler, Jaroslav\n",
      "1950          Demetz, Peter\n",
      "1951          Demetz, Peter\n",
      "1952        Peška, Vladimír\n",
      "1953          Vlach, Robert\n",
      "1954        Hostovský, Egon\n",
      "1955          Vlach, Robert\n",
      "1956         Želivan, Pavel\n",
      "1957          Vlach, Robert\n",
      "1958              Den, Petr\n",
      "1959              Den, Petr\n",
      "1960      Dresler, Jaroslav\n",
      "1961              Den, Petr\n",
      "1962              Den, Petr\n",
      "1963              Den, Petr\n",
      "1964              Den, Petr\n",
      "1965              Den, Petr\n",
      "1966              Den, Petr\n",
      "1967              Den, Petr\n",
      "1968              Den, Petr\n",
      "1969              Den, Petr\n",
      "1970              Den, Petr\n",
      "1971    Kratochvil, Antonín\n",
      "1972    Kratochvil, Antonín\n",
      "1973    Kratochvil, Antonín\n",
      "1974      Dresler, Jaroslav\n",
      "1975    Kratochvil, Antonín\n",
      "1976      Dresler, Jaroslav\n",
      "1977      Dresler, Jaroslav\n",
      "1978      Dresler, Jaroslav\n",
      "1979      Dresler, Jaroslav\n",
      "1980           Kovtun, Jiří\n",
      "1981    Kratochvil, Antonín\n",
      "1982    Kratochvil, Antonín\n",
      "1983      Dresler, Jaroslav\n",
      "1984      Dresler, Jaroslav\n",
      "1985      Dresler, Jaroslav\n",
      "1986      Dresler, Jaroslav\n",
      "1987      Dresler, Jaroslav\n",
      "1988        Měšťan, Antonín\n",
      "1989      Dresler, Jaroslav\n",
      "1990        Krejčík, Rudolf\n",
      "Name: author, dtype: object\n"
     ]
    }
   ],
   "source": [
    "# Data ocistime o prazdne hodnoty\n",
    "data_filtered = df[df[picked_column].apply(lambda x: len(x) > 0)]\n",
    "\n",
    "# Data seskupime podle nejcastejsiho elementu v kazde hodnote groupby\n",
    "most_common = data_filtered.groupby('year')[picked_column].apply(lambda x: Counter(element for elements in x for element in elements).most_common(1)[0][0] if len(x) > 0 else None) \n",
    "\n",
    "print(most_common)"
   ]
  },
  {
   "cell_type": "markdown",
   "metadata": {},
   "source": [
    "V tabulce můžee vidět, který autor za daný rok publikoval nejvíce článků napříč všemi časopisy. Je třeba si uvědomit, že i když je v tabulce nějaký autor v daný rok nejčastější, nemusí v celkovém počtu napsat hodně článků. Ostatně se o tom můžeme přesvěsvědčit v předchozí buňce.<br>\n",
    "Je možné, že se od sebe dvě tabulky budou mírně odlišovat a to v případě, že za daný rok napsalo více autorů stejný počet článků. "
   ]
  }
 ],
 "metadata": {
  "kernelspec": {
   "display_name": "Python 3",
   "language": "python",
   "name": "python3"
  },
  "language_info": {
   "codemirror_mode": {
    "name": "ipython",
    "version": 3
   },
   "file_extension": ".py",
   "mimetype": "text/x-python",
   "name": "python",
   "nbconvert_exporter": "python",
   "pygments_lexer": "ipython3",
   "version": "3.11.4"
  },
  "orig_nbformat": 4
 },
 "nbformat": 4,
 "nbformat_minor": 2
}
