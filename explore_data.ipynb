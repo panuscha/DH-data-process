{
 "cells": [
  {
   "attachments": {},
   "cell_type": "markdown",
   "metadata": {},
   "source": [
    "## Příprava \n",
    "Neprve si data stáhneme a podíváme se, co je uvnitř. Data jsou uložena v knihovním formátu MARC s koncovnkou .mrc. \n",
    "Pro práci budeme používat knihovnu pymarc, která dokáže marcový formát jednodušše načíst.   \n",
    "Nejprve si vypíšeme, jak takový záznam vypadá.  "
   ]
  },
  {
   "cell_type": "code",
   "execution_count": 100,
   "metadata": {},
   "outputs": [
    {
     "name": "stdout",
     "output_type": "stream",
     "text": [
      "=LDR  00875nab a22003134a 4500\n",
      "=001  001457852\n",
      "=003  CZ\\PrUCL\n",
      "=005  20220321104606.0\n",
      "=008  090923e197808\\\\xr\\\\\\\\\\\\\\\\\\\\\\\\|||\\||cze\\d\n",
      "=035  \\\\$a(ISIS-B70-MFN)78971\n",
      "=035  \\\\$a(ISIS-B70-ID)785001\n",
      "=040  \\\\$aABB060$bcze\n",
      "=080  \\\\$a7.01$2MRF\n",
      "=080  \\\\$a(0:82-4)$2MRF\n",
      "=100  1\\$aKliment, Alexandr,$d1929-2017$7jk01060558$4aut\n",
      "=245  10$aKultura je když... /$cAlexandr Kliment.\n",
      "=500  \\\\$aPodnázev zdrojového dokumentu: (London, Index on Censorship).\n",
      "=520  2\\$aÚvaha.\n",
      "=599  \\\\$aCLB-CPK\n",
      "=650  07$aestetika$7ph117189$2czenas\n",
      "=655  \\7$aúvahy$7fd134000$2czenas\n",
      "=773  0\\$tSpektrum$gR. 1978, č. 1, srpen, s. 77-79$q1978:1<77$9197808\n",
      "=964  \\\\$aB70\n",
      "=964  \\\\$aSMZ\n",
      "=964  \\\\$aCLE\n",
      "=OWN  \\\\$aUCLA\n",
      "=SIF  \\\\$afk\n",
      "=910  \\\\$aABB060\n",
      "=ZAZ  \\\\$d197808$s1978$z1$l77\n",
      "\n"
     ]
    }
   ],
   "source": [
    "from pymarc import MARCReader\n",
    "\n",
    "# 'data/csv/ucla_B.csv'\n",
    "# 'data/csv/ucla_ret.csv'\n",
    "# 'data/csv/ucla_smz.csv'\n",
    "# 'data/csv/ucla_int.csv'\n",
    "# 'data/csv/ucla_cle.csv'\n",
    "# 'data/csv/ucla_trl.csv'\n",
    "\n",
    "# Cesta k marcovemu dokumentu\n",
    "database = 'data/ucla/ucla_cle.mrc'\n",
    "\n",
    "# Otevreni souboru\n",
    "with open(database, 'rb') as data:\n",
    "    # Nacteni marcu\n",
    "    reader = MARCReader(data)\n",
    "\n",
    "    # Iterace skrz nacteny soubor\n",
    "    for record in reader:\n",
    "        # Vypsani marcovych zaznamu\n",
    "        print(record)\n",
    "\n",
    "        # Chceme vypsat pouze jeden zaznma, tak po prvnim vypsani zavolame funkci break\n",
    "        break\n"
   ]
  },
  {
   "attachments": {},
   "cell_type": "markdown",
   "metadata": {},
   "source": [
    "Vidíme, že marcový soubor má jasnou strukuru. Má několik polí, která jsou označena zpravidla třemi číslicem, případně třemi písmeny. Každý kód má svou vnitřní logiku, např. pole pro věcné popisy vždy začínají číslicí 6XX.\n",
    "\n"
   ]
  },
  {
   "cell_type": "code",
   "execution_count": 101,
   "metadata": {},
   "outputs": [
    {
     "name": "stdout",
     "output_type": "stream",
     "text": [
      "Záznam: 00875nab a22003134a 4500\n",
      "Nazev: Kultura je když... /\n",
      "Autor: Kliment, Alexandr, 1929-2017 jk01060558 aut\n",
      "Žánr: úvahy\n"
     ]
    }
   ],
   "source": [
    "# Otevreni souboru\n",
    "with open(database, 'rb') as data:\n",
    "    # Nacteni marcu\n",
    "    reader = MARCReader(data)\n",
    "\n",
    "    # Iterace skrz nacteny soubor\n",
    "    for record in reader:\n",
    "        # Vypsani marcovych zaznamu\n",
    "        # K nekterym zaznamum muzeme pristupovat pres teckovou notaci, tedy record.leader nebo record.title \n",
    "        print(\"Záznam: \" + record.leader)\n",
    "        \n",
    "        # Pred vypsanim je standardem se nejprve podivat, zda zaznam existuje (tedy ze neni None). \n",
    "        # Pokud bychom se totiz snazili vypsat None zaznam, kod by vyhodil error. \n",
    "        if record.title is not None:\n",
    "            print(\"Nazev: \" + record.title)\n",
    "        if record.author is not None:\n",
    "            print(\"Autor: \" + record.author)\n",
    "        # Pokud chceme zjistit, zda pole ktere nema teckovou notaci neni None, je potreba zavolat funci .get_field(), pripadne .get_field()     \n",
    "        if record.get_fields('655') is not None:    \n",
    "            # K polim, ktere nemaji teckovou notaci, se pristupuje pres zavorky \n",
    "            print(\"Žánr: \" + record['655']['a'])\n",
    "        break        "
   ]
  },
  {
   "attachments": {},
   "cell_type": "markdown",
   "metadata": {},
   "source": [
    "Také by nás mohlo zajímat, kolik záznamů je v dané databázi. K tomu si muzeme vytvorit samostatnou funkci, kterou pak jen zavolame"
   ]
  },
  {
   "cell_type": "code",
   "execution_count": 102,
   "metadata": {},
   "outputs": [
    {
     "name": "stdout",
     "output_type": "stream",
     "text": [
      "V databazi je 9612 zaznamu.\n"
     ]
    }
   ],
   "source": [
    "# Vlastni funkce definujeme pomoci slova def\n",
    "def number_of_records(database):\n",
    "    with open(database, 'rb') as data:\n",
    "    # Nacteni marcu\n",
    "        reader = MARCReader(data)\n",
    "        # Vytvorime counter, ke kteremu pri kazdem zaznamu pricteme jednicku\n",
    "        counter = 0\n",
    "        # Vzhledem k tomu, ze record nepotrebujeme, tak muzeme pouzit _, ktere hodnotu bude ignorovat \n",
    "        for _ in reader:\n",
    "            counter += 1\n",
    "    return counter \n",
    "\n",
    "print(\"V databazi je \" + str(number_of_records(database)) + \" zaznamu.\")        "
   ]
  },
  {
   "attachments": {},
   "cell_type": "markdown",
   "metadata": {},
   "source": [
    "Teď je potřeba si marcová data uložit do jednodušší tabulky, se kterou později budeme pracovat. V této fázi si musíme ujasnit, jaká data budeme chtít zpracovat. V našem příkladu si budeme chtít uložit název, autora, autorův kód, rok vydání a pak pole '600','650' a '655'. \n",
    "Veškeré záznamy začínající číslem 6XX jsou věcné údaje o záznamu. Všechna pole se mohou opakovat.\n",
    "Pod polem '600' se skrývají osoby, o kterých záznam je nebo případně osoby, kterým je záznam dedikován. \n",
    "Pod polem '650' se nacházejí věcné termíny/téma, tzn. o čem záznam je.\n",
    "Pod polem '655' pak najdeme žánr daného záznamu. Na rozdíl od polí '600' a '650' by pole '655' mělo být přítomné u každého záznamu. \n",
    "\n",
    "K tomu jsme si napsali funkci save_to_dict(record, dict, field_list), která nám jeden záznam(record) uloží do slovníku dict. Protože si nebudeme chtít uložit všechny pole v záznamu, předáme funkci save_to_dict také seznam polí field_list, která budeme chtít uložit. Seznam field_list sestává z tuplů (kolekce v jazyce Python), kde každý tuple vypadá následovně. Na první pozici je název klíče, pod kterým bude pole uloženo, na druhé pozici tag pole a na třetí tag podpole, např. ('author', '100', 'a'). "
   ]
  },
  {
   "cell_type": "code",
   "execution_count": 103,
   "metadata": {},
   "outputs": [],
   "source": [
    "def save_to_dict(record, dict, field_list):\n",
    "    if not record is None:\n",
    "        try:\n",
    "            # Iterace skrz tuples v seznamu field_list\n",
    "            for field_tags in field_list:\n",
    "                # Nazev klice ve slovniku\n",
    "                dict_key_name =  field_tags[0]\n",
    "\n",
    "                # Tag pole\n",
    "                tag =  field_tags[1]\n",
    "\n",
    "                # Tag podpole\n",
    "                subfield_tag =  field_tags[2]\n",
    "                \n",
    "                # Seznam do ktereho pridame hodnoty a nasledne pridame do slovniku\n",
    "                dict_add_list = []\n",
    "                \n",
    "                # Iterace pres vsechna pole s tagem 'tag'\n",
    "                for field in record.get_fields(tag):\n",
    "                    \n",
    "                    # Pokud pole nema zadna podpole, pridame cele pole do listu dict_add_list\n",
    "                    if subfield_tag is None:\n",
    "                        dict_add_list.append(str(field))\n",
    "                    \n",
    "                    # Pokud subtag je instance slice, tedy to znamena, ze chceme jen nejakou cast pole, ktera neni definovana subpolem,\n",
    "                    # pridame cast pole do slovniku dict_add_list    \n",
    "                    elif isinstance(subfield_tag, slice):\n",
    "                        dict_add_list.append(str(field) [subfield_tag])     \n",
    "                    \n",
    "                    # Pokud pole obsahuje podpole, pridame do slovniku dict_add_list jen podpole\n",
    "                    elif '$'+subfield_tag in str(field):  \n",
    "                        dict_add_list.append(str(field[subfield_tag]))\n",
    "\n",
    "                # Do klice z tuplu pridame cely seznam dict_add_list         \n",
    "                dict[dict_key_name].append(dict_add_list)\n",
    "        except Exception as error:\n",
    "            print(\"Exception: \" + type(error).__name__)  \n",
    "            print(\"964 Field: \" + str(record.get_fields('964')))  \n",
    "            print(\"LDR: \" + str(record.leader))   \n",
    "    return dict "
   ]
  },
  {
   "cell_type": "code",
   "execution_count": 104,
   "metadata": {},
   "outputs": [],
   "source": [
    "import pandas as pd\n",
    "\n",
    "out = 'data/out.csv'\n",
    "\n",
    "with open(database, 'rb') as data:\n",
    "    reader = MARCReader(data)\n",
    "    # Seznam poli, ktere si chceme ulozit\n",
    "    field_list = [('title', '245', 'a'),\n",
    "                ('author', '100', 'a'),\n",
    "                ('author code', '100', '7'),\n",
    "                # Rok je schovany v poli 008 na 13. az 16. miste, \n",
    "                # proto vyuzijeme funkci slice\n",
    "                ('year', '008', slice(13,17, None)),\n",
    "                ('figures', '600', 'a'),\n",
    "                ('description', '650', 'a'),\n",
    "                ('genre', '655', 'a'),\n",
    "                ('magazine', '773', 't')]\n",
    "    dict = {}\n",
    "    for t in field_list:\n",
    "        dict_key_name = t[0]\n",
    "        dict[dict_key_name] = []\n",
    "    for record in reader:\n",
    "        dict = save_to_dict(record, dict, field_list)\n",
    "    df = pd.DataFrame.from_dict(dict)\n",
    "\n",
    "    # U jmen si chceme ulozit jmeno a prijmeni bez koncove carky ',', ktera je na konci stringu\n",
    "    df['figures'] = df['figures'].apply(lambda x: [y[:y.rfind(',')] if isinstance(y, str) and len(y) > 0 else y for y in x]) \n",
    "    df['author'] = df['author'].apply(lambda x: [y[:y.rfind(',')] if isinstance(y, str) and len(y) > 0 else y for y in x])  \n",
    "\n",
    "    # Aby se nam list hodnot lepe ukladal, vytvorime z listu jeden string a jednotlive elementy spojime strednikem ';' \n",
    "    for column in df.columns:\n",
    "        df[column] = df[column].apply(lambda x: ';'.join(x))\n",
    "    df.to_csv(out, encoding = 'utf8', sep = \",\")     "
   ]
  },
  {
   "attachments": {},
   "cell_type": "markdown",
   "metadata": {},
   "source": [
    "Teď, když máme hodnoty uložené v csv, bude mnohem jednodušší s nimi pracovat.\n",
    "Uložená data načteme pomocí knihovny pandas do datové struktury DataFrame (která je podobná např. excelovské tabulce). \n",
    "Řádky v DataFramu reprezentují jednotlivé záznamy, sloupce pak jeden typ (např. jmeno autora)\n",
    "Některá podpole mohou opakovat, ty jsou  v csv spojené středníkem. \n",
    "POZOR: Kvůli obecnosti jsou veškeré hodnoty uloženy v listu. "
   ]
  },
  {
   "cell_type": "code",
   "execution_count": 105,
   "metadata": {},
   "outputs": [
    {
     "name": "stdout",
     "output_type": "stream",
     "text": [
      "year\n",
      "1948      Jandáček, Antonín\n",
      "1949      Dresler, Jaroslav\n",
      "1950          Demetz, Peter\n",
      "1951          Demetz, Peter\n",
      "1952        Peška, Vladimír\n",
      "1953          Vlach, Robert\n",
      "1954        Hostovský, Egon\n",
      "1955          Vlach, Robert\n",
      "1956         Želivan, Pavel\n",
      "1957          Vlach, Robert\n",
      "1958              Den, Petr\n",
      "1959              Den, Petr\n",
      "1960      Dresler, Jaroslav\n",
      "1961              Den, Petr\n",
      "1962              Den, Petr\n",
      "1963              Den, Petr\n",
      "1964              Den, Petr\n",
      "1965              Den, Petr\n",
      "1966              Den, Petr\n",
      "1967              Den, Petr\n",
      "1968              Den, Petr\n",
      "1969              Den, Petr\n",
      "1970              Den, Petr\n",
      "1971    Kratochvil, Antonín\n",
      "1972    Kratochvil, Antonín\n",
      "1973    Kratochvil, Antonín\n",
      "1974      Dresler, Jaroslav\n",
      "1975    Kratochvil, Antonín\n",
      "1976      Dresler, Jaroslav\n",
      "1977      Dresler, Jaroslav\n",
      "1978      Dresler, Jaroslav\n",
      "1979      Dresler, Jaroslav\n",
      "1980           Kovtun, Jiří\n",
      "1981    Kratochvil, Antonín\n",
      "1982    Kratochvil, Antonín\n",
      "1983      Dresler, Jaroslav\n",
      "1984      Dresler, Jaroslav\n",
      "1985      Dresler, Jaroslav\n",
      "1986      Dresler, Jaroslav\n",
      "1987      Dresler, Jaroslav\n",
      "1988        Měšťan, Antonín\n",
      "1989      Dresler, Jaroslav\n",
      "1990        Krejčík, Rudolf\n",
      "Name: author, dtype: object\n"
     ]
    }
   ],
   "source": [
    "import pandas as pd\n",
    "from collections import Counter\n",
    "import numpy \n",
    "\n",
    "out = 'data/out.csv'\n",
    "\n",
    "# Cesta k nasim datum\n",
    "csv_data = out\n",
    "\n",
    "# Nacteni dat\n",
    "df = pd.read_csv(csv_data, delimiter=',')\n",
    "# Odstraneni zbytecneho sloupce\n",
    "df = df.drop(['Unnamed: 0'], axis = 1)\n",
    "\n",
    "for column in df.columns:\n",
    "    if df[column].dtype != 'int64':   \n",
    "        # Hodnoty spojene v jeden string zpatky rozdelime do listu, aby se nam s nim lepe pracovalo\n",
    "        df[column] = df[column].apply(lambda x: x.split(';') if isinstance(x, str)  else [])\n"
   ]
  },
  {
   "cell_type": "code",
   "execution_count": null,
   "metadata": {},
   "outputs": [],
   "source": [
    "# Vybereme sloupec, ktery chceme zobrazit\n",
    "picked_column = 'author'\n",
    "# Data ocistime o prazdne hodnoty\n",
    "data_filtered = df[df[picked_column].apply(lambda x: len(x) > 0)]\n",
    "# Data shlukneme podle nejcastejsiho elementu v danem roce\n",
    "most_common = data_filtered.groupby('year')[picked_column].apply(lambda x: Counter(topic for topics in x for topic in topics).most_common(1)[0][0] if len(x) > 0 else None) \n",
    "\n",
    "# Nejcastejsi hodnoty vypiseme\n",
    "print(most_common)        \n"
   ]
  },
  {
   "attachments": {},
   "cell_type": "markdown",
   "metadata": {},
   "source": [
    "Ted si je vykreslime v jednoduchem grafu."
   ]
  },
  {
   "cell_type": "code",
   "execution_count": 106,
   "metadata": {},
   "outputs": [
    {
     "data": {
      "image/png": "[encoded data removed]",
      "text/plain": [
       "<Figure size 640x480 with 1 Axes>"
      ]
     },
     "metadata": {},
     "output_type": "display_data"
    }
   ],
   "source": [
    "import matplotlib.pyplot as plt\n",
    "\n",
    "# Prevedeme nasi promennou se shluklymi daty do datove kolekce dictionary\n",
    "most_common_dict = most_common.to_dict()\n",
    "\n",
    "# Z nej vytvorime dva listy\n",
    "years = list(most_common_dict.keys())\n",
    "elements = list(most_common_dict.values())\n",
    "\n",
    "# Nektere datasety obsahuji mnoho let, proto si zvolime okno, ktere chceme zobrazit\n",
    "window = (1900,max(years))\n",
    "\n",
    "filtered_years = []\n",
    "filtered_elements = []\n",
    "\n",
    "# Vyfiltrujeme jen ty elementy, ktere jsou v okne\n",
    "for year, element in zip(years, elements):\n",
    "    if window[0] < year < window[1] and element is not None:\n",
    "        filtered_years.append(year)\n",
    "        filtered_elements.append(element)\n",
    "\n",
    "# Hodnoty jednoduse vykreslime bar chartem a pridame popis os\n",
    "plt.bar(filtered_years, filtered_elements)\n",
    "plt.xlabel('Rok')\n",
    "plt.ylabel('Autor')\n",
    "plt.title('Nejčastější autor podle roku')\n",
    "plt.show()\n"
   ]
  }
 ],
 "metadata": {
  "kernelspec": {
   "display_name": "Python 3",
   "language": "python",
   "name": "python3"
  },
  "language_info": {
   "codemirror_mode": {
    "name": "ipython",
    "version": 3
   },
   "file_extension": ".py",
   "mimetype": "text/x-python",
   "name": "python",
   "nbconvert_exporter": "python",
   "pygments_lexer": "ipython3",
   "version": "3.11.4"
  },
  "orig_nbformat": 4
 },
 "nbformat": 4,
 "nbformat_minor": 2
}
