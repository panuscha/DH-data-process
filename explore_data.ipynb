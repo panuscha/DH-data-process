{
 "cells": [
  {
   "cell_type": "markdown",
   "metadata": {},
   "source": [
    "# Zpracování MARC souborů pomocí knihovny Pymarc\n",
    "\n",
    "Tento notebook vás provede procesem zpracování MARC souborů za použití knihovny Pymarc. MARC (Machine-Readable Cataloging) je standardní formát pro záznamy knihovních katalogů a metadata. Tento notebook je určený jak pro začátečníky, tak pro ty, kteří se chtějí seznámit s knihovnou Pymarc a zpracováním MARC dat v Pythonu.\n",
    "\n",
    "## Předpoklady\n",
    "\n",
    "Tento notebook nepředpokládá hluboké znalosti Pythonu, ale základní znalost programování bude užitečná.<br> \n",
    "Ukážeme si, jak načíst marcové soubory, jak procházet jejich záznamy, jak extrahovat potřebná data a jak je uložit do CSV a Excel souborů.\n",
    "\n",
    "## Struktura notebooku\n",
    "\n",
    "Tento notebook je rozdělen do několika částí:\n",
    "\n",
    "0. **Příprava**: Přidáme potřebné knihovny, které budeme používat ke zpracování marcového souboru. \n",
    "\n",
    "1. **Načtení MARC souboru**: Ukážeme si, jak načíst marcový soubor a vypsat jednotlivé záznamy.\n",
    "\n",
    "2. **Získání dat**: Naučíme se, jak získat specifická data z marcového záznamu, jako jsou názvy, autoři a žánry.\n",
    "\n",
    "4. **Export do CSV a Excelu**: V závěrečné části si ukážeme, jak uložit získaná data do CSV a Excel souborů pro další analýzu.\n",
    "\n",
    "\n",
    "## Další zdroje\n",
    "\n",
    "- [LearnPython.org](https://www.learnpython.org/): Tento online kurz nabízí výuku jazyka Python pro začátečníky i pokročilé. Může být užitečným zdrojem pro ty, kteří chtějí rozšířit své znalosti Pythonu.\n"
   ]
  },
  {
   "attachments": {},
   "cell_type": "markdown",
   "metadata": {},
   "source": [
    "\n",
    "### 0. Příprava \n",
    "Jako první si musíme nainstalovat knihovny, se kterými budeme pracovat. Knihovny jsou balíčky funkcí, které nejsou součástí základu jazyka Python. <br>\n",
    "Knihovny nainstalujeme pomocí příkazu `%pip install <jmeno_knihovny>` . Pak je do našeho notebooku přidáme pomocí příkazu `import <jmeno_knihovny> (as alias)`. K funkcím knihovny se pak přistupuje `jmeno_knihovny.jmeno_funkce` <br> \n",
    "Pokud z knihovny chceme využít pouze jednu funkci, přidáme ji pomocí `from <jmeno_knihovny> import <jmeno_funkce>`"
   ]
  },
  {
   "cell_type": "code",
   "execution_count": 1,
   "metadata": {},
   "outputs": [
    {
     "name": "stdout",
     "output_type": "stream",
     "text": [
      "Requirement already satisfied: pandas in c:\\users\\panuskova\\appdata\\local\\programs\\python\\python311\\lib\\site-packages (2.0.2)Note: you may need to restart the kernel to use updated packages.\n"
     ]
    },
    {
     "name": "stderr",
     "output_type": "stream",
     "text": [
      "\n",
      "[notice] A new release of pip is available: 23.1.2 -> 23.2.1\n",
      "[notice] To update, run: python.exe -m pip install --upgrade pip\n"
     ]
    },
    {
     "name": "stdout",
     "output_type": "stream",
     "text": [
      "\n",
      "Requirement already satisfied: python-dateutil>=2.8.2 in c:\\users\\panuskova\\appdata\\local\\programs\\python\\python311\\lib\\site-packages (from pandas) (2.8.2)\n",
      "Requirement already satisfied: pytz>=2020.1 in c:\\users\\panuskova\\appdata\\local\\programs\\python\\python311\\lib\\site-packages (from pandas) (2023.3)\n",
      "Requirement already satisfied: tzdata>=2022.1 in c:\\users\\panuskova\\appdata\\local\\programs\\python\\python311\\lib\\site-packages (from pandas) (2023.3)\n",
      "Requirement already satisfied: numpy>=1.21.0 in c:\\users\\panuskova\\appdata\\local\\programs\\python\\python311\\lib\\site-packages (from pandas) (1.25.0)\n",
      "Requirement already satisfied: six>=1.5 in c:\\users\\panuskova\\appdata\\local\\programs\\python\\python311\\lib\\site-packages (from python-dateutil>=2.8.2->pandas) (1.16.0)\n",
      "Requirement already satisfied: pymarc in c:\\users\\panuskova\\appdata\\local\\programs\\python\\python311\\lib\\site-packages (5.1.0)\n",
      "Note: you may need to restart the kernel to use updated packages.\n"
     ]
    },
    {
     "name": "stderr",
     "output_type": "stream",
     "text": [
      "\n",
      "[notice] A new release of pip is available: 23.1.2 -> 23.2.1\n",
      "[notice] To update, run: python.exe -m pip install --upgrade pip\n"
     ]
    },
    {
     "name": "stdout",
     "output_type": "stream",
     "text": [
      "Requirement already satisfied: openpyxl in c:\\users\\panuskova\\appdata\\local\\programs\\python\\python311\\lib\\site-packages (3.1.2)\n",
      "Requirement already satisfied: et-xmlfile in c:\\users\\panuskova\\appdata\\local\\programs\\python\\python311\\lib\\site-packages (from openpyxl) (1.1.0)\n",
      "Note: you may need to restart the kernel to use updated packages.\n"
     ]
    },
    {
     "name": "stderr",
     "output_type": "stream",
     "text": [
      "\n",
      "[notice] A new release of pip is available: 23.1.2 -> 23.2.1\n",
      "[notice] To update, run: python.exe -m pip install --upgrade pip\n"
     ]
    }
   ],
   "source": [
    "# Prikaz ktery naistaluje knihovny\n",
    "%pip install pandas \n",
    "%pip install pymarc \n",
    "%pip install openpyxl\n",
    "\n",
    "# Prikaz ktery knihovny prida \n",
    "import pandas as pd\n",
    "from pymarc import MARCReader\n"
   ]
  },
  {
   "cell_type": "markdown",
   "metadata": {},
   "source": [
    "### 1. Načtení MARC souboru\n",
    "\n",
    "Naše data jsou uložena v knihovním formátu MARC s koncovnkou .mrc. Pro práci budeme používat funkci `MARCReader` z knihovnu `pymarc`, která data ze souboru načte a záznamy rozdělí, takže k nim pak můžeme přistoupit jednotlivě. <br>  \n",
    "\n",
    "#### 1.1 Výpis záznamu\n",
    "\n",
    "Vypíšeme si, jak takový záznam vypadá. <br>\n",
    "Nejprve si určíme, kolikátý záznam chceme vypsat. To definujeme pomocí proměnné `ith`.<br> \n",
    "Pak otevřeme marcový soubor a postupně ho projdeme. Funkce `enumerate()` nám záznamy navíc očísluje od 0. Díky tomu budeme moct vypsat i-tý záznam.<br>\n",
    "Abychom nemuseli procházet celý soubor, napíšeme slovo `break`, které ukončí procházení souboru.\n"
   ]
  },
  {
   "cell_type": "code",
   "execution_count": 2,
   "metadata": {},
   "outputs": [
    {
     "name": "stdout",
     "output_type": "stream",
     "text": [
      "=LDR  00878nab a22003134a 4500\n",
      "=001  001457857\n",
      "=003  CZ\\PrUCL\n",
      "=005  20220321104842.0\n",
      "=008  090923e197907\\\\xr\\\\\\\\\\\\\\\\\\\\\\\\|||\\||cze\\d\n",
      "=035  \\\\$a(ISIS-B70-MFN)78976\n",
      "=035  \\\\$a(ISIS-B70-ID)795002\n",
      "=040  \\\\$aABB060$bcze\n",
      "=080  \\\\$a7.01$2MRF\n",
      "=080  \\\\$a(0:82-4)$2MRF\n",
      "=100  1\\$aVašíček, Zdeněk,$d1933-2011$7jk01141688$4aut\n",
      "=245  10$aArcheologie času /$cZdeněk Vašíček.\n",
      "=500  \\\\$aPodnázev zdrojového dokumentu: (London, Index on Censorship).\n",
      "=520  2\\$aEsej.\n",
      "=599  \\\\$aCLB-CPK\n",
      "=650  07$aestetika$7ph117189$2czenas\n",
      "=655  \\7$aeseje$7fd132213$2czenas\n",
      "=773  0\\$tSpektrum$gR. 1979, č. 2, červenec, s. 14-31$q1979:2<14$9197907\n",
      "=964  \\\\$aB70\n",
      "=964  \\\\$aSMZ\n",
      "=964  \\\\$aCLE\n",
      "=OWN  \\\\$aUCLA\n",
      "=SIF  \\\\$afk\n",
      "=910  \\\\$aABB060\n",
      "=ZAZ  \\\\$d197907$s1979$z2$l14\n",
      "\n"
     ]
    }
   ],
   "source": [
    "# Cesta k marcovemu dokumentu\n",
    "database = 'data/ucla/ucla_smz.mrc'\n",
    "\n",
    "# i-ty zaznam, ktery chceme vypsat\n",
    "ith = 5\n",
    "\n",
    "# Otevreni souboru\n",
    "with open(database, 'rb') as data:\n",
    "    # Nacteni marcu\n",
    "    reader = MARCReader(data)\n",
    "\n",
    "    # Postupne prochazime a pocitame zaznamy v nactenem souboru \n",
    "    for i,record in enumerate(reader):        \n",
    "        \n",
    "        # Pokud je i nas zaznam, vypiseme ho \n",
    "        if i == ith:\n",
    "            # Vypsani marcovych zaznamu\n",
    "            print(record)\n",
    "\n",
    "            # Chceme vypsat pouze jeden zaznam, tak po prvnim vypsani zavolame break\n",
    "            break\n"
   ]
  },
  {
   "attachments": {},
   "cell_type": "markdown",
   "metadata": {},
   "source": [
    "Vidíme, že marcový soubor má jasnou strukuru. Má několik polí, která jsou označena zpravidla třemi číslicem, případně třemi písmeny. Každý kód má svou vnitřní logiku, např. pole pro věcné popisy vždy začínají číslicí ``6XX``. <br>\n",
    "Za číslem - tagem pole se obvyke nachází dva indikátory. Pokud indikátor není definovaný, píše se místo něj zpětné lomítko (\\\\). <br>\n",
    "Většina polí se dělí na podpole. Nachází se za dolarem (``$``) a označují se buď jedním písmenem, nebo číslicí.  \n",
    "\n"
   ]
  },
  {
   "cell_type": "markdown",
   "metadata": {},
   "source": [
    "<div class='alert alert-block alert-info'>\n",
    "    <b>Try It!</b>  Pomocí parametru ith nastavíme kolikátý záznam chceme vypsat (indexování začíná od 0). Pokud bychom chtěli vypsat všechny záznamy do i-tého záznamu, změníme `if i == ith:` na `if i <= ith:` a smažeme příkaz `break`.\n",
    "</div>\n",
    "\n"
   ]
  },
  {
   "cell_type": "markdown",
   "metadata": {},
   "source": [
    "#### 1.2 Výpis jednotlivých polí\n",
    "\n",
    "Pro práci s databází pravděpodobně nebudeme potřebovat všechna pole, proto si teď ukážeme, přistupovat k jednotlivým polím v záznamu. <br>\n",
    "Vypíšeme si jen číslo záznamu, název, autora a žánr. K některým polím se můžeme dostat přes tečkovou notaci (`record._`), k ostatním musíme přistupovat přes funkci `get_fields(<cislo pole>)`, která vrátí všechna pole s číslem v závorce.  "
   ]
  },
  {
   "cell_type": "code",
   "execution_count": 25,
   "metadata": {},
   "outputs": [
    {
     "name": "stdout",
     "output_type": "stream",
     "text": [
      "Záznam: 00878nab a22003134a 4500\n",
      "Název: Archeologie času /\n",
      "Autor: Vašíček, Zdeněk, 1933-2011 jk01141688 aut\n",
      "Žánr: eseje\n"
     ]
    }
   ],
   "source": [
    "ith = 5\n",
    "\n",
    "# Otevreni souboru\n",
    "with open(database, 'rb') as data:\n",
    "    # Nacteni marcu\n",
    "    reader = MARCReader(data)\n",
    "\n",
    "    # Postupne prochazime a pocitame zaznamy v nactenem souboru \n",
    "    for i, record in enumerate(reader):\n",
    "\n",
    "        if i == ith:\n",
    "            # Vypsani marcoveho zaznamu\n",
    "            # K nekterym polim muzeme pristupovat pres teckovou notaci, tedy record.leader nebo record.title \n",
    "            print(\"Záznam: \" + record.leader)\n",
    "        \n",
    "            # Pred vypsanim je standardem se nejprve podivat, zda zaznam existuje (tedy ze neni None). \n",
    "            # Pokud bychom se totiz snazili vypsat None hodnotu, kod by vyhodil error. \n",
    "            if record.title is not None:\n",
    "                print(\"Název: \" + record.title)\n",
    "            if record.author is not None:\n",
    "                print(\"Autor: \" + record.author)\n",
    "            \n",
    "            # Pokud chceme zjistit, zda pole ktere nema teckovou notaci neni None, je potreba zavolat funci .get_fields()     \n",
    "            if record.get_fields('655') is not None:     \n",
    "                # K polim, ktere nemaji teckovou notaci, se pristupuje pres zavorky \n",
    "                print(\"Žánr: \" + record['655']['a'])\n",
    "            break        "
   ]
  },
  {
   "attachments": {},
   "cell_type": "markdown",
   "metadata": {},
   "source": [
    "#### 1.3 Počet záznamů\n",
    "\n",
    "Také by nás mohlo zajímat, kolik záznamů je v dané databázi. K tomu si vytvoříme samostatnou funkci `number_of_records(database)`, kterou pak jen zavoláme. Vlastní funkce definujeme pomocí slova `def`<br> \n",
    "Funkce jako vstup bere cestu k marcové databázi. Uvnitř funkce si otevře, projde a při každém záznamu si připočítá jedničku k počítadlu `counter`.  "
   ]
  },
  {
   "cell_type": "code",
   "execution_count": 26,
   "metadata": {},
   "outputs": [
    {
     "name": "stdout",
     "output_type": "stream",
     "text": [
      "V databázi je 21561 záznamů.\n"
     ]
    }
   ],
   "source": [
    "# Vlastni funkce definujeme pomoci slova def\n",
    "def number_of_records(database):\n",
    "    \n",
    "    with open(database, 'rb') as data:\n",
    "        # Nacteni marcu\n",
    "        reader = MARCReader(data)\n",
    "        # Vytvorime pocitadlo, ke kteremu pri kazdem zaznamu pricteme jednicku\n",
    "        counter = 0\n",
    "        # Vzhledem k tomu, ze record nepotrebujeme, tak muzeme pouzit podtrzitko (_), ktere hodnotu bude ignorovat \n",
    "        for _ in reader:\n",
    "            counter += 1\n",
    "    \n",
    "    # Pokud chceme nejakou hodnotu vratit, pouzijeme slovo return        \n",
    "    return counter \n",
    "\n",
    "print(\"V databázi je \" + str(number_of_records(database)) + \" záznamů.\")        "
   ]
  },
  {
   "attachments": {},
   "cell_type": "markdown",
   "metadata": {},
   "source": [
    "### 2. Získání dat \n",
    "\n",
    "S marcovým dokumentem se nepracuje příliš dobře, proto je lepší si data uložit do jednodušší tabulky. V této fázi si musíme ujasnit, jaká data budeme chtít. V našem příkladu budeme chtít uložit název, autora, autorův kód, rok vydání a pak pole '``600 $a``','``650 $a``', '``655 $a``' a '``773 $t``'. <br>\n",
    "\n",
    "#### 2.1 Marcová pole\n",
    "\n",
    "Veškeré záznamy začínající číslem 6XX jsou věcné údaje o záznamu. Tato pole se mohou opakovat. <br>     \n",
    "Pod polem '600' se skrývají osoby, o kterých záznam je nebo případně osoby, kterým je záznam dedikován. <br> \n",
    "Pod polem '650' se nacházejí věcné termíny/téma, tzn. o čem záznam je. <br>\n",
    "Pod polem '655' pak najdeme žánr daného záznamu. Na rozdíl od polí '600' a '650' by pole '655' mělo být přítomné u každého záznamu. <br>\n",
    "Záznamy začínající čísly 76X - 78X se nazývají propojovací pole a slouží pro zápis zdrojového (773) nebo recenzovaného (787) dokumentu. <br>\n",
    "\n"
   ]
  },
  {
   "cell_type": "code",
   "execution_count": 3,
   "metadata": {},
   "outputs": [
    {
     "name": "stdout",
     "output_type": "stream",
     "text": [
      "Záznam: 00940nab a22003014a 4500\n",
      "Věcné jméno: Stankovič, Andrej,\n",
      "Téma: čeští spisovatelé\n",
      "Žánr: bio-bibliografické poznámky\n"
     ]
    }
   ],
   "source": [
    "# i-ty zaznam, ktery chceme vypsat\n",
    "ith = 10\n",
    "\n",
    "# Otevreni souboru\n",
    "with open(database, 'rb') as data:\n",
    "    # Nacteni marcu\n",
    "    reader = MARCReader(data)\n",
    "\n",
    "    # Postupne prochazime a pocitame zaznamy v nactenem souboru \n",
    "    for i,record in enumerate(reader):        \n",
    "        \n",
    "        # Pokud je i nas zaznam, vypiseme ho \n",
    "        if i == ith:\n",
    "            \n",
    "            print(\"Záznam: \" + record.leader)\n",
    "            \n",
    "            # Pokud pole existuje, vypiseme jeho obsah\n",
    "            if record.get_fields('600') is not None:   \n",
    "                # Protoze se pole muze opakovat, projdeme a vypiseme vsechna pole  \n",
    "                for field in record.get_fields('600'): \n",
    "                    print(\"Věcné jméno: \" + field['a'])\n",
    "                \n",
    "                \n",
    "            # Pokud pole existuje, vypiseme jeho obsah    \n",
    "            if record.get_fields('650') is not None:    \n",
    "                # Protoze se pole muze opakovat, projdeme a vypiseme vsechna pole\n",
    "                for field in record.get_fields('650'): \n",
    "                    print(\"Téma: \" + field['a'])\n",
    "            \n",
    "            # Pokud pole existuje, vypiseme jeho obsah\n",
    "            if record.get_fields('655') is not None: \n",
    "                # Protoze se pole muze opakovat, projdeme a vypiseme vsechna pole   \n",
    "                for field in record.get_fields('655'): \n",
    "                    print(\"Žánr: \" + field['a'])\n",
    "\n",
    "            # Chceme vypsat pouze jeden zaznam, tak po prvnim vypsani zavolame break\n",
    "            break\n"
   ]
  },
  {
   "cell_type": "markdown",
   "metadata": {},
   "source": [
    "#### 2.2 Selekce polí\n",
    "\n",
    "Pro ukládání máme připravenou funkci `save_to_dict(record, dictionary, field_list)`, která nám jeden záznam (`record`) uloží do dictionary (struktury v Pythonu) `marc_dictionary`. <br>\n",
    "Struktura dictionary je tvořena dvojicí klíč - hodnota. K hodnotě se dostaneme skrz klíč v hranatých závorkách. `dict[<klic>] = <hodnota>`<br> \n",
    "Protože není strategické si do tabulky ukládat všechna pole, podpole a indikátory, funkci `save_to_dict` kromě záznamu předáme také list polí `field_list`, která chceme uložit. <br>\n",
    "\n",
    "Jelikož se některá pole (např. 700) mohou opakovat, je dobré si hodnoty za každé pole uložit do listu (kolekce v jazyce Python). List je seznam hodnot, např. textu - stringů, čísel - integerů nebo float atd. <br>\n",
    "Kvůli obecnosti si do listu uložíme veškeré hodnoty. Je jednodušší, když pracujeme pouze s jedním typem (např. list nebo string), než když jsou některé hodnoty v listu a některé jsou pouze string. Pokud jsme si jisti, že v původních záznamech se pole nemůže opakovat, můžeme hodnoty uložit samostatně mimo list. <br>    "
   ]
  },
  {
   "cell_type": "code",
   "execution_count": 4,
   "metadata": {},
   "outputs": [
    {
     "name": "stdout",
     "output_type": "stream",
     "text": [
      "Funkce uložena.\n"
     ]
    }
   ],
   "source": [
    "def save_to_dict(record, marc_dictionary, field_list):\n",
    "    if not record is None:\n",
    "        try:\n",
    "            # Prochazeni skrz tuples v listu field_list\n",
    "            for field_tags in field_list:\n",
    "                # Nazev klice ve slovniku\n",
    "                dict_key_name =  field_tags[0]\n",
    "\n",
    "                # Tag pole\n",
    "                tag =  field_tags[1]\n",
    "\n",
    "                # Tag podpole\n",
    "                subfield_tag =  field_tags[2]\n",
    "                \n",
    "                # List do ktereho pridame hodnoty a nasledne pridame do slovniku\n",
    "                dict_add_list = []\n",
    "                \n",
    "                # Prochazeni pres vsechna pole s tagem 'tag'\n",
    "                for field in record.get_fields(tag):\n",
    "                    \n",
    "                    # Pokud pole nema zadna podpole, pridame cele pole do listu dict_add_list\n",
    "                    if subfield_tag is None:\n",
    "                        dict_add_list.append(field.data) \n",
    "                    \n",
    "                    # Pokud subtag je instance slice, tedy to znamena, ze chceme jen nejakou cast pole, ktera neni definovana subpolem,\n",
    "                    # pridame cast pole do slovniku dict_add_list    \n",
    "                    elif isinstance(subfield_tag, slice):\n",
    "                        dict_add_list.append(field.data[subfield_tag])     \n",
    "                    \n",
    "                    # Pokud pole obsahuje podpole, pridame do slovniku dict_add_list jen podpole\n",
    "                    elif '$'+subfield_tag in str(field):  \n",
    "                        dict_add_list.append(str(field[subfield_tag]))\n",
    "\n",
    "                # Do klice z tuplu pridame cely list dict_add_list         \n",
    "                marc_dictionary[dict_key_name].append(dict_add_list)\n",
    "        except Exception as error:\n",
    "            print(\"Exception: \" + type(error).__name__)  \n",
    "            print(\"LDR: \" + str(record.leader))   \n",
    "    return marc_dictionary \n",
    "\n",
    "print(\"Funkce uložena.\")"
   ]
  },
  {
   "cell_type": "markdown",
   "metadata": {},
   "source": [
    "Naši funkci teď využijeme k tomu, abychom si data z marcového souboru vytáhli. Nejprve si do listu `field_list` napíšeme, jaké hodnoty chceme. <br>\n",
    "`field_list` sestává z tuplů (kolekce v jazyce Python), kde každý tuple vypadá následovně. Na první pozici je název klíče, pod kterým se rozhodneme pole uložit, na druhé pozici tag pole a na třetí tag podpole, např. ('author', '100', 'a'). <br>\n",
    "Pak si vytvoříme proměnnou  `marc_dictionary`, do kterého budeme postupně hodnoty přidávat pomocí naší funkce `save_to_dict`. Klíče `marc_dictionary` jsou první hodnoty z tuplů ve `field_list`, hodnoty pak data z marcového záznamu v jednom listu.<br>\n",
    "Nakonec data převedeme do datové struktury DataFrame (která je podobná např. excelovské tabulce), se kterou je mnohem jednodušší pracovat. <br>\n",
    "Řádky v DataFramu reprezentují jednotlivé záznamy, sloupce pak jeden typ (např. jméno autora)."
   ]
  },
  {
   "cell_type": "code",
   "execution_count": 10,
   "metadata": {},
   "outputs": [
    {
     "name": "stdout",
     "output_type": "stream",
     "text": [
      "Marcový soubor uložen do DataFramu df.\n"
     ]
    }
   ],
   "source": [
    "with open(database, 'rb') as data:\n",
    "    reader = MARCReader(data)\n",
    "    # List poli, ktere si chceme ulozit\n",
    "    field_list = [('title', '245', 'a'),\n",
    "                ('author', '100', 'a'),\n",
    "                ('author code', '100', '7'),\n",
    "                # Rok je schovany v poli 008 na 8. az 11. miste, proto vyuzijeme funkci slice\n",
    "                ('year', '008', slice(7,11, None)), #7-11\n",
    "                ('figures', '600', 'a'),\n",
    "                ('description', '650', 'a'),\n",
    "                ('genre', '655', 'a'),\n",
    "                ('magazine', '773', 't')]\n",
    "    \n",
    "    # Struktura dictionary, do ktere data budeme ukladat\n",
    "    marc_dictionary = {}\n",
    "    \n",
    "    # Postupne projdeme vsechny tuples ve field_list\n",
    "    for t in field_list:\n",
    "        \n",
    "        # Nazev klice je v listu poli na prvnim miste    \n",
    "        dict_key_name = t[0]\n",
    "        \n",
    "        # Do dictionary pridame nazev klice a prozatim prazdny seznam\n",
    "        marc_dictionary[dict_key_name] = []\n",
    "    \n",
    "    # Projdeme vsechny zaznamy v databazi  \n",
    "    for record in reader:\n",
    "        \n",
    "        marc_dictionary = save_to_dict(record, marc_dictionary, field_list)\n",
    "\n",
    "# Marc_dictionary prevedeme do DataFramu        \n",
    "df = pd.DataFrame.from_dict(marc_dictionary)\n",
    "\n",
    "print(\"Marcový soubor uložen do DataFramu df.\")"
   ]
  },
  {
   "cell_type": "code",
   "execution_count": 11,
   "metadata": {},
   "outputs": [
    {
     "data": {
      "text/html": [
       "<div>\n",
       "<style scoped>\n",
       "    .dataframe tbody tr th:only-of-type {\n",
       "        vertical-align: middle;\n",
       "    }\n",
       "\n",
       "    .dataframe tbody tr th {\n",
       "        vertical-align: top;\n",
       "    }\n",
       "\n",
       "    .dataframe thead th {\n",
       "        text-align: right;\n",
       "    }\n",
       "</style>\n",
       "<table border=\"1\" class=\"dataframe\">\n",
       "  <thead>\n",
       "    <tr style=\"text-align: right;\">\n",
       "      <th></th>\n",
       "      <th>title</th>\n",
       "      <th>author</th>\n",
       "      <th>author code</th>\n",
       "      <th>year</th>\n",
       "      <th>figures</th>\n",
       "      <th>description</th>\n",
       "      <th>genre</th>\n",
       "      <th>magazine</th>\n",
       "    </tr>\n",
       "  </thead>\n",
       "  <tbody>\n",
       "    <tr>\n",
       "      <th>21556</th>\n",
       "      <td>[Není špatného tabáku ani ošklivých žen /]</td>\n",
       "      <td>[Infeld, Leopold,]</td>\n",
       "      <td>[jn20001227801]</td>\n",
       "      <td>[1979]</td>\n",
       "      <td>[Einstein, Albert,]</td>\n",
       "      <td>[fyzici, Nobelova cena (ocenění), osamělost, i...</td>\n",
       "      <td>[vzpomínky]</td>\n",
       "      <td>[Acta incognitorum [samizdat]]</td>\n",
       "    </tr>\n",
       "    <tr>\n",
       "      <th>21557</th>\n",
       "      <td>[Bude religiózní nebo /]</td>\n",
       "      <td>[Jirous, Ivan Martin,]</td>\n",
       "      <td>[jn19981001568]</td>\n",
       "      <td>[1980]</td>\n",
       "      <td>[Němec, David,, Zajíček, Pavel,]</td>\n",
       "      <td>[výtvarní umělci, výtvarné umění, pop art, kon...</td>\n",
       "      <td>[články]</td>\n",
       "      <td>[Magorův zápisník I : duben 1979 - duben 1980 ...</td>\n",
       "    </tr>\n",
       "    <tr>\n",
       "      <th>21558</th>\n",
       "      <td>[Zasadil jsem vám osiku, pane doktore! /]</td>\n",
       "      <td>[Jirous, Ivan Martin,]</td>\n",
       "      <td>[jn19981001568]</td>\n",
       "      <td>[1980]</td>\n",
       "      <td>[Bondy, Egon,, Batrouvid, Orwell, George,]</td>\n",
       "      <td>[undergroundová kultura, čeští básníci, čeští ...</td>\n",
       "      <td>[polemiky]</td>\n",
       "      <td>[Magorův zápisník I : duben 1979 - duben 1980 ...</td>\n",
       "    </tr>\n",
       "    <tr>\n",
       "      <th>21559</th>\n",
       "      <td>[Krása bude křečovitá nebo nebude vůbec /]</td>\n",
       "      <td>[Jirous, Ivan Martin,]</td>\n",
       "      <td>[jn19981001568]</td>\n",
       "      <td>[1980]</td>\n",
       "      <td>[Zajíček, Pavel,, Hlavsa, Milan,, Kabeš, Jiří,]</td>\n",
       "      <td>[undergroundová kultura, alternativní hudba, a...</td>\n",
       "      <td>[reportáže]</td>\n",
       "      <td>[Magorův zápisník I : duben 1979 - duben 1980 ...</td>\n",
       "    </tr>\n",
       "    <tr>\n",
       "      <th>21560</th>\n",
       "      <td>[Stalo se něco hrozného /]</td>\n",
       "      <td>[Jirous, Ivan Martin,]</td>\n",
       "      <td>[jn19981001568]</td>\n",
       "      <td>[1980]</td>\n",
       "      <td>[Wilde, Oscar,, Kordík, Josef,, Soukup, Karel,]</td>\n",
       "      <td>[divadelní představení, anglické drama, underg...</td>\n",
       "      <td>[recenze]</td>\n",
       "      <td>[Magorův zápisník I : duben 1979 - duben 1980 ...</td>\n",
       "    </tr>\n",
       "  </tbody>\n",
       "</table>\n",
       "</div>"
      ],
      "text/plain": [
       "                                            title                  author  \\\n",
       "21556  [Není špatného tabáku ani ošklivých žen /]      [Infeld, Leopold,]   \n",
       "21557                    [Bude religiózní nebo /]  [Jirous, Ivan Martin,]   \n",
       "21558   [Zasadil jsem vám osiku, pane doktore! /]  [Jirous, Ivan Martin,]   \n",
       "21559  [Krása bude křečovitá nebo nebude vůbec /]  [Jirous, Ivan Martin,]   \n",
       "21560                  [Stalo se něco hrozného /]  [Jirous, Ivan Martin,]   \n",
       "\n",
       "           author code    year  \\\n",
       "21556  [jn20001227801]  [1979]   \n",
       "21557  [jn19981001568]  [1980]   \n",
       "21558  [jn19981001568]  [1980]   \n",
       "21559  [jn19981001568]  [1980]   \n",
       "21560  [jn19981001568]  [1980]   \n",
       "\n",
       "                                               figures  \\\n",
       "21556                              [Einstein, Albert,]   \n",
       "21557                 [Němec, David,, Zajíček, Pavel,]   \n",
       "21558       [Bondy, Egon,, Batrouvid, Orwell, George,]   \n",
       "21559  [Zajíček, Pavel,, Hlavsa, Milan,, Kabeš, Jiří,]   \n",
       "21560  [Wilde, Oscar,, Kordík, Josef,, Soukup, Karel,]   \n",
       "\n",
       "                                             description        genre  \\\n",
       "21556  [fyzici, Nobelova cena (ocenění), osamělost, i...  [vzpomínky]   \n",
       "21557  [výtvarní umělci, výtvarné umění, pop art, kon...     [články]   \n",
       "21558  [undergroundová kultura, čeští básníci, čeští ...   [polemiky]   \n",
       "21559  [undergroundová kultura, alternativní hudba, a...  [reportáže]   \n",
       "21560  [divadelní představení, anglické drama, underg...    [recenze]   \n",
       "\n",
       "                                                magazine  \n",
       "21556                     [Acta incognitorum [samizdat]]  \n",
       "21557  [Magorův zápisník I : duben 1979 - duben 1980 ...  \n",
       "21558  [Magorův zápisník I : duben 1979 - duben 1980 ...  \n",
       "21559  [Magorův zápisník I : duben 1979 - duben 1980 ...  \n",
       "21560  [Magorův zápisník I : duben 1979 - duben 1980 ...  "
      ]
     },
     "execution_count": 11,
     "metadata": {},
     "output_type": "execute_result"
    }
   ],
   "source": [
    "# Vypise poslednich 5 zaznamu v DataFramu\n",
    "df.tail()"
   ]
  },
  {
   "cell_type": "markdown",
   "metadata": {},
   "source": [
    "#### 2.3 Úprava dat \n",
    "\n",
    "Vidíme, že jména za sebou mají přebytečnou čárku, kterou jednoduše odstraníme. Stejně tak názvy přebytečné lomítko. Díky funkcím `apply()` a `lambda` můžeme změnit všechny hodnoty ve sloupci pomocí jednoho řádku kódu. Ve funkci `lambda` si definujeme, jak data chceme upravit. Funkcí `apply()` použijeme funkci `lambda` na všechny hodnoty. <br> \n",
    "Všechna data jsou uložena v listu, proto musíme projít všechny hodnoty v list zvlášť. <br>  \n",
    "Funkce vezme jednotlivé listy ve sloupci a zjistí, zda list není prázdný ( tedy se zeptá, zda je velikost listu větší než 0 `len(y) > 0`). Pokud není, funkce projde hodnoty v listu a uloží si je bez koncové čárky. To udělá pomocí funkce `strip(' ,')`, která případně odstraní koncové čárky nebo mezery u jmen. U názvů použijeme funkci `strip(' /')`, která nás zbaví přebytečného lomítka. Pokud je prázdný, funkce list nijak nezmění.   "
   ]
  },
  {
   "cell_type": "code",
   "execution_count": 12,
   "metadata": {},
   "outputs": [
    {
     "data": {
      "text/html": [
       "<div>\n",
       "<style scoped>\n",
       "    .dataframe tbody tr th:only-of-type {\n",
       "        vertical-align: middle;\n",
       "    }\n",
       "\n",
       "    .dataframe tbody tr th {\n",
       "        vertical-align: top;\n",
       "    }\n",
       "\n",
       "    .dataframe thead th {\n",
       "        text-align: right;\n",
       "    }\n",
       "</style>\n",
       "<table border=\"1\" class=\"dataframe\">\n",
       "  <thead>\n",
       "    <tr style=\"text-align: right;\">\n",
       "      <th></th>\n",
       "      <th>title</th>\n",
       "      <th>author</th>\n",
       "      <th>author code</th>\n",
       "      <th>year</th>\n",
       "      <th>figures</th>\n",
       "      <th>description</th>\n",
       "      <th>genre</th>\n",
       "      <th>magazine</th>\n",
       "    </tr>\n",
       "  </thead>\n",
       "  <tbody>\n",
       "    <tr>\n",
       "      <th>21556</th>\n",
       "      <td>[Není špatného tabáku ani ošklivých žen /]</td>\n",
       "      <td>[Infeld, Leopold]</td>\n",
       "      <td>[jn20001227801]</td>\n",
       "      <td>[1979]</td>\n",
       "      <td>[Einstein, Albert]</td>\n",
       "      <td>[fyzici, Nobelova cena (ocenění), osamělost, i...</td>\n",
       "      <td>[vzpomínky]</td>\n",
       "      <td>[Acta incognitorum [samizdat]]</td>\n",
       "    </tr>\n",
       "    <tr>\n",
       "      <th>21557</th>\n",
       "      <td>[Bude religiózní nebo /]</td>\n",
       "      <td>[Jirous, Ivan Martin]</td>\n",
       "      <td>[jn19981001568]</td>\n",
       "      <td>[1980]</td>\n",
       "      <td>[Němec, David, Zajíček, Pavel]</td>\n",
       "      <td>[výtvarní umělci, výtvarné umění, pop art, kon...</td>\n",
       "      <td>[články]</td>\n",
       "      <td>[Magorův zápisník I : duben 1979 - duben 1980 ...</td>\n",
       "    </tr>\n",
       "    <tr>\n",
       "      <th>21558</th>\n",
       "      <td>[Zasadil jsem vám osiku, pane doktore! /]</td>\n",
       "      <td>[Jirous, Ivan Martin]</td>\n",
       "      <td>[jn19981001568]</td>\n",
       "      <td>[1980]</td>\n",
       "      <td>[Bondy, Egon, Batrouvid, Orwell, George]</td>\n",
       "      <td>[undergroundová kultura, čeští básníci, čeští ...</td>\n",
       "      <td>[polemiky]</td>\n",
       "      <td>[Magorův zápisník I : duben 1979 - duben 1980 ...</td>\n",
       "    </tr>\n",
       "    <tr>\n",
       "      <th>21559</th>\n",
       "      <td>[Krása bude křečovitá nebo nebude vůbec /]</td>\n",
       "      <td>[Jirous, Ivan Martin]</td>\n",
       "      <td>[jn19981001568]</td>\n",
       "      <td>[1980]</td>\n",
       "      <td>[Zajíček, Pavel, Hlavsa, Milan, Kabeš, Jiří]</td>\n",
       "      <td>[undergroundová kultura, alternativní hudba, a...</td>\n",
       "      <td>[reportáže]</td>\n",
       "      <td>[Magorův zápisník I : duben 1979 - duben 1980 ...</td>\n",
       "    </tr>\n",
       "    <tr>\n",
       "      <th>21560</th>\n",
       "      <td>[Stalo se něco hrozného /]</td>\n",
       "      <td>[Jirous, Ivan Martin]</td>\n",
       "      <td>[jn19981001568]</td>\n",
       "      <td>[1980]</td>\n",
       "      <td>[Wilde, Oscar, Kordík, Josef, Soukup, Karel]</td>\n",
       "      <td>[divadelní představení, anglické drama, underg...</td>\n",
       "      <td>[recenze]</td>\n",
       "      <td>[Magorův zápisník I : duben 1979 - duben 1980 ...</td>\n",
       "    </tr>\n",
       "  </tbody>\n",
       "</table>\n",
       "</div>"
      ],
      "text/plain": [
       "                                            title                 author  \\\n",
       "21556  [Není špatného tabáku ani ošklivých žen /]      [Infeld, Leopold]   \n",
       "21557                    [Bude religiózní nebo /]  [Jirous, Ivan Martin]   \n",
       "21558   [Zasadil jsem vám osiku, pane doktore! /]  [Jirous, Ivan Martin]   \n",
       "21559  [Krása bude křečovitá nebo nebude vůbec /]  [Jirous, Ivan Martin]   \n",
       "21560                  [Stalo se něco hrozného /]  [Jirous, Ivan Martin]   \n",
       "\n",
       "           author code    year                                       figures  \\\n",
       "21556  [jn20001227801]  [1979]                            [Einstein, Albert]   \n",
       "21557  [jn19981001568]  [1980]                [Němec, David, Zajíček, Pavel]   \n",
       "21558  [jn19981001568]  [1980]      [Bondy, Egon, Batrouvid, Orwell, George]   \n",
       "21559  [jn19981001568]  [1980]  [Zajíček, Pavel, Hlavsa, Milan, Kabeš, Jiří]   \n",
       "21560  [jn19981001568]  [1980]  [Wilde, Oscar, Kordík, Josef, Soukup, Karel]   \n",
       "\n",
       "                                             description        genre  \\\n",
       "21556  [fyzici, Nobelova cena (ocenění), osamělost, i...  [vzpomínky]   \n",
       "21557  [výtvarní umělci, výtvarné umění, pop art, kon...     [články]   \n",
       "21558  [undergroundová kultura, čeští básníci, čeští ...   [polemiky]   \n",
       "21559  [undergroundová kultura, alternativní hudba, a...  [reportáže]   \n",
       "21560  [divadelní představení, anglické drama, underg...    [recenze]   \n",
       "\n",
       "                                                magazine  \n",
       "21556                     [Acta incognitorum [samizdat]]  \n",
       "21557  [Magorův zápisník I : duben 1979 - duben 1980 ...  \n",
       "21558  [Magorův zápisník I : duben 1979 - duben 1980 ...  \n",
       "21559  [Magorův zápisník I : duben 1979 - duben 1980 ...  \n",
       "21560  [Magorův zápisník I : duben 1979 - duben 1980 ...  "
      ]
     },
     "execution_count": 12,
     "metadata": {},
     "output_type": "execute_result"
    }
   ],
   "source": [
    "# U jmen si chceme ulozit jmeno a prijmeni bez koncove carky ',', ktera je na konci stringu\n",
    "df['figures'] = df['figures'].apply(lambda x: [y.strip(' ,') if len(y) > 0  else y for y in x])  \n",
    "df['author'] = df['author'].apply(lambda x: [y.strip(' ,') if len(y) > 0 else y for y in x]) \n",
    "\n",
    "# Nazev si chceme ulozit bez lomitka '/', ktere je na konci stringu\n",
    "df['title'] = df['title'].apply(lambda x: [y.strip(' /') if len(y) > 0 else y for y in x])  \n",
    "\n",
    "# Vypise poslednich 5 zaznamu v DataFramu\n",
    "df.tail()"
   ]
  },
  {
   "cell_type": "markdown",
   "metadata": {},
   "source": [
    "### 3. Export do CSV a excelu\n",
    "\n",
    "V následujícím kroku si budeme chtít data exportovat do formátu CSV. Jelikož CSV tabulka nepracuje dobře s listy, hodnoty v listu spojíme středníkem do jednoho stringu pomocí funkce `join()`. K tomu opět využijeme lambda funkci. <br>\n",
    "\n",
    "###### Funkce `join()` může spojit i jednotlivá písmena ve stringu. Abychom předešli tomu, že mezi každým písmenkem budeme mít středník, v lambda funkci pomocí `isinstance()` otestujeme, zda jsou data opravdu v listu. \n"
   ]
  },
  {
   "cell_type": "code",
   "execution_count": 9,
   "metadata": {},
   "outputs": [
    {
     "data": {
      "text/html": [
       "<div>\n",
       "<style scoped>\n",
       "    .dataframe tbody tr th:only-of-type {\n",
       "        vertical-align: middle;\n",
       "    }\n",
       "\n",
       "    .dataframe tbody tr th {\n",
       "        vertical-align: top;\n",
       "    }\n",
       "\n",
       "    .dataframe thead th {\n",
       "        text-align: right;\n",
       "    }\n",
       "</style>\n",
       "<table border=\"1\" class=\"dataframe\">\n",
       "  <thead>\n",
       "    <tr style=\"text-align: right;\">\n",
       "      <th></th>\n",
       "      <th>title</th>\n",
       "      <th>author</th>\n",
       "      <th>author code</th>\n",
       "      <th>year</th>\n",
       "      <th>figures</th>\n",
       "      <th>description</th>\n",
       "      <th>genre</th>\n",
       "      <th>magazine</th>\n",
       "    </tr>\n",
       "  </thead>\n",
       "  <tbody>\n",
       "    <tr>\n",
       "      <th>21556</th>\n",
       "      <td>Není špatného tabáku ani ošklivých žen /</td>\n",
       "      <td>Infeld, Leopold</td>\n",
       "      <td>jn20001227801</td>\n",
       "      <td>1979</td>\n",
       "      <td>Einstein, Albert</td>\n",
       "      <td>fyzici;Nobelova cena (ocenění);osamělost;inter...</td>\n",
       "      <td>vzpomínky</td>\n",
       "      <td>Acta incognitorum [samizdat]</td>\n",
       "    </tr>\n",
       "    <tr>\n",
       "      <th>21557</th>\n",
       "      <td>Bude religiózní nebo /</td>\n",
       "      <td>Jirous, Ivan Martin</td>\n",
       "      <td>jn19981001568</td>\n",
       "      <td>1980</td>\n",
       "      <td>Němec, David;Zajíček, Pavel</td>\n",
       "      <td>výtvarní umělci;výtvarné umění;pop art;koncert...</td>\n",
       "      <td>články</td>\n",
       "      <td>Magorův zápisník I : duben 1979 - duben 1980 [...</td>\n",
       "    </tr>\n",
       "    <tr>\n",
       "      <th>21558</th>\n",
       "      <td>Zasadil jsem vám osiku, pane doktore! /</td>\n",
       "      <td>Jirous, Ivan Martin</td>\n",
       "      <td>jn19981001568</td>\n",
       "      <td>1980</td>\n",
       "      <td>Bondy, Egon;Batrouvid;Orwell, George</td>\n",
       "      <td>undergroundová kultura;čeští básníci;čeští pro...</td>\n",
       "      <td>polemiky</td>\n",
       "      <td>Magorův zápisník I : duben 1979 - duben 1980 [...</td>\n",
       "    </tr>\n",
       "    <tr>\n",
       "      <th>21559</th>\n",
       "      <td>Krása bude křečovitá nebo nebude vůbec /</td>\n",
       "      <td>Jirous, Ivan Martin</td>\n",
       "      <td>jn19981001568</td>\n",
       "      <td>1980</td>\n",
       "      <td>Zajíček, Pavel;Hlavsa, Milan;Kabeš, Jiří</td>\n",
       "      <td>undergroundová kultura;alternativní hudba;alte...</td>\n",
       "      <td>reportáže</td>\n",
       "      <td>Magorův zápisník I : duben 1979 - duben 1980 [...</td>\n",
       "    </tr>\n",
       "    <tr>\n",
       "      <th>21560</th>\n",
       "      <td>Stalo se něco hrozného /</td>\n",
       "      <td>Jirous, Ivan Martin</td>\n",
       "      <td>jn19981001568</td>\n",
       "      <td>1980</td>\n",
       "      <td>Wilde, Oscar;Kordík, Josef;Soukup, Karel</td>\n",
       "      <td>divadelní představení;anglické drama;undergrou...</td>\n",
       "      <td>recenze</td>\n",
       "      <td>Magorův zápisník I : duben 1979 - duben 1980 [...</td>\n",
       "    </tr>\n",
       "  </tbody>\n",
       "</table>\n",
       "</div>"
      ],
      "text/plain": [
       "                                          title               author  \\\n",
       "21556  Není špatného tabáku ani ošklivých žen /      Infeld, Leopold   \n",
       "21557                    Bude religiózní nebo /  Jirous, Ivan Martin   \n",
       "21558   Zasadil jsem vám osiku, pane doktore! /  Jirous, Ivan Martin   \n",
       "21559  Krása bude křečovitá nebo nebude vůbec /  Jirous, Ivan Martin   \n",
       "21560                  Stalo se něco hrozného /  Jirous, Ivan Martin   \n",
       "\n",
       "         author code  year                                   figures  \\\n",
       "21556  jn20001227801  1979                          Einstein, Albert   \n",
       "21557  jn19981001568  1980               Němec, David;Zajíček, Pavel   \n",
       "21558  jn19981001568  1980      Bondy, Egon;Batrouvid;Orwell, George   \n",
       "21559  jn19981001568  1980  Zajíček, Pavel;Hlavsa, Milan;Kabeš, Jiří   \n",
       "21560  jn19981001568  1980  Wilde, Oscar;Kordík, Josef;Soukup, Karel   \n",
       "\n",
       "                                             description      genre  \\\n",
       "21556  fyzici;Nobelova cena (ocenění);osamělost;inter...  vzpomínky   \n",
       "21557  výtvarní umělci;výtvarné umění;pop art;koncert...     články   \n",
       "21558  undergroundová kultura;čeští básníci;čeští pro...   polemiky   \n",
       "21559  undergroundová kultura;alternativní hudba;alte...  reportáže   \n",
       "21560  divadelní představení;anglické drama;undergrou...    recenze   \n",
       "\n",
       "                                                magazine  \n",
       "21556                       Acta incognitorum [samizdat]  \n",
       "21557  Magorův zápisník I : duben 1979 - duben 1980 [...  \n",
       "21558  Magorův zápisník I : duben 1979 - duben 1980 [...  \n",
       "21559  Magorův zápisník I : duben 1979 - duben 1980 [...  \n",
       "21560  Magorův zápisník I : duben 1979 - duben 1980 [...  "
      ]
     },
     "execution_count": 9,
     "metadata": {},
     "output_type": "execute_result"
    }
   ],
   "source": [
    "# Aby se nam list hodnot lepe ukladal, vytvorime z listu jeden string a jednotlive elementy spojime strednikem ';' \n",
    "for column in df.columns:\n",
    "    df[column] = df[column].apply(lambda x: ';'.join(x) if isinstance(x, list) else x )\n",
    "\n",
    "df.tail()"
   ]
  },
  {
   "cell_type": "markdown",
   "metadata": {},
   "source": [
    "Nakonec DataFrame uložíme do CSV a Excelu. "
   ]
  },
  {
   "cell_type": "code",
   "execution_count": 33,
   "metadata": {},
   "outputs": [
    {
     "name": "stdout",
     "output_type": "stream",
     "text": [
      "Data uložena do csv.\n",
      "Data uložena do xlsx.\n"
     ]
    }
   ],
   "source": [
    "out_csv = 'data/csv/out_smz.csv'\n",
    "\n",
    "# DataFrame ulozime do formatu CSV\n",
    "df.to_csv(out_csv, encoding = 'utf8', sep = \",\", index=False)   \n",
    "\n",
    "print(\"Data uložena do csv.\")\n",
    "\n",
    "out_excel = 'data/out_smz.xlsx'\n",
    "\n",
    "# Soubor muzeme ulozit i jako excelovy soubor, se kterym dal muzeme pracovat v Excelu\n",
    "df.to_excel(out_excel,  index=False) \n",
    "\n",
    "print(\"Data uložena do xlsx.\")"
   ]
  }
 ],
 "metadata": {
  "kernelspec": {
   "display_name": "Python 3",
   "language": "python",
   "name": "python3"
  },
  "language_info": {
   "codemirror_mode": {
    "name": "ipython",
    "version": 3
   },
   "file_extension": ".py",
   "mimetype": "text/x-python",
   "name": "python",
   "nbconvert_exporter": "python",
   "pygments_lexer": "ipython3",
   "version": "3.11.4"
  },
  "orig_nbformat": 4
 },
 "nbformat": 4,
 "nbformat_minor": 2
}
