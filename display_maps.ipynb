{
 "cells": [
  {
   "cell_type": "markdown",
   "metadata": {},
   "source": [
    "Funkce ktera nam ulozi hodnoty do kolekce dictionary"
   ]
  },
  {
   "cell_type": "code",
   "execution_count": 1,
   "metadata": {},
   "outputs": [],
   "source": [
    "def save_to_dict(record, dict, field_list):\n",
    "    if not record is None:\n",
    "        try:\n",
    "            # Iterace skrz tuples v seznamu field_list\n",
    "            for field_tags in field_list:\n",
    "                # Nazev klice ve slovniku\n",
    "                dict_key_name =  field_tags[0]\n",
    "\n",
    "                # Tag pole\n",
    "                tag =  field_tags[1]\n",
    "\n",
    "                # Tag podpole\n",
    "                subfield_tag =  field_tags[2]\n",
    "                \n",
    "                # Seznam do ktereho pridame hodnoty a nasledne pridame do slovniku\n",
    "                dict_add_list = []\n",
    "                \n",
    "                # Iterace pres vsechna pole s tagem 'tag'\n",
    "                for field in record.get_fields(tag):\n",
    "                    \n",
    "                    # Pokud pole nema zadna podpole, pridame cele pole do listu dict_add_list\n",
    "                    if subfield_tag is None:\n",
    "                        dict_add_list.append(str(field))\n",
    "                    \n",
    "                    # Pokud subtag je instance slice, tedy to znamena, ze chceme jen nejakou cast pole, ktera neni definovana subpolem,\n",
    "                    # pridame cast pole do slovniku dict_add_list    \n",
    "                    elif isinstance(subfield_tag, slice):\n",
    "                        dict_add_list.append(str(field) [subfield_tag])     \n",
    "                    \n",
    "                    # Pokud pole obsahuje podpole, pridame do slovniku dict_add_list jen podpole\n",
    "                    elif '$'+subfield_tag in str(field):  \n",
    "                        dict_add_list.append(str(field[subfield_tag]))\n",
    "\n",
    "                # Do klice z tuplu pridame cely seznam dict_add_list         \n",
    "                dict[dict_key_name].append(dict_add_list)\n",
    "        except Exception as error:\n",
    "            print(\"Exception: \" + type(error).__name__)  \n",
    "            print(\"964 Field: \" + str(record.get_fields('964')))  \n",
    "            print(\"LDR: \" + str(record.leader))   \n",
    "    return dict "
   ]
  },
  {
   "cell_type": "markdown",
   "metadata": {},
   "source": [
    "## Ulozeni dat"
   ]
  },
  {
   "cell_type": "code",
   "execution_count": 2,
   "metadata": {},
   "outputs": [],
   "source": [
    "import pandas as pd\n",
    "from pymarc import MARCReader\n",
    "\n",
    "# 'data/csv/ucla_B.csv'\n",
    "# 'data/csv/ucla_ret.csv'\n",
    "# 'data/csv/ucla_smz.csv'\n",
    "# 'data/csv/ucla_int.csv'\n",
    "# 'data/csv/ucla_cle.csv'\n",
    "# 'data/csv/ucla_trl.csv'\n",
    "\n",
    "# Cesta k marcovemu dokumentu\n",
    "database = 'data/ucla/ucla_cle.mrc'\n",
    "\n",
    "out = 'data/out.csv'\n",
    "\n",
    "with open(database, 'rb') as data:\n",
    "    reader = MARCReader(data)\n",
    "    # Seznam poli, ktere si chceme ulozit\n",
    "    field_list = [('title', '245', 'a'),\n",
    "                ('author', '100', 'a'),\n",
    "                ('author code', '100', '7'),\n",
    "                # Rok je schovany v poli 008 na 13. az 16. miste, \n",
    "                # proto vyuzijeme funkci slice\n",
    "                ('year', '008', slice(13,17, None)),\n",
    "                ('figures', '600', 'a'),\n",
    "                ('description', '650', 'a'),\n",
    "                ('genre', '655', 'a'),\n",
    "                ('magazine', '773', 't')]\n",
    "    dict = {}\n",
    "    for t in field_list:\n",
    "        dict_key_name = t[0]\n",
    "        dict[dict_key_name] = []\n",
    "    for record in reader:\n",
    "        dict = save_to_dict(record, dict, field_list)\n",
    "    df = pd.DataFrame.from_dict(dict)\n",
    "\n",
    "    # U jmen si chceme ulozit jmeno a prijmeni bez koncove carky ',', ktera je na konci stringu\n",
    "    df['figures'] = df['figures'].apply(lambda x: [y[:y.rfind(',')] if isinstance(y, str) and len(y) > 0 else y for y in x]) \n",
    "    df['author'] = df['author'].apply(lambda x: [y[:y.rfind(',')] if isinstance(y, str) and len(y) > 0 else y for y in x])  \n",
    "\n",
    "    # Aby se nam list hodnot lepe ukladal, vytvorime z listu jeden string a jednotlive elementy spojime strednikem ';' \n",
    "    for column in df.columns:\n",
    "        df[column] = df[column].apply(lambda x: ';'.join(x))\n",
    "    df.to_csv(out, encoding = 'utf8', sep = \",\")  "
   ]
  },
  {
   "cell_type": "code",
   "execution_count": 2,
   "metadata": {},
   "outputs": [],
   "source": [
    "import pandas as pd\n",
    "\n",
    "out = 'data/csv/out_cle.csv'\n",
    "\n",
    "# Cesta k nasim datum\n",
    "csv_data = out\n",
    "\n",
    "# Nacteni dat\n",
    "df = pd.read_csv(csv_data, delimiter=',')\n",
    "# Odstraneni zbytecneho sloupce\n",
    "df = df.drop(['Unnamed: 0'], axis = 1)\n",
    "\n",
    "\n",
    "for column in df.columns:\n",
    "    if df[column].dtype != 'int64':   \n",
    "        # Hodnoty spojene v jeden string zpatky rozdelime do listu, aby se nam s nim lepe pracovalo\n",
    "        df[column] = df[column].apply(lambda x: x.split(';') if isinstance(x, str)  else [])\n"
   ]
  },
  {
   "cell_type": "code",
   "execution_count": 3,
   "metadata": {},
   "outputs": [],
   "source": [
    "# Funkce na \"zplosteni\" listu -> ze sloupce DataFramu vytvori jeden list se vsemi elementy \n",
    "def flatten_list(strings):\n",
    "    flattened_list = []\n",
    "    for item in strings:\n",
    "        if isinstance(item, str):  # Pokud je element string, pridame ho do seznamu\n",
    "            flattened_list.append(item)\n",
    "        else:  # Rekurzivne zavola sebe\n",
    "            flattened_list.extend(flatten_list(item))\n",
    "    return flattened_list"
   ]
  },
  {
   "cell_type": "markdown",
   "metadata": {},
   "source": [
    "## Cisteni dat"
   ]
  },
  {
   "cell_type": "code",
   "execution_count": 4,
   "metadata": {},
   "outputs": [
    {
     "name": "stdout",
     "output_type": "stream",
     "text": [
      "Counter({'Mnichov': 2197, 'New York': 2090, 'Řím': 1484, 'Paříž': 928, 'Winterthur': 511, 'Hamburg': 428, 'Curych': 273, 'Toronto': 196, 'Rotterdam': 185, 'Wuppertal': 135, 'Kolín nad Rýnem': 120, 'Vídeň': 68, 'St. Gallen': 65, 'Ženeva': 53, 'Middlesex': 53, 'Londýn': 48, 'Edmonton': 39, 'Scheinfeld': 36, 'Norman, Oklahoma': 22, 'London': 17})\n"
     ]
    }
   ],
   "source": [
    "import re\n",
    "from collections import Counter\n",
    "import numpy as np\n",
    " \n",
    "# regex patern, ktery najde substring mezi zavorkami\n",
    "pattern_cities = r\"\\((.*?)\\)\"\n",
    "\n",
    "# Ulozime mesta do promenne\n",
    "cities = df['magazine'].apply(lambda x: [re.search(pattern_cities, y).group(1) if re.search(pattern_cities, y) else None for y in x]).tolist().copy()\n",
    "\n",
    "# Vytvorime zplostely list a odstranime None hodnoty\n",
    "cities = sum(cities,[])\n",
    "\n",
    "# Odstranime nenulove hodnoty\n",
    "cities = list(filter(lambda x: x is not None, cities))\n",
    "\n",
    "# Odstranime Index on Censorship z elementu \"London, Index on Censorship\"\n",
    "cities = list(map(lambda x: 'London' if 'London' in x else x, cities))\n",
    "\n",
    "# Odstranime 'Obstladen' z Winterthur\n",
    "cities = list(map(lambda x: 'Winterthur' if 'Obstladen' in x else x, cities))\n",
    "\n",
    "# Vytvorime dva elementy z New York-Paříž\n",
    "cities = list(map(lambda x: ['New York','Paříž'] if 'New York-Paříž' in x else x, cities))\n",
    "\n",
    "# Vytvorime dva elementy z New York-Paříž\n",
    "cities = list(map(lambda x: ['Ženeva','Middlesex', 'Mnichov'] if 'Ženeva-Middlesex-Mnichov' in x else x, cities))\n",
    "\n",
    "# Prepiseme Köln-Ehrenfeld na Kolín nad Rýnem \n",
    "cities = list(map(lambda x: 'Kolín nad Rýnem' if 'Köln-Ehrenfeld' in x else x, cities))\n",
    "\n",
    "# Zplostime seznam\n",
    "cities = flatten_list(cities)\n",
    "\n",
    "print(Counter(cities))"
   ]
  },
  {
   "cell_type": "code",
   "execution_count": 7,
   "metadata": {},
   "outputs": [
    {
     "name": "stdout",
     "output_type": "stream",
     "text": [
      "                city  number of records\n",
      "0             London                 17\n",
      "1         Scheinfeld                 36\n",
      "2            Mnichov               2197\n",
      "3    Kolín nad Rýnem                120\n",
      "4           New York               2090\n",
      "5                Řím               1484\n",
      "6             Curych                273\n",
      "7         St. Gallen                 65\n",
      "8              Vídeň                 68\n",
      "9          Wuppertal                135\n",
      "10            Londýn                 48\n",
      "11           Hamburg                428\n",
      "12  Norman, Oklahoma                 22\n",
      "13            Ženeva                 53\n",
      "14         Middlesex                 53\n",
      "15             Paříž                928\n",
      "16          Edmonton                 39\n",
      "17           Toronto                196\n",
      "18        Winterthur                511\n",
      "19         Rotterdam                185\n"
     ]
    }
   ],
   "source": [
    "cities_number_of_records = Counter(cities)\n",
    "cities_df = pd.DataFrame.from_dict(cities_number_of_records, orient='index').reset_index()\n",
    "cities_df.columns = ['city', 'number of records']\n",
    "#cities_df['latitude'] = None\n",
    "#cities_df['longitude'] = None\n",
    "#df.reindex(columns=['city', 'number of records', 'lat', 'lon'], fill_value=0)\n",
    "\n",
    "print(cities_df)"
   ]
  },
  {
   "cell_type": "code",
   "execution_count": 7,
   "metadata": {},
   "outputs": [],
   "source": [
    "import requests\n",
    "\n",
    "def get_city_coordinates(city):\n",
    "    api_key = \"MY KEY\"\n",
    "    url = f\"https://api.opencagedata.com/geocode/v1/json?q={city}&key={api_key}\"\n",
    "    \n",
    "    response = requests.get(url)\n",
    "    data = response.json()\n",
    "    \n",
    "    if response.status_code == 200:\n",
    "        if data[\"total_results\"] > 0:\n",
    "            lat = data[\"results\"][0][\"geometry\"][\"lat\"]\n",
    "            lon = data[\"results\"][0][\"geometry\"][\"lng\"]\n",
    "            return lat, lon\n",
    "        else:\n",
    "            print(\"No results found for the city.\")\n",
    "    else:\n",
    "        print(\"Error occurred while fetching data.\")"
   ]
  },
  {
   "cell_type": "code",
   "execution_count": 8,
   "metadata": {},
   "outputs": [
    {
     "name": "stdout",
     "output_type": "stream",
     "text": [
      "Coordinates of Kolín nad Rýnem: Latitude=50.938361, Longitude=6.959974\n",
      "Coordinates of Ženeva: Latitude=46.2017559, Longitude=6.1466014\n",
      "Coordinates of Mnichov: Latitude=48.1371079, Longitude=11.5753822\n",
      "Coordinates of Rotterdam: Latitude=51.9244424, Longitude=4.47775\n",
      "Coordinates of St. Gallen: Latitude=47.425618, Longitude=9.3762397\n",
      "Coordinates of Middlesex: Latitude=51.5460558, Longitude=-0.2537791\n",
      "Coordinates of Toronto: Latitude=43.6534817, Longitude=-79.3839347\n",
      "Coordinates of Londýn: Latitude=51.5073359, Longitude=-0.12765\n",
      "Coordinates of Edmonton: Latitude=53.5462055, Longitude=-113.491241\n",
      "Coordinates of Winterthur: Latitude=47.4991723, Longitude=8.7291498\n",
      "Coordinates of Curych: Latitude=47.3744489, Longitude=8.5410422\n",
      "Coordinates of London: Latitude=51.5073359, Longitude=-0.12765\n",
      "Coordinates of Paříž: Latitude=48.8588897, Longitude=2.320041\n",
      "Coordinates of Wuppertal: Latitude=51.264018, Longitude=7.1780374\n",
      "Coordinates of Hamburg: Latitude=53.550341, Longitude=10.000654\n",
      "Coordinates of Řím: Latitude=41.8933203, Longitude=12.4829321\n",
      "Coordinates of Vídeň: Latitude=48.2083537, Longitude=16.3725042\n",
      "Coordinates of Norman, Oklahoma: Latitude=35.2225717, Longitude=-97.4394816\n",
      "Coordinates of New York: Latitude=40.7127281, Longitude=-74.0060152\n",
      "Coordinates of Scheinfeld: Latitude=49.6653406, Longitude=10.462567\n"
     ]
    }
   ],
   "source": [
    "unique_cities = set(cities)\n",
    "coordinates = {}\n",
    "for city in unique_cities:\n",
    "    try:\n",
    "        (latitude, longitude) = get_city_coordinates(city)\n",
    "        print(f\"Coordinates of {city}: Latitude={latitude}, Longitude={longitude}\")\n",
    "        coordinates[city] = (latitude, longitude)\n",
    "        cities_df.loc[cities_df['city'] == city, 'latitude'] = latitude\n",
    "        cities_df.loc[cities_df['city'] == city, 'longitude'] = longitude\n",
    "    except:\n",
    "        print(f\"City {city} not found.\")  \n",
    "\n",
    "df_coordinates = pd.DataFrame.from_dict(coordinates)\n",
    "df_coordinates.to_csv('data/coordinates.csv')"
   ]
  },
  {
   "cell_type": "code",
   "execution_count": 13,
   "metadata": {},
   "outputs": [],
   "source": [
    "coordinates = pd.read_csv('data/coordinates.csv')\n",
    "coordinates = coordinates.T\n",
    "coordinates.columns = ['latitude', 'longitude']\n",
    "coordinates['city'] = coordinates.index\n",
    "df = pd.merge(cities_df, coordinates)"
   ]
  },
  {
   "cell_type": "code",
   "execution_count": 21,
   "metadata": {},
   "outputs": [
    {
     "name": "stdout",
     "output_type": "stream",
     "text": [
      "Requirement already satisfied: altair in c:\\users\\panuskova\\appdata\\local\\programs\\python\\python311\\lib\\site-packages (5.0.1)\n",
      "Requirement already satisfied: jinja2 in c:\\users\\panuskova\\appdata\\local\\programs\\python\\python311\\lib\\site-packages (from altair) (3.1.2)\n",
      "Requirement already satisfied: jsonschema>=3.0 in c:\\users\\panuskova\\appdata\\local\\programs\\python\\python311\\lib\\site-packages (from altair) (4.18.4)\n",
      "Requirement already satisfied: numpy in c:\\users\\panuskova\\appdata\\local\\programs\\python\\python311\\lib\\site-packages (from altair) (1.25.0)\n",
      "Requirement already satisfied: pandas>=0.18 in c:\\users\\panuskova\\appdata\\local\\programs\\python\\python311\\lib\\site-packages (from altair) (2.0.2)\n",
      "Requirement already satisfied: toolz in c:\\users\\panuskova\\appdata\\local\\programs\\python\\python311\\lib\\site-packages (from altair) (0.12.0)\n",
      "Requirement already satisfied: attrs>=22.2.0 in c:\\users\\panuskova\\appdata\\local\\programs\\python\\python311\\lib\\site-packages (from jsonschema>=3.0->altair) (23.1.0)\n",
      "Requirement already satisfied: jsonschema-specifications>=2023.03.6 in c:\\users\\panuskova\\appdata\\local\\programs\\python\\python311\\lib\\site-packages (from jsonschema>=3.0->altair) (2023.7.1)\n",
      "Requirement already satisfied: referencing>=0.28.4 in c:\\users\\panuskova\\appdata\\local\\programs\\python\\python311\\lib\\site-packages (from jsonschema>=3.0->altair) (0.30.0)\n",
      "Requirement already satisfied: rpds-py>=0.7.1 in c:\\users\\panuskova\\appdata\\local\\programs\\python\\python311\\lib\\site-packages (from jsonschema>=3.0->altair) (0.9.2)\n",
      "Requirement already satisfied: python-dateutil>=2.8.2 in c:\\users\\panuskova\\appdata\\local\\programs\\python\\python311\\lib\\site-packages (from pandas>=0.18->altair) (2.8.2)\n",
      "Requirement already satisfied: pytz>=2020.1 in c:\\users\\panuskova\\appdata\\local\\programs\\python\\python311\\lib\\site-packages (from pandas>=0.18->altair) (2023.3)\n",
      "Requirement already satisfied: tzdata>=2022.1 in c:\\users\\panuskova\\appdata\\local\\programs\\python\\python311\\lib\\site-packages (from pandas>=0.18->altair) (2023.3)\n",
      "Requirement already satisfied: MarkupSafe>=2.0 in c:\\users\\panuskova\\appdata\\local\\programs\\python\\python311\\lib\\site-packages (from jinja2->altair) (2.1.3)\n",
      "Requirement already satisfied: six>=1.5 in c:\\users\\panuskova\\appdata\\local\\programs\\python\\python311\\lib\\site-packages (from python-dateutil>=2.8.2->pandas>=0.18->altair) (1.16.0)\n",
      "Note: you may need to restart the kernel to use updated packages.\n"
     ]
    },
    {
     "name": "stderr",
     "output_type": "stream",
     "text": [
      "\n",
      "[notice] A new release of pip is available: 23.1.2 -> 23.2.1\n",
      "[notice] To update, run: python.exe -m pip install --upgrade pip\n"
     ]
    },
    {
     "name": "stdout",
     "output_type": "stream",
     "text": [
      "Requirement already satisfied: vl-convert-python in c:\\users\\panuskova\\appdata\\local\\programs\\python\\python311\\lib\\site-packages (0.11.2)\n",
      "Note: you may need to restart the kernel to use updated packages.\n"
     ]
    },
    {
     "name": "stderr",
     "output_type": "stream",
     "text": [
      "\n",
      "[notice] A new release of pip is available: 23.1.2 -> 23.2.1\n",
      "[notice] To update, run: python.exe -m pip install --upgrade pip\n"
     ]
    },
    {
     "name": "stdout",
     "output_type": "stream",
     "text": [
      "Requirement already satisfied: altair_saver in c:\\users\\panuskova\\appdata\\local\\programs\\python\\python311\\lib\\site-packages (0.5.0)\n",
      "Requirement already satisfied: altair in c:\\users\\panuskova\\appdata\\local\\programs\\python\\python311\\lib\\site-packages (from altair_saver) (5.0.1)\n",
      "Requirement already satisfied: altair-data-server>=0.4.0 in c:\\users\\panuskova\\appdata\\local\\programs\\python\\python311\\lib\\site-packages (from altair_saver) (0.4.1)\n",
      "Requirement already satisfied: altair-viewer in c:\\users\\panuskova\\appdata\\local\\programs\\python\\python311\\lib\\site-packages (from altair_saver) (0.4.0)\n",
      "Requirement already satisfied: selenium in c:\\users\\panuskova\\appdata\\local\\programs\\python\\python311\\lib\\site-packages (from altair_saver) (4.10.0)\n",
      "Requirement already satisfied: portpicker in c:\\users\\panuskova\\appdata\\local\\programs\\python\\python311\\lib\\site-packages (from altair-data-server>=0.4.0->altair_saver) (1.5.2)\n",
      "Requirement already satisfied: tornado in c:\\users\\panuskova\\appdata\\roaming\\python\\python311\\site-packages (from altair-data-server>=0.4.0->altair_saver) (6.3.2)\n",
      "Requirement already satisfied: jinja2 in c:\\users\\panuskova\\appdata\\local\\programs\\python\\python311\\lib\\site-packages (from altair->altair_saver) (3.1.2)\n",
      "Requirement already satisfied: jsonschema>=3.0 in c:\\users\\panuskova\\appdata\\local\\programs\\python\\python311\\lib\\site-packages (from altair->altair_saver) (4.18.4)\n",
      "Requirement already satisfied: numpy in c:\\users\\panuskova\\appdata\\local\\programs\\python\\python311\\lib\\site-packages (from altair->altair_saver) (1.25.0)\n",
      "Requirement already satisfied: pandas>=0.18 in c:\\users\\panuskova\\appdata\\local\\programs\\python\\python311\\lib\\site-packages (from altair->altair_saver) (2.0.2)\n",
      "Requirement already satisfied: toolz in c:\\users\\panuskova\\appdata\\local\\programs\\python\\python311\\lib\\site-packages (from altair->altair_saver) (0.12.0)\n",
      "Requirement already satisfied: urllib3[socks]<3,>=1.26 in c:\\users\\panuskova\\appdata\\local\\programs\\python\\python311\\lib\\site-packages (from selenium->altair_saver) (2.0.4)\n",
      "Requirement already satisfied: trio~=0.17 in c:\\users\\panuskova\\appdata\\local\\programs\\python\\python311\\lib\\site-packages (from selenium->altair_saver) (0.22.2)\n",
      "Requirement already satisfied: trio-websocket~=0.9 in c:\\users\\panuskova\\appdata\\local\\programs\\python\\python311\\lib\\site-packages (from selenium->altair_saver) (0.10.3)\n",
      "Requirement already satisfied: certifi>=2021.10.8 in c:\\users\\panuskova\\appdata\\local\\programs\\python\\python311\\lib\\site-packages (from selenium->altair_saver) (2023.7.22)\n",
      "Requirement already satisfied: attrs>=22.2.0 in c:\\users\\panuskova\\appdata\\local\\programs\\python\\python311\\lib\\site-packages (from jsonschema>=3.0->altair->altair_saver) (23.1.0)\n",
      "Requirement already satisfied: jsonschema-specifications>=2023.03.6 in c:\\users\\panuskova\\appdata\\local\\programs\\python\\python311\\lib\\site-packages (from jsonschema>=3.0->altair->altair_saver) (2023.7.1)\n",
      "Requirement already satisfied: referencing>=0.28.4 in c:\\users\\panuskova\\appdata\\local\\programs\\python\\python311\\lib\\site-packages (from jsonschema>=3.0->altair->altair_saver) (0.30.0)\n",
      "Requirement already satisfied: rpds-py>=0.7.1 in c:\\users\\panuskova\\appdata\\local\\programs\\python\\python311\\lib\\site-packages (from jsonschema>=3.0->altair->altair_saver) (0.9.2)\n",
      "Requirement already satisfied: python-dateutil>=2.8.2 in c:\\users\\panuskova\\appdata\\local\\programs\\python\\python311\\lib\\site-packages (from pandas>=0.18->altair->altair_saver) (2.8.2)\n",
      "Requirement already satisfied: pytz>=2020.1 in c:\\users\\panuskova\\appdata\\local\\programs\\python\\python311\\lib\\site-packages (from pandas>=0.18->altair->altair_saver) (2023.3)\n",
      "Requirement already satisfied: tzdata>=2022.1 in c:\\users\\panuskova\\appdata\\local\\programs\\python\\python311\\lib\\site-packages (from pandas>=0.18->altair->altair_saver) (2023.3)\n",
      "Requirement already satisfied: sortedcontainers in c:\\users\\panuskova\\appdata\\local\\programs\\python\\python311\\lib\\site-packages (from trio~=0.17->selenium->altair_saver) (2.4.0)\n",
      "Requirement already satisfied: idna in c:\\users\\panuskova\\appdata\\local\\programs\\python\\python311\\lib\\site-packages (from trio~=0.17->selenium->altair_saver) (3.4)\n",
      "Requirement already satisfied: outcome in c:\\users\\panuskova\\appdata\\local\\programs\\python\\python311\\lib\\site-packages (from trio~=0.17->selenium->altair_saver) (1.2.0)\n",
      "Requirement already satisfied: sniffio in c:\\users\\panuskova\\appdata\\local\\programs\\python\\python311\\lib\\site-packages (from trio~=0.17->selenium->altair_saver) (1.3.0)\n",
      "Requirement already satisfied: cffi>=1.14 in c:\\users\\panuskova\\appdata\\local\\programs\\python\\python311\\lib\\site-packages (from trio~=0.17->selenium->altair_saver) (1.15.1)\n",
      "Requirement already satisfied: exceptiongroup in c:\\users\\panuskova\\appdata\\local\\programs\\python\\python311\\lib\\site-packages (from trio-websocket~=0.9->selenium->altair_saver) (1.1.2)\n",
      "Requirement already satisfied: wsproto>=0.14 in c:\\users\\panuskova\\appdata\\local\\programs\\python\\python311\\lib\\site-packages (from trio-websocket~=0.9->selenium->altair_saver) (1.2.0)\n",
      "Requirement already satisfied: pysocks!=1.5.7,<2.0,>=1.5.6 in c:\\users\\panuskova\\appdata\\local\\programs\\python\\python311\\lib\\site-packages (from urllib3[socks]<3,>=1.26->selenium->altair_saver) (1.7.1)\n",
      "Requirement already satisfied: MarkupSafe>=2.0 in c:\\users\\panuskova\\appdata\\local\\programs\\python\\python311\\lib\\site-packages (from jinja2->altair->altair_saver) (2.1.3)\n",
      "Requirement already satisfied: psutil in c:\\users\\panuskova\\appdata\\roaming\\python\\python311\\site-packages (from portpicker->altair-data-server>=0.4.0->altair_saver) (5.9.5)\n",
      "Requirement already satisfied: pycparser in c:\\users\\panuskova\\appdata\\local\\programs\\python\\python311\\lib\\site-packages (from cffi>=1.14->trio~=0.17->selenium->altair_saver) (2.21)\n",
      "Requirement already satisfied: six>=1.5 in c:\\users\\panuskova\\appdata\\local\\programs\\python\\python311\\lib\\site-packages (from python-dateutil>=2.8.2->pandas>=0.18->altair->altair_saver) (1.16.0)\n",
      "Requirement already satisfied: h11<1,>=0.9.0 in c:\\users\\panuskova\\appdata\\local\\programs\\python\\python311\\lib\\site-packages (from wsproto>=0.14->trio-websocket~=0.9->selenium->altair_saver) (0.14.0)\n",
      "Note: you may need to restart the kernel to use updated packages.\n"
     ]
    },
    {
     "name": "stderr",
     "output_type": "stream",
     "text": [
      "\n",
      "[notice] A new release of pip is available: 23.1.2 -> 23.2.1\n",
      "[notice] To update, run: python.exe -m pip install --upgrade pip\n"
     ]
    },
    {
     "data": {
      "text/html": [
       "\n",
       "<style>\n",
       "  #altair-viz-14b63ed282f1404a911b9a919b328050.vega-embed {\n",
       "    width: 100%;\n",
       "    display: flex;\n",
       "  }\n",
       "\n",
       "  #altair-viz-14b63ed282f1404a911b9a919b328050.vega-embed details,\n",
       "  #altair-viz-14b63ed282f1404a911b9a919b328050.vega-embed details summary {\n",
       "    position: relative;\n",
       "  }\n",
       "</style>\n",
       "<div id=\"altair-viz-14b63ed282f1404a911b9a919b328050\"></div>\n",
       "<script type=\"text/javascript\">\n",
       "  var VEGA_DEBUG = (typeof VEGA_DEBUG == \"undefined\") ? {} : VEGA_DEBUG;\n",
       "  (function(spec, embedOpt){\n",
       "    let outputDiv = document.currentScript.previousElementSibling;\n",
       "    if (outputDiv.id !== \"altair-viz-14b63ed282f1404a911b9a919b328050\") {\n",
       "      outputDiv = document.getElementById(\"altair-viz-14b63ed282f1404a911b9a919b328050\");\n",
       "    }\n",
       "    const paths = {\n",
       "      \"vega\": \"https://cdn.jsdelivr.net/npm/vega@5?noext\",\n",
       "      \"vega-lib\": \"https://cdn.jsdelivr.net/npm/vega-lib?noext\",\n",
       "      \"vega-lite\": \"https://cdn.jsdelivr.net/npm/vega-lite@5.8.0?noext\",\n",
       "      \"vega-embed\": \"https://cdn.jsdelivr.net/npm/vega-embed@6?noext\",\n",
       "    };\n",
       "\n",
       "    function maybeLoadScript(lib, version) {\n",
       "      var key = `${lib.replace(\"-\", \"\")}_version`;\n",
       "      return (VEGA_DEBUG[key] == version) ?\n",
       "        Promise.resolve(paths[lib]) :\n",
       "        new Promise(function(resolve, reject) {\n",
       "          var s = document.createElement('script');\n",
       "          document.getElementsByTagName(\"head\")[0].appendChild(s);\n",
       "          s.async = true;\n",
       "          s.onload = () => {\n",
       "            VEGA_DEBUG[key] = version;\n",
       "            return resolve(paths[lib]);\n",
       "          };\n",
       "          s.onerror = () => reject(`Error loading script: ${paths[lib]}`);\n",
       "          s.src = paths[lib];\n",
       "        });\n",
       "    }\n",
       "\n",
       "    function showError(err) {\n",
       "      outputDiv.innerHTML = `<div class=\"error\" style=\"color:red;\">${err}</div>`;\n",
       "      throw err;\n",
       "    }\n",
       "\n",
       "    function displayChart(vegaEmbed) {\n",
       "      vegaEmbed(outputDiv, spec, embedOpt)\n",
       "        .catch(err => showError(`Javascript Error: ${err.message}<br>This usually means there's a typo in your chart specification. See the javascript console for the full traceback.`));\n",
       "    }\n",
       "\n",
       "    if(typeof define === \"function\" && define.amd) {\n",
       "      requirejs.config({paths});\n",
       "      require([\"vega-embed\"], displayChart, err => showError(`Error loading script: ${err.message}`));\n",
       "    } else {\n",
       "      maybeLoadScript(\"vega\", \"5\")\n",
       "        .then(() => maybeLoadScript(\"vega-lite\", \"5.8.0\"))\n",
       "        .then(() => maybeLoadScript(\"vega-embed\", \"6\"))\n",
       "        .catch(showError)\n",
       "        .then(() => displayChart(vegaEmbed));\n",
       "    }\n",
       "  })({\"config\": {\"view\": {\"continuousWidth\": 300, \"continuousHeight\": 300}}, \"layer\": [{\"data\": {\"url\": \"https://raw.githubusercontent.com/deldersveld/topojson/master/world-continents.json\", \"format\": {\"feature\": \"continent\", \"type\": \"topojson\"}}, \"mark\": {\"type\": \"geoshape\", \"fill\": \"lightgray\", \"stroke\": \"white\"}, \"projection\": {\"type\": \"mercator\"}}, {\"data\": {\"name\": \"data-fc8fac8bb9ec98c359e75e591ca15b9c\"}, \"mark\": {\"type\": \"circle\"}, \"encoding\": {\"color\": {\"value\": \"red\"}, \"latitude\": {\"field\": \"latitude\", \"type\": \"quantitative\"}, \"longitude\": {\"field\": \"longitude\", \"type\": \"quantitative\"}, \"size\": {\"field\": \"number of records\", \"title\": \"pocet clanku\", \"type\": \"quantitative\"}, \"tooltip\": {\"field\": \"city\", \"type\": \"nominal\"}}}], \"height\": 600, \"width\": 800, \"$schema\": \"https://vega.github.io/schema/vega-lite/v5.8.0.json\", \"datasets\": {\"data-fc8fac8bb9ec98c359e75e591ca15b9c\": [{\"city\": \"London\", \"number of records\": 17, \"latitude\": 51.5073359, \"longitude\": -0.12765}, {\"city\": \"Scheinfeld\", \"number of records\": 36, \"latitude\": 49.6653406, \"longitude\": 10.462567}, {\"city\": \"Mnichov\", \"number of records\": 2197, \"latitude\": 48.1371079, \"longitude\": 11.5753822}, {\"city\": \"Kol\\u00edn nad R\\u00fdnem\", \"number of records\": 120, \"latitude\": 50.938361, \"longitude\": 6.959974}, {\"city\": \"New York\", \"number of records\": 2090, \"latitude\": 40.7127281, \"longitude\": -74.0060152}, {\"city\": \"\\u0158\\u00edm\", \"number of records\": 1484, \"latitude\": 41.8933203, \"longitude\": 12.4829321}, {\"city\": \"Curych\", \"number of records\": 273, \"latitude\": 47.3744489, \"longitude\": 8.5410422}, {\"city\": \"St. Gallen\", \"number of records\": 65, \"latitude\": 47.425618, \"longitude\": 9.3762397}, {\"city\": \"V\\u00edde\\u0148\", \"number of records\": 68, \"latitude\": 48.2083537, \"longitude\": 16.3725042}, {\"city\": \"Wuppertal\", \"number of records\": 135, \"latitude\": 51.264018, \"longitude\": 7.1780374}, {\"city\": \"Lond\\u00fdn\", \"number of records\": 48, \"latitude\": 51.5073359, \"longitude\": -0.12765}, {\"city\": \"Hamburg\", \"number of records\": 428, \"latitude\": 53.550341, \"longitude\": 10.000654}, {\"city\": \"Norman, Oklahoma\", \"number of records\": 22, \"latitude\": 35.2225717, \"longitude\": -97.4394816}, {\"city\": \"\\u017deneva\", \"number of records\": 53, \"latitude\": 46.2017559, \"longitude\": 6.1466014}, {\"city\": \"Middlesex\", \"number of records\": 53, \"latitude\": 51.5460558, \"longitude\": -0.2537791}, {\"city\": \"Pa\\u0159\\u00ed\\u017e\", \"number of records\": 928, \"latitude\": 48.8588897, \"longitude\": 2.320041}, {\"city\": \"Edmonton\", \"number of records\": 39, \"latitude\": 53.5462055, \"longitude\": -113.491241}, {\"city\": \"Toronto\", \"number of records\": 196, \"latitude\": 43.6534817, \"longitude\": -79.3839347}, {\"city\": \"Winterthur\", \"number of records\": 511, \"latitude\": 47.4991723, \"longitude\": 8.7291498}, {\"city\": \"Rotterdam\", \"number of records\": 185, \"latitude\": 51.9244424, \"longitude\": 4.47775}]}}, {\"mode\": \"vega-lite\"});\n",
       "</script>"
      ],
      "text/plain": [
       "alt.LayerChart(...)"
      ]
     },
     "execution_count": 21,
     "metadata": {},
     "output_type": "execute_result"
    }
   ],
   "source": [
    "%pip install altair\n",
    "%pip install vl-convert-python\n",
    "%pip install altair_saver\n",
    "import altair as alt\n",
    "alt.data_transformers.disable_max_rows()\n",
    "\n",
    "url = \"https://raw.githubusercontent.com/deldersveld/topojson/master/world-continents.json\"\n",
    "source = alt.topo_feature(url, \"continent\")\n",
    "\n",
    "\n",
    "base = alt.Chart(source).mark_geoshape(\n",
    "    fill='lightgray',\n",
    "    stroke='white'\n",
    ").project('mercator').properties(\n",
    "    width=800,\n",
    "    height=600\n",
    ")\n",
    "\n",
    "points = alt.Chart(df).mark_circle().encode(\n",
    "    longitude='longitude:Q',\n",
    "    latitude='latitude:Q',\n",
    "    size=alt.Size('number of records:Q', title='pocet clanku'),\n",
    "    tooltip='city:N',\n",
    "    color=alt.value('red')\n",
    ")\n",
    "base+points\n",
    "# to_save = base+points\n",
    "# to_save.save('plots/map.png')"
   ]
  }
 ],
 "metadata": {
  "kernelspec": {
   "display_name": "Python 3",
   "language": "python",
   "name": "python3"
  },
  "language_info": {
   "codemirror_mode": {
    "name": "ipython",
    "version": 3
   },
   "file_extension": ".py",
   "mimetype": "text/x-python",
   "name": "python",
   "nbconvert_exporter": "python",
   "pygments_lexer": "ipython3",
   "version": "3.11.4"
  },
  "orig_nbformat": 4
 },
 "nbformat": 4,
 "nbformat_minor": 2
}
