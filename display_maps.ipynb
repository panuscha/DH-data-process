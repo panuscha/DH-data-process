{
 "cells": [
  {
   "attachments": {},
   "cell_type": "markdown",
   "metadata": {},
   "source": [
    "V tomto příkladu budeme pracovat s Bibliografií českého literárního exilu, která obsahuje záznamy o knihách a statích s literární tématikou, vydaných a publikovaných v českých exilových nakladatelstvích a časopisech. Nás budou zajímat pouze záznamy o statích, u kterých jsou uvedeny časopis a místo vydání. Ty najdeme v poli 773 \\$t. Ukážeme si, jak z dat získat a upravit místo vydání záznamu, zjistit jeho souřadnice a následně místo zobrazit na mapě.\n",
    "\n",
    "#### Příprava \n",
    "Jako první si musíme nainstalovat knihovny, se kterými budeme pracovat. Knihovny jsou balíčky funkcí, které nejsou součástí základu jazyka python. <br>\n",
    "Knihovny nainstalujeme pomocí příkazu %pip install jmeno_knihovny. Pak je do našeho notebooku přidáme pomocí příkazu import jmeno_knihovny (as alias). K funkcím knihovny se pak přistupuje jmeno_knihovny.jmeno_funkce <br> \n",
    "Pokud z knihovny chceme využít pouze jednu funkci, přidáme ji pomocí from jmeno_knihovny import jmeno_funkce\n"
   ]
  },
  {
   "cell_type": "code",
   "execution_count": 35,
   "metadata": {},
   "outputs": [
    {
     "name": "stdout",
     "output_type": "stream",
     "text": [
      "Requirement already satisfied: geopandas in c:\\users\\panuskova\\appdata\\local\\programs\\python\\python311\\lib\\site-packages (0.13.2)\n",
      "Requirement already satisfied: fiona>=1.8.19 in c:\\users\\panuskova\\appdata\\local\\programs\\python\\python311\\lib\\site-packages (from geopandas) (1.9.4.post1)\n",
      "Requirement already satisfied: packaging in c:\\users\\panuskova\\appdata\\local\\programs\\python\\python311\\lib\\site-packages (from geopandas) (23.1)\n",
      "Requirement already satisfied: pandas>=1.1.0 in c:\\users\\panuskova\\appdata\\local\\programs\\python\\python311\\lib\\site-packages (from geopandas) (2.0.2)\n",
      "Requirement already satisfied: pyproj>=3.0.1 in c:\\users\\panuskova\\appdata\\local\\programs\\python\\python311\\lib\\site-packages (from geopandas) (3.6.0)\n",
      "Requirement already satisfied: shapely>=1.7.1 in c:\\users\\panuskova\\appdata\\local\\programs\\python\\python311\\lib\\site-packages (from geopandas) (2.0.1)\n",
      "Requirement already satisfied: attrs>=19.2.0 in c:\\users\\panuskova\\appdata\\local\\programs\\python\\python311\\lib\\site-packages (from fiona>=1.8.19->geopandas) (23.1.0)\n",
      "Requirement already satisfied: certifi in c:\\users\\panuskova\\appdata\\local\\programs\\python\\python311\\lib\\site-packages (from fiona>=1.8.19->geopandas) (2023.7.22)\n",
      "Requirement already satisfied: click~=8.0 in c:\\users\\panuskova\\appdata\\local\\programs\\python\\python311\\lib\\site-packages (from fiona>=1.8.19->geopandas) (8.1.3)\n",
      "Requirement already satisfied: click-plugins>=1.0 in c:\\users\\panuskova\\appdata\\local\\programs\\python\\python311\\lib\\site-packages (from fiona>=1.8.19->geopandas) (1.1.1)\n",
      "Requirement already satisfied: cligj>=0.5 in c:\\users\\panuskova\\appdata\\local\\programs\\python\\python311\\lib\\site-packages (from fiona>=1.8.19->geopandas) (0.7.2)\n",
      "Requirement already satisfied: six in c:\\users\\panuskova\\appdata\\local\\programs\\python\\python311\\lib\\site-packages (from fiona>=1.8.19->geopandas) (1.16.0)\n",
      "Requirement already satisfied: python-dateutil>=2.8.2 in c:\\users\\panuskova\\appdata\\local\\programs\\python\\python311\\lib\\site-packages (from pandas>=1.1.0->geopandas) (2.8.2)\n",
      "Requirement already satisfied: pytz>=2020.1 in c:\\users\\panuskova\\appdata\\local\\programs\\python\\python311\\lib\\site-packages (from pandas>=1.1.0->geopandas) (2023.3)\n",
      "Requirement already satisfied: tzdata>=2022.1 in c:\\users\\panuskova\\appdata\\local\\programs\\python\\python311\\lib\\site-packages (from pandas>=1.1.0->geopandas) (2023.3)\n",
      "Requirement already satisfied: numpy>=1.21.0 in c:\\users\\panuskova\\appdata\\local\\programs\\python\\python311\\lib\\site-packages (from pandas>=1.1.0->geopandas) (1.25.0)\n",
      "Requirement already satisfied: colorama in c:\\users\\panuskova\\appdata\\local\\programs\\python\\python311\\lib\\site-packages (from click~=8.0->fiona>=1.8.19->geopandas) (0.4.6)\n",
      "Note: you may need to restart the kernel to use updated packages.\n"
     ]
    },
    {
     "name": "stderr",
     "output_type": "stream",
     "text": [
      "\n",
      "[notice] A new release of pip is available: 23.1.2 -> 23.2.1\n",
      "[notice] To update, run: python.exe -m pip install --upgrade pip\n"
     ]
    },
    {
     "name": "stdout",
     "output_type": "stream",
     "text": [
      "Requirement already satisfied: matplotlib in c:\\users\\panuskova\\appdata\\local\\programs\\python\\python311\\lib\\site-packages (3.7.1)\n",
      "Requirement already satisfied: contourpy>=1.0.1 in c:\\users\\panuskova\\appdata\\local\\programs\\python\\python311\\lib\\site-packages (from matplotlib) (1.1.0)\n",
      "Requirement already satisfied: cycler>=0.10 in c:\\users\\panuskova\\appdata\\local\\programs\\python\\python311\\lib\\site-packages (from matplotlib) (0.11.0)\n",
      "Requirement already satisfied: fonttools>=4.22.0 in c:\\users\\panuskova\\appdata\\local\\programs\\python\\python311\\lib\\site-packages (from matplotlib) (4.40.0)\n",
      "Requirement already satisfied: kiwisolver>=1.0.1 in c:\\users\\panuskova\\appdata\\local\\programs\\python\\python311\\lib\\site-packages (from matplotlib) (1.4.4)\n",
      "Requirement already satisfied: numpy>=1.20 in c:\\users\\panuskova\\appdata\\local\\programs\\python\\python311\\lib\\site-packages (from matplotlib) (1.25.0)\n",
      "Requirement already satisfied: packaging>=20.0 in c:\\users\\panuskova\\appdata\\local\\programs\\python\\python311\\lib\\site-packages (from matplotlib) (23.1)\n",
      "Requirement already satisfied: pillow>=6.2.0 in c:\\users\\panuskova\\appdata\\local\\programs\\python\\python311\\lib\\site-packages (from matplotlib) (9.5.0)\n",
      "Requirement already satisfied: pyparsing>=2.3.1 in c:\\users\\panuskova\\appdata\\local\\programs\\python\\python311\\lib\\site-packages (from matplotlib) (3.1.0)\n",
      "Requirement already satisfied: python-dateutil>=2.7 in c:\\users\\panuskova\\appdata\\local\\programs\\python\\python311\\lib\\site-packages (from matplotlib) (2.8.2)\n",
      "Requirement already satisfied: six>=1.5 in c:\\users\\panuskova\\appdata\\local\\programs\\python\\python311\\lib\\site-packages (from python-dateutil>=2.7->matplotlib) (1.16.0)\n",
      "Note: you may need to restart the kernel to use updated packages.\n"
     ]
    },
    {
     "name": "stderr",
     "output_type": "stream",
     "text": [
      "\n",
      "[notice] A new release of pip is available: 23.1.2 -> 23.2.1\n",
      "[notice] To update, run: python.exe -m pip install --upgrade pip\n"
     ]
    },
    {
     "name": "stdout",
     "output_type": "stream",
     "text": [
      "Requirement already satisfied: numpy in c:\\users\\panuskova\\appdata\\local\\programs\\python\\python311\\lib\\site-packages (1.25.0)\n",
      "Note: you may need to restart the kernel to use updated packages.\n"
     ]
    },
    {
     "name": "stderr",
     "output_type": "stream",
     "text": [
      "\n",
      "[notice] A new release of pip is available: 23.1.2 -> 23.2.1\n",
      "[notice] To update, run: python.exe -m pip install --upgrade pip\n"
     ]
    },
    {
     "name": "stdout",
     "output_type": "stream",
     "text": [
      "Requirement already satisfied: pandas in c:\\users\\panuskova\\appdata\\local\\programs\\python\\python311\\lib\\site-packages (2.0.2)\n",
      "Requirement already satisfied: python-dateutil>=2.8.2 in c:\\users\\panuskova\\appdata\\local\\programs\\python\\python311\\lib\\site-packages (from pandas) (2.8.2)\n",
      "Requirement already satisfied: pytz>=2020.1 in c:\\users\\panuskova\\appdata\\local\\programs\\python\\python311\\lib\\site-packages (from pandas) (2023.3)\n",
      "Requirement already satisfied: tzdata>=2022.1 in c:\\users\\panuskova\\appdata\\local\\programs\\python\\python311\\lib\\site-packages (from pandas) (2023.3)\n",
      "Requirement already satisfied: numpy>=1.21.0 in c:\\users\\panuskova\\appdata\\local\\programs\\python\\python311\\lib\\site-packages (from pandas) (1.25.0)\n",
      "Requirement already satisfied: six>=1.5 in c:\\users\\panuskova\\appdata\\local\\programs\\python\\python311\\lib\\site-packages (from python-dateutil>=2.8.2->pandas) (1.16.0)\n",
      "Note: you may need to restart the kernel to use updated packages.\n"
     ]
    },
    {
     "name": "stderr",
     "output_type": "stream",
     "text": [
      "\n",
      "[notice] A new release of pip is available: 23.1.2 -> 23.2.1\n",
      "[notice] To update, run: python.exe -m pip install --upgrade pip\n"
     ]
    },
    {
     "name": "stdout",
     "output_type": "stream",
     "text": [
      "Requirement already satisfied: requests in c:\\users\\panuskova\\appdata\\local\\programs\\python\\python311\\lib\\site-packages (2.31.0)\n",
      "Requirement already satisfied: charset-normalizer<4,>=2 in c:\\users\\panuskova\\appdata\\local\\programs\\python\\python311\\lib\\site-packages (from requests) (3.2.0)\n",
      "Requirement already satisfied: idna<4,>=2.5 in c:\\users\\panuskova\\appdata\\local\\programs\\python\\python311\\lib\\site-packages (from requests) (3.4)\n",
      "Requirement already satisfied: urllib3<3,>=1.21.1 in c:\\users\\panuskova\\appdata\\local\\programs\\python\\python311\\lib\\site-packages (from requests) (2.0.4)\n",
      "Requirement already satisfied: certifi>=2017.4.17 in c:\\users\\panuskova\\appdata\\local\\programs\\python\\python311\\lib\\site-packages (from requests) (2023.7.22)\n",
      "Note: you may need to restart the kernel to use updated packages.\n"
     ]
    },
    {
     "name": "stderr",
     "output_type": "stream",
     "text": [
      "\n",
      "[notice] A new release of pip is available: 23.1.2 -> 23.2.1\n",
      "[notice] To update, run: python.exe -m pip install --upgrade pip\n"
     ]
    },
    {
     "name": "stdout",
     "output_type": "stream",
     "text": [
      "Requirement already satisfied: shapely in c:\\users\\panuskova\\appdata\\local\\programs\\python\\python311\\lib\\site-packages (2.0.1)\n",
      "Requirement already satisfied: numpy>=1.14 in c:\\users\\panuskova\\appdata\\local\\programs\\python\\python311\\lib\\site-packages (from shapely) (1.25.0)\n",
      "Note: you may need to restart the kernel to use updated packages.\n"
     ]
    },
    {
     "name": "stderr",
     "output_type": "stream",
     "text": [
      "\n",
      "[notice] A new release of pip is available: 23.1.2 -> 23.2.1\n",
      "[notice] To update, run: python.exe -m pip install --upgrade pip\n"
     ]
    }
   ],
   "source": [
    "%pip install geopandas\n",
    "%pip install matplotlib\n",
    "%pip install numpy \n",
    "%pip install pandas\n",
    "%pip install requests\n",
    "%pip install shapely\n",
    "\n",
    "from collections import Counter\n",
    "import geopandas as gpd\n",
    "import matplotlib.pyplot as plt\n",
    "from matplotlib.lines import Line2D\n",
    "import numpy as np\n",
    "import pandas as pd\n",
    "import re\n",
    "import requests\n",
    "from shapely.geometry import Point\n",
    "from statistics import median, mean"
   ]
  },
  {
   "cell_type": "markdown",
   "metadata": {},
   "source": [
    "#### Načtení dat\n",
    "\n",
    "Nejprve načteme naše uložená csv data. Jak převést marcovou databázi do csv tabulky a pak csv tabulku načíst jsme si ukázali v předchozím příkladu. Csv tabulku z markové databáze lze vygenerovat i pomocí skriptu save_csv.py."
   ]
  },
  {
   "cell_type": "code",
   "execution_count": 18,
   "metadata": {},
   "outputs": [],
   "source": [
    "# Cesta k nasim datum\n",
    "csv_data = 'data/csv/out_cle.csv'\n",
    "\n",
    "# Nacteni dat\n",
    "df = pd.read_csv(csv_data, delimiter=',')\n",
    "\n",
    "for column in df.columns:\n",
    "    if df[column].dtype != 'int64':   \n",
    "        # Hodnoty spojene v jeden string zpatky rozdelime do listu, aby se nam s nim lepe pracovalo\n",
    "        df[column] = df[column].apply(lambda x: x.split(';') if isinstance(x, str)  else [])\n"
   ]
  },
  {
   "cell_type": "markdown",
   "metadata": {},
   "source": [
    "Podíváme se, kolik záznamů u sebe má napsaný časopis. Tyto záznamy nás budou zajímat a budeme je považovat za záznamy o statích. Zbytek budeme považovat za záznamy o knihách.\n",
    "###### Pokud bychom chtěli přesná data, v marcovém záznamu je kolonka LDR (leader), která nese informaci o typu záznamu. "
   ]
  },
  {
   "cell_type": "code",
   "execution_count": 19,
   "metadata": {},
   "outputs": [
    {
     "name": "stdout",
     "output_type": "stream",
     "text": [
      "Počet záznamů o statích:  7953\n",
      "Počet záznamů o knihách:  1659\n",
      "                                  title               author      author code  \\\n",
      "0                [Kultura je když... /]  [Kliment, Alexandr]     [jk01060558]   \n",
      "1                       [Hra o život /]   [Dobrovský, Luboš]  [jn20000400479]   \n",
      "2          [Památce Bohuslava Reynka /]    [Jirousová, Věra]  [jn19990218035]   \n",
      "3           [Joyceův zkušební návrat /]    [Urbánek, Zdeněk]     [jk01140872]   \n",
      "4  [Čas jako trvání a jako prázdnota /]      [Černý, Václav]     [jk01021636]   \n",
      "\n",
      "   year             figures             description     genre    magazine  \n",
      "0  1978                  []              [estetika]   [úvahy]  [Spektrum]  \n",
      "1  1978    [Kundera, Milan]           [česká próza]  [studie]  [Spektrum]  \n",
      "2  1978  [Reynek, Bohuslav]     [čeští spisovatelé]  [studie]  [Spektrum]  \n",
      "3  1978      [Joyce, James]  [anglicky psané drama]  [studie]  [Spektrum]  \n",
      "4  1979                  []              [estetika]   [eseje]  [Spektrum]  \n",
      "----------------------------------------------------------------------------------------------------\n",
      "                                                  title               author  \\\n",
      "9607                                    [Co sklízet? /]  [Odložilík, Otakar]   \n",
      "9608  [Viktor Dyk, rytíř národní cti a básník národn...              [Beran]   \n",
      "9609                           [České jméno ve světě /]                   []   \n",
      "9610                   [[Television Opera Theatre...].]                   []   \n",
      "9611                         [Být sovětským básníkem /]      [Vlach, Robert]   \n",
      "\n",
      "       author code  year                                            figures  \\\n",
      "9607  [jk01090958]  1953                                                 []   \n",
      "9608            []  1957                                      [Dyk, Viktor]   \n",
      "9609            []  1960  [Papini, Giovanni, Nosco, Němeček, Zdeněk, Gib...   \n",
      "9610            []  1953   [Martinů, Bohuslav, Gogol‘, Nikolaj Vasil‘jevič]   \n",
      "9611  [jk01150030]  1962  [Ošanin, Lev Ivanovič, Jesenin, Sergej Aleksan...   \n",
      "\n",
      "                                            description  \\\n",
      "9607  [exilový tisk, exilová literatura, časopisecké...   \n",
      "9608  [čeští spisovatelé, čeští básníci, čeští drama...   \n",
      "9609  [česká literatura, literárněvědné rozbory, rec...   \n",
      "9610  [opery, libreta, hudební skladatelé, ruští spi...   \n",
      "9611  [ruská poezie, ruští básníci, literatura a ide...   \n",
      "\n",
      "                                                  genre  \\\n",
      "9607                                            [úvahy]   \n",
      "9608  [biografické poznámky, úryvky, česká dramata, ...   \n",
      "9609                                [recenze, přehledy]   \n",
      "9610                                           [zprávy]   \n",
      "9611                      [úvahy, ruská poezie, úryvky]   \n",
      "\n",
      "                       magazine  \n",
      "9607        [Sklizeň (Hamburg)]  \n",
      "9608  [Modrá revue (Rotterdam)]  \n",
      "9609             [Studie (Řím)]  \n",
      "9610        [Sklizeň (Hamburg)]  \n",
      "9611             [Studie (Řím)]  \n"
     ]
    }
   ],
   "source": [
    "# Spocteme radky, ktere v maji nejakou  hodnotu\n",
    "magazines_counts = df['magazine'].apply(lambda x: 1 if len(x) > 0 else 0)\n",
    "\n",
    "sum_magazines_counts = magazines_counts.sum()\n",
    "\n",
    "print(\"Počet záznamů o statích: \", sum_magazines_counts)\n",
    "\n",
    "sum_books_counts = len(df) - sum_magazines_counts\n",
    "\n",
    "print(\"Počet záznamů o knihách: \", sum_books_counts)\n",
    "\n",
    "# Vypise prvnich 5 zaznamu v DataFramu\n",
    "print(df.head())\n",
    "print(\"----------------------------------------------------------------------------------------------------\")\n",
    "\n",
    "# Vypise poslednich 5 zaznamu v DataFramu\n",
    "print(df.tail())"
   ]
  },
  {
   "cell_type": "markdown",
   "metadata": {},
   "source": [
    "Jak vidíme, statě tvoří většinu databáze.<br>\n",
    "Vypsali jsme si i začátek a konec našeho DataFramu. Můžeme si všimnout, že u jména časopisu je v kulatých závorkách napsané místo vydání, a že není napsáno u všech. \n",
    "\n",
    "#### Extrahování místa vydání\n",
    "\n",
    "Vyextrahujeme si tedy místo vydání a zjisíme, kolik záznamů nemá místo vydání. K tomu využijeme regulární výraz, který nám najde řetězec (slovo) v kulatých závorkách. Záznamy, které mají časopis, ale ne místo vydání, budou vracet hodnotu None. "
   ]
  },
  {
   "cell_type": "code",
   "execution_count": 20,
   "metadata": {},
   "outputs": [
    {
     "name": "stdout",
     "output_type": "stream",
     "text": [
      "Počet časopisů bez místa vydání:  41\n"
     ]
    }
   ],
   "source": [
    "# regex patern, ktery najde substring mezi zavorkami\n",
    "pattern_cities = r\"\\((.*?)\\)\"\n",
    "\n",
    "# Ulozime mesta do promenne\n",
    "cities = df['magazine'].apply(lambda x: [re.search(pattern_cities, y).group(1) if re.search(pattern_cities, y) else None for y in x]).tolist().copy()\n",
    "\n",
    "# Spocteme vsechny hodnoty, ktere v sobe maji None hodnotu, a tedy nemaji misto vydani\n",
    "sum_None =  sum(list(map(lambda x : 1 if (len(x) == 1 and x[0] is None) else 0, cities )))\n",
    "\n",
    "print(\"Počet časopisů bez místa vydání: \", sum_None)"
   ]
  },
  {
   "cell_type": "markdown",
   "metadata": {},
   "source": [
    "Jak vidíme, není to příliš mnoho záznamů, a proto se jimi nemusíme trápit. <br>\n",
    "\n",
    "Teď už nám jen zbývá zjistit místa vydání a jejich četnost výskytů. <br> \n",
    "\n",
    "Abychom nemuseli psát stejný kód několikrát, napíšeme ho jednou do funkce, kterou pak jednoduše zavoláme. V tomto případě si napíšeme funkci, která nám z několika listů (seznamů) vnořených do sebe vytvoří jeden. To se nám bude hodit, až budeme chtít spočítat četnost výskytů míst vydání. "
   ]
  },
  {
   "cell_type": "code",
   "execution_count": 21,
   "metadata": {},
   "outputs": [],
   "source": [
    "# Funkce na \"zplosteni\" listu -> ze sloupce DataFramu vytvori jeden list se vsemi elementy \n",
    "def flatten_list(strings):\n",
    "    flattened_list = []\n",
    "    if strings is not None: # Zkontrolujeme, jestli element neni None\n",
    "        for item in strings:\n",
    "            if isinstance(item, str):  # Pokud je element string, pridame ho do seznamu\n",
    "                flattened_list.append(item)\n",
    "            elif isinstance(item, list):  # Rekurzivne zavola sebe\n",
    "                flattened_list.extend(flatten_list(item))\n",
    "        return flattened_list"
   ]
  },
  {
   "cell_type": "code",
   "execution_count": 22,
   "metadata": {},
   "outputs": [
    {
     "name": "stdout",
     "output_type": "stream",
     "text": [
      "\n",
      "Unikátní hodnoty: ['Curych' 'Edmonton' 'Hamburg' 'Kolín nad Rýnem' 'Köln-Ehrenfeld' 'London'\n",
      " 'London, Index on Censorship' 'Londýn' 'Mnichov' 'New York'\n",
      " 'New York-Paříž' 'Norman, Oklahoma' 'Rotterdam' 'Scheinfeld' 'St. Gallen'\n",
      " 'Toronto' 'Vídeň' 'Winterthur-Obstladen' 'Wintertuhr-Obstladen'\n",
      " 'Wuppertal' 'Řím' 'Ženeva-Middlesex-Mnichov']\n"
     ]
    }
   ],
   "source": [
    "# Vytvorime zplostely list, ktery i odstrani None hodnoty\n",
    "cities = flatten_list(cities)\n",
    "\n",
    "print(\"\\nUnikátní hodnoty:\", np.unique(cities))\n"
   ]
  },
  {
   "attachments": {},
   "cell_type": "markdown",
   "metadata": {},
   "source": [
    "#### Čistění dat\n",
    "\n",
    "Z uniktních hodnot vidíme, že některá města tam jsou jak pod svým původím jménem, tak pod svou českou alternativou (London - Londýn, Köln - Kolín nad Rýnem). U některých jsou překlepy (Wintertuhr-Obstladen -> Winterthur-Obstalden), které musíme opravit. U některých je zase měst více (Wintertuhr-Obstladen , Ženeva-Middlesex-Mnichov). V tomto  případě si všechna města uložíme v seznamu.\n"
   ]
  },
  {
   "cell_type": "code",
   "execution_count": 23,
   "metadata": {},
   "outputs": [
    {
     "name": "stdout",
     "output_type": "stream",
     "text": [
      "Counter({'Mnichov': 2197, 'New York': 2090, 'Řím': 1484, 'Paříž': 928, 'Winterthur': 511, 'Obstalden': 511, 'Hamburg': 428, 'Curych': 273, 'Toronto': 196, 'Rotterdam': 185, 'Wuppertal': 135, 'Kolín nad Rýnem': 120, 'Vídeň': 68, 'Londýn': 65, 'St. Gallen': 65, 'Ženeva': 53, 'Middlesex': 53, 'Edmonton': 39, 'Scheinfeld': 36, 'Norman, Oklahoma': 22})\n"
     ]
    }
   ],
   "source": [
    "# Odstranime Index on Censorship z elementu \"London, Index on Censorship\" a spojime \"London\" a \"Londýn\"\n",
    "cities = list(map(lambda x: 'Londýn' if 'London' in x else x, cities))\n",
    "\n",
    "# Odstranime 'Obstladen' z Winterthur\n",
    "cities = list(map(lambda x: ['Winterthur', 'Obstalden'] if 'Obstladen' in x else x, cities))\n",
    "\n",
    "# Vytvorime dva elementy z New York-Paříž\n",
    "cities = list(map(lambda x: ['New York','Paříž'] if 'New York-Paříž' in x else x, cities))\n",
    "\n",
    "# Vytvorime tri elementy z Ženeva-Middlesex-Mnichov\n",
    "cities = list(map(lambda x: ['Ženeva','Middlesex', 'Mnichov'] if 'Ženeva-Middlesex-Mnichov' in x else x, cities))\n",
    "\n",
    "# Prepiseme Köln-Ehrenfeld na Kolín nad Rýnem \n",
    "cities = list(map(lambda x: 'Kolín nad Rýnem' if 'Köln-Ehrenfeld' in x else x, cities))\n",
    "\n",
    "# Zplostime seznam\n",
    "cities = flatten_list(cities)\n",
    "\n",
    "# Spocteme vyskyty mest\n",
    "cities_number_of_records = Counter(cities)\n",
    "\n",
    "print(cities_number_of_records)\n",
    "\n",
    "# Vytvorime DataFrame \n",
    "cities_df = pd.DataFrame.from_dict(cities_number_of_records, orient='index').reset_index()\n",
    "\n",
    "# Popiseme sloupce\n",
    "cities_df.columns = ['city', 'number of records']"
   ]
  },
  {
   "cell_type": "markdown",
   "metadata": {},
   "source": [
    "#### Načtení souřadnic\n",
    "\n",
    "Tento kód je ukázka toho, jak pomocí API získat souřadnice měst. Je k němu potřeba osobní API klíč, který lze zíkat z této stránky - https://opencagedata.com/api. Ten se jen přidá do proměnné api_key. Kód pak vyšle request přes url stránku s naším API klíčem a jménem města. Pokud request proběhne v pořádku, funkce vrátí zeměpisnou šířku (latitude) a výšku (longitude)<br>\n",
    "\n",
    "\n",
    "\n",
    "###### Tato buňka se nespustí. Pro spuštění je potřeba vymazat první řádek `%%script echo skipping`\n"
   ]
  },
  {
   "cell_type": "code",
   "execution_count": 24,
   "metadata": {},
   "outputs": [],
   "source": [
    "%%script echo skipping\n",
    "\n",
    "# funkce, ktera podle jmena mesta najde jeho souradnice\n",
    "def get_city_coordinates(city):\n",
    "    api_key = \"MY KEY\"\n",
    "    url = f\"https://api.opencagedata.com/geocode/v1/json?q={city}&key={api_key}\"\n",
    "    \n",
    "    # Volani funkce requests\n",
    "    response = requests.get(url)\n",
    "    # \n",
    "    data = response.json()\n",
    "    \n",
    "    if response.status_code == 200:\n",
    "        # pokud se mesto podarilo najit, ulozime souradnice\n",
    "        if data[\"total_results\"] > 0:\n",
    "            lat = data[\"results\"][0][\"geometry\"][\"lat\"]\n",
    "            lon = data[\"results\"][0][\"geometry\"][\"lng\"]\n",
    "            return lat, lon\n",
    "        else:\n",
    "            print(\"No results found for the city.\")\n",
    "    else:\n",
    "        print(\"Error occurred while fetching data.\")"
   ]
  },
  {
   "cell_type": "markdown",
   "metadata": {},
   "source": [
    "Pomocí funkce get_city_coordinates, kterou jsme si napsali v předchozí buňce, zjistíme souřadnice měst, která si zapíšeme do DataFramu. Na konci se DataFrame uloží do csv souboru. \n",
    "\n",
    "###### Tato buňka se nespustí. Pro spuštění je potřeba vymazat první řádek `%%script echo skipping`\n"
   ]
  },
  {
   "cell_type": "code",
   "execution_count": 31,
   "metadata": {},
   "outputs": [
    {
     "name": "stdout",
     "output_type": "stream",
     "text": [
      "Coordinates of Curych: Latitude=47.3744489, Longitude=8.5410422\n",
      "Coordinates of Edmonton: Latitude=53.5462055, Longitude=-113.491241\n",
      "Coordinates of Hamburg: Latitude=53.550341, Longitude=10.000654\n",
      "Coordinates of Kolín nad Rýnem: Latitude=50.938361, Longitude=6.959974\n",
      "Coordinates of Londýn: Latitude=51.5073359, Longitude=-0.12765\n",
      "Coordinates of Middlesex: Latitude=51.5460558, Longitude=-0.2537791\n",
      "Coordinates of Mnichov: Latitude=48.1371079, Longitude=11.5753822\n",
      "Coordinates of New York: Latitude=40.7127281, Longitude=-74.0060152\n",
      "Coordinates of Norman, Oklahoma: Latitude=35.2225717, Longitude=-97.4394816\n",
      "Coordinates of Obstalden: Latitude=47.1171128, Longitude=9.1504524\n",
      "Coordinates of Paříž: Latitude=48.8588897, Longitude=2.320041\n",
      "Coordinates of Rotterdam: Latitude=51.9244424, Longitude=4.47775\n",
      "Coordinates of Scheinfeld: Latitude=49.6653406, Longitude=10.462567\n",
      "Coordinates of St. Gallen: Latitude=47.425618, Longitude=9.3762397\n",
      "Coordinates of Toronto: Latitude=43.6534817, Longitude=-79.3839347\n",
      "Coordinates of Vídeň: Latitude=48.2083537, Longitude=16.3725042\n",
      "Coordinates of Winterthur: Latitude=47.4991723, Longitude=8.7291498\n",
      "Coordinates of Wuppertal: Latitude=51.264018, Longitude=7.1780374\n",
      "Coordinates of Řím: Latitude=41.8933203, Longitude=12.4829321\n",
      "Coordinates of Ženeva: Latitude=46.2017559, Longitude=6.1466014\n"
     ]
    }
   ],
   "source": [
    "%%script echo skipping\n",
    "\n",
    "cities_df['latitude'] = None\n",
    "cities_df['longitude'] = None\n",
    "df.reindex(columns=['city', 'number of records', 'lat', 'lon'], fill_value=0)\n",
    "\n",
    "# Unikatni mesta \n",
    "unique_cities = np.unique(cities)\n",
    "coordinates = {}\n",
    "\n",
    "# Iterace pres vsechny unikatni mesta\n",
    "for city in unique_cities:\n",
    "    # Pouzijeme funkci try-except, ktera nam odchyti pripadne chyby\n",
    "    try:\n",
    "        (latitude, longitude) = get_city_coordinates(city)\n",
    "        print(f\"Coordinates of {city}: Latitude={latitude}, Longitude={longitude}\")\n",
    "        coordinates[city] = (latitude, longitude)\n",
    "        cities_df.loc[cities_df['city'] == city, 'latitude'] = latitude\n",
    "        cities_df.loc[cities_df['city'] == city, 'longitude'] = longitude\n",
    "    except:\n",
    "        print(f\"City {city} not found.\")\n",
    "          \n",
    "# Data ze slovniku dame do DataFramu\n",
    "df_coordinates = pd.DataFrame.from_dict(coordinates)\n",
    "\n",
    "# Tabulku transponuje \n",
    "df_coordinates = df_coordinates.T\n",
    "df_coordinates.to_csv('data/coordinates.csv')"
   ]
  },
  {
   "cell_type": "markdown",
   "metadata": {},
   "source": [
    "#### Souřadnice\n",
    "\n",
    "Souřadnice měst načteme ze souboru coordinates.csv, kde je u každého města zeměpisná šířka (latitude) a výška (longitude)."
   ]
  },
  {
   "cell_type": "code",
   "execution_count": 39,
   "metadata": {},
   "outputs": [],
   "source": [
    "# Nacteme souradnice ze souboru\n",
    "df_coordinates = pd.read_csv('data/coordinates.csv')\n",
    "\n",
    "# Prejmenujeme sloupce\n",
    "df_coordinates.columns = ['city','latitude', 'longitude']\n",
    "\n",
    "# Spojime tabulky dohromady\n",
    "points_df = pd.merge(cities_df, df_coordinates)"
   ]
  },
  {
   "cell_type": "markdown",
   "metadata": {},
   "source": [
    "#### Ohraničení mapy\n",
    "\n",
    "Jelikož se všechna města nachází buď v Evropě nebo v severní Americe, můžeme mapu světa, kterou budeme vykrelovat, ohraničit. Ohraničení definujeme pomocí minimální a maximální zeměpisné výšky a šířky. Následně pak vyřadíme všechna města, která jsou mimo ohraničení. <br>\n",
    "Můžeme si vyskoušet nastavení různé zeměpisné šířky a výšky. <br>\n",
    "Např.  [-130, 15, 50, 80] je hranice severní Ameriky a Evropy. [-5, 35, 30, 55] je přibližné ohraničení Evropy. [6, 45, 11, 48] je přibližně Švýcarská hranice. <br>\n",
    "\n"
   ]
  },
  {
   "cell_type": "code",
   "execution_count": 41,
   "metadata": {},
   "outputs": [],
   "source": [
    "# Hranice, kterou chceme ohranicit \n",
    "bbox = [6, 45, 11, 48] # [minx, miny, maxx, maxy] - minimalni longitude, minimalni latitude, maximalni longitude, maximalni latitude\n",
    "# Hranice severni Ameriky a Evropy [-130, 15, 50, 80] \n",
    "\n",
    "# Seznam mest, ktera chceme vyradit \n",
    "remove = []\n",
    "\n",
    "# Iterace skrz DataFrame\n",
    "for _, row in points_df.iterrows():\n",
    "    lat = row['latitude']\n",
    "    lon = row['longitude']\n",
    "    minx = bbox[0]\n",
    "    miny = bbox[1]\n",
    "    maxx = bbox[2]\n",
    "    maxy = bbox[3]\n",
    "    \n",
    "    # Vsechny mesta, jejich zem. sirka nebo vyska lezi mimo box \n",
    "    # si pridame do seznamu remove\n",
    "    if lon < minx or lat < miny or lon > maxx or lat > maxy:\n",
    "        remove.append(row['city'])\n",
    "\n",
    "# Vyradime mesta ktera jsou v seznamu remove\n",
    "points_df = points_df[~points_df['city'].isin(remove)]"
   ]
  },
  {
   "cell_type": "markdown",
   "metadata": {},
   "source": [
    "#### Vykreslení do mapy\n",
    "\n",
    "Pro vykreslení použijeme knihovnu geopandas a matplotlib.<br> \n",
    "Nejprve ze zeměpisné šířky a výšky vytvoříme Point z knihovny shapely a převedeme do formátu GeoDataFrame, který lze jednoduše vykreslit do mapy.<br>\n",
    "Načteme mapu a vykreslíme. Naše mapa se zobrazí podle ohraničení, které jsme si definovali v předchozí buňce. <br>\n",
    "Na mapu pak přidáme body - naše místa vydání, podle jejich zeměpisné šírky a výšky. Velikost bodu se bude odvíjet podle počtu vydaných článků na daném místě. <br>\n",
    "Do kódu jsou přidané dva parametry - `div` a `ann`. Pomocí parametru `div` můžeme změnit velikost bodu. Čím větší číslo, tím menší bod.      \n"
   ]
  },
  {
   "cell_type": "code",
   "execution_count": 44,
   "metadata": {},
   "outputs": [
    {
     "data": {
      "text/plain": [
       "<Figure size 1500x1200 with 0 Axes>"
      ]
     },
     "metadata": {},
     "output_type": "display_data"
    },
    {
     "data": {
      "image/png": "[encoded data removed]",
      "text/plain": [
       "<Figure size 1500x1200 with 1 Axes>"
      ]
     },
     "metadata": {},
     "output_type": "display_data"
    }
   ],
   "source": [
    "# Ze zemepisne sirky a vysky vytvorime body \n",
    "geometry = [Point(lon, lat) for lon, lat in zip(points_df['longitude'], points_df['latitude'])]\n",
    "\n",
    "# Prevedeme DataFrame na GeoDataFrame\n",
    "points_gdf = gpd.GeoDataFrame(points_df, geometry=geometry, crs=\"EPSG:4326\") \n",
    "\n",
    "# Nacteni mapy \n",
    "base_map_data = gpd.read_file(\"data/geojson/world_1960.geojson\")\n",
    "\n",
    "# Nastaveni velikosti vykresleni\n",
    "figsize = (15,12)\n",
    "\n",
    "plt.figure(figsize=figsize)\n",
    "\n",
    "# Ohraniceni mapy podle europe_and_north_america_bbox\n",
    "ax = base_map_data.clip(bbox).plot(figsize=figsize)\n",
    "\n",
    "# Parametr pro upravovani velikosti bodu\n",
    "div = 1\n",
    "\n",
    "# Parametr pro vypsani jmen mest do mapy\n",
    "ann = True\n",
    "\n",
    "# Vykresleni mist vydani\n",
    "points_gdf.plot(figsize=figsize,\n",
    "                ax=ax, \n",
    "                color = \"red\",\n",
    "                marker = 'o',\n",
    "                markersize=points_gdf['number of records'].apply(lambda x: x/div),  # Upraveni velikosti bodu \n",
    "                )\n",
    "\n",
    "# Pokud nase promenna ann je nastavena na True, do mapy vypiseme i jmena mest \n",
    "if ann:\n",
    "     # Pridame vypsani jmen mest do mapy\n",
    "     for x, y, label in zip(points_df.longitude, points_df.latitude, points_df.city):\n",
    "          ax.annotate(label, xy=(x, y), xytext=(3, 3), textcoords=\"offset points\", fontsize = 8)\n",
    "\n",
    "# Tri moznosti legendy\n",
    "point_sizes = [min(points_gdf['number of records'].apply(lambda x: int(round(x, -1)))), mean(points_gdf['number of records'].apply(lambda x: int(round(x, -1)))), max(points_gdf['number of records'].apply(lambda x: int(round(x, -1))))]\n",
    "\n",
    "# Vytvoreni bodu pro legendu\n",
    "legend_handles = [Line2D([], [], marker = 'o', lw=0, color='red', markersize=np.sqrt(size/div), label=str(int(round(size, -1)))) for size in point_sizes]\n",
    "\n",
    "# Vykresleni legendy\n",
    "ax.legend(handles=legend_handles, title='Počet záznamů', loc='upper right')\n",
    "\n",
    "plt.title(\"Exil\")\n",
    "plt.grid(False)\n",
    "ax.set_axis_off()  \n",
    "plt.savefig(\"plots/exil_cropped_map.svg\")\n",
    "plt.show()"
   ]
  },
  {
   "cell_type": "markdown",
   "metadata": {},
   "source": [
    "#### Alternativní vykreslení"
   ]
  },
  {
   "cell_type": "code",
   "execution_count": null,
   "metadata": {},
   "outputs": [
    {
     "name": "stdout",
     "output_type": "stream",
     "text": [
      "Couldn't find program: 'echo'\n"
     ]
    }
   ],
   "source": [
    "%%script echo skipping\n",
    "\n",
    "%pip install altair\n",
    "%pip install vl-convert-python\n",
    "%pip install altair_saver\n",
    "\n",
    "\n",
    "\n",
    "import altair as alt\n",
    "alt.data_transformers.disable_max_rows()\n",
    "\n",
    "url = \"https://raw.githubusercontent.com/deldersveld/topojson/master/world-continents.json\"\n",
    "source = alt.topo_feature(url, \"continent\")\n",
    "\n",
    "\n",
    "base = alt.Chart(source).mark_geoshape(\n",
    "    fill='lightgray',\n",
    "    stroke='white'\n",
    ").project(\n",
    "    type = 'mercator',\n",
    "#    scale= 350,                          # Magnify\n",
    "#    center= [20,50],                     # [lon, lat]\n",
    "#    clipExtent= [[0, 0], [400, 300]],    # [[left, top], [right, bottom]]\n",
    ").properties(\n",
    "    width=800,\n",
    "    height=600\n",
    ")\n",
    "\n",
    "points = alt.Chart(df).mark_circle().encode(\n",
    "    longitude='longitude:Q',\n",
    "    latitude='latitude:Q',\n",
    "    size=alt.Size('number of records:Q', title='pocet clanku'),\n",
    "    tooltip='city:N',\n",
    "    color=alt.value('red')\n",
    ")\n",
    "base+points\n",
    "combined_chart = base+points\n",
    "combined_chart.save('plots/map.png')"
   ]
  }
 ],
 "metadata": {
  "kernelspec": {
   "display_name": "Python 3",
   "language": "python",
   "name": "python3"
  },
  "language_info": {
   "codemirror_mode": {
    "name": "ipython",
    "version": 3
   },
   "file_extension": ".py",
   "mimetype": "text/x-python",
   "name": "python",
   "nbconvert_exporter": "python",
   "pygments_lexer": "ipython3",
   "version": "3.11.4"
  },
  "orig_nbformat": 4
 },
 "nbformat": 4,
 "nbformat_minor": 2
}
